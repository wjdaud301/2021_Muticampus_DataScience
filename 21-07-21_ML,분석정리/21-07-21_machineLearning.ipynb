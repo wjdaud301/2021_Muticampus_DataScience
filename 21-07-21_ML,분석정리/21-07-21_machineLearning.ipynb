{
 "cells": [
  {
   "cell_type": "markdown",
   "id": "5d68be84-03b2-4b3f-a083-2547d3203b5d",
   "metadata": {},
   "source": [
    "## 도미 데이터 산점도"
   ]
  },
  {
   "cell_type": "code",
   "execution_count": 1,
   "id": "398257ea-d5e8-4c30-bf8d-4c95d4a0937c",
   "metadata": {},
   "outputs": [],
   "source": [
    "bream_length = [25.4, 26.3, 26.5, 29.0, 29.0, 29.7, 29.7, 30.0, 30.0, 30.7,\n",
    "                31.0, 31.0, 31.5, 32.0, 32.0, 32.0, 33.0, 33.0, 33.5, 33.5,\n",
    "                34.0, 34.0, 34.5, 35.0, 35.0, 35.0, 35.0, 36.0, 36.0, 37.0,\n",
    "                38.5, 38.5, 39.5, 41.0, 41.0]\n",
    "bream_weight = [242.0, 290.0, 340.0, 363.0, 430.0, 450.0, 500.0, 390.0, 450.0,\n",
    "                500.0, 475.0, 500.0, 500.0, 340.0, 600.0, 600.0, 700.0, 700.0,\n",
    "                610.0, 650.0, 575.0, 685.0, 620.0, 680.0, 700.0, 725.0, 720.0,\n",
    "                714.0, 850.0, 1000.0, 920.0, 955.0, 925.0, 975.0, 950.0]\n"
   ]
  },
  {
   "cell_type": "code",
   "execution_count": 6,
   "id": "e1d1014b-35a9-47b8-89c1-b75a00c00c0f",
   "metadata": {},
   "outputs": [
    {
     "data": {
      "image/png": "[encoded data removed]",
      "text/plain": [
       "<Figure size 432x288 with 1 Axes>"
      ]
     },
     "metadata": {
      "needs_background": "light"
     },
     "output_type": "display_data"
    }
   ],
   "source": [
    "import matplotlib.pyplot as plt\n",
    "\n",
    "plt.scatter(bream_length,bream_weight)\n",
    "plt.xlabel('length')\n",
    "plt.ylabel('weight')\n",
    "plt.show()\n",
    "# 상관관계 선형성이 있는지 확인 -> 피어슨 상관계수\n",
    "# 순서간  -> 스피어만의 상관계수 / 켄달\n",
    "# 통계 / 시각화를 같이 보는 이유는 목적에 따라 상관관계를 파악하기 위해서"
   ]
  },
  {
   "cell_type": "markdown",
   "id": "37792c65-c5d0-4c11-ada3-1ad65683ef38",
   "metadata": {},
   "source": [
    "## 도미 데이터와 빙어 데이터 병합한 산점도"
   ]
  },
  {
   "cell_type": "code",
   "execution_count": 7,
   "id": "7372517c-90e8-4dbf-b9df-a6dae1e04977",
   "metadata": {},
   "outputs": [],
   "source": [
    "smelt_length = [9.8, 10.5, 10.6, 11.0, 11.2, 11.3, 11.8, 11.8, 12.0, 12.2,\n",
    "                12.4, 13.0, 14.3, 15.0]\n",
    "smelt_weight = [6.7, 7.5, 7.0, 9.7, 9.8, 8.7, 10.0, 9.9, 9.8, 12.2,\n",
    "                13.4, 12.2, 19.7, 19.9]"
   ]
  },
  {
   "cell_type": "code",
   "execution_count": 8,
   "id": "08230c8c-4a27-422b-bf9c-d606f2d000ca",
   "metadata": {},
   "outputs": [
    {
     "data": {
      "image/png": "[encoded data removed]",
      "text/plain": [
       "<Figure size 432x288 with 1 Axes>"
      ]
     },
     "metadata": {
      "needs_background": "light"
     },
     "output_type": "display_data"
    }
   ],
   "source": [
    "plt.scatter(bream_length,bream_weight)\n",
    "plt.scatter(smelt_length,smelt_weight)\n",
    "\n",
    "plt.xlabel('length')\n",
    "plt.ylabel('weight')\n",
    "plt.show()"
   ]
  },
  {
   "cell_type": "markdown",
   "id": "043dfc48-78b7-4c56-9ec9-26b0835610d9",
   "metadata": {},
   "source": [
    "## 첫 번째 머신러닝 프로그램\n",
    "\n",
    "### 두 생성 데이터 병합"
   ]
  },
  {
   "cell_type": "code",
   "execution_count": 9,
   "id": "72e84c45-1eb6-4da9-aaaa-b09a38385a32",
   "metadata": {},
   "outputs": [],
   "source": [
    "# 두 리스트 합치기\n",
    "length = bream_length + smelt_length\n",
    "weight = bream_weight + smelt_weight"
   ]
  },
  {
   "cell_type": "code",
   "execution_count": 10,
   "id": "75187bd0-1bc0-40d8-9049-95740e15d009",
   "metadata": {},
   "outputs": [
    {
     "name": "stdout",
     "output_type": "stream",
     "text": [
      "[[25.4, 242.0], [26.3, 290.0], [26.5, 340.0], [29.0, 363.0], [29.0, 430.0], [29.7, 450.0], [29.7, 500.0], [30.0, 390.0], [30.0, 450.0], [30.7, 500.0], [31.0, 475.0], [31.0, 500.0], [31.5, 500.0], [32.0, 340.0], [32.0, 600.0], [32.0, 600.0], [33.0, 700.0], [33.0, 700.0], [33.5, 610.0], [33.5, 650.0], [34.0, 575.0], [34.0, 685.0], [34.5, 620.0], [35.0, 680.0], [35.0, 700.0], [35.0, 725.0], [35.0, 720.0], [36.0, 714.0], [36.0, 850.0], [37.0, 1000.0], [38.5, 920.0], [38.5, 955.0], [39.5, 925.0], [41.0, 975.0], [41.0, 950.0], [9.8, 6.7], [10.5, 7.5], [10.6, 7.0], [11.0, 9.7], [11.2, 9.8], [11.3, 8.7], [11.8, 10.0], [11.8, 9.9], [12.0, 9.8], [12.2, 12.2], [12.4, 13.4], [13.0, 12.2], [14.3, 19.7], [15.0, 19.9]]\n"
     ]
    }
   ],
   "source": [
    "# 2차원 리스트로 변환\n",
    "\n",
    "fish_data= [[l,w] for l, w in zip(length, weight)]\n",
    "print(fish_data)"
   ]
  },
  {
   "cell_type": "markdown",
   "id": "3c35174e-8210-4943-9a25-ad5e1c689a2f",
   "metadata": {},
   "source": [
    "## target(label) 데이터 생성"
   ]
  },
  {
   "cell_type": "code",
   "execution_count": 12,
   "id": "53adf4cc-31c3-4b46-a211-190cd65f586f",
   "metadata": {},
   "outputs": [
    {
     "name": "stdout",
     "output_type": "stream",
     "text": [
      "[1, 1, 1, 1, 1, 1, 1, 1, 1, 1, 1, 1, 1, 1, 1, 1, 1, 1, 1, 1, 1, 1, 1, 1, 1, 1, 1, 1, 1, 1, 1, 1, 1, 1, 1, 0, 0, 0, 0, 0, 0, 0, 0, 0, 0, 0, 0, 0, 0]\n"
     ]
    }
   ],
   "source": [
    "fish_target = [1]*35 + [0]*14\n",
    "print(fish_target)"
   ]
  },
  {
   "cell_type": "markdown",
   "id": "2654f253-0083-4efa-b9cf-ea94d93dddf0",
   "metadata": {},
   "source": [
    "## K-최근접 이웃 (K-Nearest Neighbor)알고리즘을 이용한 분류"
   ]
  },
  {
   "cell_type": "markdown",
   "id": "9166ce2d-15e8-450f-b35a-b9ed5d5f2f93",
   "metadata": {},
   "source": [
    "- 테스트 데이터와 k개 훈련데이터의 y값들을 비교\n",
    "- 분류와 회귀 모두 활용\n",
    "    - 분류 : k개 최근접 이웃들의 class들 중 <b>다수결</b> 결과로 class 예측\n",
    "    - 회귀 : k개 최근접 이웃들이 가지고 있는 값의 <b>평균</b>을 결과값으로 예측\n",
    "    - 비모수방식이며 instance-based 알고리즘\n",
    "    \n",
    " \n"
   ]
  },
  {
   "cell_type": "markdown",
   "id": "3e436dd5-e2a5-4654-8e95-109dc6ef76fd",
   "metadata": {},
   "source": [
    "### 사이킷런의 k-최근접이웃 클래스"
   ]
  },
  {
   "cell_type": "code",
   "execution_count": 14,
   "id": "7c25aef6-371b-4b95-9fad-0a48bf909b66",
   "metadata": {},
   "outputs": [],
   "source": [
    "from sklearn.neighbors import KNeighborsClassifier"
   ]
  },
  {
   "cell_type": "markdown",
   "id": "8c452bf5-2d91-4447-b8a8-054bad99cf1b",
   "metadata": {},
   "source": [
    "KNeighborsClass 객체 생성"
   ]
  },
  {
   "cell_type": "code",
   "execution_count": 15,
   "id": "8c32ead3-ad18-4d9e-8516-0b6c798cae99",
   "metadata": {},
   "outputs": [],
   "source": [
    "kn = KNeighborsClassifier()"
   ]
  },
  {
   "cell_type": "markdown",
   "id": "12c85dce-6a99-4f27-b3be-4aa089bd5dbb",
   "metadata": {},
   "source": [
    "훈련(training) : fit(features, label)메서드"
   ]
  },
  {
   "cell_type": "code",
   "execution_count": 16,
   "id": "bbb57a86-92d7-463f-b851-e5dcec98bf00",
   "metadata": {},
   "outputs": [
    {
     "data": {
      "text/plain": [
       "KNeighborsClassifier()"
      ]
     },
     "execution_count": 16,
     "metadata": {},
     "output_type": "execute_result"
    }
   ],
   "source": [
    "kn.fit(fish_data,fish_target)"
   ]
  },
  {
   "cell_type": "markdown",
   "id": "9e894daf-337c-4168-907b-f19dd351f74a",
   "metadata": {},
   "source": [
    "모델 평가 : score()메서드 => 분류 : 정확도 / 회귀 : mse"
   ]
  },
  {
   "cell_type": "code",
   "execution_count": 18,
   "id": "48a84055-6cf6-4415-8645-596be9ba19a7",
   "metadata": {},
   "outputs": [
    {
     "data": {
      "text/plain": [
       "1.0"
      ]
     },
     "execution_count": 18,
     "metadata": {},
     "output_type": "execute_result"
    }
   ],
   "source": [
    "kn.score(fish_data,fish_target)"
   ]
  },
  {
   "cell_type": "markdown",
   "id": "ce5be194-1170-41c2-a2ac-4928eb89c31f",
   "metadata": {},
   "source": [
    "정확도(accuracy)\n",
    "- 정확한 답을 몇개 맞추었는지를 백분율로 나타낸다\n",
    "- 정확히 맞힌개수 / 전체 데이터 수"
   ]
  },
  {
   "cell_type": "markdown",
   "id": "b7180c27-da4c-4996-9832-6abfd991b5cb",
   "metadata": {},
   "source": [
    "K-최근접 이웃 알고리즘을 이용한 새로운 데이터 분류"
   ]
  },
  {
   "cell_type": "code",
   "execution_count": 19,
   "id": "81fa28e9-d740-4903-b7ce-5753aa6ece00",
   "metadata": {},
   "outputs": [
    {
     "data": {
      "image/png": "[encoded data removed]",
      "text/plain": [
       "<Figure size 432x288 with 1 Axes>"
      ]
     },
     "metadata": {
      "needs_background": "light"
     },
     "output_type": "display_data"
    }
   ],
   "source": [
    "plt.scatter(bream_length,bream_weight)\n",
    "plt.scatter(smelt_length,smelt_weight)\n",
    "plt.scatter(30, 600, marker='^')\n",
    "\n",
    "plt.xlabel('length')\n",
    "plt.ylabel('weight')\n",
    "plt.show()"
   ]
  },
  {
   "cell_type": "code",
   "execution_count": 23,
   "id": "90e631f4-e938-4d50-b25f-ea213176814b",
   "metadata": {},
   "outputs": [
    {
     "data": {
      "text/plain": [
       "array([1, 1, 0])"
      ]
     },
     "execution_count": 23,
     "metadata": {},
     "output_type": "execute_result"
    }
   ],
   "source": [
    "kn.predict([[30, 600],[50,550],[5,20]])"
   ]
  },
  {
   "cell_type": "markdown",
   "id": "c282afa5-e301-407c-afdc-6a7e034e00a0",
   "metadata": {},
   "source": [
    "_fit_X 속성 : fish_data를 가지고 있음"
   ]
  },
  {
   "cell_type": "code",
   "execution_count": 24,
   "id": "2d14a03b-fe25-458d-9aa6-8d98931a179f",
   "metadata": {},
   "outputs": [
    {
     "name": "stdout",
     "output_type": "stream",
     "text": [
      "[[  25.4  242. ]\n",
      " [  26.3  290. ]\n",
      " [  26.5  340. ]\n",
      " [  29.   363. ]\n",
      " [  29.   430. ]\n",
      " [  29.7  450. ]\n",
      " [  29.7  500. ]\n",
      " [  30.   390. ]\n",
      " [  30.   450. ]\n",
      " [  30.7  500. ]\n",
      " [  31.   475. ]\n",
      " [  31.   500. ]\n",
      " [  31.5  500. ]\n",
      " [  32.   340. ]\n",
      " [  32.   600. ]\n",
      " [  32.   600. ]\n",
      " [  33.   700. ]\n",
      " [  33.   700. ]\n",
      " [  33.5  610. ]\n",
      " [  33.5  650. ]\n",
      " [  34.   575. ]\n",
      " [  34.   685. ]\n",
      " [  34.5  620. ]\n",
      " [  35.   680. ]\n",
      " [  35.   700. ]\n",
      " [  35.   725. ]\n",
      " [  35.   720. ]\n",
      " [  36.   714. ]\n",
      " [  36.   850. ]\n",
      " [  37.  1000. ]\n",
      " [  38.5  920. ]\n",
      " [  38.5  955. ]\n",
      " [  39.5  925. ]\n",
      " [  41.   975. ]\n",
      " [  41.   950. ]\n",
      " [   9.8    6.7]\n",
      " [  10.5    7.5]\n",
      " [  10.6    7. ]\n",
      " [  11.     9.7]\n",
      " [  11.2    9.8]\n",
      " [  11.3    8.7]\n",
      " [  11.8   10. ]\n",
      " [  11.8    9.9]\n",
      " [  12.     9.8]\n",
      " [  12.2   12.2]\n",
      " [  12.4   13.4]\n",
      " [  13.    12.2]\n",
      " [  14.3   19.7]\n",
      " [  15.    19.9]]\n"
     ]
    }
   ],
   "source": [
    "print(kn._fit_X)"
   ]
  },
  {
   "cell_type": "markdown",
   "id": "19eeee93-ef26-48df-96f9-52140f4c85d4",
   "metadata": {},
   "source": [
    "_y 속성 : fish_target을 가지고 있음"
   ]
  },
  {
   "cell_type": "code",
   "execution_count": 25,
   "id": "ec5f259d-314c-4da3-bd20-45ec7d326560",
   "metadata": {},
   "outputs": [
    {
     "name": "stdout",
     "output_type": "stream",
     "text": [
      "[1 1 1 1 1 1 1 1 1 1 1 1 1 1 1 1 1 1 1 1 1 1 1 1 1 1 1 1 1 1 1 1 1 1 1 0 0\n",
      " 0 0 0 0 0 0 0 0 0 0 0 0]\n"
     ]
    }
   ],
   "source": [
    "print(kn._y)"
   ]
  },
  {
   "cell_type": "markdown",
   "id": "35aece93-2efc-44f8-b217-59ed57a0765e",
   "metadata": {},
   "source": [
    "K-neighbors 크기 지정"
   ]
  },
  {
   "cell_type": "code",
   "execution_count": 27,
   "id": "29452162-b6c7-48d1-929e-5fd1e2440369",
   "metadata": {},
   "outputs": [],
   "source": [
    "# 기본 : n_neighbors=5\n",
    "kn49 = KNeighborsClassifier(n_neighbors=49)"
   ]
  },
  {
   "cell_type": "markdown",
   "id": "3dea132f-dd5e-4d6f-a4fa-c1652f78ea2a",
   "metadata": {},
   "source": [
    "k=49인 경우 모델 훈련 및 성능"
   ]
  },
  {
   "cell_type": "code",
   "execution_count": 28,
   "id": "8108da53-8172-421a-a0a1-ab3a65078f60",
   "metadata": {},
   "outputs": [
    {
     "data": {
      "text/plain": [
       "0.7142857142857143"
      ]
     },
     "execution_count": 28,
     "metadata": {},
     "output_type": "execute_result"
    }
   ],
   "source": [
    "kn49.fit(fish_data, fish_target)\n",
    "kn49.score(fish_data, fish_target)"
   ]
  },
  {
   "cell_type": "markdown",
   "id": "e3aedba8-6b3f-49b1-ae99-db62bb862f90",
   "metadata": {},
   "source": [
    "#### 확인 문제"
   ]
  },
  {
   "cell_type": "code",
   "execution_count": 29,
   "id": "ed55f273-c15e-4d42-99d5-f0f28e64037c",
   "metadata": {
    "tags": []
   },
   "outputs": [
    {
     "name": "stdout",
     "output_type": "stream",
     "text": [
      "18 0.9795918367346939\n"
     ]
    }
   ],
   "source": [
    "Kn = KNeighborsClassifier()\n",
    "kn.fit(fish_data, fish_target)\n",
    "for k in range(5,50):\n",
    "    # 최근접 이웃 개수 설정\n",
    "    kn.n_neighbors=k\n",
    "    # 점수 계산\n",
    "    score = kn.score(fish_data,fish_target)\n",
    "    if score < 1:\n",
    "        print(k,score)\n",
    "        break"
   ]
  },
  {
   "cell_type": "markdown",
   "id": "80d36d46-0955-4a83-b69a-d8c41002482e",
   "metadata": {},
   "source": [
    "## Data Split과 모델 검증\n",
    "학습에 사용되지 않은 데이터를 사용하여 예측을 수행함으로써 모델의 일반적인 성능에 대한 적절한 예측을 함\n",
    "\n",
    "- 홀드-아웃\n",
    "- 교차검증\n",
    "- 필요에 따라 stratified Sampling"
   ]
  },
  {
   "cell_type": "markdown",
   "id": "41cee871-56ef-4168-be7a-3f9ff764ee82",
   "metadata": {},
   "source": [
    "- 홀드-아웃 방식\n",
    "train-validation-Test로 나누기도 한다"
   ]
  },
  {
   "cell_type": "markdown",
   "id": "95fadd67-7cf4-4720-a130-aff66317c5ab",
   "metadata": {},
   "source": [
    "훈련 데이터셋과 테스트 데이터셋으로 분리"
   ]
  },
  {
   "cell_type": "code",
   "execution_count": 30,
   "id": "e3029baa-10dc-4b93-b534-a176c835b7ba",
   "metadata": {},
   "outputs": [],
   "source": [
    "train_input = fish_data[:35]\n",
    "train_target = fish_target[:35]\n",
    "\n",
    "test_input = fish_data[35:]\n",
    "test_target = fish_target[35:]"
   ]
  },
  {
   "cell_type": "markdown",
   "id": "ca89b437-dd6d-4da8-962f-3d35ad16d3bf",
   "metadata": {},
   "source": [
    "학습 및 평가"
   ]
  },
  {
   "cell_type": "code",
   "execution_count": 32,
   "id": "674941f0-256b-434f-99b2-3a89859a6afa",
   "metadata": {},
   "outputs": [
    {
     "data": {
      "text/plain": [
       "0.0"
      ]
     },
     "execution_count": 32,
     "metadata": {},
     "output_type": "execute_result"
    }
   ],
   "source": [
    "kn.fit(train_input,train_target)\n",
    "kn.score(test_input,test_target)"
   ]
  },
  {
   "cell_type": "markdown",
   "id": "dd7d0160-c7dc-419b-8db9-f3cd52baf7f4",
   "metadata": {},
   "source": [
    "## 왜? 성능이 0.0일까?\n",
    "\n",
    "편향(biased)된 데이터 셋 구성 때문에\n",
    "- 샘플링 편향(sampling Bias)\n",
    "\n",
    "훈련된 데이터는 도미인데 테스트는 빙어(인덱스로 분리하는건 무리)"
   ]
  },
  {
   "cell_type": "markdown",
   "id": "20611195-1e06-427b-a82c-4a89297adc9d",
   "metadata": {},
   "source": [
    "## 올바른 훈련데이터와 테스트데이터 구성하기"
   ]
  },
  {
   "cell_type": "code",
   "execution_count": 35,
   "id": "4a6df107-8fef-44cc-83fd-6a68c50e86a4",
   "metadata": {},
   "outputs": [],
   "source": [
    "import numpy as np"
   ]
  },
  {
   "cell_type": "code",
   "execution_count": 36,
   "id": "eed8e6e6-6fac-45cb-a85a-258ba3c1cad4",
   "metadata": {},
   "outputs": [],
   "source": [
    "input_arr = np.array(fish_data)\n",
    "target_arr = np.array(fish_target)"
   ]
  },
  {
   "cell_type": "code",
   "execution_count": 38,
   "id": "533f77a6-8e85-4d35-860e-89e45cc44acf",
   "metadata": {},
   "outputs": [
    {
     "name": "stdout",
     "output_type": "stream",
     "text": [
      "(49, 2)\n"
     ]
    }
   ],
   "source": [
    "print(input_arr.shape)"
   ]
  },
  {
   "cell_type": "markdown",
   "id": "02cd347f-38d1-476b-877b-4ed1710d828e",
   "metadata": {},
   "source": [
    "데이터 섞기(shuffling)\n",
    "- 인덱스를 랜덤하기 섞고 분류하기\n",
    "\n",
    "- random.seed()\n",
    "    - 난수를 생성하기 위한 초기값 지정\n",
    "    - seed를 지정하면 랜덤함수의 결과를 동일하게 재현할 수 있음"
   ]
  },
  {
   "cell_type": "code",
   "execution_count": 101,
   "id": "6b0bc196-4188-4d5a-ae72-948a9691a075",
   "metadata": {},
   "outputs": [
    {
     "name": "stdout",
     "output_type": "stream",
     "text": [
      "[ 0  1  2  3  4  5  6  7  8  9 10 11 12 13 14 15 16 17 18 19 20 21 22 23\n",
      " 24 25 26 27 28 29 30 31 32 33 34 35 36 37 38 39 40 41 42 43 44 45 46 47\n",
      " 48]\n"
     ]
    }
   ],
   "source": [
    "np.random.seed(42)\n",
    "index=np.arange(49)\n",
    "print(index)\n",
    "np.random.shuffle(index)"
   ]
  },
  {
   "cell_type": "code",
   "execution_count": 102,
   "id": "fcdb5e18-522a-4769-ad46-c2e76dc35747",
   "metadata": {},
   "outputs": [
    {
     "name": "stdout",
     "output_type": "stream",
     "text": [
      "[13 45 47 44 17 27 26 25 31 19 12  4 34  8  3  6 40 41 46 15  9 16 24 33\n",
      " 30  0 43 32  5 29 11 36  1 21  2 37 35 23 39 10 22 18 48 20  7 42 14 28\n",
      " 38]\n"
     ]
    }
   ],
   "source": [
    "print(index)"
   ]
  },
  {
   "cell_type": "code",
   "execution_count": 103,
   "id": "266995ae-f939-436b-a24b-416f17cd3137",
   "metadata": {},
   "outputs": [],
   "source": [
    "train_input = input_arr[index[:35]]\n",
    "train_target = target_arr[index[:35]]"
   ]
  },
  {
   "cell_type": "code",
   "execution_count": 104,
   "id": "aab4444b-b0f4-49d6-86dd-d546ef8cbad3",
   "metadata": {},
   "outputs": [],
   "source": [
    "test_input = input_arr[index[35:]]\n",
    "test_target = target_arr[index[35:]]"
   ]
  },
  {
   "cell_type": "code",
   "execution_count": 105,
   "id": "c4443e6e-788a-4c8f-806e-a99156c3ca8d",
   "metadata": {},
   "outputs": [
    {
     "data": {
      "image/png": "[encoded data removed]",
      "text/plain": [
       "<Figure size 432x288 with 1 Axes>"
      ]
     },
     "metadata": {
      "needs_background": "light"
     },
     "output_type": "display_data"
    }
   ],
   "source": [
    "plt.scatter(train_input[:,0],train_input[:,1])\n",
    "plt.scatter(test_input[:,0],test_input[:,1])\n",
    "\n",
    "plt.xlabel('length')\n",
    "plt.ylabel('weight')\n",
    "plt.show()"
   ]
  },
  {
   "cell_type": "markdown",
   "id": "00dfea46-29ac-4207-b9f7-2ce5ff175e99",
   "metadata": {},
   "source": [
    "## 두 번째 머신러닝 프로그램"
   ]
  },
  {
   "cell_type": "code",
   "execution_count": 106,
   "id": "74bacd8b-a4c5-4019-9729-e4a24b97e73e",
   "metadata": {},
   "outputs": [],
   "source": [
    "Kn = KNeighborsClassifier()"
   ]
  },
  {
   "cell_type": "code",
   "execution_count": 107,
   "id": "436a2d28-78a4-49bf-9f33-7d1e246d32ff",
   "metadata": {},
   "outputs": [
    {
     "data": {
      "text/plain": [
       "KNeighborsClassifier()"
      ]
     },
     "execution_count": 107,
     "metadata": {},
     "output_type": "execute_result"
    }
   ],
   "source": [
    "kn.fit(train_input, train_target)"
   ]
  },
  {
   "cell_type": "code",
   "execution_count": 108,
   "id": "44fd7bbb-8a97-4601-9624-222709dfc1b3",
   "metadata": {},
   "outputs": [
    {
     "data": {
      "text/plain": [
       "1.0"
      ]
     },
     "execution_count": 108,
     "metadata": {},
     "output_type": "execute_result"
    }
   ],
   "source": [
    "kn.score(test_input, test_target)"
   ]
  },
  {
   "cell_type": "code",
   "execution_count": 109,
   "id": "387052d4-554f-4039-b4a5-4dcef4c4d2f2",
   "metadata": {},
   "outputs": [
    {
     "name": "stdout",
     "output_type": "stream",
     "text": [
      "[[ 10.6   7. ]\n",
      " [  9.8   6.7]\n",
      " [ 35.  680. ]\n",
      " [ 11.2   9.8]\n",
      " [ 31.  475. ]\n",
      " [ 34.5 620. ]\n",
      " [ 33.5 610. ]\n",
      " [ 15.   19.9]\n",
      " [ 34.  575. ]\n",
      " [ 30.  390. ]\n",
      " [ 11.8   9.9]\n",
      " [ 32.  600. ]\n",
      " [ 36.  850. ]\n",
      " [ 11.    9.7]]\n"
     ]
    }
   ],
   "source": [
    "print(test_input)"
   ]
  },
  {
   "cell_type": "code",
   "execution_count": 110,
   "id": "1c8e5b61-ef31-481a-9d06-9de8f806d6e3",
   "metadata": {},
   "outputs": [
    {
     "data": {
      "text/plain": [
       "array([0, 0, 1, 0, 1, 1, 1, 0, 1, 1, 0, 1, 1, 0])"
      ]
     },
     "execution_count": 110,
     "metadata": {},
     "output_type": "execute_result"
    }
   ],
   "source": [
    "kn.predict(test_input)"
   ]
  },
  {
   "cell_type": "code",
   "execution_count": 111,
   "id": "5d8a0308-82ce-4ea0-8aa5-1bc846aba68b",
   "metadata": {},
   "outputs": [
    {
     "name": "stdout",
     "output_type": "stream",
     "text": [
      "[0 0 1 0 1 1 1 0 1 1 0 1 1 0]\n"
     ]
    }
   ],
   "source": [
    "print(test_target)"
   ]
  },
  {
   "cell_type": "markdown",
   "id": "4e3ee78d-504b-4a3b-b0cf-fb49cbeb8353",
   "metadata": {},
   "source": [
    "# 데이터 전처리  \n",
    "\n",
    "## 넘파이로 데이터 준비하기"
   ]
  },
  {
   "cell_type": "code",
   "execution_count": 73,
   "id": "35acd5c4-e20b-40e1-84dd-1c22bb09bed5",
   "metadata": {},
   "outputs": [],
   "source": [
    "fish_length = [25.4, 26.3, 26.5, 29.0, 29.0, 29.7, 29.7, 30.0, 30.0, 30.7, 31.0, 31.0, \n",
    "                31.5, 32.0, 32.0, 32.0, 33.0, 33.0, 33.5, 33.5, 34.0, 34.0, 34.5, 35.0, \n",
    "                35.0, 35.0, 35.0, 36.0, 36.0, 37.0, 38.5, 38.5, 39.5, 41.0, 41.0, 9.8, \n",
    "                10.5, 10.6, 11.0, 11.2, 11.3, 11.8, 11.8, 12.0, 12.2, 12.4, 13.0, 14.3, 15.0]\n",
    "fish_weight = [242.0, 290.0, 340.0, 363.0, 430.0, 450.0, 500.0, 390.0, 450.0, 500.0, 475.0, 500.0, \n",
    "                500.0, 340.0, 600.0, 600.0, 700.0, 700.0, 610.0, 650.0, 575.0, 685.0, 620.0, 680.0, \n",
    "                700.0, 725.0, 720.0, 714.0, 850.0, 1000.0, 920.0, 955.0, 925.0, 975.0, 950.0, 6.7, \n",
    "                7.5, 7.0, 9.7, 9.8, 8.7, 10.0, 9.9, 9.8, 12.2, 13.4, 12.2, 19.7, 19.9]"
   ]
  },
  {
   "cell_type": "code",
   "execution_count": 74,
   "id": "daffc3c6-fa51-4a59-bdab-b0fb2fe38749",
   "metadata": {},
   "outputs": [],
   "source": [
    "import numpy as np"
   ]
  },
  {
   "cell_type": "markdown",
   "id": "292deef4-14f6-4ce2-b18a-55d475367c1a",
   "metadata": {},
   "source": [
    "두 리스트 열방향으로 합치기 : 2차원 배열(tuple형태) == zip과 같은 역할"
   ]
  },
  {
   "cell_type": "code",
   "execution_count": 75,
   "id": "97f5ac8f-b3fc-480f-8556-5d902fbefad3",
   "metadata": {},
   "outputs": [],
   "source": [
    "fish_data = np.column_stack((fish_length,fish_weight))"
   ]
  },
  {
   "cell_type": "code",
   "execution_count": 76,
   "id": "ea50eea8-bfa5-4a4b-9bb1-8493ba3375f5",
   "metadata": {},
   "outputs": [
    {
     "name": "stdout",
     "output_type": "stream",
     "text": [
      "[[ 25.4 242. ]\n",
      " [ 26.3 290. ]\n",
      " [ 26.5 340. ]\n",
      " [ 29.  363. ]\n",
      " [ 29.  430. ]]\n"
     ]
    }
   ],
   "source": [
    "print(fish_data[:5])"
   ]
  },
  {
   "cell_type": "markdown",
   "id": "4c555ff5-366a-4b2b-81c9-922a4c3ed551",
   "metadata": {},
   "source": [
    "라벨 데이터"
   ]
  },
  {
   "cell_type": "code",
   "execution_count": 77,
   "id": "1e017478-3c3e-4e2a-82d5-78f929a20a4e",
   "metadata": {},
   "outputs": [],
   "source": [
    "fish_target = np.concatenate((np.ones(35),np.zeros(14)))"
   ]
  },
  {
   "cell_type": "code",
   "execution_count": 78,
   "id": "9fc26bbf-970c-495b-9ed7-abea21c5436c",
   "metadata": {},
   "outputs": [
    {
     "name": "stdout",
     "output_type": "stream",
     "text": [
      "[1. 1. 1. 1. 1. 1. 1. 1. 1. 1. 1. 1. 1. 1. 1. 1. 1. 1. 1. 1. 1. 1. 1. 1.\n",
      " 1. 1. 1. 1. 1. 1. 1. 1. 1. 1. 1. 0. 0. 0. 0. 0. 0. 0. 0. 0. 0. 0. 0. 0.\n",
      " 0.]\n"
     ]
    }
   ],
   "source": [
    "print(fish_target)"
   ]
  },
  {
   "cell_type": "markdown",
   "id": "4cfadd91-65eb-4f04-a1e2-a0574d6c2638",
   "metadata": {},
   "source": [
    "## 사이킷런으로 훈련 데이터와 테스트 데이터 나누기"
   ]
  },
  {
   "cell_type": "code",
   "execution_count": 79,
   "id": "bd8fac2f-d34e-4606-9502-ea943e621dab",
   "metadata": {},
   "outputs": [],
   "source": [
    "from sklearn.model_selection import train_test_split"
   ]
  },
  {
   "cell_type": "code",
   "execution_count": 80,
   "id": "fb217d1d-86de-403c-9c89-142b0450d826",
   "metadata": {},
   "outputs": [],
   "source": [
    "train_input, test_input, train_target,test_target = \\\n",
    "train_test_split(fish_data,fish_target, random_state=42) # seed값 42"
   ]
  },
  {
   "cell_type": "code",
   "execution_count": 87,
   "id": "8c63eb2e-c2e8-4bc1-8e76-df3ee58742ce",
   "metadata": {},
   "outputs": [
    {
     "data": {
      "text/plain": [
       "(13, 2)"
      ]
     },
     "execution_count": 87,
     "metadata": {},
     "output_type": "execute_result"
    }
   ],
   "source": [
    "test_input.shape"
   ]
  },
  {
   "cell_type": "code",
   "execution_count": 88,
   "id": "8711358e-5201-4750-bac7-600afdfc2479",
   "metadata": {},
   "outputs": [
    {
     "data": {
      "text/plain": [
       "array([1., 0., 0., 0., 1., 1., 1., 1., 1., 1., 1., 1., 1.])"
      ]
     },
     "execution_count": 88,
     "metadata": {},
     "output_type": "execute_result"
    }
   ],
   "source": [
    "test_target"
   ]
  },
  {
   "cell_type": "markdown",
   "id": "9cfa26b0-9248-4752-bcbb-e0e25b978a38",
   "metadata": {},
   "source": [
    "데이터 분포를 반영한 분할"
   ]
  },
  {
   "cell_type": "code",
   "execution_count": 89,
   "id": "c07537d6-798a-4b2a-bc0a-d1cddddec316",
   "metadata": {},
   "outputs": [],
   "source": [
    "train_input, test_input, train_target,test_target = \\\n",
    "train_test_split(fish_data,fish_target, stratify=fish_target # 분포\n",
    "                 ,random_state=42) # seed값 42"
   ]
  },
  {
   "cell_type": "code",
   "execution_count": 90,
   "id": "1e8bcc76-6660-4726-a9d3-d5e95b7e0860",
   "metadata": {},
   "outputs": [
    {
     "data": {
      "text/plain": [
       "array([0., 0., 1., 0., 1., 0., 1., 1., 1., 1., 1., 1., 1.])"
      ]
     },
     "execution_count": 90,
     "metadata": {},
     "output_type": "execute_result"
    }
   ],
   "source": [
    "test_target"
   ]
  },
  {
   "cell_type": "markdown",
   "id": "68542a80-376a-4bab-a37d-cf29c99fdbf7",
   "metadata": {},
   "source": [
    "## 성능 평가 및 테스트"
   ]
  },
  {
   "cell_type": "code",
   "execution_count": 92,
   "id": "28526388-406c-4138-89a6-6a70ec82bdc4",
   "metadata": {},
   "outputs": [
    {
     "data": {
      "text/plain": [
       "1.0"
      ]
     },
     "execution_count": 92,
     "metadata": {},
     "output_type": "execute_result"
    }
   ],
   "source": [
    "from sklearn.neighbors import KNeighborsClassifier\n",
    "\n",
    "kn = KNeighborsClassifier()\n",
    "kn.fit(train_input, train_target)\n",
    "kn.score(test_input, test_target)"
   ]
  },
  {
   "cell_type": "markdown",
   "id": "97db01a0-81c9-46a9-9eaf-1be171a56999",
   "metadata": {},
   "source": [
    "### 도미 데이터 : 길이 25, 무게 150에 대한 분류 결과는?"
   ]
  },
  {
   "cell_type": "code",
   "execution_count": 112,
   "id": "4b453df2-ad11-4673-bab5-4e6d7fb9887b",
   "metadata": {},
   "outputs": [
    {
     "name": "stdout",
     "output_type": "stream",
     "text": [
      "[0]\n"
     ]
    }
   ],
   "source": [
    "print(kn.predict([[25,150]]))"
   ]
  },
  {
   "cell_type": "markdown",
   "id": "e968e149-3b8c-4040-a673-773ad21116e9",
   "metadata": {},
   "source": [
    "테스트할 도미 데이터를 포함한 산점도"
   ]
  },
  {
   "cell_type": "code",
   "execution_count": 113,
   "id": "bd6b9812-0a8e-49cc-80cb-5d73bc68533f",
   "metadata": {},
   "outputs": [
    {
     "data": {
      "image/png": "[encoded data removed]",
      "text/plain": [
       "<Figure size 432x288 with 1 Axes>"
      ]
     },
     "metadata": {
      "needs_background": "light"
     },
     "output_type": "display_data"
    }
   ],
   "source": [
    "plt.scatter(train_input[:,0],train_input[:,1])\n",
    "plt.scatter(25,150,marker='^')\n",
    "\n",
    "plt.xlabel('length')\n",
    "plt.ylabel('weight')\n",
    "plt.show()"
   ]
  },
  {
   "cell_type": "markdown",
   "id": "4b5a2e26-455d-4a09-9dd8-e786a3fdee8d",
   "metadata": {},
   "source": [
    "테스트할 도미데이터와 이웃하는 데이터들"
   ]
  },
  {
   "cell_type": "code",
   "execution_count": 115,
   "id": "b01dc945-2bdf-4360-b24f-d57c2cb5f91c",
   "metadata": {},
   "outputs": [],
   "source": [
    "dist, idx = kn.kneighbors([[25,150]])"
   ]
  },
  {
   "cell_type": "code",
   "execution_count": 116,
   "id": "194ac4b3-5301-41b7-aa69-c8cffdde5033",
   "metadata": {},
   "outputs": [
    {
     "name": "stdout",
     "output_type": "stream",
     "text": [
      "[[ 92.00086956 130.73859415 137.17988191 138.32150953 138.39320793]]\n"
     ]
    }
   ],
   "source": [
    "print(dist)"
   ]
  },
  {
   "cell_type": "code",
   "execution_count": 117,
   "id": "33a000e9-e297-472a-af03-c9b42f3430df",
   "metadata": {},
   "outputs": [
    {
     "name": "stdout",
     "output_type": "stream",
     "text": [
      "[[25  2  1 18  3]]\n"
     ]
    }
   ],
   "source": [
    "print(idx)"
   ]
  },
  {
   "cell_type": "code",
   "execution_count": 119,
   "id": "63f2142a-deac-4aec-901e-706ff9505a74",
   "metadata": {},
   "outputs": [
    {
     "data": {
      "text/plain": [
       "array([[[ 25.4, 242. ],\n",
       "        [ 14.3,  19.7],\n",
       "        [ 12.4,  13.4],\n",
       "        [ 13. ,  12.2],\n",
       "        [ 12.2,  12.2]]])"
      ]
     },
     "execution_count": 119,
     "metadata": {},
     "output_type": "execute_result"
    }
   ],
   "source": [
    "train_input[idx]"
   ]
  },
  {
   "cell_type": "code",
   "execution_count": 120,
   "id": "0da6ef19-1252-4064-97ae-f5d43f758641",
   "metadata": {},
   "outputs": [
    {
     "data": {
      "image/png": "[encoded data removed]",
      "text/plain": [
       "<Figure size 432x288 with 1 Axes>"
      ]
     },
     "metadata": {
      "needs_background": "light"
     },
     "output_type": "display_data"
    }
   ],
   "source": [
    "plt.scatter(train_input[:,0],train_input[:,1])\n",
    "plt.scatter(25,150,marker='^')\n",
    "plt.scatter(train_input[idx,0],train_input[idx,1],marker='D')\n",
    "plt.xlabel('length')\n",
    "plt.ylabel('weight')\n",
    "plt.show()"
   ]
  },
  {
   "cell_type": "code",
   "execution_count": 121,
   "id": "bb1bcb75-e306-4b10-9024-5084394cbefd",
   "metadata": {},
   "outputs": [
    {
     "name": "stdout",
     "output_type": "stream",
     "text": [
      "[[1 0 0 0 0]]\n"
     ]
    }
   ],
   "source": [
    "print(train_target[idx])"
   ]
  },
  {
   "cell_type": "code",
   "execution_count": 122,
   "id": "b6bebc31-d9f7-4951-8584-aa55a6019783",
   "metadata": {},
   "outputs": [
    {
     "name": "stdout",
     "output_type": "stream",
     "text": [
      "[[ 92.00086956 130.73859415 137.17988191 138.32150953 138.39320793]]\n"
     ]
    }
   ],
   "source": [
    "print(dist)"
   ]
  },
  {
   "cell_type": "markdown",
   "id": "0785a034-8b58-438f-ac24-99324c5847ba",
   "metadata": {},
   "source": [
    "## 기준을 맞춰라 (단위맞추기=Scaliling)"
   ]
  },
  {
   "cell_type": "code",
   "execution_count": 123,
   "id": "471aa12a-3cc5-4bf9-8975-821277c08bdd",
   "metadata": {},
   "outputs": [
    {
     "data": {
      "image/png": "[encoded data removed]",
      "text/plain": [
       "<Figure size 432x288 with 1 Axes>"
      ]
     },
     "metadata": {
      "needs_background": "light"
     },
     "output_type": "display_data"
    }
   ],
   "source": [
    "plt.scatter(train_input[:,0],train_input[:,1])\n",
    "plt.scatter(25,150,marker='^')\n",
    "plt.scatter(train_input[idx,0],train_input[idx,1],marker='D')\n",
    "plt.xlim((0,1000))\n",
    "plt.xlabel('length')\n",
    "plt.ylabel('weight')\n",
    "plt.show()"
   ]
  },
  {
   "cell_type": "markdown",
   "id": "08eabe53-ba93-4122-b2b2-fc7d0a99b0cd",
   "metadata": {},
   "source": [
    "- 최근접이웃 알고리즘은 거리를 기반으로 가까운 이웃을 결정\n",
    "- 거리 계산 시 자료의 값이 큰 변수에 더 큰 영향을 받게 됨"
   ]
  },
  {
   "cell_type": "markdown",
   "id": "ec5beb81-e71d-4811-b4d1-45a298d383ce",
   "metadata": {},
   "source": [
    "## 두 변수의 스케일을 갖게\n",
    "- 표준 점수(Z-score) = 정규화"
   ]
  },
  {
   "cell_type": "code",
   "execution_count": 125,
   "id": "b8f943f0-4a0c-4f24-99a2-2d1422917d1a",
   "metadata": {},
   "outputs": [
    {
     "name": "stdout",
     "output_type": "stream",
     "text": [
      "[ 28.29428571 483.35714286]\n"
     ]
    }
   ],
   "source": [
    "mean = np.mean(train_input,axis=0)\n",
    "print(mean)"
   ]
  },
  {
   "cell_type": "code",
   "execution_count": 126,
   "id": "77772c7c-9dab-40b4-9746-bd0c6f8e6ec5",
   "metadata": {},
   "outputs": [
    {
     "name": "stdout",
     "output_type": "stream",
     "text": [
      "[  9.54606704 323.47456715]\n"
     ]
    }
   ],
   "source": [
    "std = np.std(train_input,axis=0)\n",
    "print(std)"
   ]
  },
  {
   "cell_type": "code",
   "execution_count": 128,
   "id": "c3ba90ee-ea0a-4187-989a-f3019933cf26",
   "metadata": {},
   "outputs": [
    {
     "name": "stdout",
     "output_type": "stream",
     "text": [
      "[[ 0.38819278 -0.44317902]\n",
      " [-1.66500881 -1.45284109]\n",
      " [-1.46597396 -1.43336506]\n",
      " [-1.68595985 -1.45655081]\n",
      " [ 0.49294796  0.66973691]\n",
      " [ 0.80721351  0.71301697]\n",
      " [ 0.70245833  0.73156557]\n",
      " [ 0.70245833  0.74702274]\n",
      " [ 1.06910147  1.45805236]\n",
      " [ 0.54532555  0.51516525]]\n"
     ]
    }
   ],
   "source": [
    "train_scaled = (train_input-mean)/std # 정규화 과정\n",
    "print(train_scaled[:10])"
   ]
  },
  {
   "cell_type": "code",
   "execution_count": 129,
   "id": "f25bfb7e-46e1-4ca7-a93b-4f11b2790867",
   "metadata": {},
   "outputs": [
    {
     "data": {
      "image/png": "[encoded data removed]",
      "text/plain": [
       "<Figure size 432x288 with 1 Axes>"
      ]
     },
     "metadata": {
      "needs_background": "light"
     },
     "output_type": "display_data"
    }
   ],
   "source": [
    "plt.scatter(train_scaled[:,0],train_scaled[:,1])\n",
    "plt.xlabel('length')\n",
    "plt.ylabel('weight')\n",
    "plt.show()"
   ]
  },
  {
   "cell_type": "markdown",
   "id": "1a7b8157-7672-4385-bde9-0affda456561",
   "metadata": {},
   "source": [
    "테스트 데이터도 스케일링"
   ]
  },
  {
   "cell_type": "code",
   "execution_count": 139,
   "id": "8dfa48ad-4db8-4c26-ad20-999f491d4923",
   "metadata": {},
   "outputs": [
    {
     "name": "stdout",
     "output_type": "stream",
     "text": [
      "[-0.3450935  -1.03055132]\n"
     ]
    }
   ],
   "source": [
    "new = ([25,150]-mean)/std\n",
    "print(new)"
   ]
  },
  {
   "cell_type": "code",
   "execution_count": 140,
   "id": "8af00626-8b39-4eac-b97c-afb90829655e",
   "metadata": {},
   "outputs": [
    {
     "data": {
      "image/png": "[encoded data removed]",
      "text/plain": [
       "<Figure size 432x288 with 1 Axes>"
      ]
     },
     "metadata": {
      "needs_background": "light"
     },
     "output_type": "display_data"
    }
   ],
   "source": [
    "plt.scatter(train_scaled[:,0],train_scaled[:,1])\n",
    "plt.scatter(new[0],new[1],marker='^')\n",
    "plt.xlabel('length')\n",
    "plt.ylabel('weight')\n",
    "plt.show()"
   ]
  },
  {
   "cell_type": "code",
   "execution_count": 141,
   "id": "95a3b4bc-8cc2-482f-a62c-d3e8eb380bc5",
   "metadata": {},
   "outputs": [
    {
     "data": {
      "text/plain": [
       "KNeighborsClassifier()"
      ]
     },
     "execution_count": 141,
     "metadata": {},
     "output_type": "execute_result"
    }
   ],
   "source": [
    "kn.fit(train_scaled, train_target)"
   ]
  },
  {
   "cell_type": "code",
   "execution_count": 142,
   "id": "c5ca399f-f06b-403b-bb6a-bb795e5c9dd1",
   "metadata": {},
   "outputs": [],
   "source": [
    "# test scaled\n",
    "test_scaled = (test_input - mean) / std"
   ]
  },
  {
   "cell_type": "code",
   "execution_count": 143,
   "id": "981356e3-7b6a-4331-80dc-ed62e676890d",
   "metadata": {},
   "outputs": [
    {
     "data": {
      "text/plain": [
       "1.0"
      ]
     },
     "execution_count": 143,
     "metadata": {},
     "output_type": "execute_result"
    }
   ],
   "source": [
    "kn.score(test_scaled, test_target)"
   ]
  },
  {
   "cell_type": "code",
   "execution_count": 144,
   "id": "bf2548e8-129c-40b4-8794-6dde919dc71c",
   "metadata": {},
   "outputs": [
    {
     "data": {
      "text/plain": [
       "array([1])"
      ]
     },
     "execution_count": 144,
     "metadata": {},
     "output_type": "execute_result"
    }
   ],
   "source": [
    "# 도미로 예측\n",
    "kn.predict([new])"
   ]
  },
  {
   "cell_type": "code",
   "execution_count": 147,
   "id": "3460d21f-2539-4597-aff3-02bac56a1c34",
   "metadata": {},
   "outputs": [],
   "source": [
    "dist, idx = kn.kneighbors([new])"
   ]
  },
  {
   "cell_type": "code",
   "execution_count": 149,
   "id": "9ed49191-58dd-4771-89d1-0f0c2b7eeaad",
   "metadata": {},
   "outputs": [
    {
     "data": {
      "image/png": "[encoded data removed]",
      "text/plain": [
       "<Figure size 432x288 with 1 Axes>"
      ]
     },
     "metadata": {
      "needs_background": "light"
     },
     "output_type": "display_data"
    }
   ],
   "source": [
    "plt.scatter(train_scaled[:,0],train_scaled[:,1])\n",
    "plt.scatter(new[0],new[1],marker='^')\n",
    "plt.scatter(train_scaled[idx,0], train_scaled[idx,1],marker='D')\n",
    "plt.xlabel('length')\n",
    "plt.ylabel('weight')\n",
    "plt.show()"
   ]
  },
  {
   "cell_type": "markdown",
   "id": "b275f937-2b61-4641-bc70-ba3b65646b53",
   "metadata": {},
   "source": [
    "---"
   ]
  },
  {
   "cell_type": "markdown",
   "id": "7bbe1f42-b181-4b53-b5eb-2dbfe66ef28b",
   "metadata": {},
   "source": [
    "## 사이킷런을 이용한 머신러닝(Iris Dataset)"
   ]
  },
  {
   "cell_type": "code",
   "execution_count": 195,
   "id": "7618504d-ddcf-4ac5-a44e-11f8ee143d9d",
   "metadata": {},
   "outputs": [
    {
     "name": "stdout",
     "output_type": "stream",
     "text": [
      "0.24.2\n"
     ]
    }
   ],
   "source": [
    "# 사이킷런 버전 확인\n",
    "import sklearn\n",
    "print(sklearn.__version__)"
   ]
  },
  {
   "cell_type": "markdown",
   "id": "bec300c0-c527-4e2b-b54b-d8da8a26882b",
   "metadata": {},
   "source": [
    "붓꽃 예측을 위한 사이킷런 필요 모듈 로딩"
   ]
  },
  {
   "cell_type": "code",
   "execution_count": 196,
   "id": "aebe0f9e-8abe-4114-b46f-1b95ae41a1cb",
   "metadata": {},
   "outputs": [],
   "source": [
    "from sklearn.datasets import load_iris\n",
    "from sklearn.tree import DecisionTreeClassifier\n",
    "from sklearn.model_selection import train_test_split"
   ]
  },
  {
   "cell_type": "markdown",
   "id": "5c481bb8-ebac-488e-b731-6492ffcf8d9b",
   "metadata": {},
   "source": [
    "데이터 세트 로딩"
   ]
  },
  {
   "cell_type": "code",
   "execution_count": 197,
   "id": "b660b91d-ca3c-4540-ad5a-c2b7bd90fca4",
   "metadata": {},
   "outputs": [
    {
     "name": "stdout",
     "output_type": "stream",
     "text": [
      "[[5.1 3.5 1.4 0.2]\n",
      " [4.9 3.  1.4 0.2]\n",
      " [4.7 3.2 1.3 0.2]\n",
      " [4.6 3.1 1.5 0.2]\n",
      " [5.  3.6 1.4 0.2]\n",
      " [5.4 3.9 1.7 0.4]\n",
      " [4.6 3.4 1.4 0.3]\n",
      " [5.  3.4 1.5 0.2]\n",
      " [4.4 2.9 1.4 0.2]\n",
      " [4.9 3.1 1.5 0.1]]\n"
     ]
    }
   ],
   "source": [
    "import pandas as pd\n",
    "\n",
    "iris = load_iris()\n",
    "iris_data = iris.data\n",
    "print(iris_data[:10])"
   ]
  },
  {
   "cell_type": "code",
   "execution_count": 198,
   "id": "0d268d53-8cb7-41f6-871f-4b51ae76d3da",
   "metadata": {},
   "outputs": [
    {
     "name": "stdout",
     "output_type": "stream",
     "text": [
      "[0 0 0 0 0 0 0 0 0 0 0 0 0 0 0 0 0 0 0 0 0 0 0 0 0 0 0 0 0 0 0 0 0 0 0 0 0\n",
      " 0 0 0 0 0 0 0 0 0 0 0 0 0 1 1 1 1 1 1 1 1 1 1 1 1 1 1 1 1 1 1 1 1 1 1 1 1\n",
      " 1 1 1 1 1 1 1 1 1 1 1 1 1 1 1 1 1 1 1 1 1 1 1 1 1 1 2 2 2 2 2 2 2 2 2 2 2\n",
      " 2 2 2 2 2 2 2 2 2 2 2 2 2 2 2 2 2 2 2 2 2 2 2 2 2 2 2 2 2 2 2 2 2 2 2 2 2\n",
      " 2 2]\n",
      "['setosa' 'versicolor' 'virginica']\n",
      "['sepal length (cm)', 'sepal width (cm)', 'petal length (cm)', 'petal width (cm)']\n"
     ]
    }
   ],
   "source": [
    "# iris.target은 붓꽃 결정 값\n",
    "\n",
    "iris_label = iris.target\n",
    "print(iris_label)\n",
    "print(iris.target_names)\n",
    "print(iris.feature_names)"
   ]
  },
  {
   "cell_type": "code",
   "execution_count": 199,
   "id": "113e5781-a481-4ca6-85be-de7b6298cd12",
   "metadata": {},
   "outputs": [
    {
     "data": {
      "text/html": [
       "<div>\n",
       "<style scoped>\n",
       "    .dataframe tbody tr th:only-of-type {\n",
       "        vertical-align: middle;\n",
       "    }\n",
       "\n",
       "    .dataframe tbody tr th {\n",
       "        vertical-align: top;\n",
       "    }\n",
       "\n",
       "    .dataframe thead th {\n",
       "        text-align: right;\n",
       "    }\n",
       "</style>\n",
       "<table border=\"1\" class=\"dataframe\">\n",
       "  <thead>\n",
       "    <tr style=\"text-align: right;\">\n",
       "      <th></th>\n",
       "      <th>sepal length (cm)</th>\n",
       "      <th>sepal width (cm)</th>\n",
       "      <th>petal length (cm)</th>\n",
       "      <th>petal width (cm)</th>\n",
       "      <th>label</th>\n",
       "    </tr>\n",
       "  </thead>\n",
       "  <tbody>\n",
       "    <tr>\n",
       "      <th>0</th>\n",
       "      <td>5.1</td>\n",
       "      <td>3.5</td>\n",
       "      <td>1.4</td>\n",
       "      <td>0.2</td>\n",
       "      <td>0</td>\n",
       "    </tr>\n",
       "    <tr>\n",
       "      <th>1</th>\n",
       "      <td>4.9</td>\n",
       "      <td>3.0</td>\n",
       "      <td>1.4</td>\n",
       "      <td>0.2</td>\n",
       "      <td>0</td>\n",
       "    </tr>\n",
       "    <tr>\n",
       "      <th>2</th>\n",
       "      <td>4.7</td>\n",
       "      <td>3.2</td>\n",
       "      <td>1.3</td>\n",
       "      <td>0.2</td>\n",
       "      <td>0</td>\n",
       "    </tr>\n",
       "    <tr>\n",
       "      <th>3</th>\n",
       "      <td>4.6</td>\n",
       "      <td>3.1</td>\n",
       "      <td>1.5</td>\n",
       "      <td>0.2</td>\n",
       "      <td>0</td>\n",
       "    </tr>\n",
       "    <tr>\n",
       "      <th>4</th>\n",
       "      <td>5.0</td>\n",
       "      <td>3.6</td>\n",
       "      <td>1.4</td>\n",
       "      <td>0.2</td>\n",
       "      <td>0</td>\n",
       "    </tr>\n",
       "  </tbody>\n",
       "</table>\n",
       "</div>"
      ],
      "text/plain": [
       "   sepal length (cm)  sepal width (cm)  petal length (cm)  petal width (cm)  \\\n",
       "0                5.1               3.5                1.4               0.2   \n",
       "1                4.9               3.0                1.4               0.2   \n",
       "2                4.7               3.2                1.3               0.2   \n",
       "3                4.6               3.1                1.5               0.2   \n",
       "4                5.0               3.6                1.4               0.2   \n",
       "\n",
       "   label  \n",
       "0      0  \n",
       "1      0  \n",
       "2      0  \n",
       "3      0  \n",
       "4      0  "
      ]
     },
     "execution_count": 199,
     "metadata": {},
     "output_type": "execute_result"
    }
   ],
   "source": [
    "# 붓꽃 데이터 DataFrame으로 변환\n",
    "iris_df = pd.DataFrame(data=iris_data, columns = iris.feature_names)\n",
    "iris_df['label'] = iris.target\n",
    "iris_df.head()"
   ]
  },
  {
   "cell_type": "code",
   "execution_count": 200,
   "id": "5379c833-53ae-4236-b131-bc342466ddf8",
   "metadata": {},
   "outputs": [],
   "source": [
    "################## 참고 ##################"
   ]
  },
  {
   "cell_type": "code",
   "execution_count": 202,
   "id": "361da8e7-d8e6-4f9f-a54d-39702212a92f",
   "metadata": {},
   "outputs": [],
   "source": [
    "iris_df2 = iris_df[:]"
   ]
  },
  {
   "cell_type": "code",
   "execution_count": 203,
   "id": "720d19a7-81cf-47ee-836a-97ff0facca2c",
   "metadata": {},
   "outputs": [
    {
     "name": "stderr",
     "output_type": "stream",
     "text": [
      "C:\\ananconda\\envs\\multi\\lib\\site-packages\\ipykernel_launcher.py:9: SettingWithCopyWarning: \n",
      "A value is trying to be set on a copy of a slice from a DataFrame.\n",
      "Try using .loc[row_indexer,col_indexer] = value instead\n",
      "\n",
      "See the caveats in the documentation: https://pandas.pydata.org/pandas-docs/stable/user_guide/indexing.html#returning-a-view-versus-a-copy\n",
      "  if __name__ == '__main__':\n"
     ]
    }
   ],
   "source": [
    "def addName(x):\n",
    "    if x.label == 0 :\n",
    "        return iris.target_names[0]\n",
    "    elif x.label == 1 :\n",
    "        return iris.target_names[1]\n",
    "    else:\n",
    "        return iris.target_names[2]\n",
    "\n",
    "iris_df2['label_name'] = iris_df2.apply(addName,axis=1)"
   ]
  },
  {
   "cell_type": "code",
   "execution_count": 206,
   "id": "a481a731-e45a-4e3c-962b-b6f12e60f637",
   "metadata": {},
   "outputs": [
    {
     "data": {
      "text/html": [
       "<div>\n",
       "<style scoped>\n",
       "    .dataframe tbody tr th:only-of-type {\n",
       "        vertical-align: middle;\n",
       "    }\n",
       "\n",
       "    .dataframe tbody tr th {\n",
       "        vertical-align: top;\n",
       "    }\n",
       "\n",
       "    .dataframe thead th {\n",
       "        text-align: right;\n",
       "    }\n",
       "</style>\n",
       "<table border=\"1\" class=\"dataframe\">\n",
       "  <thead>\n",
       "    <tr style=\"text-align: right;\">\n",
       "      <th></th>\n",
       "      <th>sepal length (cm)</th>\n",
       "      <th>sepal width (cm)</th>\n",
       "      <th>petal length (cm)</th>\n",
       "      <th>petal width (cm)</th>\n",
       "      <th>label</th>\n",
       "      <th>label_name</th>\n",
       "    </tr>\n",
       "  </thead>\n",
       "  <tbody>\n",
       "    <tr>\n",
       "      <th>0</th>\n",
       "      <td>5.1</td>\n",
       "      <td>3.5</td>\n",
       "      <td>1.4</td>\n",
       "      <td>0.2</td>\n",
       "      <td>0</td>\n",
       "      <td>setosa</td>\n",
       "    </tr>\n",
       "    <tr>\n",
       "      <th>1</th>\n",
       "      <td>4.9</td>\n",
       "      <td>3.0</td>\n",
       "      <td>1.4</td>\n",
       "      <td>0.2</td>\n",
       "      <td>0</td>\n",
       "      <td>setosa</td>\n",
       "    </tr>\n",
       "    <tr>\n",
       "      <th>2</th>\n",
       "      <td>4.7</td>\n",
       "      <td>3.2</td>\n",
       "      <td>1.3</td>\n",
       "      <td>0.2</td>\n",
       "      <td>0</td>\n",
       "      <td>setosa</td>\n",
       "    </tr>\n",
       "    <tr>\n",
       "      <th>3</th>\n",
       "      <td>4.6</td>\n",
       "      <td>3.1</td>\n",
       "      <td>1.5</td>\n",
       "      <td>0.2</td>\n",
       "      <td>0</td>\n",
       "      <td>setosa</td>\n",
       "    </tr>\n",
       "    <tr>\n",
       "      <th>4</th>\n",
       "      <td>5.0</td>\n",
       "      <td>3.6</td>\n",
       "      <td>1.4</td>\n",
       "      <td>0.2</td>\n",
       "      <td>0</td>\n",
       "      <td>setosa</td>\n",
       "    </tr>\n",
       "    <tr>\n",
       "      <th>...</th>\n",
       "      <td>...</td>\n",
       "      <td>...</td>\n",
       "      <td>...</td>\n",
       "      <td>...</td>\n",
       "      <td>...</td>\n",
       "      <td>...</td>\n",
       "    </tr>\n",
       "    <tr>\n",
       "      <th>145</th>\n",
       "      <td>6.7</td>\n",
       "      <td>3.0</td>\n",
       "      <td>5.2</td>\n",
       "      <td>2.3</td>\n",
       "      <td>2</td>\n",
       "      <td>virginica</td>\n",
       "    </tr>\n",
       "    <tr>\n",
       "      <th>146</th>\n",
       "      <td>6.3</td>\n",
       "      <td>2.5</td>\n",
       "      <td>5.0</td>\n",
       "      <td>1.9</td>\n",
       "      <td>2</td>\n",
       "      <td>virginica</td>\n",
       "    </tr>\n",
       "    <tr>\n",
       "      <th>147</th>\n",
       "      <td>6.5</td>\n",
       "      <td>3.0</td>\n",
       "      <td>5.2</td>\n",
       "      <td>2.0</td>\n",
       "      <td>2</td>\n",
       "      <td>virginica</td>\n",
       "    </tr>\n",
       "    <tr>\n",
       "      <th>148</th>\n",
       "      <td>6.2</td>\n",
       "      <td>3.4</td>\n",
       "      <td>5.4</td>\n",
       "      <td>2.3</td>\n",
       "      <td>2</td>\n",
       "      <td>virginica</td>\n",
       "    </tr>\n",
       "    <tr>\n",
       "      <th>149</th>\n",
       "      <td>5.9</td>\n",
       "      <td>3.0</td>\n",
       "      <td>5.1</td>\n",
       "      <td>1.8</td>\n",
       "      <td>2</td>\n",
       "      <td>virginica</td>\n",
       "    </tr>\n",
       "  </tbody>\n",
       "</table>\n",
       "<p>150 rows × 6 columns</p>\n",
       "</div>"
      ],
      "text/plain": [
       "     sepal length (cm)  sepal width (cm)  petal length (cm)  petal width (cm)  \\\n",
       "0                  5.1               3.5                1.4               0.2   \n",
       "1                  4.9               3.0                1.4               0.2   \n",
       "2                  4.7               3.2                1.3               0.2   \n",
       "3                  4.6               3.1                1.5               0.2   \n",
       "4                  5.0               3.6                1.4               0.2   \n",
       "..                 ...               ...                ...               ...   \n",
       "145                6.7               3.0                5.2               2.3   \n",
       "146                6.3               2.5                5.0               1.9   \n",
       "147                6.5               3.0                5.2               2.0   \n",
       "148                6.2               3.4                5.4               2.3   \n",
       "149                5.9               3.0                5.1               1.8   \n",
       "\n",
       "     label label_name  \n",
       "0        0     setosa  \n",
       "1        0     setosa  \n",
       "2        0     setosa  \n",
       "3        0     setosa  \n",
       "4        0     setosa  \n",
       "..     ...        ...  \n",
       "145      2  virginica  \n",
       "146      2  virginica  \n",
       "147      2  virginica  \n",
       "148      2  virginica  \n",
       "149      2  virginica  \n",
       "\n",
       "[150 rows x 6 columns]"
      ]
     },
     "execution_count": 206,
     "metadata": {},
     "output_type": "execute_result"
    }
   ],
   "source": [
    "iris_df2"
   ]
  },
  {
   "cell_type": "markdown",
   "id": "7f5b2c8a-1125-4945-b66c-8a722695db53",
   "metadata": {},
   "source": [
    "### 학습 데이터와 테스트 데이터 세트로 분리"
   ]
  },
  {
   "cell_type": "code",
   "execution_count": 209,
   "id": "87d6087d-be8a-472d-b98b-91e834ef1113",
   "metadata": {},
   "outputs": [],
   "source": [
    "X_train, X_test, y_train, y_test = train_test_split(iris_data, iris_label,\n",
    "                                                    test_size=0.3, \n",
    "                                                    random_state=11)"
   ]
  },
  {
   "cell_type": "code",
   "execution_count": 211,
   "id": "7165b151-1453-4d59-8c98-819d41ea7f14",
   "metadata": {},
   "outputs": [
    {
     "data": {
      "text/plain": [
       "array([[5.1, 2.5, 3. , 1.1],\n",
       "       [6.6, 2.9, 4.6, 1.3],\n",
       "       [5. , 3.2, 1.2, 0.2],\n",
       "       [7.4, 2.8, 6.1, 1.9],\n",
       "       [5.1, 3.8, 1.6, 0.2],\n",
       "       [6.8, 3.2, 5.9, 2.3],\n",
       "       [6.9, 3.1, 5.1, 2.3],\n",
       "       [5.9, 3. , 4.2, 1.5],\n",
       "       [4.9, 2.5, 4.5, 1.7],\n",
       "       [6.7, 3.1, 4.7, 1.5]])"
      ]
     },
     "execution_count": 211,
     "metadata": {},
     "output_type": "execute_result"
    }
   ],
   "source": [
    "# 학습용 피처 데이터 세트\n",
    "X_train[:10]"
   ]
  },
  {
   "cell_type": "code",
   "execution_count": 212,
   "id": "c7809a48-366e-4978-ae75-09b6dbe61af5",
   "metadata": {},
   "outputs": [
    {
     "data": {
      "text/plain": [
       "array([[6.8, 3. , 5.5, 2.1],\n",
       "       [6.7, 3. , 5.2, 2.3],\n",
       "       [6.3, 2.8, 5.1, 1.5],\n",
       "       [6.3, 3.3, 4.7, 1.6],\n",
       "       [6.4, 2.7, 5.3, 1.9],\n",
       "       [4.9, 3.1, 1.5, 0.1],\n",
       "       [6.7, 3.1, 4.4, 1.4],\n",
       "       [5.7, 4.4, 1.5, 0.4],\n",
       "       [4.8, 3.1, 1.6, 0.2],\n",
       "       [6.1, 2.9, 4.7, 1.4]])"
      ]
     },
     "execution_count": 212,
     "metadata": {},
     "output_type": "execute_result"
    }
   ],
   "source": [
    "# 테스트용 피처 데이터 세트\n",
    "X_test[:10]"
   ]
  },
  {
   "cell_type": "code",
   "execution_count": 213,
   "id": "20585213-be9c-4707-9da9-02dded541ba6",
   "metadata": {},
   "outputs": [
    {
     "data": {
      "text/plain": [
       "array([1, 1, 0, 2, 0, 2, 2, 1, 2, 1])"
      ]
     },
     "execution_count": 213,
     "metadata": {},
     "output_type": "execute_result"
    }
   ],
   "source": [
    "# 학습용 레이블 데이터 세트\n",
    "y_train[:10]"
   ]
  },
  {
   "cell_type": "code",
   "execution_count": 214,
   "id": "c6cb9502-4759-4bc2-9c34-26e2c1a016ae",
   "metadata": {},
   "outputs": [
    {
     "data": {
      "text/plain": [
       "array([2, 2, 2, 1, 2, 0, 1, 0, 0, 1])"
      ]
     },
     "execution_count": 214,
     "metadata": {},
     "output_type": "execute_result"
    }
   ],
   "source": [
    "# 테스트용 레이블 데이터 세트\n",
    "y_test[:10]"
   ]
  },
  {
   "cell_type": "code",
   "execution_count": 216,
   "id": "d8217004-660b-4a15-bdd5-c6199b001d88",
   "metadata": {},
   "outputs": [
    {
     "data": {
      "text/plain": [
       "DecisionTreeClassifier(random_state=11)"
      ]
     },
     "execution_count": 216,
     "metadata": {},
     "output_type": "execute_result"
    }
   ],
   "source": [
    "# DecisionTreeClassifier 객체 생성\n",
    "dt_clf = DecisionTreeClassifier(random_state=11)\n",
    "\n",
    "# 학습수행\n",
    "dt_clf.fit(X_train,y_train)"
   ]
  },
  {
   "cell_type": "markdown",
   "id": "4676aff9-5606-4581-afc0-62818b0dc8da",
   "metadata": {},
   "source": [
    "테스트 데이터 세트로 예측(Predict) 수행"
   ]
  },
  {
   "cell_type": "code",
   "execution_count": 217,
   "id": "8eca7c55-e43b-4827-b027-8fc374485c23",
   "metadata": {},
   "outputs": [],
   "source": [
    "# 학습이 완료된 DecisionTreeClassifier 객체에서 테스트 데이터로 수행\n",
    "pred = dt_clf.predict(X_test)"
   ]
  },
  {
   "cell_type": "markdown",
   "id": "0ef2c3c4-a5bb-4527-b3ee-96eff4a3e827",
   "metadata": {},
   "source": [
    "예측 정확도 평가"
   ]
  },
  {
   "cell_type": "code",
   "execution_count": 218,
   "id": "654cadd2-74ae-4929-9af5-841f10982e46",
   "metadata": {},
   "outputs": [
    {
     "data": {
      "text/plain": [
       "0.9111111111111111"
      ]
     },
     "execution_count": 218,
     "metadata": {},
     "output_type": "execute_result"
    }
   ],
   "source": [
    "from sklearn.metrics import accuracy_score\n",
    "accuracy_score(y_test, pred)"
   ]
  },
  {
   "cell_type": "code",
   "execution_count": null,
   "id": "d35698aa-c8ba-42d5-b066-ea1fe547f696",
   "metadata": {},
   "outputs": [],
   "source": []
  }
 ],
 "metadata": {
  "kernelspec": {
   "display_name": "Python Multi",
   "language": "python",
   "name": "multi"
  },
  "language_info": {
   "codemirror_mode": {
    "name": "ipython",
    "version": 3
   },
   "file_extension": ".py",
   "mimetype": "text/x-python",
   "name": "python",
   "nbconvert_exporter": "python",
   "pygments_lexer": "ipython3",
   "version": "3.7.6"
  }
 },
 "nbformat": 4,
 "nbformat_minor": 5
}
