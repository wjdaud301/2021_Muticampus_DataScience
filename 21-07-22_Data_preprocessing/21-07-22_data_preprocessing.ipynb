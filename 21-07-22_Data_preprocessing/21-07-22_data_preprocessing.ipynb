{
 "cells": [
  {
   "cell_type": "markdown",
   "id": "f52bedcd-1bac-46a8-a75d-372ce406088c",
   "metadata": {},
   "source": [
    "## 데이터 전처리 주요 기법\n",
    "- 데이터 정제\n",
    "    - 결측치, 이상치, 잡음\n",
    "- 데이터 결합\n",
    "- 데이터 변환\n",
    "    - Nomalization, scailing\n",
    "- 차원 축소\n",
    "    - Feature selection\n",
    "        - filter, wrapper, embedded\n",
    "    - Feature extraction\n",
    "        - PCA,SVD,FA,NMF\n"
   ]
  },
  {
   "cell_type": "markdown",
   "id": "e67ae7c1-fdf9-4417-810b-f95e96dfa452",
   "metadata": {},
   "source": [
    "### 결측값(missing value)처리\n",
    "- 해당 데이터 행을 모두 제거(완전제거법)\n",
    "- 수작업으로 채워 넣음\n",
    "- 특정값 사용\n",
    "- 핫덱(hot-deck)대체법\n",
    "    - 동일한 조사에서 다른 관측값으로부터 얻은 자료를 이용해 대체\n",
    "    - 관측값 중 결측치와 비슷한 특성을 가진 것을 무작위 추출하여 대체\n",
    "- 평균값 사용(전체 평균 혹은 기준 속성 평균)\n",
    "    - 표준오차 과소추정 발생\n",
    "- 가장 가능성이 높은 값 사용(회귀분석,보간법 등) -> 모델사용"
   ]
  },
  {
   "cell_type": "markdown",
   "id": "1923e961-d3a4-41ea-9621-920425e1292e",
   "metadata": {},
   "source": [
    "---"
   ]
  },
  {
   "cell_type": "markdown",
   "id": "77d6bc16-d4b8-4158-b09b-f661db7dcd9e",
   "metadata": {},
   "source": [
    "### 데이터 인코딩\n",
    "- 문자열을 숫자형으로 변환\n",
    "- 인코딩 방식\n",
    "    - 레이블 인코딩(Label encoding)\n",
    "    - 원-핫 인코딩(One-hot encoding)\n",
    "    \n",
    "#### 레이블 인코딩(Lavel encoding)\n",
    "- 문자열 데이터를 숫자로 코드화\n",
    "- 범주형 자료의 수치화\n",
    "\n",
    "#### 사이킷런의 레이블 인코딩 클래스 : LabelEncoder\n",
    "1. LabelEncoder 객체 생성\n",
    "2. fit()\n",
    "    - 레이블 인코더를 맞춤\n",
    "3. transform()\n",
    "    - 인코딩된 레이블 반환"
   ]
  },
  {
   "cell_type": "code",
   "execution_count": 2,
   "id": "3bcf74ec-caa9-4a05-8c19-9210ce9ddb39",
   "metadata": {},
   "outputs": [
    {
     "name": "stdout",
     "output_type": "stream",
     "text": [
      "[0 1 4 5 3 3 2 2]\n"
     ]
    }
   ],
   "source": [
    "from sklearn.preprocessing import LabelEncoder\n",
    "\n",
    "items = ['TV','냉장고','전자렌지','컴퓨터','선풍기','선풍기','믹서','믹서']\n",
    "encoder = LabelEncoder()\n",
    "encoder.fit(items)\n",
    "labels = encoder.transform(items)\n",
    "print(labels)"
   ]
  },
  {
   "cell_type": "markdown",
   "id": "20f08d6c-0972-4475-8b79-d37c8cad8b5b",
   "metadata": {},
   "source": [
    "LabelEncoder 객체의 classes_ : 인코딩된 문자열 값 목록 확인"
   ]
  },
  {
   "cell_type": "code",
   "execution_count": 3,
   "id": "a991d7fe-9cf8-42a1-92e9-9e18704e1bd1",
   "metadata": {},
   "outputs": [
    {
     "data": {
      "text/plain": [
       "array(['TV', '냉장고', '믹서', '선풍기', '전자렌지', '컴퓨터'], dtype='<U4')"
      ]
     },
     "execution_count": 3,
     "metadata": {},
     "output_type": "execute_result"
    }
   ],
   "source": [
    "encoder.classes_"
   ]
  },
  {
   "cell_type": "markdown",
   "id": "774b60ae-3bda-43d4-ac1f-e44b43074ea3",
   "metadata": {},
   "source": [
    "inverse_transform() : 인코딩된 값을 다시 디코딩"
   ]
  },
  {
   "cell_type": "code",
   "execution_count": 4,
   "id": "380027fa-fcd3-4e03-a063-5d27d331a040",
   "metadata": {},
   "outputs": [
    {
     "data": {
      "text/plain": [
       "array(['선풍기', 'TV', '믹서', '냉장고'], dtype='<U4')"
      ]
     },
     "execution_count": 4,
     "metadata": {},
     "output_type": "execute_result"
    }
   ],
   "source": [
    "encoder.inverse_transform([3,0,2,1])"
   ]
  },
  {
   "cell_type": "markdown",
   "id": "bf033bed-e862-4eb9-a02c-d44683d130eb",
   "metadata": {},
   "source": [
    "- 레이블 인코딩된 데이터는 회귀와 같은 ML 알고리즘을 적용해서는 안됨"
   ]
  },
  {
   "cell_type": "markdown",
   "id": "17a7c6ac-a679-4162-8cb6-36abf7d1dd05",
   "metadata": {},
   "source": [
    "---"
   ]
  },
  {
   "cell_type": "markdown",
   "id": "f888c212-ec5a-4c36-8c13-91536f43655b",
   "metadata": {},
   "source": [
    "## 원-핫 인코딩(One-Hot encoding)\n",
    "- feature 값의 유형에 따라 새로운 feature를 추가하여\n",
    "- 고유 값에 해당하는 컬럼만 1을 표시하고 나머지 컬럼에는 0을 표시\n",
    "- 범주형 변수를 독립변수로 갖는 회귀분석의 경우 범주형 변수를 dummy변수로 변환\n",
    "\n",
    "**다항 회귀분석에서 각각에 대한 변수로 사용 (영향력이 어떻게 되는지)**\n"
   ]
  },
  {
   "cell_type": "code",
   "execution_count": 5,
   "id": "d0732164-3894-4c93-857d-4b6085c05772",
   "metadata": {},
   "outputs": [
    {
     "data": {
      "text/plain": [
       "array([0, 1, 4, 5, 3, 3, 2, 2])"
      ]
     },
     "execution_count": 5,
     "metadata": {},
     "output_type": "execute_result"
    }
   ],
   "source": [
    "#  사이킷런에서 원-핫 인코딩 클래스 : OneHotEncoder\n",
    "from sklearn.preprocessing import OneHotEncoder, LabelEncoder\n",
    "import numpy as np\n",
    "\n",
    "items = ['TV','냉장고','전자렌지','컴퓨터','선풍기','선풍기','믹서','믹서']\n",
    "\n",
    "# 먼저 숫자값으로 변환을 위해 LabelEncoder로 변환\n",
    "encoder = LabelEncoder()\n",
    "encoder.fit(items)\n",
    "labels = encoder.transform(items)\n",
    "labels"
   ]
  },
  {
   "cell_type": "code",
   "execution_count": 7,
   "id": "64927a2b-966f-435a-91d4-f6957cbdad9b",
   "metadata": {},
   "outputs": [
    {
     "data": {
      "text/plain": [
       "array([[0],\n",
       "       [1],\n",
       "       [4],\n",
       "       [5],\n",
       "       [3],\n",
       "       [3],\n",
       "       [2],\n",
       "       [2]])"
      ]
     },
     "execution_count": 7,
     "metadata": {},
     "output_type": "execute_result"
    }
   ],
   "source": [
    "# 2. 2차원 데이터로 변환\n",
    "labels = labels.reshape(-1,1) #( ,1) => (여러행,1컬럼)\n",
    "labels"
   ]
  },
  {
   "cell_type": "code",
   "execution_count": 8,
   "id": "7ffc872b-0214-4fb1-b276-c6007b9c53c4",
   "metadata": {},
   "outputs": [
    {
     "data": {
      "text/plain": [
       "<8x6 sparse matrix of type '<class 'numpy.float64'>'\n",
       "\twith 8 stored elements in Compressed Sparse Row format>"
      ]
     },
     "execution_count": 8,
     "metadata": {},
     "output_type": "execute_result"
    }
   ],
   "source": [
    "# 3. 원-핫 인코딩을 적용\n",
    "one_encoder = OneHotEncoder()\n",
    "one_encoder.fit(labels)\n",
    "one_labels = one_encoder.transform(labels)\n",
    "one_labels"
   ]
  },
  {
   "cell_type": "code",
   "execution_count": null,
   "id": "4dca9392-3511-41e7-beb2-a4bfd20c5836",
   "metadata": {},
   "outputs": [],
   "source": [
    "# sparse matrix : 회소행렬(행렬의 값이 대부분 0인 경우)"
   ]
  },
  {
   "cell_type": "code",
   "execution_count": 9,
   "id": "899ee7e6-ba33-4d14-b7e5-4b45b444eb90",
   "metadata": {},
   "outputs": [
    {
     "name": "stdout",
     "output_type": "stream",
     "text": [
      "  (0, 0)\t1.0\n",
      "  (1, 1)\t1.0\n",
      "  (2, 4)\t1.0\n",
      "  (3, 5)\t1.0\n",
      "  (4, 3)\t1.0\n",
      "  (5, 3)\t1.0\n",
      "  (6, 2)\t1.0\n",
      "  (7, 2)\t1.0\n"
     ]
    }
   ],
   "source": [
    "print(one_labels)"
   ]
  },
  {
   "cell_type": "code",
   "execution_count": 11,
   "id": "983bfc85-6772-4cd7-96eb-154f5cb37d33",
   "metadata": {},
   "outputs": [
    {
     "data": {
      "text/plain": [
       "array([[1., 0., 0., 0., 0., 0.],\n",
       "       [0., 1., 0., 0., 0., 0.],\n",
       "       [0., 0., 0., 0., 1., 0.],\n",
       "       [0., 0., 0., 0., 0., 1.],\n",
       "       [0., 0., 0., 1., 0., 0.],\n",
       "       [0., 0., 0., 1., 0., 0.],\n",
       "       [0., 0., 1., 0., 0., 0.],\n",
       "       [0., 0., 1., 0., 0., 0.]])"
      ]
     },
     "execution_count": 11,
     "metadata": {},
     "output_type": "execute_result"
    }
   ],
   "source": [
    "# 2차원 형태로 출력\n",
    "one_labels.toarray()"
   ]
  },
  {
   "cell_type": "code",
   "execution_count": 13,
   "id": "c3733ef7-1802-4d32-84b7-5ed0d37c7b4c",
   "metadata": {},
   "outputs": [
    {
     "name": "stdout",
     "output_type": "stream",
     "text": [
      "원-핫 인코딩 데이터\n",
      "[[1. 0. 0. 0. 0. 0.]\n",
      " [0. 1. 0. 0. 0. 0.]\n",
      " [0. 0. 0. 0. 1. 0.]\n",
      " [0. 0. 0. 0. 0. 1.]\n",
      " [0. 0. 0. 1. 0. 0.]\n",
      " [0. 0. 0. 1. 0. 0.]\n",
      " [0. 0. 1. 0. 0. 0.]\n",
      " [0. 0. 1. 0. 0. 0.]]\n",
      "원-핫 인코딩 데이터 차원\n",
      "(8, 6)\n"
     ]
    }
   ],
   "source": [
    "# 원 - 핫 인코딩 전체 과정\n",
    "from sklearn.preprocessing import OneHotEncoder, LabelEncoder\n",
    "import numpy as np\n",
    "\n",
    "items = ['TV','냉장고','전자렌지','컴퓨터','선풍기','선풍기','믹서','믹서']\n",
    "\n",
    "# 1. 먼저 숫자값으로 변환을 위해 LabelEncoder로 변환\n",
    "encoder = LabelEncoder()\n",
    "encoder.fit(items)\n",
    "labels = encoder.transform(items)\n",
    "\n",
    "# 2. 2차원 데이터로 변환\n",
    "labels = labels.reshape(-1,1) #( ,1) => (여러행,1컬럼)\n",
    "\n",
    "# 3. 원-핫 인코딩을 적용\n",
    "one_encoder = OneHotEncoder()\n",
    "one_encoder.fit(labels)\n",
    "one_labels = one_encoder.transform(labels)\n",
    "\n",
    "print('원-핫 인코딩 데이터')\n",
    "print(one_labels.toarray())\n",
    "print('원-핫 인코딩 데이터 차원')\n",
    "print(one_labels.shape)\n"
   ]
  },
  {
   "cell_type": "markdown",
   "id": "b48fb4f9-577d-49dd-8cb1-eab7f73d9601",
   "metadata": {},
   "source": [
    "## Pandas API 사용 원-핫 인코딩 수행\n",
    "- get_dummies()메서드 사용\n",
    "- 숫자형으로 변화없이 바로 변환"
   ]
  },
  {
   "cell_type": "code",
   "execution_count": 16,
   "id": "f79bf1ac-376e-4e66-9072-81f55ee9c836",
   "metadata": {},
   "outputs": [
    {
     "data": {
      "text/html": [
       "<div>\n",
       "<style scoped>\n",
       "    .dataframe tbody tr th:only-of-type {\n",
       "        vertical-align: middle;\n",
       "    }\n",
       "\n",
       "    .dataframe tbody tr th {\n",
       "        vertical-align: top;\n",
       "    }\n",
       "\n",
       "    .dataframe thead th {\n",
       "        text-align: right;\n",
       "    }\n",
       "</style>\n",
       "<table border=\"1\" class=\"dataframe\">\n",
       "  <thead>\n",
       "    <tr style=\"text-align: right;\">\n",
       "      <th></th>\n",
       "      <th>item</th>\n",
       "    </tr>\n",
       "  </thead>\n",
       "  <tbody>\n",
       "    <tr>\n",
       "      <th>0</th>\n",
       "      <td>TV</td>\n",
       "    </tr>\n",
       "    <tr>\n",
       "      <th>1</th>\n",
       "      <td>냉장고</td>\n",
       "    </tr>\n",
       "    <tr>\n",
       "      <th>2</th>\n",
       "      <td>전자렌지</td>\n",
       "    </tr>\n",
       "    <tr>\n",
       "      <th>3</th>\n",
       "      <td>컴퓨터</td>\n",
       "    </tr>\n",
       "    <tr>\n",
       "      <th>4</th>\n",
       "      <td>선풍기</td>\n",
       "    </tr>\n",
       "    <tr>\n",
       "      <th>5</th>\n",
       "      <td>선풍기</td>\n",
       "    </tr>\n",
       "    <tr>\n",
       "      <th>6</th>\n",
       "      <td>믹서</td>\n",
       "    </tr>\n",
       "    <tr>\n",
       "      <th>7</th>\n",
       "      <td>믹서</td>\n",
       "    </tr>\n",
       "  </tbody>\n",
       "</table>\n",
       "</div>"
      ],
      "text/plain": [
       "   item\n",
       "0    TV\n",
       "1   냉장고\n",
       "2  전자렌지\n",
       "3   컴퓨터\n",
       "4   선풍기\n",
       "5   선풍기\n",
       "6    믹서\n",
       "7    믹서"
      ]
     },
     "execution_count": 16,
     "metadata": {},
     "output_type": "execute_result"
    }
   ],
   "source": [
    "import pandas as pd\n",
    "\n",
    "df = pd.DataFrame({'item':items})\n",
    "df"
   ]
  },
  {
   "cell_type": "code",
   "execution_count": 17,
   "id": "610e8665-116e-4f32-a486-5f5a3d6fa326",
   "metadata": {},
   "outputs": [
    {
     "data": {
      "text/html": [
       "<div>\n",
       "<style scoped>\n",
       "    .dataframe tbody tr th:only-of-type {\n",
       "        vertical-align: middle;\n",
       "    }\n",
       "\n",
       "    .dataframe tbody tr th {\n",
       "        vertical-align: top;\n",
       "    }\n",
       "\n",
       "    .dataframe thead th {\n",
       "        text-align: right;\n",
       "    }\n",
       "</style>\n",
       "<table border=\"1\" class=\"dataframe\">\n",
       "  <thead>\n",
       "    <tr style=\"text-align: right;\">\n",
       "      <th></th>\n",
       "      <th>item_TV</th>\n",
       "      <th>item_냉장고</th>\n",
       "      <th>item_믹서</th>\n",
       "      <th>item_선풍기</th>\n",
       "      <th>item_전자렌지</th>\n",
       "      <th>item_컴퓨터</th>\n",
       "    </tr>\n",
       "  </thead>\n",
       "  <tbody>\n",
       "    <tr>\n",
       "      <th>0</th>\n",
       "      <td>1</td>\n",
       "      <td>0</td>\n",
       "      <td>0</td>\n",
       "      <td>0</td>\n",
       "      <td>0</td>\n",
       "      <td>0</td>\n",
       "    </tr>\n",
       "    <tr>\n",
       "      <th>1</th>\n",
       "      <td>0</td>\n",
       "      <td>1</td>\n",
       "      <td>0</td>\n",
       "      <td>0</td>\n",
       "      <td>0</td>\n",
       "      <td>0</td>\n",
       "    </tr>\n",
       "    <tr>\n",
       "      <th>2</th>\n",
       "      <td>0</td>\n",
       "      <td>0</td>\n",
       "      <td>0</td>\n",
       "      <td>0</td>\n",
       "      <td>1</td>\n",
       "      <td>0</td>\n",
       "    </tr>\n",
       "    <tr>\n",
       "      <th>3</th>\n",
       "      <td>0</td>\n",
       "      <td>0</td>\n",
       "      <td>0</td>\n",
       "      <td>0</td>\n",
       "      <td>0</td>\n",
       "      <td>1</td>\n",
       "    </tr>\n",
       "    <tr>\n",
       "      <th>4</th>\n",
       "      <td>0</td>\n",
       "      <td>0</td>\n",
       "      <td>0</td>\n",
       "      <td>1</td>\n",
       "      <td>0</td>\n",
       "      <td>0</td>\n",
       "    </tr>\n",
       "    <tr>\n",
       "      <th>5</th>\n",
       "      <td>0</td>\n",
       "      <td>0</td>\n",
       "      <td>0</td>\n",
       "      <td>1</td>\n",
       "      <td>0</td>\n",
       "      <td>0</td>\n",
       "    </tr>\n",
       "    <tr>\n",
       "      <th>6</th>\n",
       "      <td>0</td>\n",
       "      <td>0</td>\n",
       "      <td>1</td>\n",
       "      <td>0</td>\n",
       "      <td>0</td>\n",
       "      <td>0</td>\n",
       "    </tr>\n",
       "    <tr>\n",
       "      <th>7</th>\n",
       "      <td>0</td>\n",
       "      <td>0</td>\n",
       "      <td>1</td>\n",
       "      <td>0</td>\n",
       "      <td>0</td>\n",
       "      <td>0</td>\n",
       "    </tr>\n",
       "  </tbody>\n",
       "</table>\n",
       "</div>"
      ],
      "text/plain": [
       "   item_TV  item_냉장고  item_믹서  item_선풍기  item_전자렌지  item_컴퓨터\n",
       "0        1         0        0         0          0         0\n",
       "1        0         1        0         0          0         0\n",
       "2        0         0        0         0          1         0\n",
       "3        0         0        0         0          0         1\n",
       "4        0         0        0         1          0         0\n",
       "5        0         0        0         1          0         0\n",
       "6        0         0        1         0          0         0\n",
       "7        0         0        1         0          0         0"
      ]
     },
     "execution_count": 17,
     "metadata": {},
     "output_type": "execute_result"
    }
   ],
   "source": [
    "pd.get_dummies(df)"
   ]
  },
  {
   "cell_type": "code",
   "execution_count": 18,
   "id": "6bcdc06e-fb64-4132-bbbb-60ea076ff93a",
   "metadata": {},
   "outputs": [
    {
     "data": {
      "text/plain": [
       "array([[1, 0, 0, 0, 0, 0],\n",
       "       [0, 1, 0, 0, 0, 0],\n",
       "       [0, 0, 0, 0, 1, 0],\n",
       "       [0, 0, 0, 0, 0, 1],\n",
       "       [0, 0, 0, 1, 0, 0],\n",
       "       [0, 0, 0, 1, 0, 0],\n",
       "       [0, 0, 1, 0, 0, 0],\n",
       "       [0, 0, 1, 0, 0, 0]], dtype=uint8)"
      ]
     },
     "execution_count": 18,
     "metadata": {},
     "output_type": "execute_result"
    }
   ],
   "source": [
    "# Pandas 데이터프레임을 NumPy 배열로 변환\n",
    "pd.get_dummies(df).to_numpy()"
   ]
  },
  {
   "cell_type": "markdown",
   "id": "28888cc3-c368-4ee1-bc23-cc5a527bf7e2",
   "metadata": {},
   "source": [
    "---"
   ]
  },
  {
   "cell_type": "markdown",
   "id": "310a3ffd-7dc5-4574-a282-83a0d11c0f0b",
   "metadata": {},
   "source": [
    "## 피처 스케일링과 정규화\n",
    "- 피처 스케일링(feature scailing)\n",
    "    - 서로 다른 변수의 값 범위를 일정한 수준으로 맟춤\n",
    "- 방식\n",
    "    - Z-scailing\n",
    "        - 표준화\n",
    "        - 평균이 0이고 분산이 1인 가우시안 정규분포로 변환\n",
    "        - 정규화\n",
    "        - sklearn.preprocessing의 StandardScaler 모듈\n",
    "    - min-max\n",
    "        - 0~1로 변환\n",
    "        - sklearn.preprocessing의 MinMaxScaker 모듈\n",
    "\n",
    "### 정규화\n",
    "- 단위 차이, 극단값 등으로 비교가 어렵거나 왜곡이 발생할 때, 표준화하여 비교 가능하게 만드는 방법\n",
    "- scale이 다른 여러 변수에 대해 Scale을 맞춰 모든 데이터 포인트가 동일한 정도의 중요도로 비교되도록 함"
   ]
  },
  {
   "cell_type": "code",
   "execution_count": 22,
   "id": "2776a63d-0a10-4777-b1d4-30aa696db225",
   "metadata": {},
   "outputs": [
    {
     "name": "stdout",
     "output_type": "stream",
     "text": [
      "sepal length (cm)    5.843333\n",
      "sepal width (cm)     3.057333\n",
      "petal length (cm)    3.758000\n",
      "petal width (cm)     1.199333\n",
      "dtype: float64\n",
      "sepal length (cm)    0.828066\n",
      "sepal width (cm)     0.435866\n",
      "petal length (cm)    1.765298\n",
      "petal width (cm)     0.762238\n",
      "dtype: float64\n"
     ]
    }
   ],
   "source": [
    "from sklearn.datasets import load_iris\n",
    "import pandas as pd\n",
    "\n",
    "iris = load_iris()\n",
    "iris_data = iris.data\n",
    "iris_df = pd.DataFrame(iris_data, columns=iris.feature_names)\n",
    "\n",
    "print(iris_df.mean())\n",
    "print(iris_df.std())"
   ]
  },
  {
   "cell_type": "markdown",
   "id": "98e6ca09-c5de-46c4-95c2-c67257faf5e3",
   "metadata": {},
   "source": [
    "### StandardScaler이용 표준화해서 변환\n",
    "1. StandardScaler 객체 생성\n",
    "2. fit() : 데이터 변환을 위한 기준 정보 설정\n",
    "3. transform() : fit()에서 설정된 정보를 이용해 데이터 변환\n",
    "    - scale 변환된 데이터 셋이 numpy ndarray로 반환"
   ]
  },
  {
   "cell_type": "code",
   "execution_count": 26,
   "id": "f9615ac7-9ea9-454e-a8ef-fe463f6d18e3",
   "metadata": {},
   "outputs": [
    {
     "name": "stdout",
     "output_type": "stream",
     "text": [
      "sepal length (cm)   -1.690315e-15\n",
      "sepal width (cm)    -1.842970e-15\n",
      "petal length (cm)   -1.698641e-15\n",
      "petal width (cm)    -1.409243e-15\n",
      "dtype: float64\n",
      "sepal length (cm)    1.00335\n",
      "sepal width (cm)     1.00335\n",
      "petal length (cm)    1.00335\n",
      "petal width (cm)     1.00335\n",
      "dtype: float64\n"
     ]
    }
   ],
   "source": [
    "from sklearn.preprocessing import StandardScaler\n",
    "\n",
    "scaler = StandardScaler()\n",
    "scaler.fit(iris_df)\n",
    "iris_scaled = scaler.transform(iris_df)\n",
    "# print(iris_scaled)\n",
    "\n",
    "iris_scaled_df = pd.DataFrame(data=iris_scaled, columns=iris.feature_names)\n",
    "print(iris_scaled_df.mean())\n",
    "print(iris_scaled_df.std())"
   ]
  },
  {
   "cell_type": "markdown",
   "id": "f55d0d81-790c-4221-a744-da09bd552e8c",
   "metadata": {},
   "source": [
    "### MinMaxScaler 이용 변환\n",
    "1. MinMaxScaler 객체생성\n",
    "2. fit()\n",
    "3. transform() : scale 변환된 데이터 셋이 numpy ndarray로 반환"
   ]
  },
  {
   "cell_type": "code",
   "execution_count": 27,
   "id": "b623c41c-8154-4d32-8591-e7cd0a0f7417",
   "metadata": {},
   "outputs": [
    {
     "name": "stdout",
     "output_type": "stream",
     "text": [
      "sepal length (cm)    0.0\n",
      "sepal width (cm)     0.0\n",
      "petal length (cm)    0.0\n",
      "petal width (cm)     0.0\n",
      "dtype: float64\n",
      "sepal length (cm)    1.0\n",
      "sepal width (cm)     1.0\n",
      "petal length (cm)    1.0\n",
      "petal width (cm)     1.0\n",
      "dtype: float64\n"
     ]
    }
   ],
   "source": [
    "from sklearn.preprocessing import MinMaxScaler\n",
    "\n",
    "scaler = MinMaxScaler()\n",
    "scaler.fit(iris_df)\n",
    "iris_scaled = scaler.transform(iris_df)\n",
    "# print(iris_scaled)\n",
    "\n",
    "iris_scaled_df = pd.DataFrame(data=iris_scaled, columns=iris.feature_names)\n",
    "\n",
    "print(iris_scaled_df.min())\n",
    "print(iris_scaled_df.max())\n"
   ]
  },
  {
   "cell_type": "markdown",
   "id": "201e9230-6c96-4c36-84d3-731418862694",
   "metadata": {},
   "source": [
    "## 데이터 변환\n",
    "\n",
    "데이터 변환 목적\n",
    "- 분포의 대칭화\n",
    "- 산포를 비슷하게\n",
    "- 변수 간의 관계를 단순하게 하기 위해\n",
    "\n",
    "데이터 변환 종류\n",
    "- 모양 변환 : pivot, unpivot\n",
    "- 파생변수/요약변수\n",
    "- 데이터 분포의 변환\n",
    "    - 데이터가 정규분포를 따르지 않을 경우, 정규분포 혹은 정규분포에 가깝게 변환하는 기법\n",
    "    - 정규분포를 기준으로 치우침 정도(왜도)   \n",
    "    Positively Skewed / negatively Skewed \n",
    "- 데이터 분포 변환 : 제곱근변환, 제곱변환, 로그변환\n",
    "    "
   ]
  },
  {
   "cell_type": "code",
   "execution_count": null,
   "id": "41ada3ee-80b0-4c8c-b390-9e8ffdb29f69",
   "metadata": {},
   "outputs": [],
   "source": []
  }
 ],
 "metadata": {
  "kernelspec": {
   "display_name": "Python Multi",
   "language": "python",
   "name": "multi"
  },
  "language_info": {
   "codemirror_mode": {
    "name": "ipython",
    "version": 3
   },
   "file_extension": ".py",
   "mimetype": "text/x-python",
   "name": "python",
   "nbconvert_exporter": "python",
   "pygments_lexer": "ipython3",
   "version": "3.7.6"
  }
 },
 "nbformat": 4,
 "nbformat_minor": 5
}
