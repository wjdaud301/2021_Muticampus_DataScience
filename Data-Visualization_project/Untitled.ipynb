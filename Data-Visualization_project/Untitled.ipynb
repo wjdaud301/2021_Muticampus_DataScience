{
 "cells": [
  {
   "cell_type": "code",
   "execution_count": 4,
   "metadata": {},
   "outputs": [],
   "source": [
    "import pandas as pd\n",
    "import numpy as np"
   ]
  },
  {
   "cell_type": "code",
   "execution_count": 5,
   "metadata": {},
   "outputs": [],
   "source": [
    "ssg17_19 = pd.read_excel('상권별_소규모_상가_공실률_17~19.xlsx')\n",
    "ssg20_21 = pd.read_excel('상권별_소규모_상가_공실률_20~21.xlsx')\n",
    "# ssg217_19 = pd.read_excel('상권별_중대형_상가_공실률_17~19.xlsx')\n",
    "# ssg220_21 = pd.read_excel('상권별_중대형_상가_공실률_21~20.xlsx')"
   ]
  },
  {
   "cell_type": "code",
   "execution_count": 6,
   "metadata": {},
   "outputs": [
    {
     "data": {
      "text/plain": [
       "array(['소계', '소계(도심지역)', '광화문', '동대문', '명동', '서울역', '종로', '충무로',\n",
       "       '소계(강남지역)', '강남대로', '논현역', '도산대로', '서초', '신사역', '압구정', '청담',\n",
       "       '테헤란로', '소계(영등포신촌지역)', '공덕역', '신촌/이대', '영등포역', '홍대/합정', '소계(기타지역)',\n",
       "       '건대입구', '경희대', '군자', '목동', '불광역', '사당', '서울대입구역', '성신여대', '수유',\n",
       "       '신림역', '오류동역', '왕십리', '용산역', '이태원', '잠실/송파', '장안동', '천호', '청량리',\n",
       "       '혜화동', '화곡'], dtype=object)"
      ]
     },
     "execution_count": 6,
     "metadata": {},
     "output_type": "execute_result"
    }
   ],
   "source": [
    "ssg17_19['도심'].unique()"
   ]
  },
  {
   "cell_type": "code",
   "execution_count": 7,
   "metadata": {},
   "outputs": [
    {
     "data": {
      "text/html": [
       "<div>\n",
       "<style scoped>\n",
       "    .dataframe tbody tr th:only-of-type {\n",
       "        vertical-align: middle;\n",
       "    }\n",
       "\n",
       "    .dataframe tbody tr th {\n",
       "        vertical-align: top;\n",
       "    }\n",
       "\n",
       "    .dataframe thead th {\n",
       "        text-align: right;\n",
       "    }\n",
       "</style>\n",
       "<table border=\"1\" class=\"dataframe\">\n",
       "  <thead>\n",
       "    <tr style=\"text-align: right;\">\n",
       "      <th></th>\n",
       "      <th>도심</th>\n",
       "      <th>2020 1/4</th>\n",
       "      <th>2020 2/4</th>\n",
       "      <th>2020 3/4</th>\n",
       "      <th>2020 4/4</th>\n",
       "      <th>2021 1/4</th>\n",
       "    </tr>\n",
       "  </thead>\n",
       "  <tbody>\n",
       "    <tr>\n",
       "      <th>0</th>\n",
       "      <td>소계</td>\n",
       "      <td>4.0</td>\n",
       "      <td>4.2</td>\n",
       "      <td>5.7</td>\n",
       "      <td>7.5</td>\n",
       "      <td>6.5</td>\n",
       "    </tr>\n",
       "    <tr>\n",
       "      <th>1</th>\n",
       "      <td>소계</td>\n",
       "      <td>1.9</td>\n",
       "      <td>3.3</td>\n",
       "      <td>8.4</td>\n",
       "      <td>10.5</td>\n",
       "      <td>8.5</td>\n",
       "    </tr>\n",
       "    <tr>\n",
       "      <th>2</th>\n",
       "      <td>광화문</td>\n",
       "      <td>0.0</td>\n",
       "      <td>4.3</td>\n",
       "      <td>4.3</td>\n",
       "      <td>4.3</td>\n",
       "      <td>4.2</td>\n",
       "    </tr>\n",
       "    <tr>\n",
       "      <th>3</th>\n",
       "      <td>남대문</td>\n",
       "      <td>5.3</td>\n",
       "      <td>5.3</td>\n",
       "      <td>5.3</td>\n",
       "      <td>9.9</td>\n",
       "      <td>8.1</td>\n",
       "    </tr>\n",
       "    <tr>\n",
       "      <th>4</th>\n",
       "      <td>동대문</td>\n",
       "      <td>2.5</td>\n",
       "      <td>2.5</td>\n",
       "      <td>2.5</td>\n",
       "      <td>2.5</td>\n",
       "      <td>2.5</td>\n",
       "    </tr>\n",
       "  </tbody>\n",
       "</table>\n",
       "</div>"
      ],
      "text/plain": [
       "    도심  2020 1/4  2020 2/4  2020 3/4  2020 4/4  2021 1/4\n",
       "0   소계       4.0       4.2       5.7       7.5       6.5\n",
       "1   소계       1.9       3.3       8.4      10.5       8.5\n",
       "2  광화문       0.0       4.3       4.3       4.3       4.2\n",
       "3  남대문       5.3       5.3       5.3       9.9       8.1\n",
       "4  동대문       2.5       2.5       2.5       2.5       2.5"
      ]
     },
     "execution_count": 7,
     "metadata": {},
     "output_type": "execute_result"
    }
   ],
   "source": [
    "ssg20_21.iloc[:,3:].head()"
   ]
  },
  {
   "cell_type": "code",
   "execution_count": 8,
   "metadata": {},
   "outputs": [],
   "source": [
    "ss = pd.merge(ssg17_19,ssg20_21.iloc[:,3:], on='도심',how ='left')\n",
    "ss = ss.dropna()\n",
    "ss.drop(['Unnamed: 0'],axis=1,inplace=True)\n",
    "ss = ss[ss['도심'] != '소계'].iloc[:,1:]"
   ]
  },
  {
   "cell_type": "code",
   "execution_count": 9,
   "metadata": {},
   "outputs": [],
   "source": [
    "ss = ss.set_index('도심')"
   ]
  },
  {
   "cell_type": "code",
   "execution_count": 10,
   "metadata": {},
   "outputs": [
    {
     "data": {
      "text/html": [
       "<div>\n",
       "<style scoped>\n",
       "    .dataframe tbody tr th:only-of-type {\n",
       "        vertical-align: middle;\n",
       "    }\n",
       "\n",
       "    .dataframe tbody tr th {\n",
       "        vertical-align: top;\n",
       "    }\n",
       "\n",
       "    .dataframe thead th {\n",
       "        text-align: right;\n",
       "    }\n",
       "</style>\n",
       "<table border=\"1\" class=\"dataframe\">\n",
       "  <thead>\n",
       "    <tr style=\"text-align: right;\">\n",
       "      <th></th>\n",
       "      <th>2017 1/4</th>\n",
       "      <th>2017 2/4</th>\n",
       "      <th>2017 3/4</th>\n",
       "      <th>2017 4/4</th>\n",
       "      <th>2018 1/4</th>\n",
       "      <th>2018 2/4</th>\n",
       "      <th>2018 3/4</th>\n",
       "      <th>2018 4/4</th>\n",
       "      <th>2019 1/4</th>\n",
       "      <th>2019 2/4</th>\n",
       "      <th>2019 3/4</th>\n",
       "      <th>2019 4/4</th>\n",
       "      <th>2020 1/4</th>\n",
       "      <th>2020 2/4</th>\n",
       "      <th>2020 3/4</th>\n",
       "      <th>2020 4/4</th>\n",
       "      <th>2021 1/4</th>\n",
       "    </tr>\n",
       "    <tr>\n",
       "      <th>도심</th>\n",
       "      <th></th>\n",
       "      <th></th>\n",
       "      <th></th>\n",
       "      <th></th>\n",
       "      <th></th>\n",
       "      <th></th>\n",
       "      <th></th>\n",
       "      <th></th>\n",
       "      <th></th>\n",
       "      <th></th>\n",
       "      <th></th>\n",
       "      <th></th>\n",
       "      <th></th>\n",
       "      <th></th>\n",
       "      <th></th>\n",
       "      <th></th>\n",
       "      <th></th>\n",
       "    </tr>\n",
       "  </thead>\n",
       "  <tbody>\n",
       "    <tr>\n",
       "      <th>광화문</th>\n",
       "      <td>2.2</td>\n",
       "      <td>2.2</td>\n",
       "      <td>2.2</td>\n",
       "      <td>2.2</td>\n",
       "      <td>2.2</td>\n",
       "      <td>0.0</td>\n",
       "      <td>0.0</td>\n",
       "      <td>1.5</td>\n",
       "      <td>0.7</td>\n",
       "      <td>0.7</td>\n",
       "      <td>0.7</td>\n",
       "      <td>0.7</td>\n",
       "      <td>0.0</td>\n",
       "      <td>4.3</td>\n",
       "      <td>4.3</td>\n",
       "      <td>4.3</td>\n",
       "      <td>4.2</td>\n",
       "    </tr>\n",
       "    <tr>\n",
       "      <th>동대문</th>\n",
       "      <td>1.3</td>\n",
       "      <td>1.3</td>\n",
       "      <td>1.3</td>\n",
       "      <td>1.3</td>\n",
       "      <td>1.3</td>\n",
       "      <td>1.3</td>\n",
       "      <td>1.3</td>\n",
       "      <td>1.3</td>\n",
       "      <td>6.2</td>\n",
       "      <td>6.2</td>\n",
       "      <td>11.3</td>\n",
       "      <td>13.3</td>\n",
       "      <td>2.5</td>\n",
       "      <td>2.5</td>\n",
       "      <td>2.5</td>\n",
       "      <td>2.5</td>\n",
       "      <td>2.5</td>\n",
       "    </tr>\n",
       "    <tr>\n",
       "      <th>명동</th>\n",
       "      <td>0.0</td>\n",
       "      <td>0.0</td>\n",
       "      <td>0.0</td>\n",
       "      <td>0.0</td>\n",
       "      <td>0.0</td>\n",
       "      <td>0.0</td>\n",
       "      <td>0.0</td>\n",
       "      <td>0.0</td>\n",
       "      <td>0.0</td>\n",
       "      <td>3.5</td>\n",
       "      <td>3.5</td>\n",
       "      <td>4.6</td>\n",
       "      <td>0.0</td>\n",
       "      <td>0.0</td>\n",
       "      <td>28.5</td>\n",
       "      <td>41.2</td>\n",
       "      <td>38.3</td>\n",
       "    </tr>\n",
       "    <tr>\n",
       "      <th>종로</th>\n",
       "      <td>4.5</td>\n",
       "      <td>4.5</td>\n",
       "      <td>4.5</td>\n",
       "      <td>10.2</td>\n",
       "      <td>3.8</td>\n",
       "      <td>4.2</td>\n",
       "      <td>4.2</td>\n",
       "      <td>9.1</td>\n",
       "      <td>2.1</td>\n",
       "      <td>2.1</td>\n",
       "      <td>2.1</td>\n",
       "      <td>6.6</td>\n",
       "      <td>1.5</td>\n",
       "      <td>2.9</td>\n",
       "      <td>10.2</td>\n",
       "      <td>12.8</td>\n",
       "      <td>6.6</td>\n",
       "    </tr>\n",
       "    <tr>\n",
       "      <th>충무로</th>\n",
       "      <td>2.1</td>\n",
       "      <td>2.8</td>\n",
       "      <td>2.8</td>\n",
       "      <td>4.2</td>\n",
       "      <td>2.2</td>\n",
       "      <td>1.5</td>\n",
       "      <td>0.0</td>\n",
       "      <td>0.0</td>\n",
       "      <td>6.1</td>\n",
       "      <td>6.1</td>\n",
       "      <td>6.1</td>\n",
       "      <td>6.1</td>\n",
       "      <td>2.1</td>\n",
       "      <td>5.3</td>\n",
       "      <td>10.9</td>\n",
       "      <td>10.9</td>\n",
       "      <td>10.4</td>\n",
       "    </tr>\n",
       "  </tbody>\n",
       "</table>\n",
       "</div>"
      ],
      "text/plain": [
       "     2017 1/4  2017 2/4  2017 3/4  2017 4/4  2018 1/4  2018 2/4  2018 3/4  \\\n",
       "도심                                                                          \n",
       "광화문       2.2       2.2       2.2       2.2       2.2       0.0       0.0   \n",
       "동대문       1.3       1.3       1.3       1.3       1.3       1.3       1.3   \n",
       "명동        0.0       0.0       0.0       0.0       0.0       0.0       0.0   \n",
       "종로        4.5       4.5       4.5      10.2       3.8       4.2       4.2   \n",
       "충무로       2.1       2.8       2.8       4.2       2.2       1.5       0.0   \n",
       "\n",
       "     2018 4/4  2019 1/4  2019 2/4  2019 3/4  2019 4/4  2020 1/4  2020 2/4  \\\n",
       "도심                                                                          \n",
       "광화문       1.5       0.7       0.7       0.7       0.7       0.0       4.3   \n",
       "동대문       1.3       6.2       6.2      11.3      13.3       2.5       2.5   \n",
       "명동        0.0       0.0       3.5       3.5       4.6       0.0       0.0   \n",
       "종로        9.1       2.1       2.1       2.1       6.6       1.5       2.9   \n",
       "충무로       0.0       6.1       6.1       6.1       6.1       2.1       5.3   \n",
       "\n",
       "     2020 3/4  2020 4/4  2021 1/4  \n",
       "도심                                 \n",
       "광화문       4.3       4.3       4.2  \n",
       "동대문       2.5       2.5       2.5  \n",
       "명동       28.5      41.2      38.3  \n",
       "종로       10.2      12.8       6.6  \n",
       "충무로      10.9      10.9      10.4  "
      ]
     },
     "execution_count": 10,
     "metadata": {},
     "output_type": "execute_result"
    }
   ],
   "source": [
    "ss.head()"
   ]
  },
  {
   "cell_type": "code",
   "execution_count": 11,
   "metadata": {
    "tags": []
   },
   "outputs": [],
   "source": [
    "ss = ss.transpose()"
   ]
  },
  {
   "cell_type": "code",
   "execution_count": 12,
   "metadata": {},
   "outputs": [
    {
     "data": {
      "text/html": [
       "<div>\n",
       "<style scoped>\n",
       "    .dataframe tbody tr th:only-of-type {\n",
       "        vertical-align: middle;\n",
       "    }\n",
       "\n",
       "    .dataframe tbody tr th {\n",
       "        vertical-align: top;\n",
       "    }\n",
       "\n",
       "    .dataframe thead th {\n",
       "        text-align: right;\n",
       "    }\n",
       "</style>\n",
       "<table border=\"1\" class=\"dataframe\">\n",
       "  <thead>\n",
       "    <tr style=\"text-align: right;\">\n",
       "      <th>도심</th>\n",
       "      <th>광화문</th>\n",
       "      <th>동대문</th>\n",
       "      <th>명동</th>\n",
       "      <th>종로</th>\n",
       "      <th>충무로</th>\n",
       "      <th>강남대로</th>\n",
       "      <th>논현역</th>\n",
       "      <th>도산대로</th>\n",
       "      <th>신사역</th>\n",
       "      <th>압구정</th>\n",
       "      <th>...</th>\n",
       "      <th>오류동역</th>\n",
       "      <th>왕십리</th>\n",
       "      <th>용산역</th>\n",
       "      <th>이태원</th>\n",
       "      <th>잠실/송파</th>\n",
       "      <th>장안동</th>\n",
       "      <th>천호</th>\n",
       "      <th>청량리</th>\n",
       "      <th>혜화동</th>\n",
       "      <th>화곡</th>\n",
       "    </tr>\n",
       "  </thead>\n",
       "  <tbody>\n",
       "    <tr>\n",
       "      <th>2017 1/4</th>\n",
       "      <td>2.2</td>\n",
       "      <td>1.3</td>\n",
       "      <td>0.0</td>\n",
       "      <td>4.5</td>\n",
       "      <td>2.1</td>\n",
       "      <td>0.0</td>\n",
       "      <td>9.2</td>\n",
       "      <td>0.0</td>\n",
       "      <td>0.0</td>\n",
       "      <td>5.6</td>\n",
       "      <td>...</td>\n",
       "      <td>0.0</td>\n",
       "      <td>6.2</td>\n",
       "      <td>5.3</td>\n",
       "      <td>0.0</td>\n",
       "      <td>1.6</td>\n",
       "      <td>0.0</td>\n",
       "      <td>11.1</td>\n",
       "      <td>3.1</td>\n",
       "      <td>0.0</td>\n",
       "      <td>2.3</td>\n",
       "    </tr>\n",
       "    <tr>\n",
       "      <th>2017 2/4</th>\n",
       "      <td>2.2</td>\n",
       "      <td>1.3</td>\n",
       "      <td>0.0</td>\n",
       "      <td>4.5</td>\n",
       "      <td>2.8</td>\n",
       "      <td>0.0</td>\n",
       "      <td>9.2</td>\n",
       "      <td>0.0</td>\n",
       "      <td>0.0</td>\n",
       "      <td>0.0</td>\n",
       "      <td>...</td>\n",
       "      <td>0.0</td>\n",
       "      <td>6.2</td>\n",
       "      <td>5.3</td>\n",
       "      <td>0.0</td>\n",
       "      <td>1.6</td>\n",
       "      <td>0.0</td>\n",
       "      <td>11.1</td>\n",
       "      <td>3.1</td>\n",
       "      <td>0.0</td>\n",
       "      <td>2.3</td>\n",
       "    </tr>\n",
       "    <tr>\n",
       "      <th>2017 3/4</th>\n",
       "      <td>2.2</td>\n",
       "      <td>1.3</td>\n",
       "      <td>0.0</td>\n",
       "      <td>4.5</td>\n",
       "      <td>2.8</td>\n",
       "      <td>0.0</td>\n",
       "      <td>9.2</td>\n",
       "      <td>0.0</td>\n",
       "      <td>0.0</td>\n",
       "      <td>0.0</td>\n",
       "      <td>...</td>\n",
       "      <td>0.0</td>\n",
       "      <td>6.2</td>\n",
       "      <td>5.3</td>\n",
       "      <td>0.0</td>\n",
       "      <td>1.6</td>\n",
       "      <td>0.0</td>\n",
       "      <td>3.8</td>\n",
       "      <td>1.9</td>\n",
       "      <td>0.0</td>\n",
       "      <td>2.3</td>\n",
       "    </tr>\n",
       "    <tr>\n",
       "      <th>2017 4/4</th>\n",
       "      <td>2.2</td>\n",
       "      <td>1.3</td>\n",
       "      <td>0.0</td>\n",
       "      <td>10.2</td>\n",
       "      <td>4.2</td>\n",
       "      <td>0.0</td>\n",
       "      <td>9.2</td>\n",
       "      <td>0.0</td>\n",
       "      <td>0.0</td>\n",
       "      <td>6.8</td>\n",
       "      <td>...</td>\n",
       "      <td>0.0</td>\n",
       "      <td>6.2</td>\n",
       "      <td>5.3</td>\n",
       "      <td>0.0</td>\n",
       "      <td>3.5</td>\n",
       "      <td>0.0</td>\n",
       "      <td>3.8</td>\n",
       "      <td>1.9</td>\n",
       "      <td>0.0</td>\n",
       "      <td>2.3</td>\n",
       "    </tr>\n",
       "    <tr>\n",
       "      <th>2018 1/4</th>\n",
       "      <td>2.2</td>\n",
       "      <td>1.3</td>\n",
       "      <td>0.0</td>\n",
       "      <td>3.8</td>\n",
       "      <td>2.2</td>\n",
       "      <td>0.0</td>\n",
       "      <td>9.2</td>\n",
       "      <td>0.0</td>\n",
       "      <td>16.5</td>\n",
       "      <td>6.8</td>\n",
       "      <td>...</td>\n",
       "      <td>0.0</td>\n",
       "      <td>0.0</td>\n",
       "      <td>3.0</td>\n",
       "      <td>0.0</td>\n",
       "      <td>3.5</td>\n",
       "      <td>0.0</td>\n",
       "      <td>3.8</td>\n",
       "      <td>3.3</td>\n",
       "      <td>0.0</td>\n",
       "      <td>2.3</td>\n",
       "    </tr>\n",
       "  </tbody>\n",
       "</table>\n",
       "<p>5 rows × 36 columns</p>\n",
       "</div>"
      ],
      "text/plain": [
       "도심        광화문  동대문   명동    종로  충무로  강남대로  논현역  도산대로   신사역  압구정  ...  오류동역  \\\n",
       "2017 1/4  2.2  1.3  0.0   4.5  2.1   0.0  9.2   0.0   0.0  5.6  ...   0.0   \n",
       "2017 2/4  2.2  1.3  0.0   4.5  2.8   0.0  9.2   0.0   0.0  0.0  ...   0.0   \n",
       "2017 3/4  2.2  1.3  0.0   4.5  2.8   0.0  9.2   0.0   0.0  0.0  ...   0.0   \n",
       "2017 4/4  2.2  1.3  0.0  10.2  4.2   0.0  9.2   0.0   0.0  6.8  ...   0.0   \n",
       "2018 1/4  2.2  1.3  0.0   3.8  2.2   0.0  9.2   0.0  16.5  6.8  ...   0.0   \n",
       "\n",
       "도심        왕십리  용산역  이태원  잠실/송파  장안동    천호  청량리  혜화동   화곡  \n",
       "2017 1/4  6.2  5.3  0.0    1.6  0.0  11.1  3.1  0.0  2.3  \n",
       "2017 2/4  6.2  5.3  0.0    1.6  0.0  11.1  3.1  0.0  2.3  \n",
       "2017 3/4  6.2  5.3  0.0    1.6  0.0   3.8  1.9  0.0  2.3  \n",
       "2017 4/4  6.2  5.3  0.0    3.5  0.0   3.8  1.9  0.0  2.3  \n",
       "2018 1/4  0.0  3.0  0.0    3.5  0.0   3.8  3.3  0.0  2.3  \n",
       "\n",
       "[5 rows x 36 columns]"
      ]
     },
     "execution_count": 12,
     "metadata": {},
     "output_type": "execute_result"
    }
   ],
   "source": [
    "ss.head()"
   ]
  },
  {
   "cell_type": "code",
   "execution_count": 13,
   "metadata": {},
   "outputs": [],
   "source": [
    "ss.reset_index(inplace = True)"
   ]
  },
  {
   "cell_type": "code",
   "execution_count": 14,
   "metadata": {},
   "outputs": [],
   "source": [
    "ss.rename(columns={'index':'분기별'},inplace=True)"
   ]
  },
  {
   "cell_type": "code",
   "execution_count": 15,
   "metadata": {},
   "outputs": [
    {
     "data": {
      "text/html": [
       "<div>\n",
       "<style scoped>\n",
       "    .dataframe tbody tr th:only-of-type {\n",
       "        vertical-align: middle;\n",
       "    }\n",
       "\n",
       "    .dataframe tbody tr th {\n",
       "        vertical-align: top;\n",
       "    }\n",
       "\n",
       "    .dataframe thead th {\n",
       "        text-align: right;\n",
       "    }\n",
       "</style>\n",
       "<table border=\"1\" class=\"dataframe\">\n",
       "  <thead>\n",
       "    <tr style=\"text-align: right;\">\n",
       "      <th>도심</th>\n",
       "      <th>분기별</th>\n",
       "      <th>광화문</th>\n",
       "      <th>동대문</th>\n",
       "      <th>명동</th>\n",
       "      <th>종로</th>\n",
       "      <th>충무로</th>\n",
       "      <th>강남대로</th>\n",
       "      <th>논현역</th>\n",
       "      <th>도산대로</th>\n",
       "      <th>신사역</th>\n",
       "      <th>...</th>\n",
       "      <th>오류동역</th>\n",
       "      <th>왕십리</th>\n",
       "      <th>용산역</th>\n",
       "      <th>이태원</th>\n",
       "      <th>잠실/송파</th>\n",
       "      <th>장안동</th>\n",
       "      <th>천호</th>\n",
       "      <th>청량리</th>\n",
       "      <th>혜화동</th>\n",
       "      <th>화곡</th>\n",
       "    </tr>\n",
       "  </thead>\n",
       "  <tbody>\n",
       "    <tr>\n",
       "      <th>0</th>\n",
       "      <td>2017 1/4</td>\n",
       "      <td>2.2</td>\n",
       "      <td>1.3</td>\n",
       "      <td>0.0</td>\n",
       "      <td>4.5</td>\n",
       "      <td>2.1</td>\n",
       "      <td>0.0</td>\n",
       "      <td>9.2</td>\n",
       "      <td>0.0</td>\n",
       "      <td>0.0</td>\n",
       "      <td>...</td>\n",
       "      <td>0.0</td>\n",
       "      <td>6.2</td>\n",
       "      <td>5.3</td>\n",
       "      <td>0.0</td>\n",
       "      <td>1.6</td>\n",
       "      <td>0.0</td>\n",
       "      <td>11.1</td>\n",
       "      <td>3.1</td>\n",
       "      <td>0.0</td>\n",
       "      <td>2.3</td>\n",
       "    </tr>\n",
       "    <tr>\n",
       "      <th>1</th>\n",
       "      <td>2017 2/4</td>\n",
       "      <td>2.2</td>\n",
       "      <td>1.3</td>\n",
       "      <td>0.0</td>\n",
       "      <td>4.5</td>\n",
       "      <td>2.8</td>\n",
       "      <td>0.0</td>\n",
       "      <td>9.2</td>\n",
       "      <td>0.0</td>\n",
       "      <td>0.0</td>\n",
       "      <td>...</td>\n",
       "      <td>0.0</td>\n",
       "      <td>6.2</td>\n",
       "      <td>5.3</td>\n",
       "      <td>0.0</td>\n",
       "      <td>1.6</td>\n",
       "      <td>0.0</td>\n",
       "      <td>11.1</td>\n",
       "      <td>3.1</td>\n",
       "      <td>0.0</td>\n",
       "      <td>2.3</td>\n",
       "    </tr>\n",
       "    <tr>\n",
       "      <th>2</th>\n",
       "      <td>2017 3/4</td>\n",
       "      <td>2.2</td>\n",
       "      <td>1.3</td>\n",
       "      <td>0.0</td>\n",
       "      <td>4.5</td>\n",
       "      <td>2.8</td>\n",
       "      <td>0.0</td>\n",
       "      <td>9.2</td>\n",
       "      <td>0.0</td>\n",
       "      <td>0.0</td>\n",
       "      <td>...</td>\n",
       "      <td>0.0</td>\n",
       "      <td>6.2</td>\n",
       "      <td>5.3</td>\n",
       "      <td>0.0</td>\n",
       "      <td>1.6</td>\n",
       "      <td>0.0</td>\n",
       "      <td>3.8</td>\n",
       "      <td>1.9</td>\n",
       "      <td>0.0</td>\n",
       "      <td>2.3</td>\n",
       "    </tr>\n",
       "    <tr>\n",
       "      <th>3</th>\n",
       "      <td>2017 4/4</td>\n",
       "      <td>2.2</td>\n",
       "      <td>1.3</td>\n",
       "      <td>0.0</td>\n",
       "      <td>10.2</td>\n",
       "      <td>4.2</td>\n",
       "      <td>0.0</td>\n",
       "      <td>9.2</td>\n",
       "      <td>0.0</td>\n",
       "      <td>0.0</td>\n",
       "      <td>...</td>\n",
       "      <td>0.0</td>\n",
       "      <td>6.2</td>\n",
       "      <td>5.3</td>\n",
       "      <td>0.0</td>\n",
       "      <td>3.5</td>\n",
       "      <td>0.0</td>\n",
       "      <td>3.8</td>\n",
       "      <td>1.9</td>\n",
       "      <td>0.0</td>\n",
       "      <td>2.3</td>\n",
       "    </tr>\n",
       "    <tr>\n",
       "      <th>4</th>\n",
       "      <td>2018 1/4</td>\n",
       "      <td>2.2</td>\n",
       "      <td>1.3</td>\n",
       "      <td>0.0</td>\n",
       "      <td>3.8</td>\n",
       "      <td>2.2</td>\n",
       "      <td>0.0</td>\n",
       "      <td>9.2</td>\n",
       "      <td>0.0</td>\n",
       "      <td>16.5</td>\n",
       "      <td>...</td>\n",
       "      <td>0.0</td>\n",
       "      <td>0.0</td>\n",
       "      <td>3.0</td>\n",
       "      <td>0.0</td>\n",
       "      <td>3.5</td>\n",
       "      <td>0.0</td>\n",
       "      <td>3.8</td>\n",
       "      <td>3.3</td>\n",
       "      <td>0.0</td>\n",
       "      <td>2.3</td>\n",
       "    </tr>\n",
       "  </tbody>\n",
       "</table>\n",
       "<p>5 rows × 37 columns</p>\n",
       "</div>"
      ],
      "text/plain": [
       "도심       분기별  광화문  동대문   명동    종로  충무로  강남대로  논현역  도산대로   신사역  ...  오류동역  왕십리  \\\n",
       "0   2017 1/4  2.2  1.3  0.0   4.5  2.1   0.0  9.2   0.0   0.0  ...   0.0  6.2   \n",
       "1   2017 2/4  2.2  1.3  0.0   4.5  2.8   0.0  9.2   0.0   0.0  ...   0.0  6.2   \n",
       "2   2017 3/4  2.2  1.3  0.0   4.5  2.8   0.0  9.2   0.0   0.0  ...   0.0  6.2   \n",
       "3   2017 4/4  2.2  1.3  0.0  10.2  4.2   0.0  9.2   0.0   0.0  ...   0.0  6.2   \n",
       "4   2018 1/4  2.2  1.3  0.0   3.8  2.2   0.0  9.2   0.0  16.5  ...   0.0  0.0   \n",
       "\n",
       "도심  용산역  이태원  잠실/송파  장안동    천호  청량리  혜화동   화곡  \n",
       "0   5.3  0.0    1.6  0.0  11.1  3.1  0.0  2.3  \n",
       "1   5.3  0.0    1.6  0.0  11.1  3.1  0.0  2.3  \n",
       "2   5.3  0.0    1.6  0.0   3.8  1.9  0.0  2.3  \n",
       "3   5.3  0.0    3.5  0.0   3.8  1.9  0.0  2.3  \n",
       "4   3.0  0.0    3.5  0.0   3.8  3.3  0.0  2.3  \n",
       "\n",
       "[5 rows x 37 columns]"
      ]
     },
     "execution_count": 15,
     "metadata": {},
     "output_type": "execute_result"
    }
   ],
   "source": [
    "ss.head()"
   ]
  },
  {
   "cell_type": "code",
   "execution_count": 16,
   "metadata": {},
   "outputs": [],
   "source": [
    "import matplotlib.pyplot as plt\n",
    "import plotly.io as pio\n",
    "import plotly.express as px\n",
    "import plotly.graph_objects as go\n",
    "import plotly.figure_factory as ff\n",
    "from plotly.subplots import make_subplots\n",
    "from plotly.validators.scatter.marker import SymbolValidator"
   ]
  },
  {
   "cell_type": "code",
   "execution_count": 17,
   "metadata": {},
   "outputs": [
    {
     "data": {
      "application/vnd.plotly.v1+json": {
       "config": {
        "plotlyServerURL": "https://plot.ly"
       },
       "data": [
        {
         "hovertemplate": "도심=광화문<br>분기별=%{x}<br>value=%{y}<extra></extra>",
         "legendgroup": "광화문",
         "line": {
          "color": "#636efa",
          "dash": "solid"
         },
         "mode": "lines",
         "name": "광화문",
         "orientation": "v",
         "showlegend": true,
         "type": "scatter",
         "x": [
          "2017 1/4",
          "2017 2/4",
          "2017 3/4",
          "2017 4/4",
          "2018 1/4",
          "2018 2/4",
          "2018 3/4",
          "2018 4/4",
          "2019 1/4",
          "2019 2/4",
          "2019 3/4",
          "2019 4/4",
          "2020 1/4",
          "2020 2/4",
          "2020 3/4",
          "2020 4/4",
          "2021 1/4"
         ],
         "xaxis": "x",
         "y": [
          2.2,
          2.2,
          2.2,
          2.2,
          2.2,
          0,
          0,
          1.5,
          0.7,
          0.7,
          0.7,
          0.7,
          0,
          4.3,
          4.3,
          4.3,
          4.2
         ],
         "yaxis": "y"
        },
        {
         "hovertemplate": "도심=동대문<br>분기별=%{x}<br>value=%{y}<extra></extra>",
         "legendgroup": "동대문",
         "line": {
          "color": "#EF553B",
          "dash": "solid"
         },
         "mode": "lines",
         "name": "동대문",
         "orientation": "v",
         "showlegend": true,
         "type": "scatter",
         "x": [
          "2017 1/4",
          "2017 2/4",
          "2017 3/4",
          "2017 4/4",
          "2018 1/4",
          "2018 2/4",
          "2018 3/4",
          "2018 4/4",
          "2019 1/4",
          "2019 2/4",
          "2019 3/4",
          "2019 4/4",
          "2020 1/4",
          "2020 2/4",
          "2020 3/4",
          "2020 4/4",
          "2021 1/4"
         ],
         "xaxis": "x",
         "y": [
          1.3,
          1.3,
          1.3,
          1.3,
          1.3,
          1.3,
          1.3,
          1.3,
          6.2,
          6.2,
          11.3,
          13.3,
          2.5,
          2.5,
          2.5,
          2.5,
          2.5
         ],
         "yaxis": "y"
        },
        {
         "hovertemplate": "도심=명동<br>분기별=%{x}<br>value=%{y}<extra></extra>",
         "legendgroup": "명동",
         "line": {
          "color": "#00cc96",
          "dash": "solid"
         },
         "mode": "lines",
         "name": "명동",
         "orientation": "v",
         "showlegend": true,
         "type": "scatter",
         "x": [
          "2017 1/4",
          "2017 2/4",
          "2017 3/4",
          "2017 4/4",
          "2018 1/4",
          "2018 2/4",
          "2018 3/4",
          "2018 4/4",
          "2019 1/4",
          "2019 2/4",
          "2019 3/4",
          "2019 4/4",
          "2020 1/4",
          "2020 2/4",
          "2020 3/4",
          "2020 4/4",
          "2021 1/4"
         ],
         "xaxis": "x",
         "y": [
          0,
          0,
          0,
          0,
          0,
          0,
          0,
          0,
          0,
          3.5,
          3.5,
          4.6,
          0,
          0,
          28.5,
          41.2,
          38.3
         ],
         "yaxis": "y"
        },
        {
         "hovertemplate": "도심=종로<br>분기별=%{x}<br>value=%{y}<extra></extra>",
         "legendgroup": "종로",
         "line": {
          "color": "#ab63fa",
          "dash": "solid"
         },
         "mode": "lines",
         "name": "종로",
         "orientation": "v",
         "showlegend": true,
         "type": "scatter",
         "x": [
          "2017 1/4",
          "2017 2/4",
          "2017 3/4",
          "2017 4/4",
          "2018 1/4",
          "2018 2/4",
          "2018 3/4",
          "2018 4/4",
          "2019 1/4",
          "2019 2/4",
          "2019 3/4",
          "2019 4/4",
          "2020 1/4",
          "2020 2/4",
          "2020 3/4",
          "2020 4/4",
          "2021 1/4"
         ],
         "xaxis": "x",
         "y": [
          4.5,
          4.5,
          4.5,
          10.2,
          3.8,
          4.2,
          4.2,
          9.1,
          2.1,
          2.1,
          2.1,
          6.6,
          1.5,
          2.9,
          10.2,
          12.8,
          6.6
         ],
         "yaxis": "y"
        },
        {
         "hovertemplate": "도심=충무로<br>분기별=%{x}<br>value=%{y}<extra></extra>",
         "legendgroup": "충무로",
         "line": {
          "color": "#FFA15A",
          "dash": "solid"
         },
         "mode": "lines",
         "name": "충무로",
         "orientation": "v",
         "showlegend": true,
         "type": "scatter",
         "x": [
          "2017 1/4",
          "2017 2/4",
          "2017 3/4",
          "2017 4/4",
          "2018 1/4",
          "2018 2/4",
          "2018 3/4",
          "2018 4/4",
          "2019 1/4",
          "2019 2/4",
          "2019 3/4",
          "2019 4/4",
          "2020 1/4",
          "2020 2/4",
          "2020 3/4",
          "2020 4/4",
          "2021 1/4"
         ],
         "xaxis": "x",
         "y": [
          2.1,
          2.8,
          2.8,
          4.2,
          2.2,
          1.5,
          0,
          0,
          6.1,
          6.1,
          6.1,
          6.1,
          2.1,
          5.3,
          10.9,
          10.9,
          10.4
         ],
         "yaxis": "y"
        },
        {
         "hovertemplate": "도심=강남대로<br>분기별=%{x}<br>value=%{y}<extra></extra>",
         "legendgroup": "강남대로",
         "line": {
          "color": "#19d3f3",
          "dash": "solid"
         },
         "mode": "lines",
         "name": "강남대로",
         "orientation": "v",
         "showlegend": true,
         "type": "scatter",
         "x": [
          "2017 1/4",
          "2017 2/4",
          "2017 3/4",
          "2017 4/4",
          "2018 1/4",
          "2018 2/4",
          "2018 3/4",
          "2018 4/4",
          "2019 1/4",
          "2019 2/4",
          "2019 3/4",
          "2019 4/4",
          "2020 1/4",
          "2020 2/4",
          "2020 3/4",
          "2020 4/4",
          "2021 1/4"
         ],
         "xaxis": "x",
         "y": [
          0,
          0,
          0,
          0,
          0,
          0,
          0,
          0,
          0.8,
          0.8,
          1.3,
          0.8,
          2,
          2,
          2,
          2,
          2
         ],
         "yaxis": "y"
        },
        {
         "hovertemplate": "도심=논현역<br>분기별=%{x}<br>value=%{y}<extra></extra>",
         "legendgroup": "논현역",
         "line": {
          "color": "#FF6692",
          "dash": "solid"
         },
         "mode": "lines",
         "name": "논현역",
         "orientation": "v",
         "showlegend": true,
         "type": "scatter",
         "x": [
          "2017 1/4",
          "2017 2/4",
          "2017 3/4",
          "2017 4/4",
          "2018 1/4",
          "2018 2/4",
          "2018 3/4",
          "2018 4/4",
          "2019 1/4",
          "2019 2/4",
          "2019 3/4",
          "2019 4/4",
          "2020 1/4",
          "2020 2/4",
          "2020 3/4",
          "2020 4/4",
          "2021 1/4"
         ],
         "xaxis": "x",
         "y": [
          9.2,
          9.2,
          9.2,
          9.2,
          9.2,
          9.2,
          9.2,
          9.2,
          4.5,
          4.5,
          2.1,
          3.1,
          8.4,
          8.4,
          8.4,
          8.4,
          7.3
         ],
         "yaxis": "y"
        },
        {
         "hovertemplate": "도심=도산대로<br>분기별=%{x}<br>value=%{y}<extra></extra>",
         "legendgroup": "도산대로",
         "line": {
          "color": "#B6E880",
          "dash": "solid"
         },
         "mode": "lines",
         "name": "도산대로",
         "orientation": "v",
         "showlegend": true,
         "type": "scatter",
         "x": [
          "2017 1/4",
          "2017 2/4",
          "2017 3/4",
          "2017 4/4",
          "2018 1/4",
          "2018 2/4",
          "2018 3/4",
          "2018 4/4",
          "2019 1/4",
          "2019 2/4",
          "2019 3/4",
          "2019 4/4",
          "2020 1/4",
          "2020 2/4",
          "2020 3/4",
          "2020 4/4",
          "2021 1/4"
         ],
         "xaxis": "x",
         "y": [
          0,
          0,
          0,
          0,
          0,
          0,
          0,
          0,
          2.1,
          2.1,
          2.1,
          2.1,
          0,
          0,
          0,
          0,
          14.7
         ],
         "yaxis": "y"
        },
        {
         "hovertemplate": "도심=신사역<br>분기별=%{x}<br>value=%{y}<extra></extra>",
         "legendgroup": "신사역",
         "line": {
          "color": "#FF97FF",
          "dash": "solid"
         },
         "mode": "lines",
         "name": "신사역",
         "orientation": "v",
         "showlegend": true,
         "type": "scatter",
         "x": [
          "2017 1/4",
          "2017 2/4",
          "2017 3/4",
          "2017 4/4",
          "2018 1/4",
          "2018 2/4",
          "2018 3/4",
          "2018 4/4",
          "2019 1/4",
          "2019 2/4",
          "2019 3/4",
          "2019 4/4",
          "2020 1/4",
          "2020 2/4",
          "2020 3/4",
          "2020 4/4",
          "2021 1/4"
         ],
         "xaxis": "x",
         "y": [
          0,
          0,
          0,
          0,
          16.5,
          0,
          0,
          0,
          0,
          0,
          0,
          0,
          0,
          0,
          0,
          0,
          3.4
         ],
         "yaxis": "y"
        },
        {
         "hovertemplate": "도심=압구정<br>분기별=%{x}<br>value=%{y}<extra></extra>",
         "legendgroup": "압구정",
         "line": {
          "color": "#FECB52",
          "dash": "solid"
         },
         "mode": "lines",
         "name": "압구정",
         "orientation": "v",
         "showlegend": true,
         "type": "scatter",
         "x": [
          "2017 1/4",
          "2017 2/4",
          "2017 3/4",
          "2017 4/4",
          "2018 1/4",
          "2018 2/4",
          "2018 3/4",
          "2018 4/4",
          "2019 1/4",
          "2019 2/4",
          "2019 3/4",
          "2019 4/4",
          "2020 1/4",
          "2020 2/4",
          "2020 3/4",
          "2020 4/4",
          "2021 1/4"
         ],
         "xaxis": "x",
         "y": [
          5.6,
          0,
          0,
          6.8,
          6.8,
          6.8,
          6.8,
          6.8,
          0,
          0,
          0,
          0,
          6,
          0,
          0,
          0,
          0
         ],
         "yaxis": "y"
        },
        {
         "hovertemplate": "도심=청담<br>분기별=%{x}<br>value=%{y}<extra></extra>",
         "legendgroup": "청담",
         "line": {
          "color": "#636efa",
          "dash": "solid"
         },
         "mode": "lines",
         "name": "청담",
         "orientation": "v",
         "showlegend": true,
         "type": "scatter",
         "x": [
          "2017 1/4",
          "2017 2/4",
          "2017 3/4",
          "2017 4/4",
          "2018 1/4",
          "2018 2/4",
          "2018 3/4",
          "2018 4/4",
          "2019 1/4",
          "2019 2/4",
          "2019 3/4",
          "2019 4/4",
          "2020 1/4",
          "2020 2/4",
          "2020 3/4",
          "2020 4/4",
          "2021 1/4"
         ],
         "xaxis": "x",
         "y": [
          0,
          0,
          0,
          0,
          4.3,
          0,
          0,
          0,
          18.2,
          18.2,
          0,
          0,
          0,
          0,
          0,
          0,
          0
         ],
         "yaxis": "y"
        },
        {
         "hovertemplate": "도심=테헤란로<br>분기별=%{x}<br>value=%{y}<extra></extra>",
         "legendgroup": "테헤란로",
         "line": {
          "color": "#EF553B",
          "dash": "solid"
         },
         "mode": "lines",
         "name": "테헤란로",
         "orientation": "v",
         "showlegend": true,
         "type": "scatter",
         "x": [
          "2017 1/4",
          "2017 2/4",
          "2017 3/4",
          "2017 4/4",
          "2018 1/4",
          "2018 2/4",
          "2018 3/4",
          "2018 4/4",
          "2019 1/4",
          "2019 2/4",
          "2019 3/4",
          "2019 4/4",
          "2020 1/4",
          "2020 2/4",
          "2020 3/4",
          "2020 4/4",
          "2021 1/4"
         ],
         "xaxis": "x",
         "y": [
          10.4,
          1.8,
          1.8,
          1.8,
          1.8,
          1.8,
          1.8,
          1.8,
          6.7,
          6.4,
          6.4,
          14.5,
          1.4,
          9.2,
          9.2,
          9.2,
          5.3
         ],
         "yaxis": "y"
        },
        {
         "hovertemplate": "도심=공덕역<br>분기별=%{x}<br>value=%{y}<extra></extra>",
         "legendgroup": "공덕역",
         "line": {
          "color": "#00cc96",
          "dash": "solid"
         },
         "mode": "lines",
         "name": "공덕역",
         "orientation": "v",
         "showlegend": true,
         "type": "scatter",
         "x": [
          "2017 1/4",
          "2017 2/4",
          "2017 3/4",
          "2017 4/4",
          "2018 1/4",
          "2018 2/4",
          "2018 3/4",
          "2018 4/4",
          "2019 1/4",
          "2019 2/4",
          "2019 3/4",
          "2019 4/4",
          "2020 1/4",
          "2020 2/4",
          "2020 3/4",
          "2020 4/4",
          "2021 1/4"
         ],
         "xaxis": "x",
         "y": [
          0,
          0,
          0,
          0,
          0,
          12.8,
          0,
          0,
          1.8,
          1.8,
          1.8,
          1.8,
          0,
          0,
          0,
          0,
          0
         ],
         "yaxis": "y"
        },
        {
         "hovertemplate": "도심=신촌/이대<br>분기별=%{x}<br>value=%{y}<extra></extra>",
         "legendgroup": "신촌/이대",
         "line": {
          "color": "#ab63fa",
          "dash": "solid"
         },
         "mode": "lines",
         "name": "신촌/이대",
         "orientation": "v",
         "showlegend": true,
         "type": "scatter",
         "x": [
          "2017 1/4",
          "2017 2/4",
          "2017 3/4",
          "2017 4/4",
          "2018 1/4",
          "2018 2/4",
          "2018 3/4",
          "2018 4/4",
          "2019 1/4",
          "2019 2/4",
          "2019 3/4",
          "2019 4/4",
          "2020 1/4",
          "2020 2/4",
          "2020 3/4",
          "2020 4/4",
          "2021 1/4"
         ],
         "xaxis": "x",
         "y": [
          0,
          0,
          0,
          0,
          6.9,
          6.9,
          11.4,
          4.6,
          3.1,
          1.3,
          3.3,
          2.9,
          4.9,
          2.5,
          3.2,
          4.1,
          5.5
         ],
         "yaxis": "y"
        },
        {
         "hovertemplate": "도심=영등포역<br>분기별=%{x}<br>value=%{y}<extra></extra>",
         "legendgroup": "영등포역",
         "line": {
          "color": "#FFA15A",
          "dash": "solid"
         },
         "mode": "lines",
         "name": "영등포역",
         "orientation": "v",
         "showlegend": true,
         "type": "scatter",
         "x": [
          "2017 1/4",
          "2017 2/4",
          "2017 3/4",
          "2017 4/4",
          "2018 1/4",
          "2018 2/4",
          "2018 3/4",
          "2018 4/4",
          "2019 1/4",
          "2019 2/4",
          "2019 3/4",
          "2019 4/4",
          "2020 1/4",
          "2020 2/4",
          "2020 3/4",
          "2020 4/4",
          "2021 1/4"
         ],
         "xaxis": "x",
         "y": [
          1.9,
          1.9,
          1.9,
          1.9,
          1.9,
          0,
          0,
          0,
          0,
          0,
          0,
          0,
          7.5,
          9.9,
          9.2,
          19.2,
          2.2
         ],
         "yaxis": "y"
        },
        {
         "hovertemplate": "도심=홍대/합정<br>분기별=%{x}<br>value=%{y}<extra></extra>",
         "legendgroup": "홍대/합정",
         "line": {
          "color": "#19d3f3",
          "dash": "solid"
         },
         "mode": "lines",
         "name": "홍대/합정",
         "orientation": "v",
         "showlegend": true,
         "type": "scatter",
         "x": [
          "2017 1/4",
          "2017 2/4",
          "2017 3/4",
          "2017 4/4",
          "2018 1/4",
          "2018 2/4",
          "2018 3/4",
          "2018 4/4",
          "2019 1/4",
          "2019 2/4",
          "2019 3/4",
          "2019 4/4",
          "2020 1/4",
          "2020 2/4",
          "2020 3/4",
          "2020 4/4",
          "2021 1/4"
         ],
         "xaxis": "x",
         "y": [
          3.7,
          3.7,
          3.7,
          7.1,
          8.9,
          17.2,
          17.2,
          1.9,
          5.2,
          5.2,
          5.1,
          0,
          4.3,
          4.4,
          5.2,
          6.8,
          22.6
         ],
         "yaxis": "y"
        },
        {
         "hovertemplate": "도심=건대입구<br>분기별=%{x}<br>value=%{y}<extra></extra>",
         "legendgroup": "건대입구",
         "line": {
          "color": "#FF6692",
          "dash": "solid"
         },
         "mode": "lines",
         "name": "건대입구",
         "orientation": "v",
         "showlegend": true,
         "type": "scatter",
         "x": [
          "2017 1/4",
          "2017 2/4",
          "2017 3/4",
          "2017 4/4",
          "2018 1/4",
          "2018 2/4",
          "2018 3/4",
          "2018 4/4",
          "2019 1/4",
          "2019 2/4",
          "2019 3/4",
          "2019 4/4",
          "2020 1/4",
          "2020 2/4",
          "2020 3/4",
          "2020 4/4",
          "2021 1/4"
         ],
         "xaxis": "x",
         "y": [
          7.1,
          0,
          0,
          0,
          0,
          0,
          0,
          0,
          4.3,
          1.4,
          6.3,
          7.3,
          0,
          0,
          0,
          0,
          0
         ],
         "yaxis": "y"
        },
        {
         "hovertemplate": "도심=경희대<br>분기별=%{x}<br>value=%{y}<extra></extra>",
         "legendgroup": "경희대",
         "line": {
          "color": "#B6E880",
          "dash": "solid"
         },
         "mode": "lines",
         "name": "경희대",
         "orientation": "v",
         "showlegend": true,
         "type": "scatter",
         "x": [
          "2017 1/4",
          "2017 2/4",
          "2017 3/4",
          "2017 4/4",
          "2018 1/4",
          "2018 2/4",
          "2018 3/4",
          "2018 4/4",
          "2019 1/4",
          "2019 2/4",
          "2019 3/4",
          "2019 4/4",
          "2020 1/4",
          "2020 2/4",
          "2020 3/4",
          "2020 4/4",
          "2021 1/4"
         ],
         "xaxis": "x",
         "y": [
          0,
          0,
          0,
          21.8,
          21.8,
          0,
          0,
          0,
          2.2,
          2.4,
          3.5,
          3.9,
          0,
          0,
          0,
          0,
          2.8
         ],
         "yaxis": "y"
        },
        {
         "hovertemplate": "도심=군자<br>분기별=%{x}<br>value=%{y}<extra></extra>",
         "legendgroup": "군자",
         "line": {
          "color": "#FF97FF",
          "dash": "solid"
         },
         "mode": "lines",
         "name": "군자",
         "orientation": "v",
         "showlegend": true,
         "type": "scatter",
         "x": [
          "2017 1/4",
          "2017 2/4",
          "2017 3/4",
          "2017 4/4",
          "2018 1/4",
          "2018 2/4",
          "2018 3/4",
          "2018 4/4",
          "2019 1/4",
          "2019 2/4",
          "2019 3/4",
          "2019 4/4",
          "2020 1/4",
          "2020 2/4",
          "2020 3/4",
          "2020 4/4",
          "2021 1/4"
         ],
         "xaxis": "x",
         "y": [
          4.1,
          4.1,
          4.1,
          4.1,
          4.1,
          0,
          0,
          0,
          0,
          0,
          0,
          0,
          8.5,
          8.5,
          8.5,
          8.5,
          0
         ],
         "yaxis": "y"
        },
        {
         "hovertemplate": "도심=목동<br>분기별=%{x}<br>value=%{y}<extra></extra>",
         "legendgroup": "목동",
         "line": {
          "color": "#FECB52",
          "dash": "solid"
         },
         "mode": "lines",
         "name": "목동",
         "orientation": "v",
         "showlegend": true,
         "type": "scatter",
         "x": [
          "2017 1/4",
          "2017 2/4",
          "2017 3/4",
          "2017 4/4",
          "2018 1/4",
          "2018 2/4",
          "2018 3/4",
          "2018 4/4",
          "2019 1/4",
          "2019 2/4",
          "2019 3/4",
          "2019 4/4",
          "2020 1/4",
          "2020 2/4",
          "2020 3/4",
          "2020 4/4",
          "2021 1/4"
         ],
         "xaxis": "x",
         "y": [
          0,
          0,
          0,
          0,
          0,
          0,
          0,
          0,
          0,
          3.2,
          0,
          0,
          6.6,
          6.6,
          6.6,
          6.6,
          10.6
         ],
         "yaxis": "y"
        },
        {
         "hovertemplate": "도심=불광역<br>분기별=%{x}<br>value=%{y}<extra></extra>",
         "legendgroup": "불광역",
         "line": {
          "color": "#636efa",
          "dash": "solid"
         },
         "mode": "lines",
         "name": "불광역",
         "orientation": "v",
         "showlegend": true,
         "type": "scatter",
         "x": [
          "2017 1/4",
          "2017 2/4",
          "2017 3/4",
          "2017 4/4",
          "2018 1/4",
          "2018 2/4",
          "2018 3/4",
          "2018 4/4",
          "2019 1/4",
          "2019 2/4",
          "2019 3/4",
          "2019 4/4",
          "2020 1/4",
          "2020 2/4",
          "2020 3/4",
          "2020 4/4",
          "2021 1/4"
         ],
         "xaxis": "x",
         "y": [
          0,
          0,
          0,
          0,
          0,
          0,
          0,
          0,
          0,
          0,
          0,
          0,
          7.5,
          7.5,
          7.5,
          7.5,
          0
         ],
         "yaxis": "y"
        },
        {
         "hovertemplate": "도심=사당<br>분기별=%{x}<br>value=%{y}<extra></extra>",
         "legendgroup": "사당",
         "line": {
          "color": "#EF553B",
          "dash": "solid"
         },
         "mode": "lines",
         "name": "사당",
         "orientation": "v",
         "showlegend": true,
         "type": "scatter",
         "x": [
          "2017 1/4",
          "2017 2/4",
          "2017 3/4",
          "2017 4/4",
          "2018 1/4",
          "2018 2/4",
          "2018 3/4",
          "2018 4/4",
          "2019 1/4",
          "2019 2/4",
          "2019 3/4",
          "2019 4/4",
          "2020 1/4",
          "2020 2/4",
          "2020 3/4",
          "2020 4/4",
          "2021 1/4"
         ],
         "xaxis": "x",
         "y": [
          3.2,
          3.2,
          3.2,
          3.2,
          3.2,
          3.2,
          3.2,
          3.2,
          0,
          0,
          28.6,
          28.6,
          1.1,
          1.1,
          1.1,
          2.6,
          6
         ],
         "yaxis": "y"
        },
        {
         "hovertemplate": "도심=서울대입구역<br>분기별=%{x}<br>value=%{y}<extra></extra>",
         "legendgroup": "서울대입구역",
         "line": {
          "color": "#00cc96",
          "dash": "solid"
         },
         "mode": "lines",
         "name": "서울대입구역",
         "orientation": "v",
         "showlegend": true,
         "type": "scatter",
         "x": [
          "2017 1/4",
          "2017 2/4",
          "2017 3/4",
          "2017 4/4",
          "2018 1/4",
          "2018 2/4",
          "2018 3/4",
          "2018 4/4",
          "2019 1/4",
          "2019 2/4",
          "2019 3/4",
          "2019 4/4",
          "2020 1/4",
          "2020 2/4",
          "2020 3/4",
          "2020 4/4",
          "2021 1/4"
         ],
         "xaxis": "x",
         "y": [
          4,
          4,
          4,
          4,
          4,
          4,
          4,
          4,
          0,
          0,
          0,
          0,
          0,
          0,
          0,
          0,
          7.5
         ],
         "yaxis": "y"
        },
        {
         "hovertemplate": "도심=성신여대<br>분기별=%{x}<br>value=%{y}<extra></extra>",
         "legendgroup": "성신여대",
         "line": {
          "color": "#ab63fa",
          "dash": "solid"
         },
         "mode": "lines",
         "name": "성신여대",
         "orientation": "v",
         "showlegend": true,
         "type": "scatter",
         "x": [
          "2017 1/4",
          "2017 2/4",
          "2017 3/4",
          "2017 4/4",
          "2018 1/4",
          "2018 2/4",
          "2018 3/4",
          "2018 4/4",
          "2019 1/4",
          "2019 2/4",
          "2019 3/4",
          "2019 4/4",
          "2020 1/4",
          "2020 2/4",
          "2020 3/4",
          "2020 4/4",
          "2021 1/4"
         ],
         "xaxis": "x",
         "y": [
          0,
          0,
          0,
          0,
          0,
          1.2,
          1.2,
          1.2,
          9,
          9,
          9,
          9,
          1.4,
          1.4,
          1.4,
          1.4,
          2.3
         ],
         "yaxis": "y"
        },
        {
         "hovertemplate": "도심=수유<br>분기별=%{x}<br>value=%{y}<extra></extra>",
         "legendgroup": "수유",
         "line": {
          "color": "#FFA15A",
          "dash": "solid"
         },
         "mode": "lines",
         "name": "수유",
         "orientation": "v",
         "showlegend": true,
         "type": "scatter",
         "x": [
          "2017 1/4",
          "2017 2/4",
          "2017 3/4",
          "2017 4/4",
          "2018 1/4",
          "2018 2/4",
          "2018 3/4",
          "2018 4/4",
          "2019 1/4",
          "2019 2/4",
          "2019 3/4",
          "2019 4/4",
          "2020 1/4",
          "2020 2/4",
          "2020 3/4",
          "2020 4/4",
          "2021 1/4"
         ],
         "xaxis": "x",
         "y": [
          0,
          0,
          0,
          0,
          0,
          0,
          0,
          0,
          5.5,
          5.5,
          5.5,
          5.5,
          0,
          0,
          2.5,
          7,
          7.4
         ],
         "yaxis": "y"
        },
        {
         "hovertemplate": "도심=신림역<br>분기별=%{x}<br>value=%{y}<extra></extra>",
         "legendgroup": "신림역",
         "line": {
          "color": "#19d3f3",
          "dash": "solid"
         },
         "mode": "lines",
         "name": "신림역",
         "orientation": "v",
         "showlegend": true,
         "type": "scatter",
         "x": [
          "2017 1/4",
          "2017 2/4",
          "2017 3/4",
          "2017 4/4",
          "2018 1/4",
          "2018 2/4",
          "2018 3/4",
          "2018 4/4",
          "2019 1/4",
          "2019 2/4",
          "2019 3/4",
          "2019 4/4",
          "2020 1/4",
          "2020 2/4",
          "2020 3/4",
          "2020 4/4",
          "2021 1/4"
         ],
         "xaxis": "x",
         "y": [
          1.2,
          1.2,
          1.2,
          1.2,
          0,
          0,
          0,
          0,
          0,
          0,
          2.5,
          2.5,
          5,
          5,
          6.2,
          8.2,
          1.4
         ],
         "yaxis": "y"
        },
        {
         "hovertemplate": "도심=오류동역<br>분기별=%{x}<br>value=%{y}<extra></extra>",
         "legendgroup": "오류동역",
         "line": {
          "color": "#FF6692",
          "dash": "solid"
         },
         "mode": "lines",
         "name": "오류동역",
         "orientation": "v",
         "showlegend": true,
         "type": "scatter",
         "x": [
          "2017 1/4",
          "2017 2/4",
          "2017 3/4",
          "2017 4/4",
          "2018 1/4",
          "2018 2/4",
          "2018 3/4",
          "2018 4/4",
          "2019 1/4",
          "2019 2/4",
          "2019 3/4",
          "2019 4/4",
          "2020 1/4",
          "2020 2/4",
          "2020 3/4",
          "2020 4/4",
          "2021 1/4"
         ],
         "xaxis": "x",
         "y": [
          0,
          0,
          0,
          0,
          0,
          0,
          0,
          0,
          0,
          0,
          0,
          7,
          9.7,
          9.7,
          9.7,
          9.4,
          11.1
         ],
         "yaxis": "y"
        },
        {
         "hovertemplate": "도심=왕십리<br>분기별=%{x}<br>value=%{y}<extra></extra>",
         "legendgroup": "왕십리",
         "line": {
          "color": "#B6E880",
          "dash": "solid"
         },
         "mode": "lines",
         "name": "왕십리",
         "orientation": "v",
         "showlegend": true,
         "type": "scatter",
         "x": [
          "2017 1/4",
          "2017 2/4",
          "2017 3/4",
          "2017 4/4",
          "2018 1/4",
          "2018 2/4",
          "2018 3/4",
          "2018 4/4",
          "2019 1/4",
          "2019 2/4",
          "2019 3/4",
          "2019 4/4",
          "2020 1/4",
          "2020 2/4",
          "2020 3/4",
          "2020 4/4",
          "2021 1/4"
         ],
         "xaxis": "x",
         "y": [
          6.2,
          6.2,
          6.2,
          6.2,
          0,
          0,
          0,
          0,
          0,
          0,
          8.3,
          1.4,
          0,
          0,
          0,
          0,
          3.4
         ],
         "yaxis": "y"
        },
        {
         "hovertemplate": "도심=용산역<br>분기별=%{x}<br>value=%{y}<extra></extra>",
         "legendgroup": "용산역",
         "line": {
          "color": "#FF97FF",
          "dash": "solid"
         },
         "mode": "lines",
         "name": "용산역",
         "orientation": "v",
         "showlegend": true,
         "type": "scatter",
         "x": [
          "2017 1/4",
          "2017 2/4",
          "2017 3/4",
          "2017 4/4",
          "2018 1/4",
          "2018 2/4",
          "2018 3/4",
          "2018 4/4",
          "2019 1/4",
          "2019 2/4",
          "2019 3/4",
          "2019 4/4",
          "2020 1/4",
          "2020 2/4",
          "2020 3/4",
          "2020 4/4",
          "2021 1/4"
         ],
         "xaxis": "x",
         "y": [
          5.3,
          5.3,
          5.3,
          5.3,
          3,
          3,
          3,
          3,
          6.4,
          8.6,
          7.5,
          6.4,
          17.5,
          17.5,
          17.5,
          16.2,
          8.2
         ],
         "yaxis": "y"
        },
        {
         "hovertemplate": "도심=이태원<br>분기별=%{x}<br>value=%{y}<extra></extra>",
         "legendgroup": "이태원",
         "line": {
          "color": "#FECB52",
          "dash": "solid"
         },
         "mode": "lines",
         "name": "이태원",
         "orientation": "v",
         "showlegend": true,
         "type": "scatter",
         "x": [
          "2017 1/4",
          "2017 2/4",
          "2017 3/4",
          "2017 4/4",
          "2018 1/4",
          "2018 2/4",
          "2018 3/4",
          "2018 4/4",
          "2019 1/4",
          "2019 2/4",
          "2019 3/4",
          "2019 4/4",
          "2020 1/4",
          "2020 2/4",
          "2020 3/4",
          "2020 4/4",
          "2021 1/4"
         ],
         "xaxis": "x",
         "y": [
          0,
          0,
          0,
          0,
          0,
          0,
          0,
          0,
          0,
          3.4,
          3.4,
          3.4,
          0,
          0,
          3.3,
          24.7,
          31.9
         ],
         "yaxis": "y"
        },
        {
         "hovertemplate": "도심=잠실/송파<br>분기별=%{x}<br>value=%{y}<extra></extra>",
         "legendgroup": "잠실/송파",
         "line": {
          "color": "#636efa",
          "dash": "solid"
         },
         "mode": "lines",
         "name": "잠실/송파",
         "orientation": "v",
         "showlegend": true,
         "type": "scatter",
         "x": [
          "2017 1/4",
          "2017 2/4",
          "2017 3/4",
          "2017 4/4",
          "2018 1/4",
          "2018 2/4",
          "2018 3/4",
          "2018 4/4",
          "2019 1/4",
          "2019 2/4",
          "2019 3/4",
          "2019 4/4",
          "2020 1/4",
          "2020 2/4",
          "2020 3/4",
          "2020 4/4",
          "2021 1/4"
         ],
         "xaxis": "x",
         "y": [
          1.6,
          1.6,
          1.6,
          3.5,
          3.5,
          3.5,
          3.5,
          2,
          3,
          3,
          3,
          3,
          2.8,
          3.8,
          2.6,
          2.6,
          7.2
         ],
         "yaxis": "y"
        },
        {
         "hovertemplate": "도심=장안동<br>분기별=%{x}<br>value=%{y}<extra></extra>",
         "legendgroup": "장안동",
         "line": {
          "color": "#EF553B",
          "dash": "solid"
         },
         "mode": "lines",
         "name": "장안동",
         "orientation": "v",
         "showlegend": true,
         "type": "scatter",
         "x": [
          "2017 1/4",
          "2017 2/4",
          "2017 3/4",
          "2017 4/4",
          "2018 1/4",
          "2018 2/4",
          "2018 3/4",
          "2018 4/4",
          "2019 1/4",
          "2019 2/4",
          "2019 3/4",
          "2019 4/4",
          "2020 1/4",
          "2020 2/4",
          "2020 3/4",
          "2020 4/4",
          "2021 1/4"
         ],
         "xaxis": "x",
         "y": [
          0,
          0,
          0,
          0,
          0,
          0,
          0,
          0,
          0,
          0,
          0,
          0,
          1.3,
          1.3,
          1.3,
          1.3,
          16.2
         ],
         "yaxis": "y"
        },
        {
         "hovertemplate": "도심=천호<br>분기별=%{x}<br>value=%{y}<extra></extra>",
         "legendgroup": "천호",
         "line": {
          "color": "#00cc96",
          "dash": "solid"
         },
         "mode": "lines",
         "name": "천호",
         "orientation": "v",
         "showlegend": true,
         "type": "scatter",
         "x": [
          "2017 1/4",
          "2017 2/4",
          "2017 3/4",
          "2017 4/4",
          "2018 1/4",
          "2018 2/4",
          "2018 3/4",
          "2018 4/4",
          "2019 1/4",
          "2019 2/4",
          "2019 3/4",
          "2019 4/4",
          "2020 1/4",
          "2020 2/4",
          "2020 3/4",
          "2020 4/4",
          "2021 1/4"
         ],
         "xaxis": "x",
         "y": [
          11.1,
          11.1,
          3.8,
          3.8,
          3.8,
          3.8,
          3.8,
          3.8,
          2,
          2,
          2,
          2,
          4.5,
          6,
          5.3,
          5,
          21.3
         ],
         "yaxis": "y"
        },
        {
         "hovertemplate": "도심=청량리<br>분기별=%{x}<br>value=%{y}<extra></extra>",
         "legendgroup": "청량리",
         "line": {
          "color": "#ab63fa",
          "dash": "solid"
         },
         "mode": "lines",
         "name": "청량리",
         "orientation": "v",
         "showlegend": true,
         "type": "scatter",
         "x": [
          "2017 1/4",
          "2017 2/4",
          "2017 3/4",
          "2017 4/4",
          "2018 1/4",
          "2018 2/4",
          "2018 3/4",
          "2018 4/4",
          "2019 1/4",
          "2019 2/4",
          "2019 3/4",
          "2019 4/4",
          "2020 1/4",
          "2020 2/4",
          "2020 3/4",
          "2020 4/4",
          "2021 1/4"
         ],
         "xaxis": "x",
         "y": [
          3.1,
          3.1,
          1.9,
          1.9,
          3.3,
          1.9,
          1.9,
          1.9,
          0,
          0,
          0,
          4.8,
          19.7,
          19.7,
          0,
          0,
          3.7
         ],
         "yaxis": "y"
        },
        {
         "hovertemplate": "도심=혜화동<br>분기별=%{x}<br>value=%{y}<extra></extra>",
         "legendgroup": "혜화동",
         "line": {
          "color": "#FFA15A",
          "dash": "solid"
         },
         "mode": "lines",
         "name": "혜화동",
         "orientation": "v",
         "showlegend": true,
         "type": "scatter",
         "x": [
          "2017 1/4",
          "2017 2/4",
          "2017 3/4",
          "2017 4/4",
          "2018 1/4",
          "2018 2/4",
          "2018 3/4",
          "2018 4/4",
          "2019 1/4",
          "2019 2/4",
          "2019 3/4",
          "2019 4/4",
          "2020 1/4",
          "2020 2/4",
          "2020 3/4",
          "2020 4/4",
          "2021 1/4"
         ],
         "xaxis": "x",
         "y": [
          0,
          0,
          0,
          0,
          0,
          0,
          0,
          0,
          6.5,
          1.4,
          1.4,
          0,
          4.7,
          4.7,
          4.7,
          4.7,
          1
         ],
         "yaxis": "y"
        },
        {
         "hovertemplate": "도심=화곡<br>분기별=%{x}<br>value=%{y}<extra></extra>",
         "legendgroup": "화곡",
         "line": {
          "color": "#19d3f3",
          "dash": "solid"
         },
         "mode": "lines",
         "name": "화곡",
         "orientation": "v",
         "showlegend": true,
         "type": "scatter",
         "x": [
          "2017 1/4",
          "2017 2/4",
          "2017 3/4",
          "2017 4/4",
          "2018 1/4",
          "2018 2/4",
          "2018 3/4",
          "2018 4/4",
          "2019 1/4",
          "2019 2/4",
          "2019 3/4",
          "2019 4/4",
          "2020 1/4",
          "2020 2/4",
          "2020 3/4",
          "2020 4/4",
          "2021 1/4"
         ],
         "xaxis": "x",
         "y": [
          2.3,
          2.3,
          2.3,
          2.3,
          2.3,
          2.3,
          2.3,
          2.3,
          2.4,
          3.8,
          3.9,
          3.9,
          8.8,
          10.1,
          10.1,
          10.1,
          7.1
         ],
         "yaxis": "y"
        }
       ],
       "layout": {
        "legend": {
         "title": {
          "text": "도심"
         },
         "tracegroupgap": 0
        },
        "margin": {
         "t": 60
        },
        "template": {
         "data": {
          "bar": [
           {
            "error_x": {
             "color": "#2a3f5f"
            },
            "error_y": {
             "color": "#2a3f5f"
            },
            "marker": {
             "line": {
              "color": "#E5ECF6",
              "width": 0.5
             },
             "pattern": {
              "fillmode": "overlay",
              "size": 10,
              "solidity": 0.2
             }
            },
            "type": "bar"
           }
          ],
          "barpolar": [
           {
            "marker": {
             "line": {
              "color": "#E5ECF6",
              "width": 0.5
             },
             "pattern": {
              "fillmode": "overlay",
              "size": 10,
              "solidity": 0.2
             }
            },
            "type": "barpolar"
           }
          ],
          "carpet": [
           {
            "aaxis": {
             "endlinecolor": "#2a3f5f",
             "gridcolor": "white",
             "linecolor": "white",
             "minorgridcolor": "white",
             "startlinecolor": "#2a3f5f"
            },
            "baxis": {
             "endlinecolor": "#2a3f5f",
             "gridcolor": "white",
             "linecolor": "white",
             "minorgridcolor": "white",
             "startlinecolor": "#2a3f5f"
            },
            "type": "carpet"
           }
          ],
          "choropleth": [
           {
            "colorbar": {
             "outlinewidth": 0,
             "ticks": ""
            },
            "type": "choropleth"
           }
          ],
          "contour": [
           {
            "colorbar": {
             "outlinewidth": 0,
             "ticks": ""
            },
            "colorscale": [
             [
              0,
              "#0d0887"
             ],
             [
              0.1111111111111111,
              "#46039f"
             ],
             [
              0.2222222222222222,
              "#7201a8"
             ],
             [
              0.3333333333333333,
              "#9c179e"
             ],
             [
              0.4444444444444444,
              "#bd3786"
             ],
             [
              0.5555555555555556,
              "#d8576b"
             ],
             [
              0.6666666666666666,
              "#ed7953"
             ],
             [
              0.7777777777777778,
              "#fb9f3a"
             ],
             [
              0.8888888888888888,
              "#fdca26"
             ],
             [
              1,
              "#f0f921"
             ]
            ],
            "type": "contour"
           }
          ],
          "contourcarpet": [
           {
            "colorbar": {
             "outlinewidth": 0,
             "ticks": ""
            },
            "type": "contourcarpet"
           }
          ],
          "heatmap": [
           {
            "colorbar": {
             "outlinewidth": 0,
             "ticks": ""
            },
            "colorscale": [
             [
              0,
              "#0d0887"
             ],
             [
              0.1111111111111111,
              "#46039f"
             ],
             [
              0.2222222222222222,
              "#7201a8"
             ],
             [
              0.3333333333333333,
              "#9c179e"
             ],
             [
              0.4444444444444444,
              "#bd3786"
             ],
             [
              0.5555555555555556,
              "#d8576b"
             ],
             [
              0.6666666666666666,
              "#ed7953"
             ],
             [
              0.7777777777777778,
              "#fb9f3a"
             ],
             [
              0.8888888888888888,
              "#fdca26"
             ],
             [
              1,
              "#f0f921"
             ]
            ],
            "type": "heatmap"
           }
          ],
          "heatmapgl": [
           {
            "colorbar": {
             "outlinewidth": 0,
             "ticks": ""
            },
            "colorscale": [
             [
              0,
              "#0d0887"
             ],
             [
              0.1111111111111111,
              "#46039f"
             ],
             [
              0.2222222222222222,
              "#7201a8"
             ],
             [
              0.3333333333333333,
              "#9c179e"
             ],
             [
              0.4444444444444444,
              "#bd3786"
             ],
             [
              0.5555555555555556,
              "#d8576b"
             ],
             [
              0.6666666666666666,
              "#ed7953"
             ],
             [
              0.7777777777777778,
              "#fb9f3a"
             ],
             [
              0.8888888888888888,
              "#fdca26"
             ],
             [
              1,
              "#f0f921"
             ]
            ],
            "type": "heatmapgl"
           }
          ],
          "histogram": [
           {
            "marker": {
             "pattern": {
              "fillmode": "overlay",
              "size": 10,
              "solidity": 0.2
             }
            },
            "type": "histogram"
           }
          ],
          "histogram2d": [
           {
            "colorbar": {
             "outlinewidth": 0,
             "ticks": ""
            },
            "colorscale": [
             [
              0,
              "#0d0887"
             ],
             [
              0.1111111111111111,
              "#46039f"
             ],
             [
              0.2222222222222222,
              "#7201a8"
             ],
             [
              0.3333333333333333,
              "#9c179e"
             ],
             [
              0.4444444444444444,
              "#bd3786"
             ],
             [
              0.5555555555555556,
              "#d8576b"
             ],
             [
              0.6666666666666666,
              "#ed7953"
             ],
             [
              0.7777777777777778,
              "#fb9f3a"
             ],
             [
              0.8888888888888888,
              "#fdca26"
             ],
             [
              1,
              "#f0f921"
             ]
            ],
            "type": "histogram2d"
           }
          ],
          "histogram2dcontour": [
           {
            "colorbar": {
             "outlinewidth": 0,
             "ticks": ""
            },
            "colorscale": [
             [
              0,
              "#0d0887"
             ],
             [
              0.1111111111111111,
              "#46039f"
             ],
             [
              0.2222222222222222,
              "#7201a8"
             ],
             [
              0.3333333333333333,
              "#9c179e"
             ],
             [
              0.4444444444444444,
              "#bd3786"
             ],
             [
              0.5555555555555556,
              "#d8576b"
             ],
             [
              0.6666666666666666,
              "#ed7953"
             ],
             [
              0.7777777777777778,
              "#fb9f3a"
             ],
             [
              0.8888888888888888,
              "#fdca26"
             ],
             [
              1,
              "#f0f921"
             ]
            ],
            "type": "histogram2dcontour"
           }
          ],
          "mesh3d": [
           {
            "colorbar": {
             "outlinewidth": 0,
             "ticks": ""
            },
            "type": "mesh3d"
           }
          ],
          "parcoords": [
           {
            "line": {
             "colorbar": {
              "outlinewidth": 0,
              "ticks": ""
             }
            },
            "type": "parcoords"
           }
          ],
          "pie": [
           {
            "automargin": true,
            "type": "pie"
           }
          ],
          "scatter": [
           {
            "marker": {
             "colorbar": {
              "outlinewidth": 0,
              "ticks": ""
             }
            },
            "type": "scatter"
           }
          ],
          "scatter3d": [
           {
            "line": {
             "colorbar": {
              "outlinewidth": 0,
              "ticks": ""
             }
            },
            "marker": {
             "colorbar": {
              "outlinewidth": 0,
              "ticks": ""
             }
            },
            "type": "scatter3d"
           }
          ],
          "scattercarpet": [
           {
            "marker": {
             "colorbar": {
              "outlinewidth": 0,
              "ticks": ""
             }
            },
            "type": "scattercarpet"
           }
          ],
          "scattergeo": [
           {
            "marker": {
             "colorbar": {
              "outlinewidth": 0,
              "ticks": ""
             }
            },
            "type": "scattergeo"
           }
          ],
          "scattergl": [
           {
            "marker": {
             "colorbar": {
              "outlinewidth": 0,
              "ticks": ""
             }
            },
            "type": "scattergl"
           }
          ],
          "scattermapbox": [
           {
            "marker": {
             "colorbar": {
              "outlinewidth": 0,
              "ticks": ""
             }
            },
            "type": "scattermapbox"
           }
          ],
          "scatterpolar": [
           {
            "marker": {
             "colorbar": {
              "outlinewidth": 0,
              "ticks": ""
             }
            },
            "type": "scatterpolar"
           }
          ],
          "scatterpolargl": [
           {
            "marker": {
             "colorbar": {
              "outlinewidth": 0,
              "ticks": ""
             }
            },
            "type": "scatterpolargl"
           }
          ],
          "scatterternary": [
           {
            "marker": {
             "colorbar": {
              "outlinewidth": 0,
              "ticks": ""
             }
            },
            "type": "scatterternary"
           }
          ],
          "surface": [
           {
            "colorbar": {
             "outlinewidth": 0,
             "ticks": ""
            },
            "colorscale": [
             [
              0,
              "#0d0887"
             ],
             [
              0.1111111111111111,
              "#46039f"
             ],
             [
              0.2222222222222222,
              "#7201a8"
             ],
             [
              0.3333333333333333,
              "#9c179e"
             ],
             [
              0.4444444444444444,
              "#bd3786"
             ],
             [
              0.5555555555555556,
              "#d8576b"
             ],
             [
              0.6666666666666666,
              "#ed7953"
             ],
             [
              0.7777777777777778,
              "#fb9f3a"
             ],
             [
              0.8888888888888888,
              "#fdca26"
             ],
             [
              1,
              "#f0f921"
             ]
            ],
            "type": "surface"
           }
          ],
          "table": [
           {
            "cells": {
             "fill": {
              "color": "#EBF0F8"
             },
             "line": {
              "color": "white"
             }
            },
            "header": {
             "fill": {
              "color": "#C8D4E3"
             },
             "line": {
              "color": "white"
             }
            },
            "type": "table"
           }
          ]
         },
         "layout": {
          "annotationdefaults": {
           "arrowcolor": "#2a3f5f",
           "arrowhead": 0,
           "arrowwidth": 1
          },
          "autotypenumbers": "strict",
          "coloraxis": {
           "colorbar": {
            "outlinewidth": 0,
            "ticks": ""
           }
          },
          "colorscale": {
           "diverging": [
            [
             0,
             "#8e0152"
            ],
            [
             0.1,
             "#c51b7d"
            ],
            [
             0.2,
             "#de77ae"
            ],
            [
             0.3,
             "#f1b6da"
            ],
            [
             0.4,
             "#fde0ef"
            ],
            [
             0.5,
             "#f7f7f7"
            ],
            [
             0.6,
             "#e6f5d0"
            ],
            [
             0.7,
             "#b8e186"
            ],
            [
             0.8,
             "#7fbc41"
            ],
            [
             0.9,
             "#4d9221"
            ],
            [
             1,
             "#276419"
            ]
           ],
           "sequential": [
            [
             0,
             "#0d0887"
            ],
            [
             0.1111111111111111,
             "#46039f"
            ],
            [
             0.2222222222222222,
             "#7201a8"
            ],
            [
             0.3333333333333333,
             "#9c179e"
            ],
            [
             0.4444444444444444,
             "#bd3786"
            ],
            [
             0.5555555555555556,
             "#d8576b"
            ],
            [
             0.6666666666666666,
             "#ed7953"
            ],
            [
             0.7777777777777778,
             "#fb9f3a"
            ],
            [
             0.8888888888888888,
             "#fdca26"
            ],
            [
             1,
             "#f0f921"
            ]
           ],
           "sequentialminus": [
            [
             0,
             "#0d0887"
            ],
            [
             0.1111111111111111,
             "#46039f"
            ],
            [
             0.2222222222222222,
             "#7201a8"
            ],
            [
             0.3333333333333333,
             "#9c179e"
            ],
            [
             0.4444444444444444,
             "#bd3786"
            ],
            [
             0.5555555555555556,
             "#d8576b"
            ],
            [
             0.6666666666666666,
             "#ed7953"
            ],
            [
             0.7777777777777778,
             "#fb9f3a"
            ],
            [
             0.8888888888888888,
             "#fdca26"
            ],
            [
             1,
             "#f0f921"
            ]
           ]
          },
          "colorway": [
           "#636efa",
           "#EF553B",
           "#00cc96",
           "#ab63fa",
           "#FFA15A",
           "#19d3f3",
           "#FF6692",
           "#B6E880",
           "#FF97FF",
           "#FECB52"
          ],
          "font": {
           "color": "#2a3f5f"
          },
          "geo": {
           "bgcolor": "white",
           "lakecolor": "white",
           "landcolor": "#E5ECF6",
           "showlakes": true,
           "showland": true,
           "subunitcolor": "white"
          },
          "hoverlabel": {
           "align": "left"
          },
          "hovermode": "closest",
          "mapbox": {
           "style": "light"
          },
          "paper_bgcolor": "white",
          "plot_bgcolor": "#E5ECF6",
          "polar": {
           "angularaxis": {
            "gridcolor": "white",
            "linecolor": "white",
            "ticks": ""
           },
           "bgcolor": "#E5ECF6",
           "radialaxis": {
            "gridcolor": "white",
            "linecolor": "white",
            "ticks": ""
           }
          },
          "scene": {
           "xaxis": {
            "backgroundcolor": "#E5ECF6",
            "gridcolor": "white",
            "gridwidth": 2,
            "linecolor": "white",
            "showbackground": true,
            "ticks": "",
            "zerolinecolor": "white"
           },
           "yaxis": {
            "backgroundcolor": "#E5ECF6",
            "gridcolor": "white",
            "gridwidth": 2,
            "linecolor": "white",
            "showbackground": true,
            "ticks": "",
            "zerolinecolor": "white"
           },
           "zaxis": {
            "backgroundcolor": "#E5ECF6",
            "gridcolor": "white",
            "gridwidth": 2,
            "linecolor": "white",
            "showbackground": true,
            "ticks": "",
            "zerolinecolor": "white"
           }
          },
          "shapedefaults": {
           "line": {
            "color": "#2a3f5f"
           }
          },
          "ternary": {
           "aaxis": {
            "gridcolor": "white",
            "linecolor": "white",
            "ticks": ""
           },
           "baxis": {
            "gridcolor": "white",
            "linecolor": "white",
            "ticks": ""
           },
           "bgcolor": "#E5ECF6",
           "caxis": {
            "gridcolor": "white",
            "linecolor": "white",
            "ticks": ""
           }
          },
          "title": {
           "x": 0.05
          },
          "xaxis": {
           "automargin": true,
           "gridcolor": "white",
           "linecolor": "white",
           "ticks": "",
           "title": {
            "standoff": 15
           },
           "zerolinecolor": "white",
           "zerolinewidth": 2
          },
          "yaxis": {
           "automargin": true,
           "gridcolor": "white",
           "linecolor": "white",
           "ticks": "",
           "title": {
            "standoff": 15
           },
           "zerolinecolor": "white",
           "zerolinewidth": 2
          }
         }
        },
        "xaxis": {
         "anchor": "y",
         "domain": [
          0,
          1
         ],
         "title": {
          "text": "분기별"
         }
        },
        "yaxis": {
         "anchor": "x",
         "domain": [
          0,
          1
         ],
         "title": {
          "text": "value"
         }
        }
       }
      }
     },
     "metadata": {},
     "output_type": "display_data"
    }
   ],
   "source": [
    "fig = px.line(ss, x='분기별', y=ss.columns)\r\n",
    "fig.show()"
   ]
  },
  {
   "cell_type": "code",
   "execution_count": null,
   "metadata": {},
   "outputs": [],
   "source": []
  }
 ],
 "metadata": {
  "kernelspec": {
   "display_name": "Python 3.7.6 64-bit ('multi': conda)",
   "name": "multi"
  },
  "language_info": {
   "codemirror_mode": {
    "name": "ipython",
    "version": 3
   },
   "file_extension": ".py",
   "mimetype": "text/x-python",
   "name": "python",
   "nbconvert_exporter": "python",
   "pygments_lexer": "ipython3",
   "version": "3.7.6"
  }
 },
 "nbformat": 4,
 "nbformat_minor": 5
}