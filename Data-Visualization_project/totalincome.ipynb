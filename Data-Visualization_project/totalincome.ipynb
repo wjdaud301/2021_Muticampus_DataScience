{
 "cells": [
  {
   "cell_type": "code",
   "execution_count": 581,
   "metadata": {},
   "outputs": [],
   "source": [
    "import numpy as np\r\n",
    "import pandas as pd\r\n",
    "from urllib.request import urlopen\r\n",
    "import json\r\n",
    "import matplotlib.pyplot as plt\r\n",
    "import plotly.io as pio\r\n",
    "import plotly.express as px\r\n",
    "import plotly.graph_objects as go\r\n",
    "import plotly.figure_factory as ff\r\n",
    "from plotly.subplots import make_subplots\r\n",
    "from plotly.validators.scatter.marker import SymbolValidator\r\n",
    "\r\n",
    "\r\n",
    "# color pallette\r\n",
    "cnf, dth, rec, act = '#393e46', '#ff2e63', '#21bf73', '#fe9801' \r\n",
    "DEFAULT_PLOTLY_COLORS=['rgb(31, 119, 180)', 'rgb(255, 127, 14)',\r\n",
    "                       'rgb(44, 160, 44)', 'rgb(214, 39, 40)',\r\n",
    "                       'rgb(148, 103, 189)', 'rgb(140, 86, 75)',\r\n",
    "                       'rgb(227, 119, 194)', 'rgb(127, 127, 127)',\r\n",
    "                       'rgb(188, 189, 34)', 'rgb(23, 190, 207)']\r\n",
    "\r\n",
    "# 기본 폰트 설정\r\n",
    "layout_font = {'font':dict(size=12,color='#60606e',family='Malgun Gothic' )}\r\n"
   ]
  },
  {
   "cell_type": "code",
   "execution_count": 549,
   "metadata": {},
   "outputs": [],
   "source": [
    "df18 = pd.read_csv('서울시 우리마을가게 상권분석서비스(상권-추정매출)_2018.csv')\r\n",
    "df19 = pd.read_csv('서울시 우리마을가게 상권분석서비스(상권-추정매출)_2019.csv')\r\n",
    "df20 = pd.read_csv('서울시우리마을가게상권분석서비스(상권-추정매출)_2020.csv')\r\n",
    "\r\n",
    "df1 = pd.read_csv('행정동코드.csv')\r\n",
    "df2= pd.read_csv('상권영역.csv',index_col=False)"
   ]
  },
  {
   "cell_type": "code",
   "execution_count": 550,
   "metadata": {},
   "outputs": [],
   "source": [
    "code = df1[df1[\"CT_NM(시군구명)\"]=='용산구']\r\n",
    "code.rename(columns={'H_SDNG_CD(통계청행정동코드)':\"통계청행정동코드\"},inplace=True)\r\n",
    "code.rename(columns={'H_DNG_CD(행자부행정동코드)':\"행정동코드\"},inplace=True)\r\n",
    "code.rename(columns={\"DO_NM(시도명)\":\"시도명\"},inplace=True)\r\n",
    "code.rename(columns={\"CT_NM(시군구명)\":\"시군구명\"},inplace=True)\r\n",
    "code.rename(columns={\"H_DNG_NM(행정동명)\":\"행정동명\"},inplace=True)\r\n",
    "\r\n",
    "df2 = pd.merge(df2,code.iloc[:,1:], how='left', left_on='ADSTRD_CD', right_on='행정동코드')\r\n",
    "df2 = df2.dropna()"
   ]
  },
  {
   "cell_type": "code",
   "execution_count": 551,
   "metadata": {},
   "outputs": [],
   "source": [
    "df18 = pd.merge(df18,df2, how='left', left_on='상권_코드', right_on='TRDAR_CD')\r\n",
    "df18 = df18.dropna()\r\n",
    "df19 = pd.merge(df19,df2, how='left', left_on='상권_코드', right_on='TRDAR_CD')\r\n",
    "df19 = df19.dropna()\r\n",
    "df20 = pd.merge(df20,df2, how='left', left_on='상권_코드', right_on='TRDAR_CD')\r\n",
    "df20 = df20.dropna()"
   ]
  },
  {
   "cell_type": "code",
   "execution_count": 552,
   "metadata": {},
   "outputs": [],
   "source": [
    "df_18 = df18.query('(행정동명 ==\"이태원1동\")|(행정동명 ==\"이태원2동\")')\r\n",
    "df_19 = df19.query('(행정동명 ==\"이태원1동\")|(행정동명 ==\"이태원2동\")')\r\n",
    "df_20 = df20.query('(행정동명 ==\"이태원1동\")|(행정동명 ==\"이태원2동\")')"
   ]
  },
  {
   "cell_type": "code",
   "execution_count": 554,
   "metadata": {},
   "outputs": [],
   "source": [
    "df_18 = pd.DataFrame(df_18.groupby(['기준_분기_코드','상권_구분_코드_명'], as_index=False)['분기당_매출_금액'].mean())\r\n",
    "df_19 = pd.DataFrame(df_19.groupby(['기준_분기_코드','상권_구분_코드_명'], as_index=False)['분기당_매출_금액'].mean())\r\n",
    "df_20 = pd.DataFrame(df_20.groupby(['기준_분기_코드','상권_구분_코드_명'], as_index=False)['분기당_매출_금액'].mean())\r\n",
    "# df.groupby(['시간대구분','행정동명'])['총생활인구수'].transform('mean')\r\n"
   ]
  },
  {
   "cell_type": "code",
   "execution_count": 555,
   "metadata": {},
   "outputs": [],
   "source": [
    "df_18['분기당_매출_금액'] = df_18['분기당_매출_금액'].astype('int64') \r\n",
    "df_19['분기당_매출_금액'] = df_19['분기당_매출_금액'].astype('int64') \r\n",
    "df_20['분기당_매출_금액'] = df_20['분기당_매출_금액'].astype('int64') "
   ]
  },
  {
   "cell_type": "code",
   "execution_count": 556,
   "metadata": {},
   "outputs": [],
   "source": [
    "df_19['전년도 분기 대비 매출증감액'] = df_19[\"분기당_매출_금액\"].values - df_18[\"분기당_매출_금액\"].values"
   ]
  },
  {
   "cell_type": "code",
   "execution_count": 557,
   "metadata": {},
   "outputs": [],
   "source": [
    "df_19['전년도 분기 대비 매출증감율'] = (df_19['전년도 분기 대비 매출증감액'].values / df_18[\"분기당_매출_금액\"].values) * 100"
   ]
  },
  {
   "cell_type": "code",
   "execution_count": 558,
   "metadata": {},
   "outputs": [],
   "source": [
    "df_20['전년도 분기 대비 매출증감액'] = df_20[\"분기당_매출_금액\"].values - df_19[\"분기당_매출_금액\"].values\r\n",
    "df_20['전년도 분기 대비 매출증감율'] = (df_20['전년도 분기 대비 매출증감액'].values / df_19[\"분기당_매출_금액\"].values) * 100"
   ]
  },
  {
   "cell_type": "code",
   "execution_count": 559,
   "metadata": {},
   "outputs": [],
   "source": [
    "def year_add(x):\r\n",
    "    return '2019년'+str(x)+'분기'\r\n",
    "\r\n",
    "df_19['기준_분기_코드'] = df_19['기준_분기_코드'].apply(year_add)"
   ]
  },
  {
   "cell_type": "code",
   "execution_count": 560,
   "metadata": {},
   "outputs": [],
   "source": [
    "def year_add(x):\r\n",
    "    return '2020년'+str(x)+'분기'\r\n",
    "\r\n",
    "df_20['기준_분기_코드'] = df_20['기준_분기_코드'].apply(year_add)"
   ]
  },
  {
   "cell_type": "code",
   "execution_count": 561,
   "metadata": {},
   "outputs": [],
   "source": [
    "result = pd.concat([df_19,df_20])"
   ]
  },
  {
   "cell_type": "code",
   "execution_count": 574,
   "metadata": {},
   "outputs": [],
   "source": [
    "result['전년도 분기 대비 매출증감율'] = result['전년도 분기 대비 매출증감율'].round(1)"
   ]
  },
  {
   "cell_type": "code",
   "execution_count": 576,
   "metadata": {},
   "outputs": [],
   "source": [
    "result1= result.query('상권_구분_코드_명==\"관광특구\"')\r\n",
    "result2= result.query('상권_구분_코드_명==\"발달상권\"')\r\n",
    "result3= result.query('상권_구분_코드_명==\"골목상권\"')\r\n",
    "result4= result.query('상권_구분_코드_명==\"전통시장\"')\r\n",
    "#,labels={'기준_분기_코드':'분기별','분기당_매출_금액':'분기당평균매출금액(천원)',\r\n"
   ]
  },
  {
   "cell_type": "code",
   "execution_count": 582,
   "metadata": {},
   "outputs": [
    {
     "data": {
      "application/vnd.plotly.v1+json": {
       "config": {
        "plotlyServerURL": "https://plot.ly"
       },
       "data": [
        {
         "name": "관광특구 증감액",
         "type": "bar",
         "x": [
          "2019년1분기",
          "2019년2분기",
          "2019년3분기",
          "2019년4분기",
          "2020년1분기",
          "2020년2분기",
          "2020년3분기",
          "2020년4분기"
         ],
         "xaxis": "x",
         "y": [
          -12996779,
          -249132827,
          -62044458,
          -224759135,
          -137682174,
          -605095590,
          -675579781,
          -878897237
         ],
         "yaxis": "y"
        },
        {
         "mode": "lines+markers+text",
         "name": "관광특구 증감율",
         "text": [
          "-0.6",
          "-10.1",
          "-2.7",
          "-7.9",
          "-6.3",
          "-27.3",
          "-29.7",
          "-33.7"
         ],
         "textposition": "bottom center",
         "type": "scatter",
         "x": [
          "2019년1분기",
          "2019년2분기",
          "2019년3분기",
          "2019년4분기",
          "2020년1분기",
          "2020년2분기",
          "2020년3분기",
          "2020년4분기"
         ],
         "xaxis": "x",
         "y": [
          -0.6,
          -10.1,
          -2.7,
          -7.9,
          -6.3,
          -27.3,
          -29.7,
          -33.7
         ],
         "yaxis": "y2"
        },
        {
         "name": "발달상권 증감액",
         "type": "bar",
         "x": [
          "2019년1분기",
          "2019년2분기",
          "2019년3분기",
          "2019년4분기",
          "2020년1분기",
          "2020년2분기",
          "2020년3분기",
          "2020년4분기"
         ],
         "xaxis": "x2",
         "y": [
          42886219,
          -118702656,
          -48031397,
          -329046117,
          -376160230,
          -537452980,
          -561116398,
          -540863860
         ],
         "yaxis": "y3"
        },
        {
         "mode": "lines+markers+text",
         "name": "발달상권 증감율",
         "text": [
          "4.1",
          "-10.4",
          "-4.3",
          "-23.7",
          "-34.8",
          "-52.5",
          "-52.7",
          "-51.1"
         ],
         "textposition": "bottom center",
         "type": "scatter",
         "x": [
          "2019년1분기",
          "2019년2분기",
          "2019년3분기",
          "2019년4분기",
          "2020년1분기",
          "2020년2분기",
          "2020년3분기",
          "2020년4분기"
         ],
         "xaxis": "x2",
         "y": [
          4.1,
          -10.4,
          -4.3,
          -23.7,
          -34.8,
          -52.5,
          -52.7,
          -51.1
         ],
         "yaxis": "y4"
        },
        {
         "name": "골목상권 증감액",
         "type": "bar",
         "x": [
          "2019년1분기",
          "2019년2분기",
          "2019년3분기",
          "2019년4분기",
          "2020년1분기",
          "2020년2분기",
          "2020년3분기",
          "2020년4분기"
         ],
         "xaxis": "x3",
         "y": [
          -23241737,
          -82937893,
          -43681862,
          45959615,
          87725944,
          -6187309,
          -45414255,
          -172699843
         ],
         "yaxis": "y5"
        },
        {
         "mode": "lines+markers+text",
         "name": "골목상권 증감율",
         "text": [
          "-6.3",
          "-19.0",
          "-10.6",
          "9.7",
          "25.5",
          "-1.8",
          "-12.4",
          "-33.3"
         ],
         "textposition": "bottom center",
         "type": "scatter",
         "x": [
          "2019년1분기",
          "2019년2분기",
          "2019년3분기",
          "2019년4분기",
          "2020년1분기",
          "2020년2분기",
          "2020년3분기",
          "2020년4분기"
         ],
         "xaxis": "x3",
         "y": [
          -6.3,
          -19,
          -10.6,
          9.7,
          25.5,
          -1.8,
          -12.4,
          -33.3
         ],
         "yaxis": "y6"
        },
        {
         "name": "전통시장 증감액",
         "type": "bar",
         "x": [
          "2019년1분기",
          "2019년2분기",
          "2019년3분기",
          "2019년4분기",
          "2020년1분기",
          "2020년2분기",
          "2020년3분기",
          "2020년4분기"
         ],
         "xaxis": "x4",
         "y": [
          87396230,
          59176771,
          38869933,
          302605851,
          24421587,
          -4009789,
          -100630222,
          -252953175
         ],
         "yaxis": "y7"
        },
        {
         "mode": "lines+markers+text",
         "name": "전통시장 증감율",
         "text": [
          "30.0",
          "18.1",
          "10.1",
          "97.7",
          "6.5",
          "-1.0",
          "-23.6",
          "-41.3"
         ],
         "textposition": "bottom center",
         "type": "scatter",
         "x": [
          "2019년1분기",
          "2019년2분기",
          "2019년3분기",
          "2019년4분기",
          "2020년1분기",
          "2020년2분기",
          "2020년3분기",
          "2020년4분기"
         ],
         "xaxis": "x4",
         "y": [
          30,
          18.1,
          10.1,
          97.7,
          6.5,
          -1,
          -23.6,
          -41.3
         ],
         "yaxis": "y8"
        }
       ],
       "layout": {
        "annotations": [
         {
          "font": {
           "size": 16
          },
          "showarrow": false,
          "text": "관광특구",
          "x": 0.185,
          "xanchor": "center",
          "xref": "paper",
          "y": 1,
          "yanchor": "bottom",
          "yref": "paper"
         },
         {
          "font": {
           "size": 16
          },
          "showarrow": false,
          "text": "발달상권",
          "x": 0.7550000000000001,
          "xanchor": "center",
          "xref": "paper",
          "y": 1,
          "yanchor": "bottom",
          "yref": "paper"
         },
         {
          "font": {
           "size": 16
          },
          "showarrow": false,
          "text": "골목상권",
          "x": 0.185,
          "xanchor": "center",
          "xref": "paper",
          "y": 0.375,
          "yanchor": "bottom",
          "yref": "paper"
         },
         {
          "font": {
           "size": 16
          },
          "showarrow": false,
          "text": "전통시장",
          "x": 0.7550000000000001,
          "xanchor": "center",
          "xref": "paper",
          "y": 0.375,
          "yanchor": "bottom",
          "yref": "paper"
         }
        ],
        "font": {
         "color": "#60606e",
         "family": "Malgun Gothic",
         "size": 12
        },
        "height": 700,
        "template": {
         "data": {
          "bar": [
           {
            "error_x": {
             "color": "#2a3f5f"
            },
            "error_y": {
             "color": "#2a3f5f"
            },
            "marker": {
             "line": {
              "color": "#E5ECF6",
              "width": 0.5
             },
             "pattern": {
              "fillmode": "overlay",
              "size": 10,
              "solidity": 0.2
             }
            },
            "type": "bar"
           }
          ],
          "barpolar": [
           {
            "marker": {
             "line": {
              "color": "#E5ECF6",
              "width": 0.5
             },
             "pattern": {
              "fillmode": "overlay",
              "size": 10,
              "solidity": 0.2
             }
            },
            "type": "barpolar"
           }
          ],
          "carpet": [
           {
            "aaxis": {
             "endlinecolor": "#2a3f5f",
             "gridcolor": "white",
             "linecolor": "white",
             "minorgridcolor": "white",
             "startlinecolor": "#2a3f5f"
            },
            "baxis": {
             "endlinecolor": "#2a3f5f",
             "gridcolor": "white",
             "linecolor": "white",
             "minorgridcolor": "white",
             "startlinecolor": "#2a3f5f"
            },
            "type": "carpet"
           }
          ],
          "choropleth": [
           {
            "colorbar": {
             "outlinewidth": 0,
             "ticks": ""
            },
            "type": "choropleth"
           }
          ],
          "contour": [
           {
            "colorbar": {
             "outlinewidth": 0,
             "ticks": ""
            },
            "colorscale": [
             [
              0,
              "#0d0887"
             ],
             [
              0.1111111111111111,
              "#46039f"
             ],
             [
              0.2222222222222222,
              "#7201a8"
             ],
             [
              0.3333333333333333,
              "#9c179e"
             ],
             [
              0.4444444444444444,
              "#bd3786"
             ],
             [
              0.5555555555555556,
              "#d8576b"
             ],
             [
              0.6666666666666666,
              "#ed7953"
             ],
             [
              0.7777777777777778,
              "#fb9f3a"
             ],
             [
              0.8888888888888888,
              "#fdca26"
             ],
             [
              1,
              "#f0f921"
             ]
            ],
            "type": "contour"
           }
          ],
          "contourcarpet": [
           {
            "colorbar": {
             "outlinewidth": 0,
             "ticks": ""
            },
            "type": "contourcarpet"
           }
          ],
          "heatmap": [
           {
            "colorbar": {
             "outlinewidth": 0,
             "ticks": ""
            },
            "colorscale": [
             [
              0,
              "#0d0887"
             ],
             [
              0.1111111111111111,
              "#46039f"
             ],
             [
              0.2222222222222222,
              "#7201a8"
             ],
             [
              0.3333333333333333,
              "#9c179e"
             ],
             [
              0.4444444444444444,
              "#bd3786"
             ],
             [
              0.5555555555555556,
              "#d8576b"
             ],
             [
              0.6666666666666666,
              "#ed7953"
             ],
             [
              0.7777777777777778,
              "#fb9f3a"
             ],
             [
              0.8888888888888888,
              "#fdca26"
             ],
             [
              1,
              "#f0f921"
             ]
            ],
            "type": "heatmap"
           }
          ],
          "heatmapgl": [
           {
            "colorbar": {
             "outlinewidth": 0,
             "ticks": ""
            },
            "colorscale": [
             [
              0,
              "#0d0887"
             ],
             [
              0.1111111111111111,
              "#46039f"
             ],
             [
              0.2222222222222222,
              "#7201a8"
             ],
             [
              0.3333333333333333,
              "#9c179e"
             ],
             [
              0.4444444444444444,
              "#bd3786"
             ],
             [
              0.5555555555555556,
              "#d8576b"
             ],
             [
              0.6666666666666666,
              "#ed7953"
             ],
             [
              0.7777777777777778,
              "#fb9f3a"
             ],
             [
              0.8888888888888888,
              "#fdca26"
             ],
             [
              1,
              "#f0f921"
             ]
            ],
            "type": "heatmapgl"
           }
          ],
          "histogram": [
           {
            "marker": {
             "pattern": {
              "fillmode": "overlay",
              "size": 10,
              "solidity": 0.2
             }
            },
            "type": "histogram"
           }
          ],
          "histogram2d": [
           {
            "colorbar": {
             "outlinewidth": 0,
             "ticks": ""
            },
            "colorscale": [
             [
              0,
              "#0d0887"
             ],
             [
              0.1111111111111111,
              "#46039f"
             ],
             [
              0.2222222222222222,
              "#7201a8"
             ],
             [
              0.3333333333333333,
              "#9c179e"
             ],
             [
              0.4444444444444444,
              "#bd3786"
             ],
             [
              0.5555555555555556,
              "#d8576b"
             ],
             [
              0.6666666666666666,
              "#ed7953"
             ],
             [
              0.7777777777777778,
              "#fb9f3a"
             ],
             [
              0.8888888888888888,
              "#fdca26"
             ],
             [
              1,
              "#f0f921"
             ]
            ],
            "type": "histogram2d"
           }
          ],
          "histogram2dcontour": [
           {
            "colorbar": {
             "outlinewidth": 0,
             "ticks": ""
            },
            "colorscale": [
             [
              0,
              "#0d0887"
             ],
             [
              0.1111111111111111,
              "#46039f"
             ],
             [
              0.2222222222222222,
              "#7201a8"
             ],
             [
              0.3333333333333333,
              "#9c179e"
             ],
             [
              0.4444444444444444,
              "#bd3786"
             ],
             [
              0.5555555555555556,
              "#d8576b"
             ],
             [
              0.6666666666666666,
              "#ed7953"
             ],
             [
              0.7777777777777778,
              "#fb9f3a"
             ],
             [
              0.8888888888888888,
              "#fdca26"
             ],
             [
              1,
              "#f0f921"
             ]
            ],
            "type": "histogram2dcontour"
           }
          ],
          "mesh3d": [
           {
            "colorbar": {
             "outlinewidth": 0,
             "ticks": ""
            },
            "type": "mesh3d"
           }
          ],
          "parcoords": [
           {
            "line": {
             "colorbar": {
              "outlinewidth": 0,
              "ticks": ""
             }
            },
            "type": "parcoords"
           }
          ],
          "pie": [
           {
            "automargin": true,
            "type": "pie"
           }
          ],
          "scatter": [
           {
            "marker": {
             "colorbar": {
              "outlinewidth": 0,
              "ticks": ""
             }
            },
            "type": "scatter"
           }
          ],
          "scatter3d": [
           {
            "line": {
             "colorbar": {
              "outlinewidth": 0,
              "ticks": ""
             }
            },
            "marker": {
             "colorbar": {
              "outlinewidth": 0,
              "ticks": ""
             }
            },
            "type": "scatter3d"
           }
          ],
          "scattercarpet": [
           {
            "marker": {
             "colorbar": {
              "outlinewidth": 0,
              "ticks": ""
             }
            },
            "type": "scattercarpet"
           }
          ],
          "scattergeo": [
           {
            "marker": {
             "colorbar": {
              "outlinewidth": 0,
              "ticks": ""
             }
            },
            "type": "scattergeo"
           }
          ],
          "scattergl": [
           {
            "marker": {
             "colorbar": {
              "outlinewidth": 0,
              "ticks": ""
             }
            },
            "type": "scattergl"
           }
          ],
          "scattermapbox": [
           {
            "marker": {
             "colorbar": {
              "outlinewidth": 0,
              "ticks": ""
             }
            },
            "type": "scattermapbox"
           }
          ],
          "scatterpolar": [
           {
            "marker": {
             "colorbar": {
              "outlinewidth": 0,
              "ticks": ""
             }
            },
            "type": "scatterpolar"
           }
          ],
          "scatterpolargl": [
           {
            "marker": {
             "colorbar": {
              "outlinewidth": 0,
              "ticks": ""
             }
            },
            "type": "scatterpolargl"
           }
          ],
          "scatterternary": [
           {
            "marker": {
             "colorbar": {
              "outlinewidth": 0,
              "ticks": ""
             }
            },
            "type": "scatterternary"
           }
          ],
          "surface": [
           {
            "colorbar": {
             "outlinewidth": 0,
             "ticks": ""
            },
            "colorscale": [
             [
              0,
              "#0d0887"
             ],
             [
              0.1111111111111111,
              "#46039f"
             ],
             [
              0.2222222222222222,
              "#7201a8"
             ],
             [
              0.3333333333333333,
              "#9c179e"
             ],
             [
              0.4444444444444444,
              "#bd3786"
             ],
             [
              0.5555555555555556,
              "#d8576b"
             ],
             [
              0.6666666666666666,
              "#ed7953"
             ],
             [
              0.7777777777777778,
              "#fb9f3a"
             ],
             [
              0.8888888888888888,
              "#fdca26"
             ],
             [
              1,
              "#f0f921"
             ]
            ],
            "type": "surface"
           }
          ],
          "table": [
           {
            "cells": {
             "fill": {
              "color": "#EBF0F8"
             },
             "line": {
              "color": "white"
             }
            },
            "header": {
             "fill": {
              "color": "#C8D4E3"
             },
             "line": {
              "color": "white"
             }
            },
            "type": "table"
           }
          ]
         },
         "layout": {
          "annotationdefaults": {
           "arrowcolor": "#2a3f5f",
           "arrowhead": 0,
           "arrowwidth": 1
          },
          "autotypenumbers": "strict",
          "coloraxis": {
           "colorbar": {
            "outlinewidth": 0,
            "ticks": ""
           }
          },
          "colorscale": {
           "diverging": [
            [
             0,
             "#8e0152"
            ],
            [
             0.1,
             "#c51b7d"
            ],
            [
             0.2,
             "#de77ae"
            ],
            [
             0.3,
             "#f1b6da"
            ],
            [
             0.4,
             "#fde0ef"
            ],
            [
             0.5,
             "#f7f7f7"
            ],
            [
             0.6,
             "#e6f5d0"
            ],
            [
             0.7,
             "#b8e186"
            ],
            [
             0.8,
             "#7fbc41"
            ],
            [
             0.9,
             "#4d9221"
            ],
            [
             1,
             "#276419"
            ]
           ],
           "sequential": [
            [
             0,
             "#0d0887"
            ],
            [
             0.1111111111111111,
             "#46039f"
            ],
            [
             0.2222222222222222,
             "#7201a8"
            ],
            [
             0.3333333333333333,
             "#9c179e"
            ],
            [
             0.4444444444444444,
             "#bd3786"
            ],
            [
             0.5555555555555556,
             "#d8576b"
            ],
            [
             0.6666666666666666,
             "#ed7953"
            ],
            [
             0.7777777777777778,
             "#fb9f3a"
            ],
            [
             0.8888888888888888,
             "#fdca26"
            ],
            [
             1,
             "#f0f921"
            ]
           ],
           "sequentialminus": [
            [
             0,
             "#0d0887"
            ],
            [
             0.1111111111111111,
             "#46039f"
            ],
            [
             0.2222222222222222,
             "#7201a8"
            ],
            [
             0.3333333333333333,
             "#9c179e"
            ],
            [
             0.4444444444444444,
             "#bd3786"
            ],
            [
             0.5555555555555556,
             "#d8576b"
            ],
            [
             0.6666666666666666,
             "#ed7953"
            ],
            [
             0.7777777777777778,
             "#fb9f3a"
            ],
            [
             0.8888888888888888,
             "#fdca26"
            ],
            [
             1,
             "#f0f921"
            ]
           ]
          },
          "colorway": [
           "#636efa",
           "#EF553B",
           "#00cc96",
           "#ab63fa",
           "#FFA15A",
           "#19d3f3",
           "#FF6692",
           "#B6E880",
           "#FF97FF",
           "#FECB52"
          ],
          "font": {
           "color": "#2a3f5f"
          },
          "geo": {
           "bgcolor": "white",
           "lakecolor": "white",
           "landcolor": "#E5ECF6",
           "showlakes": true,
           "showland": true,
           "subunitcolor": "white"
          },
          "hoverlabel": {
           "align": "left"
          },
          "hovermode": "closest",
          "mapbox": {
           "style": "light"
          },
          "paper_bgcolor": "white",
          "plot_bgcolor": "#E5ECF6",
          "polar": {
           "angularaxis": {
            "gridcolor": "white",
            "linecolor": "white",
            "ticks": ""
           },
           "bgcolor": "#E5ECF6",
           "radialaxis": {
            "gridcolor": "white",
            "linecolor": "white",
            "ticks": ""
           }
          },
          "scene": {
           "xaxis": {
            "backgroundcolor": "#E5ECF6",
            "gridcolor": "white",
            "gridwidth": 2,
            "linecolor": "white",
            "showbackground": true,
            "ticks": "",
            "zerolinecolor": "white"
           },
           "yaxis": {
            "backgroundcolor": "#E5ECF6",
            "gridcolor": "white",
            "gridwidth": 2,
            "linecolor": "white",
            "showbackground": true,
            "ticks": "",
            "zerolinecolor": "white"
           },
           "zaxis": {
            "backgroundcolor": "#E5ECF6",
            "gridcolor": "white",
            "gridwidth": 2,
            "linecolor": "white",
            "showbackground": true,
            "ticks": "",
            "zerolinecolor": "white"
           }
          },
          "shapedefaults": {
           "line": {
            "color": "#2a3f5f"
           }
          },
          "ternary": {
           "aaxis": {
            "gridcolor": "white",
            "linecolor": "white",
            "ticks": ""
           },
           "baxis": {
            "gridcolor": "white",
            "linecolor": "white",
            "ticks": ""
           },
           "bgcolor": "#E5ECF6",
           "caxis": {
            "gridcolor": "white",
            "linecolor": "white",
            "ticks": ""
           }
          },
          "title": {
           "x": 0.05
          },
          "xaxis": {
           "automargin": true,
           "gridcolor": "white",
           "linecolor": "white",
           "ticks": "",
           "title": {
            "standoff": 15
           },
           "zerolinecolor": "white",
           "zerolinewidth": 2
          },
          "yaxis": {
           "automargin": true,
           "gridcolor": "white",
           "linecolor": "white",
           "ticks": "",
           "title": {
            "standoff": 15
           },
           "zerolinecolor": "white",
           "zerolinewidth": 2
          }
         }
        },
        "title": {
         "text": "<b>2019~2020 이태원 분기별 매출 증감액과 증감율 </b>"
        },
        "xaxis": {
         "anchor": "y",
         "domain": [
          0,
          0.37
         ]
        },
        "xaxis2": {
         "anchor": "y3",
         "domain": [
          0.5700000000000001,
          0.9400000000000001
         ]
        },
        "xaxis3": {
         "anchor": "y5",
         "domain": [
          0,
          0.37
         ]
        },
        "xaxis4": {
         "anchor": "y7",
         "domain": [
          0.5700000000000001,
          0.9400000000000001
         ]
        },
        "yaxis": {
         "anchor": "x",
         "domain": [
          0.625,
          1
         ],
         "title": {
          "text": "증감액(천원)"
         }
        },
        "yaxis2": {
         "anchor": "x",
         "overlaying": "y",
         "side": "right",
         "title": {
          "text": "증감율(%)"
         }
        },
        "yaxis3": {
         "anchor": "x2",
         "domain": [
          0.625,
          1
         ],
         "title": {
          "text": "증감액(천원)"
         }
        },
        "yaxis4": {
         "anchor": "x2",
         "overlaying": "y3",
         "side": "right",
         "title": {
          "text": "증감율(%)"
         }
        },
        "yaxis5": {
         "anchor": "x3",
         "domain": [
          0,
          0.375
         ],
         "title": {
          "text": "증감액(천원)"
         }
        },
        "yaxis6": {
         "anchor": "x3",
         "overlaying": "y5",
         "side": "right",
         "title": {
          "text": "증감율(%)"
         }
        },
        "yaxis7": {
         "anchor": "x4",
         "domain": [
          0,
          0.375
         ],
         "title": {
          "text": "증감액(천원)"
         }
        },
        "yaxis8": {
         "anchor": "x4",
         "overlaying": "y7",
         "side": "right",
         "title": {
          "text": "증감율(%)"
         }
        }
       }
      }
     },
     "metadata": {},
     "output_type": "display_data"
    }
   ],
   "source": [
    "\r\n",
    "# fig = go.Figure()\r\n",
    "fig = make_subplots(rows=2, cols=2,\r\n",
    "                    subplot_titles=(\"관광특구\", \"발달상권\", \"골목상권\", \"전통시장\"),\r\n",
    "                    specs=[[{\"secondary_y\": True}, {\"secondary_y\": True}],\r\n",
    "                           [{\"secondary_y\": True}, {\"secondary_y\": True}]])\r\n",
    "\r\n",
    "## 관광특구\r\n",
    "fig.add_trace(\r\n",
    "    go.Bar(x=result1['기준_분기_코드'],\r\n",
    "            y=result1['전년도 분기 대비 매출증감액'],\r\n",
    "            name='관광특구 증감액'),\r\n",
    "            row=1, col=1,\r\n",
    "            secondary_y=False)\r\n",
    "fig.add_trace(\r\n",
    "    go.Scatter(x=result1['기준_분기_코드'],\r\n",
    "            y=result1['전년도 분기 대비 매출증감율'],\r\n",
    "            mode='lines+markers+text',\r\n",
    "            name='관광특구 증감율',\r\n",
    "            text=result1['전년도 분기 대비 매출증감율'],\r\n",
    "            textposition=\"bottom center\"),\r\n",
    "            row=1, col=1,\r\n",
    "            secondary_y=True)\r\n",
    "## 발달상권\r\n",
    "fig.add_trace(\r\n",
    "    go.Bar(x=result2['기준_분기_코드'],\r\n",
    "            y=result2['전년도 분기 대비 매출증감액'],\r\n",
    "            name='발달상권 증감액'),\r\n",
    "            row=1, col=2,\r\n",
    "            secondary_y=False)\r\n",
    "fig.add_trace(\r\n",
    "    go.Scatter(x=result2['기준_분기_코드'],\r\n",
    "            y=result2['전년도 분기 대비 매출증감율'],\r\n",
    "            mode='lines+markers+text',\r\n",
    "            name='발달상권 증감율',\r\n",
    "            text=result2['전년도 분기 대비 매출증감율'],\r\n",
    "            textposition=\"bottom center\"),\r\n",
    "            row=1, col=2,\r\n",
    "            secondary_y=True)\r\n",
    "## 골목상권    \r\n",
    "fig.add_trace(\r\n",
    "    go.Bar(x=result3['기준_분기_코드'],\r\n",
    "            y=result3['전년도 분기 대비 매출증감액'],\r\n",
    "            name='골목상권 증감액'),\r\n",
    "            row=2, col=1,\r\n",
    "            secondary_y=False)\r\n",
    "fig.add_trace(\r\n",
    "    go.Scatter(x=result3['기준_분기_코드'],\r\n",
    "            y=result3['전년도 분기 대비 매출증감율'],\r\n",
    "            mode='lines+markers+text',\r\n",
    "            name='골목상권 증감율',\r\n",
    "            text=result3['전년도 분기 대비 매출증감율'],\r\n",
    "            textposition=\"bottom center\"),\r\n",
    "            row=2, col=1,\r\n",
    "            secondary_y=True)\r\n",
    "\r\n",
    "## 전통시장\r\n",
    "fig.add_trace(\r\n",
    "    go.Bar(x=result4['기준_분기_코드'],\r\n",
    "            y=result4['전년도 분기 대비 매출증감액'],\r\n",
    "            name='전통시장 증감액'),\r\n",
    "            row=2, col=2,\r\n",
    "            secondary_y=False)\r\n",
    "fig.add_trace(\r\n",
    "    go.Scatter(x=result4['기준_분기_코드'],\r\n",
    "            y=result4['전년도 분기 대비 매출증감율'],\r\n",
    "            mode='lines+markers+text',\r\n",
    "            name='전통시장 증감율',\r\n",
    "            text=result4['전년도 분기 대비 매출증감율'],\r\n",
    "            textposition=\"bottom center\"),\r\n",
    "            row=2, col=2,\r\n",
    "            secondary_y=True)\r\n",
    "\r\n",
    "\r\n",
    "fig.update_layout(title='<b>2019~2020 이태원 분기별 매출 증감액과 증감율 </b>', height=700,**layout_font)\r\n",
    "\r\n",
    "# Set y-axes titles\r\n",
    "fig.update_yaxes(title_text=\"증감액(천원)\", secondary_y=False)\r\n",
    "fig.update_yaxes(title_text=\"증감율(%)\", secondary_y=True)\r\n",
    "fig.show()"
   ]
  },
  {
   "cell_type": "code",
   "execution_count": null,
   "metadata": {},
   "outputs": [],
   "source": []
  },
  {
   "cell_type": "code",
   "execution_count": null,
   "metadata": {},
   "outputs": [],
   "source": []
  }
 ],
 "metadata": {
  "interpreter": {
   "hash": "ddb88318a3d9bbb9a5bde6ec31a29caee17321a0487823ec3974b8fe84c98c6e"
  },
  "kernelspec": {
   "display_name": "Python 3.7.6 64-bit ('multi': conda)",
   "name": "python3"
  },
  "language_info": {
   "codemirror_mode": {
    "name": "ipython",
    "version": 3
   },
   "file_extension": ".py",
   "mimetype": "text/x-python",
   "name": "python",
   "nbconvert_exporter": "python",
   "pygments_lexer": "ipython3",
   "version": "3.7.6"
  },
  "orig_nbformat": 4
 },
 "nbformat": 4,
 "nbformat_minor": 2
}