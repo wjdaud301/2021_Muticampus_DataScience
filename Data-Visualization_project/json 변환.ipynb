{
 "cells": [
  {
   "cell_type": "code",
   "execution_count": 6,
   "id": "f865f563-e0bb-4bc8-81cb-4873d627b7b3",
   "metadata": {},
   "outputs": [
    {
     "name": "stdout",
     "output_type": "stream",
     "text": [
      "<response>\n",
      "\t<header>\n",
      "\t\t<description>소상공인시장진흥공단 상가업소정보</description>\n",
      "\t\t<columns>상가업소번호,상호명,지점명,상권업종대분류코드,상권업종대분류명,상권업종중분류코드,상권업종중분류명,상권업종소분류코드,상권업종소분류명,표준산업분류코드,표준산업분류명,시도코드,시도명,시군구코드,시군구명,행정동코드,행정동명,법정동코드,법정동명,PNU코드,대지구분코드,대지구분명,지번본번지,지번부번지,지번주소,도로명코드,도로명,건물본번지,건물부번지,건물관리번호,건물명,도로명주소,구우편번호,신우편번호,동정보,층정보,호정보,경도,위도,변경구분,수정일자</columns>\n",
      "\t\t<resultCode>03</resultCode>\n",
      "\t\t<resultMsg>NODATA_ERROR</resultMsg>\n",
      "\t</header>\n",
      "\t<body>\n",
      "\t\t<items>\n",
      "\t\t</items>\n",
      "\t</body>\n",
      "</response>\n",
      "\n"
     ]
    }
   ],
   "source": [
    "from urllib.parse import urlencode, unquote\n",
    "import json\n",
    "import requests\n",
    "\n",
    "url = \"http://apis.data.go.kr/B553077/api/open/sdsc/reqStoreModify\"\n",
    "\n",
    "queryString = '?' + urlencode(\n",
    "    {\n",
    "    \"ServiceKey\" : unquote(\"LXAFnythUXqok0ZsUst9WH4yRP3a9z7KjuM8P8KlKb4HSJIq+bvt/4mTNmHL/yioJMw65V5T0ZWJaj2kl5HOEA==\"),\n",
    "    \"key\" : '20151202', \n",
    "    \"resId\" : \"store\",\n",
    "    \"catId\" : \"date\",\n",
    "    \"bizesId\" : \"10868815\"\n",
    "        \n",
    "    }\n",
    ")\n",
    "\n",
    "queryURL = url + queryString\n",
    "response = requests.get(queryURL)\n",
    "print(response.text)\n",
    "\n",
    "with open(\"C:/Users/의원1/git/[multi] 데이터 시각화 프로젝트/NO_16.json\",'w', encoding='cp949') as f:\n",
    "    json.dump(response.text, f)\n",
    "\n",
    "# storeListInDong = json.loads(response.text)\n",
    "# r_response = storeListInDong.get(\"response\")\n",
    "# r_body = r_response.get(\"body\")"
   ]
  },
  {
   "cell_type": "code",
   "execution_count": null,
   "id": "4b3b121a-d385-4df1-af0f-0e5fcc1511c3",
   "metadata": {},
   "outputs": [],
   "source": []
  }
 ],
 "metadata": {
  "kernelspec": {
   "display_name": "Python Multi",
   "language": "python",
   "name": "multi"
  },
  "language_info": {
   "codemirror_mode": {
    "name": "ipython",
    "version": 3
   },
   "file_extension": ".py",
   "mimetype": "text/x-python",
   "name": "python",
   "nbconvert_exporter": "python",
   "pygments_lexer": "ipython3",
   "version": "3.7.6"
  }
 },
 "nbformat": 4,
 "nbformat_minor": 5
}
