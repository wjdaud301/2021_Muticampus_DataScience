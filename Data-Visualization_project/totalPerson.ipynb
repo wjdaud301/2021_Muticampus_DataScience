{
 "cells": [
  {
   "cell_type": "code",
   "execution_count": 248,
   "metadata": {},
   "outputs": [],
   "source": [
    "#h_df = df.sort_values(by=['행정동코드'])"
   ]
  },
  {
   "cell_type": "code",
   "execution_count": 249,
   "metadata": {},
   "outputs": [],
   "source": [
    "#df2 = df.sort_values(by=['총생활인구수'],ascending=False)"
   ]
  },
  {
   "cell_type": "code",
   "execution_count": 251,
   "metadata": {},
   "outputs": [],
   "source": [
    "#int(df2[['총생활인구수']].mean())"
   ]
  },
  {
   "cell_type": "code",
   "execution_count": 252,
   "metadata": {},
   "outputs": [],
   "source": [
    "# a = int(df2[[\"총생활인구수\"]].mean())\n",
    "# df3 = df2.query(f'총생활인구수 >= {a}')\n",
    "# df3"
   ]
  },
  {
   "cell_type": "code",
   "execution_count": 419,
   "metadata": {},
   "outputs": [],
   "source": [
    "import pandas as pd\n",
    "import numpy as np\n",
    "\n",
    "df = pd.read_csv('LOCAL_PEOPLE_20190101.csv')\n",
    "code = pd.read_csv('행정동코드.csv',index_col=0)\n",
    "\n",
    "code = code.query(\"시군구명 == '용산구'\")\n",
    "df1 = pd.merge(df.iloc[:,:5],code.iloc[:,1:], on='행정동코드',how ='left')\n",
    "df1 = df1.dropna()\n",
    "df1 = df1[df1.apply(lambda x : x['총생활인구수'] != 0 ,axis=1)]\n",
    "\n",
    "# df1 = df1.sort_values(by=['총생활인구수'],ascending=False)\n",
    "df1['기준일ID']= df1['기준일ID'].astype('str')\n",
    "\n",
    "df1['기준일ID'] = pd.to_datetime(df1['기준일ID'])\n",
    "\n",
    "df1['년'] = df1['기준일ID'].dt.year\n",
    "df1['월'] = df1['기준일ID'].dt.month\n",
    "\n",
    "df1.drop(['기준일ID'],axis=1,inplace=True)\n",
    "df1.drop(['집계구코드'],axis=1,inplace=True)\n",
    "\n",
    "\n",
    "# df1.replace('*',np.nan,inplace=True)\n",
    "# df1.dropna(inplace=True)\n",
    "\n",
    "# df3 = df1.groupby()['총생활인구수'].transform('mean')\n",
    "df1['총생활인구수'] = df1.groupby(['시간대구분','행정동명'])['총생활인구수'].transform('mean')\n",
    "df1['총생활인구수'] = df1['총생활인구수'].astype(int)\n",
    "\n",
    "df1.drop_duplicates(inplace=True)\n",
    "\n",
    "for i in range(2,3):\n",
    "    i = str(i)\n",
    "    df = pd.read_csv(f'LOCAL_PEOPLE_2019010{i}.csv')\n",
    "\n",
    "    df2 = pd.merge(df.iloc[:,:5],code.iloc[:,1:], on='행정동코드',how ='left')\n",
    "    df2 = df2.dropna()\n",
    "    df2 = df2[df2.apply(lambda x : x['총생활인구수'] != 0 ,axis=1)]\n",
    "\n",
    "    df2['기준일ID']= df2['기준일ID'].astype('str')\n",
    "\n",
    "    df2['기준일ID'] = pd.to_datetime(df2['기준일ID'])\n",
    "\n",
    "    df2['년'] = df2['기준일ID'].dt.year\n",
    "    df2['월'] = df2['기준일ID'].dt.month\n",
    "\n",
    "    df2.drop(['기준일ID'],axis=1,inplace=True)\n",
    "    df2.drop(['집계구코드'],axis=1,inplace=True)\n",
    "\n",
    "    df2['총생활인구수'] = df2.groupby(['시간대구분','행정동명'])['총생활인구수'].transform('mean')\n",
    "    df2['총생활인구수'] = df2['총생활인구수'].astype(int)\n",
    "\n",
    "    df2.drop_duplicates(inplace=True)\n",
    "    tmp = (df1['총생활인구수'].values + df2['총생활인구수'].values)//2\n",
    "\n",
    "df1['총생활인구수'] = tmp\n",
    "df1.to_csv('LOCAL_PEOPLE_201901.csv')"
   ]
  },
  {
   "cell_type": "code",
   "execution_count": 331,
   "metadata": {},
   "outputs": [],
   "source": [
    "# df1 = df1.sort_values(by=['총생활인구수'],ascending=False)\n",
    "# df.fillna(value = 0, inplace=True)\n",
    "# df2.replace('*',np.nan,inplace=True)\n",
    "\n",
    "# for i in range(2,3):\n",
    "#     df = pd.read_csv(f'LOCAL_PEOPLE_2019010{str(i)}.csv')\n",
    "#     # df2의 총생활인구수와 평균을 내서 다시삽입\n",
    "#     df2['총생활인구수'] = df2.groupby(['시간대구분','행정동명'])['총생활인구수'].transform('mean')"
   ]
  }
 ],
 "metadata": {
  "kernelspec": {
   "display_name": "Python Multi",
   "language": "python",
   "name": "multi"
  },
  "language_info": {
   "codemirror_mode": {
    "name": "ipython",
    "version": 3
   },
   "file_extension": ".py",
   "mimetype": "text/x-python",
   "name": "python",
   "nbconvert_exporter": "python",
   "pygments_lexer": "ipython3",
   "version": "3.7.6"
  }
 },
 "nbformat": 4,
 "nbformat_minor": 4
}
