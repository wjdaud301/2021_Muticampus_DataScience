{
 "cells": [
  {
   "cell_type": "code",
   "execution_count": 3,
   "metadata": {},
   "outputs": [],
   "source": [
    "import pandas as pd\n",
    "import numpy as np"
   ]
  },
  {
   "cell_type": "markdown",
   "metadata": {},
   "source": [
    "## 소규모 상가 공실률"
   ]
  },
  {
   "cell_type": "code",
   "execution_count": 20,
   "metadata": {},
   "outputs": [
    {
     "name": "stderr",
     "output_type": "stream",
     "text": [
      "C:\\ananconda\\envs\\multi\\lib\\site-packages\\openpyxl\\styles\\stylesheet.py:221: UserWarning: Workbook contains no default style, apply openpyxl's default\n",
      "  warn(\"Workbook contains no default style, apply openpyxl's default\")\n"
     ]
    },
    {
     "data": {
      "text/html": [
       "<div>\n",
       "<style scoped>\n",
       "    .dataframe tbody tr th:only-of-type {\n",
       "        vertical-align: middle;\n",
       "    }\n",
       "\n",
       "    .dataframe tbody tr th {\n",
       "        vertical-align: top;\n",
       "    }\n",
       "\n",
       "    .dataframe thead th {\n",
       "        text-align: right;\n",
       "    }\n",
       "</style>\n",
       "<table border=\"1\" class=\"dataframe\">\n",
       "  <thead>\n",
       "    <tr style=\"text-align: right;\">\n",
       "      <th></th>\n",
       "      <th>상권별(1)</th>\n",
       "      <th>상권별(2)</th>\n",
       "      <th>상권별(3)</th>\n",
       "      <th>2020 1/4</th>\n",
       "      <th>2020 2/4</th>\n",
       "      <th>2020 3/4</th>\n",
       "      <th>2020 4/4</th>\n",
       "      <th>2021 1/4</th>\n",
       "    </tr>\n",
       "  </thead>\n",
       "  <tbody>\n",
       "    <tr>\n",
       "      <th>0</th>\n",
       "      <td>전국</td>\n",
       "      <td>소계</td>\n",
       "      <td>소계</td>\n",
       "      <td>5.6</td>\n",
       "      <td>6.0</td>\n",
       "      <td>6.5</td>\n",
       "      <td>7.1</td>\n",
       "      <td>6.4</td>\n",
       "    </tr>\n",
       "    <tr>\n",
       "      <th>1</th>\n",
       "      <td>서울</td>\n",
       "      <td>소계</td>\n",
       "      <td>소계</td>\n",
       "      <td>4.0</td>\n",
       "      <td>4.2</td>\n",
       "      <td>5.7</td>\n",
       "      <td>7.5</td>\n",
       "      <td>6.5</td>\n",
       "    </tr>\n",
       "    <tr>\n",
       "      <th>2</th>\n",
       "      <td>NaN</td>\n",
       "      <td>소계(도심지역)</td>\n",
       "      <td>소계</td>\n",
       "      <td>1.9</td>\n",
       "      <td>3.3</td>\n",
       "      <td>8.4</td>\n",
       "      <td>10.5</td>\n",
       "      <td>8.5</td>\n",
       "    </tr>\n",
       "    <tr>\n",
       "      <th>3</th>\n",
       "      <td>NaN</td>\n",
       "      <td>NaN</td>\n",
       "      <td>광화문</td>\n",
       "      <td>0.0</td>\n",
       "      <td>4.3</td>\n",
       "      <td>4.3</td>\n",
       "      <td>4.3</td>\n",
       "      <td>4.2</td>\n",
       "    </tr>\n",
       "    <tr>\n",
       "      <th>4</th>\n",
       "      <td>NaN</td>\n",
       "      <td>NaN</td>\n",
       "      <td>남대문</td>\n",
       "      <td>5.3</td>\n",
       "      <td>5.3</td>\n",
       "      <td>5.3</td>\n",
       "      <td>9.9</td>\n",
       "      <td>8.1</td>\n",
       "    </tr>\n",
       "  </tbody>\n",
       "</table>\n",
       "</div>"
      ],
      "text/plain": [
       "  상권별(1)    상권별(2) 상권별(3)  2020 1/4  2020 2/4  2020 3/4  2020 4/4  2021 1/4\n",
       "0     전국        소계     소계       5.6       6.0       6.5       7.1       6.4\n",
       "1     서울        소계     소계       4.0       4.2       5.7       7.5       6.5\n",
       "2    NaN  소계(도심지역)     소계       1.9       3.3       8.4      10.5       8.5\n",
       "3    NaN       NaN    광화문       0.0       4.3       4.3       4.3       4.2\n",
       "4    NaN       NaN    남대문       5.3       5.3       5.3       9.9       8.1"
      ]
     },
     "execution_count": 20,
     "metadata": {},
     "output_type": "execute_result"
    }
   ],
   "source": [
    "ssg21 = pd.read_excel('상권별_소규모_상가_공실률_2021.xlsx')\n",
    "ssg20 = pd.read_excel('상권별_소규모_상가_공실률_2020.xlsx')\n",
    "ssg19 = pd.read_excel('상권별_소규모_상가_공실률_2019.xlsx')\n",
    "ssg18 = pd.read_excel('상권별_소규모_상가_공실률_2018.xlsx')\n",
    "ssg17 = pd.read_excel('상권별_소규모_상가_공실률_2017.xlsx')\n",
    "\n",
    "ssg21_20 = [ssg20,ssg21]\n",
    "ssg17_19 = [ssg17,ssg18,ssg19]\n",
    "\n",
    "df21_20 = pd.DataFrame(ssg21[['상권별(1)','상권별(2)','상권별(3)']])\n",
    "for ssg in ssg21_20:\n",
    "    for i in ssg.columns:\n",
    "        if i not in ['상권별(1)','상권별(2)','상권별(3)']:\n",
    "            df21_20[i] = ssg[i]\n",
    "            \n",
    "            \n",
    "df17_19 = pd.DataFrame(ssg17[['상권별(1)','상권별(2)']])\n",
    "for ssg in ssg17_19:\n",
    "    for i in ssg.columns:\n",
    "        if i not in ['상권별(1)','상권별(2)']:\n",
    "            df17_19[i] = ssg[i]\n",
    "\n",
    "df21_20.head()"
   ]
  },
  {
   "cell_type": "code",
   "execution_count": 21,
   "metadata": {},
   "outputs": [],
   "source": [
    "df21_20['상권별(1)'].fillna(method='ffill',inplace=True)\n",
    "df21_20['상권별(2)'].fillna(method='ffill',inplace=True)\n",
    "df17_19['상권별(1)'].fillna(method='ffill',inplace=True)"
   ]
  },
  {
   "cell_type": "code",
   "execution_count": 22,
   "metadata": {},
   "outputs": [
    {
     "data": {
      "text/html": [
       "<div>\n",
       "<style scoped>\n",
       "    .dataframe tbody tr th:only-of-type {\n",
       "        vertical-align: middle;\n",
       "    }\n",
       "\n",
       "    .dataframe tbody tr th {\n",
       "        vertical-align: top;\n",
       "    }\n",
       "\n",
       "    .dataframe thead th {\n",
       "        text-align: right;\n",
       "    }\n",
       "</style>\n",
       "<table border=\"1\" class=\"dataframe\">\n",
       "  <thead>\n",
       "    <tr style=\"text-align: right;\">\n",
       "      <th></th>\n",
       "      <th>상권별(1)</th>\n",
       "      <th>상권별(2)</th>\n",
       "      <th>상권별(3)</th>\n",
       "      <th>2020 1/4</th>\n",
       "      <th>2020 2/4</th>\n",
       "      <th>2020 3/4</th>\n",
       "      <th>2020 4/4</th>\n",
       "      <th>2021 1/4</th>\n",
       "    </tr>\n",
       "  </thead>\n",
       "  <tbody>\n",
       "    <tr>\n",
       "      <th>0</th>\n",
       "      <td>전국</td>\n",
       "      <td>소계</td>\n",
       "      <td>소계</td>\n",
       "      <td>5.6</td>\n",
       "      <td>6.0</td>\n",
       "      <td>6.5</td>\n",
       "      <td>7.1</td>\n",
       "      <td>6.4</td>\n",
       "    </tr>\n",
       "    <tr>\n",
       "      <th>1</th>\n",
       "      <td>서울</td>\n",
       "      <td>소계</td>\n",
       "      <td>소계</td>\n",
       "      <td>4.0</td>\n",
       "      <td>4.2</td>\n",
       "      <td>5.7</td>\n",
       "      <td>7.5</td>\n",
       "      <td>6.5</td>\n",
       "    </tr>\n",
       "    <tr>\n",
       "      <th>2</th>\n",
       "      <td>서울</td>\n",
       "      <td>소계(도심지역)</td>\n",
       "      <td>소계</td>\n",
       "      <td>1.9</td>\n",
       "      <td>3.3</td>\n",
       "      <td>8.4</td>\n",
       "      <td>10.5</td>\n",
       "      <td>8.5</td>\n",
       "    </tr>\n",
       "    <tr>\n",
       "      <th>3</th>\n",
       "      <td>서울</td>\n",
       "      <td>소계(도심지역)</td>\n",
       "      <td>광화문</td>\n",
       "      <td>0.0</td>\n",
       "      <td>4.3</td>\n",
       "      <td>4.3</td>\n",
       "      <td>4.3</td>\n",
       "      <td>4.2</td>\n",
       "    </tr>\n",
       "    <tr>\n",
       "      <th>4</th>\n",
       "      <td>서울</td>\n",
       "      <td>소계(도심지역)</td>\n",
       "      <td>남대문</td>\n",
       "      <td>5.3</td>\n",
       "      <td>5.3</td>\n",
       "      <td>5.3</td>\n",
       "      <td>9.9</td>\n",
       "      <td>8.1</td>\n",
       "    </tr>\n",
       "  </tbody>\n",
       "</table>\n",
       "</div>"
      ],
      "text/plain": [
       "  상권별(1)    상권별(2) 상권별(3)  2020 1/4  2020 2/4  2020 3/4  2020 4/4  2021 1/4\n",
       "0     전국        소계     소계       5.6       6.0       6.5       7.1       6.4\n",
       "1     서울        소계     소계       4.0       4.2       5.7       7.5       6.5\n",
       "2     서울  소계(도심지역)     소계       1.9       3.3       8.4      10.5       8.5\n",
       "3     서울  소계(도심지역)    광화문       0.0       4.3       4.3       4.3       4.2\n",
       "4     서울  소계(도심지역)    남대문       5.3       5.3       5.3       9.9       8.1"
      ]
     },
     "execution_count": 22,
     "metadata": {},
     "output_type": "execute_result"
    }
   ],
   "source": [
    "df21_20.head()"
   ]
  },
  {
   "cell_type": "code",
   "execution_count": 40,
   "metadata": {},
   "outputs": [],
   "source": [
    "df21_20.rename(columns = {'상권별(1)':'지역', '상권별(2)':'지역분류','상권별(3)' : '도심'}, inplace =True)\n",
    "df17_19.rename(columns = {'상권별(1)':'지역', '상권별(2)':'도심'}, inplace =True)\n",
    "df21_20.fillna(0.0, inplace = True)\n",
    "df17_19.fillna(0.0, inplace = True)"
   ]
  },
  {
   "cell_type": "code",
   "execution_count": 43,
   "metadata": {},
   "outputs": [
    {
     "name": "stdout",
     "output_type": "stream",
     "text": [
      "<class 'pandas.core.frame.DataFrame'>\n",
      "RangeIndex: 192 entries, 0 to 191\n",
      "Data columns (total 14 columns):\n",
      " #   Column    Non-Null Count  Dtype  \n",
      "---  ------    --------------  -----  \n",
      " 0   지역        192 non-null    object \n",
      " 1   도심        192 non-null    object \n",
      " 2   2017 1/4  192 non-null    float64\n",
      " 3   2017 2/4  192 non-null    float64\n",
      " 4   2017 3/4  192 non-null    float64\n",
      " 5   2017 4/4  192 non-null    float64\n",
      " 6   2018 1/4  192 non-null    float64\n",
      " 7   2018 2/4  192 non-null    float64\n",
      " 8   2018 3/4  192 non-null    float64\n",
      " 9   2018 4/4  192 non-null    float64\n",
      " 10  2019 1/4  192 non-null    float64\n",
      " 11  2019 2/4  192 non-null    float64\n",
      " 12  2019 3/4  192 non-null    float64\n",
      " 13  2019 4/4  192 non-null    float64\n",
      "dtypes: float64(12), object(2)\n",
      "memory usage: 21.1+ KB\n"
     ]
    }
   ],
   "source": [
    "df17_19.info()"
   ]
  },
  {
   "cell_type": "code",
   "execution_count": 47,
   "metadata": {},
   "outputs": [
    {
     "data": {
      "text/html": [
       "<div>\n",
       "<style scoped>\n",
       "    .dataframe tbody tr th:only-of-type {\n",
       "        vertical-align: middle;\n",
       "    }\n",
       "\n",
       "    .dataframe tbody tr th {\n",
       "        vertical-align: top;\n",
       "    }\n",
       "\n",
       "    .dataframe thead th {\n",
       "        text-align: right;\n",
       "    }\n",
       "</style>\n",
       "<table border=\"1\" class=\"dataframe\">\n",
       "  <thead>\n",
       "    <tr style=\"text-align: right;\">\n",
       "      <th></th>\n",
       "      <th>지역</th>\n",
       "      <th>지역분류</th>\n",
       "      <th>도심</th>\n",
       "      <th>2020 1/4</th>\n",
       "      <th>2020 2/4</th>\n",
       "      <th>2020 3/4</th>\n",
       "      <th>2020 4/4</th>\n",
       "      <th>2021 1/4</th>\n",
       "    </tr>\n",
       "  </thead>\n",
       "  <tbody>\n",
       "    <tr>\n",
       "      <th>0</th>\n",
       "      <td>전국</td>\n",
       "      <td>소계</td>\n",
       "      <td>소계</td>\n",
       "      <td>5.6</td>\n",
       "      <td>6.0</td>\n",
       "      <td>6.5</td>\n",
       "      <td>7.1</td>\n",
       "      <td>6.4</td>\n",
       "    </tr>\n",
       "    <tr>\n",
       "      <th>1</th>\n",
       "      <td>서울</td>\n",
       "      <td>소계</td>\n",
       "      <td>소계</td>\n",
       "      <td>4.0</td>\n",
       "      <td>4.2</td>\n",
       "      <td>5.7</td>\n",
       "      <td>7.5</td>\n",
       "      <td>6.5</td>\n",
       "    </tr>\n",
       "    <tr>\n",
       "      <th>2</th>\n",
       "      <td>서울</td>\n",
       "      <td>소계(도심지역)</td>\n",
       "      <td>소계</td>\n",
       "      <td>1.9</td>\n",
       "      <td>3.3</td>\n",
       "      <td>8.4</td>\n",
       "      <td>10.5</td>\n",
       "      <td>8.5</td>\n",
       "    </tr>\n",
       "    <tr>\n",
       "      <th>3</th>\n",
       "      <td>서울</td>\n",
       "      <td>소계(도심지역)</td>\n",
       "      <td>광화문</td>\n",
       "      <td>0.0</td>\n",
       "      <td>4.3</td>\n",
       "      <td>4.3</td>\n",
       "      <td>4.3</td>\n",
       "      <td>4.2</td>\n",
       "    </tr>\n",
       "    <tr>\n",
       "      <th>4</th>\n",
       "      <td>서울</td>\n",
       "      <td>소계(도심지역)</td>\n",
       "      <td>남대문</td>\n",
       "      <td>5.3</td>\n",
       "      <td>5.3</td>\n",
       "      <td>5.3</td>\n",
       "      <td>9.9</td>\n",
       "      <td>8.1</td>\n",
       "    </tr>\n",
       "  </tbody>\n",
       "</table>\n",
       "</div>"
      ],
      "text/plain": [
       "   지역      지역분류   도심  2020 1/4  2020 2/4  2020 3/4  2020 4/4  2021 1/4\n",
       "0  전국        소계   소계       5.6       6.0       6.5       7.1       6.4\n",
       "1  서울        소계   소계       4.0       4.2       5.7       7.5       6.5\n",
       "2  서울  소계(도심지역)   소계       1.9       3.3       8.4      10.5       8.5\n",
       "3  서울  소계(도심지역)  광화문       0.0       4.3       4.3       4.3       4.2\n",
       "4  서울  소계(도심지역)  남대문       5.3       5.3       5.3       9.9       8.1"
      ]
     },
     "execution_count": 47,
     "metadata": {},
     "output_type": "execute_result"
    }
   ],
   "source": [
    "df21_20.head()"
   ]
  },
  {
   "cell_type": "code",
   "execution_count": 56,
   "metadata": {},
   "outputs": [],
   "source": [
    "df21_20_서울 = df21_20.query(\"지역=='서울'\")\n",
    "df17_19_서울 = df17_19.query(\"지역=='서울'\")"
   ]
  },
  {
   "cell_type": "code",
   "execution_count": 57,
   "metadata": {},
   "outputs": [],
   "source": [
    "df21_20_서울.to_excel('상권별_소규모_상가_공실률_21~20.xlsx')\n",
    "df17_19_서울.to_excel('상권별_소규모_상가_공실률_17~19.xlsx')"
   ]
  },
  {
   "cell_type": "markdown",
   "metadata": {},
   "source": [
    "## 중대형 상가 공실률"
   ]
  },
  {
   "cell_type": "code",
   "execution_count": 58,
   "metadata": {},
   "outputs": [
    {
     "name": "stderr",
     "output_type": "stream",
     "text": [
      "C:\\ananconda\\envs\\multi\\lib\\site-packages\\openpyxl\\styles\\stylesheet.py:221: UserWarning: Workbook contains no default style, apply openpyxl's default\n",
      "  warn(\"Workbook contains no default style, apply openpyxl's default\")\n"
     ]
    }
   ],
   "source": [
    "ssg21 = pd.read_excel('상권별_중대형_상가_공실률_2021.xlsx')\n",
    "ssg20 = pd.read_excel('상권별_중대형_상가_공실률_2020.xlsx')\n",
    "ssg19 = pd.read_excel('상권별_중대형_상가_공실률_2019.xlsx')\n",
    "ssg18 = pd.read_excel('상권별_중대형_상가_공실률_2018.xlsx')\n",
    "ssg17 = pd.read_excel('상권별_중대형_상가_공실률_2017.xlsx')\n",
    "\n",
    "ssg21_20 = [ssg20,ssg21]\n",
    "ssg17_19 = [ssg17,ssg18,ssg19]\n",
    "\n",
    "df21_20 = pd.DataFrame(ssg21[['상권별(1)','상권별(2)','상권별(3)']])\n",
    "for ssg in ssg21_20:\n",
    "    for i in ssg.columns:\n",
    "        if i not in ['상권별(1)','상권별(2)','상권별(3)']:\n",
    "            df21_20[i] = ssg[i]\n",
    "            \n",
    "            \n",
    "df17_19 = pd.DataFrame(ssg17[['상권별(1)','상권별(2)']])\n",
    "for ssg in ssg17_19:\n",
    "    for i in ssg.columns:\n",
    "        if i not in ['상권별(1)','상권별(2)']:\n",
    "            df17_19[i] = ssg[i]\n"
   ]
  },
  {
   "cell_type": "code",
   "execution_count": 59,
   "metadata": {},
   "outputs": [],
   "source": [
    "df21_20['상권별(1)'].fillna(method='ffill',inplace=True)\n",
    "df21_20['상권별(2)'].fillna(method='ffill',inplace=True)\n",
    "df17_19['상권별(1)'].fillna(method='ffill',inplace=True)\n",
    "\n",
    "df21_20.rename(columns = {'상권별(1)':'지역', '상권별(2)':'지역분류','상권별(3)' : '도심'}, inplace =True)\n",
    "df17_19.rename(columns = {'상권별(1)':'지역', '상권별(2)':'도심'}, inplace =True)\n",
    "\n",
    "df21_20.fillna(0.0, inplace = True)\n",
    "df17_19.fillna(0.0, inplace = True)"
   ]
  },
  {
   "cell_type": "code",
   "execution_count": 60,
   "metadata": {},
   "outputs": [],
   "source": [
    "df21_20_서울 = df21_20.query(\"지역=='서울'\")\n",
    "df17_19_서울 = df17_19.query(\"지역=='서울'\")"
   ]
  },
  {
   "cell_type": "code",
   "execution_count": 61,
   "metadata": {},
   "outputs": [],
   "source": [
    "df21_20_서울.to_excel('상권별_중대형_상가_공실률_21~20.xlsx')\n",
    "df17_19_서울.to_excel('상권별_중대형_상가_공실률_17~19.xlsx')"
   ]
  },
  {
   "cell_type": "markdown",
   "metadata": {},
   "source": [
    "## 소규모 상가 임대료"
   ]
  },
  {
   "cell_type": "code",
   "execution_count": 66,
   "metadata": {},
   "outputs": [],
   "source": [
    "ssi21 = pd.read_excel('상권별_소규모_상가_임대료_2021.xlsx')\n",
    "ssi20 = pd.read_excel('상권별_소규모_상가_임대료_2020.xlsx')\n",
    "ssi19 = pd.read_excel('상권별_소규모_상가_임대료_2019.xlsx')\n",
    "ssi17_18 = pd.read_excel('상권별_소규모_상가_임대료_2017~18.xlsx')\n",
    "\n",
    "ssi21_20 = [ssi20,ssi21]\n",
    "ssi17_19 = [ssi17_18,ssi19]\n",
    "\n",
    "df21_20 = pd.DataFrame(ssi21[['상권별(1)','상권별(2)','상권별(3)']])\n",
    "for ssi in ssi21_20:\n",
    "    for i in ssi.columns:\n",
    "        if i not in ['상권별(1)','상권별(2)','상권별(3)']:\n",
    "            df21_20[i] = ssi[i]\n",
    "            \n",
    "            \n",
    "df17_19 = pd.DataFrame(ssi19[['상권별(1)','상권별(2)']])\n",
    "for ssi in ssi17_19:\n",
    "    for i in ssi.columns:\n",
    "        if i not in ['상권별(1)','상권별(2)']:\n",
    "            df17_19[i] = ssi[i]\n"
   ]
  },
  {
   "cell_type": "code",
   "execution_count": 67,
   "metadata": {},
   "outputs": [],
   "source": [
    "df21_20['상권별(1)'].fillna(method='ffill',inplace=True)\n",
    "df21_20['상권별(2)'].fillna(method='ffill',inplace=True)\n",
    "df17_19['상권별(1)'].fillna(method='ffill',inplace=True)\n",
    "\n",
    "df21_20.rename(columns = {'상권별(1)':'지역', '상권별(2)':'지역분류','상권별(3)' : '도심'}, inplace =True)\n",
    "df17_19.rename(columns = {'상권별(1)':'지역', '상권별(2)':'도심'}, inplace =True)\n",
    "\n",
    "df21_20.fillna(0.0, inplace = True)\n",
    "df17_19.fillna(0.0, inplace = True)"
   ]
  },
  {
   "cell_type": "code",
   "execution_count": 68,
   "metadata": {},
   "outputs": [],
   "source": [
    "df21_20_서울 = df21_20.query(\"지역=='서울'\")\n",
    "df17_19_서울 = df17_19.query(\"지역=='서울'\")"
   ]
  },
  {
   "cell_type": "code",
   "execution_count": 69,
   "metadata": {},
   "outputs": [],
   "source": [
    "df21_20_서울.to_excel('상권별_소규모_상가_임대료_21~20.xlsx')\n",
    "df17_19_서울.to_excel('상권별_소규모_상가_임대료_17~19.xlsx')"
   ]
  },
  {
   "cell_type": "markdown",
   "metadata": {},
   "source": [
    "## 중대형 상가 임대료"
   ]
  },
  {
   "cell_type": "code",
   "execution_count": 4,
   "metadata": {},
   "outputs": [
    {
     "ename": "FileNotFoundError",
     "evalue": "[Errno 2] No such file or directory: '상권별_중대형_상가_임대료_2021.xlsx'",
     "output_type": "error",
     "traceback": [
      "\u001b[1;31m---------------------------------------------------------------------------\u001b[0m",
      "\u001b[1;31mFileNotFoundError\u001b[0m                         Traceback (most recent call last)",
      "\u001b[1;32m<ipython-input-4-c13792d9fd39>\u001b[0m in \u001b[0;36m<module>\u001b[1;34m\u001b[0m\n\u001b[1;32m----> 1\u001b[1;33m \u001b[0mssi21\u001b[0m \u001b[1;33m=\u001b[0m \u001b[0mpd\u001b[0m\u001b[1;33m.\u001b[0m\u001b[0mread_excel\u001b[0m\u001b[1;33m(\u001b[0m\u001b[1;34m'상권별_중대형_상가_임대료_2021.xlsx'\u001b[0m\u001b[1;33m)\u001b[0m\u001b[1;33m\u001b[0m\u001b[1;33m\u001b[0m\u001b[0m\n\u001b[0m\u001b[0;32m      2\u001b[0m \u001b[0mssi20\u001b[0m \u001b[1;33m=\u001b[0m \u001b[0mpd\u001b[0m\u001b[1;33m.\u001b[0m\u001b[0mread_excel\u001b[0m\u001b[1;33m(\u001b[0m\u001b[1;34m'상권별_중대형_상가_임대료_2020.xlsx'\u001b[0m\u001b[1;33m)\u001b[0m\u001b[1;33m\u001b[0m\u001b[1;33m\u001b[0m\u001b[0m\n\u001b[0;32m      3\u001b[0m \u001b[0mssi19\u001b[0m \u001b[1;33m=\u001b[0m \u001b[0mpd\u001b[0m\u001b[1;33m.\u001b[0m\u001b[0mread_excel\u001b[0m\u001b[1;33m(\u001b[0m\u001b[1;34m'상권별_중대형_상가_임대료_2019.xlsx'\u001b[0m\u001b[1;33m)\u001b[0m\u001b[1;33m\u001b[0m\u001b[1;33m\u001b[0m\u001b[0m\n\u001b[0;32m      4\u001b[0m \u001b[0mssi17_18\u001b[0m \u001b[1;33m=\u001b[0m \u001b[0mpd\u001b[0m\u001b[1;33m.\u001b[0m\u001b[0mread_excel\u001b[0m\u001b[1;33m(\u001b[0m\u001b[1;34m'상권별_중대형_상가_임대료_2017~18.xlsx'\u001b[0m\u001b[1;33m)\u001b[0m\u001b[1;33m\u001b[0m\u001b[1;33m\u001b[0m\u001b[0m\n\u001b[0;32m      5\u001b[0m \u001b[1;33m\u001b[0m\u001b[0m\n",
      "\u001b[1;32mC:\\ananconda\\envs\\multi\\lib\\site-packages\\pandas\\util\\_decorators.py\u001b[0m in \u001b[0;36mwrapper\u001b[1;34m(*args, **kwargs)\u001b[0m\n\u001b[0;32m    297\u001b[0m                 )\n\u001b[0;32m    298\u001b[0m                 \u001b[0mwarnings\u001b[0m\u001b[1;33m.\u001b[0m\u001b[0mwarn\u001b[0m\u001b[1;33m(\u001b[0m\u001b[0mmsg\u001b[0m\u001b[1;33m,\u001b[0m \u001b[0mFutureWarning\u001b[0m\u001b[1;33m,\u001b[0m \u001b[0mstacklevel\u001b[0m\u001b[1;33m=\u001b[0m\u001b[0mstacklevel\u001b[0m\u001b[1;33m)\u001b[0m\u001b[1;33m\u001b[0m\u001b[1;33m\u001b[0m\u001b[0m\n\u001b[1;32m--> 299\u001b[1;33m             \u001b[1;32mreturn\u001b[0m \u001b[0mfunc\u001b[0m\u001b[1;33m(\u001b[0m\u001b[1;33m*\u001b[0m\u001b[0margs\u001b[0m\u001b[1;33m,\u001b[0m \u001b[1;33m**\u001b[0m\u001b[0mkwargs\u001b[0m\u001b[1;33m)\u001b[0m\u001b[1;33m\u001b[0m\u001b[1;33m\u001b[0m\u001b[0m\n\u001b[0m\u001b[0;32m    300\u001b[0m \u001b[1;33m\u001b[0m\u001b[0m\n\u001b[0;32m    301\u001b[0m         \u001b[1;32mreturn\u001b[0m \u001b[0mwrapper\u001b[0m\u001b[1;33m\u001b[0m\u001b[1;33m\u001b[0m\u001b[0m\n",
      "\u001b[1;32mC:\\ananconda\\envs\\multi\\lib\\site-packages\\pandas\\io\\excel\\_base.py\u001b[0m in \u001b[0;36mread_excel\u001b[1;34m(io, sheet_name, header, names, index_col, usecols, squeeze, dtype, engine, converters, true_values, false_values, skiprows, nrows, na_values, keep_default_na, na_filter, verbose, parse_dates, date_parser, thousands, comment, skipfooter, convert_float, mangle_dupe_cols, storage_options)\u001b[0m\n\u001b[0;32m    334\u001b[0m     \u001b[1;32mif\u001b[0m \u001b[1;32mnot\u001b[0m \u001b[0misinstance\u001b[0m\u001b[1;33m(\u001b[0m\u001b[0mio\u001b[0m\u001b[1;33m,\u001b[0m \u001b[0mExcelFile\u001b[0m\u001b[1;33m)\u001b[0m\u001b[1;33m:\u001b[0m\u001b[1;33m\u001b[0m\u001b[1;33m\u001b[0m\u001b[0m\n\u001b[0;32m    335\u001b[0m         \u001b[0mshould_close\u001b[0m \u001b[1;33m=\u001b[0m \u001b[1;32mTrue\u001b[0m\u001b[1;33m\u001b[0m\u001b[1;33m\u001b[0m\u001b[0m\n\u001b[1;32m--> 336\u001b[1;33m         \u001b[0mio\u001b[0m \u001b[1;33m=\u001b[0m \u001b[0mExcelFile\u001b[0m\u001b[1;33m(\u001b[0m\u001b[0mio\u001b[0m\u001b[1;33m,\u001b[0m \u001b[0mstorage_options\u001b[0m\u001b[1;33m=\u001b[0m\u001b[0mstorage_options\u001b[0m\u001b[1;33m,\u001b[0m \u001b[0mengine\u001b[0m\u001b[1;33m=\u001b[0m\u001b[0mengine\u001b[0m\u001b[1;33m)\u001b[0m\u001b[1;33m\u001b[0m\u001b[1;33m\u001b[0m\u001b[0m\n\u001b[0m\u001b[0;32m    337\u001b[0m     \u001b[1;32melif\u001b[0m \u001b[0mengine\u001b[0m \u001b[1;32mand\u001b[0m \u001b[0mengine\u001b[0m \u001b[1;33m!=\u001b[0m \u001b[0mio\u001b[0m\u001b[1;33m.\u001b[0m\u001b[0mengine\u001b[0m\u001b[1;33m:\u001b[0m\u001b[1;33m\u001b[0m\u001b[1;33m\u001b[0m\u001b[0m\n\u001b[0;32m    338\u001b[0m         raise ValueError(\n",
      "\u001b[1;32mC:\\ananconda\\envs\\multi\\lib\\site-packages\\pandas\\io\\excel\\_base.py\u001b[0m in \u001b[0;36m__init__\u001b[1;34m(self, path_or_buffer, engine, storage_options)\u001b[0m\n\u001b[0;32m   1070\u001b[0m             \u001b[1;32melse\u001b[0m\u001b[1;33m:\u001b[0m\u001b[1;33m\u001b[0m\u001b[1;33m\u001b[0m\u001b[0m\n\u001b[0;32m   1071\u001b[0m                 ext = inspect_excel_format(\n\u001b[1;32m-> 1072\u001b[1;33m                     \u001b[0mcontent\u001b[0m\u001b[1;33m=\u001b[0m\u001b[0mpath_or_buffer\u001b[0m\u001b[1;33m,\u001b[0m \u001b[0mstorage_options\u001b[0m\u001b[1;33m=\u001b[0m\u001b[0mstorage_options\u001b[0m\u001b[1;33m\u001b[0m\u001b[1;33m\u001b[0m\u001b[0m\n\u001b[0m\u001b[0;32m   1073\u001b[0m                 )\n\u001b[0;32m   1074\u001b[0m \u001b[1;33m\u001b[0m\u001b[0m\n",
      "\u001b[1;32mC:\\ananconda\\envs\\multi\\lib\\site-packages\\pandas\\io\\excel\\_base.py\u001b[0m in \u001b[0;36minspect_excel_format\u001b[1;34m(path, content, storage_options)\u001b[0m\n\u001b[0;32m    948\u001b[0m \u001b[1;33m\u001b[0m\u001b[0m\n\u001b[0;32m    949\u001b[0m     with get_handle(\n\u001b[1;32m--> 950\u001b[1;33m         \u001b[0mcontent_or_path\u001b[0m\u001b[1;33m,\u001b[0m \u001b[1;34m\"rb\"\u001b[0m\u001b[1;33m,\u001b[0m \u001b[0mstorage_options\u001b[0m\u001b[1;33m=\u001b[0m\u001b[0mstorage_options\u001b[0m\u001b[1;33m,\u001b[0m \u001b[0mis_text\u001b[0m\u001b[1;33m=\u001b[0m\u001b[1;32mFalse\u001b[0m\u001b[1;33m\u001b[0m\u001b[1;33m\u001b[0m\u001b[0m\n\u001b[0m\u001b[0;32m    951\u001b[0m     ) as handle:\n\u001b[0;32m    952\u001b[0m         \u001b[0mstream\u001b[0m \u001b[1;33m=\u001b[0m \u001b[0mhandle\u001b[0m\u001b[1;33m.\u001b[0m\u001b[0mhandle\u001b[0m\u001b[1;33m\u001b[0m\u001b[1;33m\u001b[0m\u001b[0m\n",
      "\u001b[1;32mC:\\ananconda\\envs\\multi\\lib\\site-packages\\pandas\\io\\common.py\u001b[0m in \u001b[0;36mget_handle\u001b[1;34m(path_or_buf, mode, encoding, compression, memory_map, is_text, errors, storage_options)\u001b[0m\n\u001b[0;32m    649\u001b[0m         \u001b[1;32melse\u001b[0m\u001b[1;33m:\u001b[0m\u001b[1;33m\u001b[0m\u001b[1;33m\u001b[0m\u001b[0m\n\u001b[0;32m    650\u001b[0m             \u001b[1;31m# Binary mode\u001b[0m\u001b[1;33m\u001b[0m\u001b[1;33m\u001b[0m\u001b[1;33m\u001b[0m\u001b[0m\n\u001b[1;32m--> 651\u001b[1;33m             \u001b[0mhandle\u001b[0m \u001b[1;33m=\u001b[0m \u001b[0mopen\u001b[0m\u001b[1;33m(\u001b[0m\u001b[0mhandle\u001b[0m\u001b[1;33m,\u001b[0m \u001b[0mioargs\u001b[0m\u001b[1;33m.\u001b[0m\u001b[0mmode\u001b[0m\u001b[1;33m)\u001b[0m\u001b[1;33m\u001b[0m\u001b[1;33m\u001b[0m\u001b[0m\n\u001b[0m\u001b[0;32m    652\u001b[0m         \u001b[0mhandles\u001b[0m\u001b[1;33m.\u001b[0m\u001b[0mappend\u001b[0m\u001b[1;33m(\u001b[0m\u001b[0mhandle\u001b[0m\u001b[1;33m)\u001b[0m\u001b[1;33m\u001b[0m\u001b[1;33m\u001b[0m\u001b[0m\n\u001b[0;32m    653\u001b[0m \u001b[1;33m\u001b[0m\u001b[0m\n",
      "\u001b[1;31mFileNotFoundError\u001b[0m: [Errno 2] No such file or directory: '상권별_중대형_상가_임대료_2021.xlsx'"
     ]
    }
   ],
   "source": [
    "ssi21 = pd.read_excel('상권별_중대형_상가_임대료_2021.xlsx')\n",
    "ssi20 = pd.read_excel('상권별_중대형_상가_임대료_2020.xlsx')\n",
    "ssi19 = pd.read_excel('상권별_중대형_상가_임대료_2019.xlsx')\n",
    "ssi17_18 = pd.read_excel('상권별_중대형_상가_임대료_2017~18.xlsx')\n",
    "\n",
    "ssi21_20 = [ssi20,ssi21]\n",
    "ssi17_19 = [ssi17_18,ssi19]\n",
    "\n",
    "df21_20 = pd.DataFrame(ssi21[['상권별(1)','상권별(2)','상권별(3)']])\n",
    "for ssi in ssi21_20:\n",
    "    for i in ssi.columns:\n",
    "        if i not in ['상권별(1)','상권별(2)','상권별(3)']:\n",
    "            df21_20[i] = ssi[i]\n",
    "            \n",
    "            \n",
    "df17_19 = pd.DataFrame(ssi19[['상권별(1)','상권별(2)']])\n",
    "for ssi in ssi17_19:\n",
    "    for i in ssi.columns:\n",
    "        if i not in ['상권별(1)','상권별(2)']:\n",
    "            df17_19[i] = ssi[i]\n"
   ]
  },
  {
   "cell_type": "code",
   "execution_count": 71,
   "metadata": {},
   "outputs": [],
   "source": [
    "df21_20['상권별(1)'].fillna(method='ffill',inplace=True)\n",
    "df21_20['상권별(2)'].fillna(method='ffill',inplace=True)\n",
    "df17_19['상권별(1)'].fillna(method='ffill',inplace=True)\n",
    "\n",
    "df21_20.rename(columns = {'상권별(1)':'지역', '상권별(2)':'지역분류','상권별(3)' : '도심'}, inplace =True)\n",
    "df17_19.rename(columns = {'상권별(1)':'지역', '상권별(2)':'도심'}, inplace =True)\n",
    "\n",
    "df21_20.fillna(0.0, inplace = True)\n",
    "df17_19.fillna(0.0, inplace = True)"
   ]
  },
  {
   "cell_type": "code",
   "execution_count": 72,
   "metadata": {},
   "outputs": [],
   "source": [
    "df21_20_서울 = df21_20.query(\"지역=='서울'\")\n",
    "df17_19_서울 = df17_19.query(\"지역=='서울'\")"
   ]
  },
  {
   "cell_type": "code",
   "execution_count": 73,
   "metadata": {},
   "outputs": [],
   "source": [
    "df21_20_서울.to_excel('상권별_중대형_상가_임대료_21~20.xlsx')\n",
    "df17_19_서울.to_excel('상권별_중대형_상가_임대료_17~19.xlsx')"
   ]
  },
  {
   "cell_type": "code",
   "execution_count": 1,
   "metadata": {},
   "outputs": [
    {
     "ename": "NameError",
     "evalue": "name 'df21_20_서울' is not defined",
     "output_type": "error",
     "traceback": [
      "\u001b[1;31m---------------------------------------------------------------------------\u001b[0m",
      "\u001b[1;31mNameError\u001b[0m                                 Traceback (most recent call last)",
      "\u001b[1;32m<ipython-input-1-300fa21e1642>\u001b[0m in \u001b[0;36m<module>\u001b[1;34m\u001b[0m\n\u001b[1;32m----> 1\u001b[1;33m \u001b[0mdf21_20_서울\u001b[0m\u001b[1;33m.\u001b[0m\u001b[0mhead\u001b[0m\u001b[1;33m(\u001b[0m\u001b[1;33m)\u001b[0m\u001b[1;33m\u001b[0m\u001b[1;33m\u001b[0m\u001b[0m\n\u001b[0m",
      "\u001b[1;31mNameError\u001b[0m: name 'df21_20_서울' is not defined"
     ]
    }
   ],
   "source": [
    "df21_20_서울.head()"
   ]
  },
  {
   "cell_type": "markdown",
   "metadata": {},
   "source": [
    "## 소규모 상가 임대료 변환 20~21(천원/1m^2 -> 원/3.3m^2)"
   ]
  },
  {
   "cell_type": "code",
   "execution_count": 112,
   "metadata": {},
   "outputs": [],
   "source": [
    "ssi21_20 = pd.read_excel('상권별_소규모_상가_임대료_21~20.xlsx')#,index_col='Unnamed: 0')"
   ]
  },
  {
   "cell_type": "code",
   "execution_count": 113,
   "metadata": {},
   "outputs": [],
   "source": [
    "ssi21_20.drop('Unnamed: 0',axis=1, inplace=True)\n",
    "def convert(x):\n",
    "    return x * 3.3 * 1000\n",
    "\n",
    "tmp = ssi21_20.iloc[:,3:].apply(convert)\n",
    "tmp = tmp.astype(int)\n",
    "ssi21_20.drop(ssi21_20.iloc[:,3:],axis=1,inplace=True)"
   ]
  },
  {
   "cell_type": "code",
   "execution_count": 117,
   "metadata": {},
   "outputs": [],
   "source": [
    "ssi21_20 = pd.merge(ssi21_20, tmp,\n",
    "       left_index=True, right_index=True,how='left')"
   ]
  },
  {
   "cell_type": "code",
   "execution_count": 118,
   "metadata": {},
   "outputs": [],
   "source": [
    "ssi21_20.to_excel('상권별_소규모_상가_임대료_21~20(변환).xlsx')"
   ]
  },
  {
   "cell_type": "markdown",
   "metadata": {},
   "source": [
    "## 소규모 상가 임대료 변환 17~19(천원/1m^2 -> 원/3.3m^2)"
   ]
  },
  {
   "cell_type": "code",
   "execution_count": 119,
   "metadata": {},
   "outputs": [],
   "source": [
    "ssi17_19 = pd.read_excel('상권별_소규모_상가_임대료_17~19.xlsx')#,index_col='Unnamed: 0')"
   ]
  },
  {
   "cell_type": "code",
   "execution_count": 120,
   "metadata": {},
   "outputs": [
    {
     "data": {
      "text/html": [
       "<div>\n",
       "<style scoped>\n",
       "    .dataframe tbody tr th:only-of-type {\n",
       "        vertical-align: middle;\n",
       "    }\n",
       "\n",
       "    .dataframe tbody tr th {\n",
       "        vertical-align: top;\n",
       "    }\n",
       "\n",
       "    .dataframe thead th {\n",
       "        text-align: right;\n",
       "    }\n",
       "</style>\n",
       "<table border=\"1\" class=\"dataframe\">\n",
       "  <thead>\n",
       "    <tr style=\"text-align: right;\">\n",
       "      <th></th>\n",
       "      <th>Unnamed: 0</th>\n",
       "      <th>지역</th>\n",
       "      <th>도심</th>\n",
       "      <th>2017 1/4</th>\n",
       "      <th>2017 2/4</th>\n",
       "      <th>2017 3/4</th>\n",
       "      <th>2017 4/4</th>\n",
       "      <th>2018 1/4</th>\n",
       "      <th>2018 2/4</th>\n",
       "      <th>2018 3/4</th>\n",
       "      <th>2018 4/4</th>\n",
       "      <th>2019 1/4</th>\n",
       "      <th>2019 2/4</th>\n",
       "      <th>2019 3/4</th>\n",
       "      <th>2019 4/4</th>\n",
       "    </tr>\n",
       "  </thead>\n",
       "  <tbody>\n",
       "    <tr>\n",
       "      <th>0</th>\n",
       "      <td>1</td>\n",
       "      <td>서울</td>\n",
       "      <td>소계</td>\n",
       "      <td>52.3</td>\n",
       "      <td>52.4</td>\n",
       "      <td>52.3</td>\n",
       "      <td>52.4</td>\n",
       "      <td>52.5</td>\n",
       "      <td>52.3</td>\n",
       "      <td>52.5</td>\n",
       "      <td>52.5</td>\n",
       "      <td>54.6</td>\n",
       "      <td>54.7</td>\n",
       "      <td>54.7</td>\n",
       "      <td>54.7</td>\n",
       "    </tr>\n",
       "    <tr>\n",
       "      <th>1</th>\n",
       "      <td>2</td>\n",
       "      <td>서울</td>\n",
       "      <td>소계(도심지역)</td>\n",
       "      <td>69.2</td>\n",
       "      <td>69.3</td>\n",
       "      <td>69.3</td>\n",
       "      <td>69.3</td>\n",
       "      <td>68.7</td>\n",
       "      <td>68.8</td>\n",
       "      <td>69.0</td>\n",
       "      <td>69.1</td>\n",
       "      <td>76.6</td>\n",
       "      <td>76.5</td>\n",
       "      <td>76.7</td>\n",
       "      <td>76.7</td>\n",
       "    </tr>\n",
       "    <tr>\n",
       "      <th>2</th>\n",
       "      <td>3</td>\n",
       "      <td>서울</td>\n",
       "      <td>광화문</td>\n",
       "      <td>65.9</td>\n",
       "      <td>65.9</td>\n",
       "      <td>65.8</td>\n",
       "      <td>66.0</td>\n",
       "      <td>66.1</td>\n",
       "      <td>66.8</td>\n",
       "      <td>67.0</td>\n",
       "      <td>67.6</td>\n",
       "      <td>95.0</td>\n",
       "      <td>95.0</td>\n",
       "      <td>95.0</td>\n",
       "      <td>95.1</td>\n",
       "    </tr>\n",
       "    <tr>\n",
       "      <th>3</th>\n",
       "      <td>4</td>\n",
       "      <td>서울</td>\n",
       "      <td>남대문</td>\n",
       "      <td>43.1</td>\n",
       "      <td>43.1</td>\n",
       "      <td>43.1</td>\n",
       "      <td>43.1</td>\n",
       "      <td>42.8</td>\n",
       "      <td>42.7</td>\n",
       "      <td>42.7</td>\n",
       "      <td>42.7</td>\n",
       "      <td>75.7</td>\n",
       "      <td>75.4</td>\n",
       "      <td>75.4</td>\n",
       "      <td>75.4</td>\n",
       "    </tr>\n",
       "    <tr>\n",
       "      <th>4</th>\n",
       "      <td>5</td>\n",
       "      <td>서울</td>\n",
       "      <td>동대문</td>\n",
       "      <td>242.6</td>\n",
       "      <td>241.6</td>\n",
       "      <td>241.6</td>\n",
       "      <td>240.8</td>\n",
       "      <td>240.8</td>\n",
       "      <td>240.8</td>\n",
       "      <td>240.8</td>\n",
       "      <td>240.6</td>\n",
       "      <td>44.2</td>\n",
       "      <td>44.1</td>\n",
       "      <td>44.1</td>\n",
       "      <td>44.0</td>\n",
       "    </tr>\n",
       "  </tbody>\n",
       "</table>\n",
       "</div>"
      ],
      "text/plain": [
       "   Unnamed: 0  지역        도심  2017 1/4  2017 2/4  2017 3/4  2017 4/4  2018 1/4  \\\n",
       "0           1  서울        소계      52.3      52.4      52.3      52.4      52.5   \n",
       "1           2  서울  소계(도심지역)      69.2      69.3      69.3      69.3      68.7   \n",
       "2           3  서울       광화문      65.9      65.9      65.8      66.0      66.1   \n",
       "3           4  서울       남대문      43.1      43.1      43.1      43.1      42.8   \n",
       "4           5  서울       동대문     242.6     241.6     241.6     240.8     240.8   \n",
       "\n",
       "   2018 2/4  2018 3/4  2018 4/4  2019 1/4  2019 2/4  2019 3/4  2019 4/4  \n",
       "0      52.3      52.5      52.5      54.6      54.7      54.7      54.7  \n",
       "1      68.8      69.0      69.1      76.6      76.5      76.7      76.7  \n",
       "2      66.8      67.0      67.6      95.0      95.0      95.0      95.1  \n",
       "3      42.7      42.7      42.7      75.7      75.4      75.4      75.4  \n",
       "4     240.8     240.8     240.6      44.2      44.1      44.1      44.0  "
      ]
     },
     "execution_count": 120,
     "metadata": {},
     "output_type": "execute_result"
    }
   ],
   "source": [
    "ssi17_19.head()"
   ]
  },
  {
   "cell_type": "code",
   "execution_count": 121,
   "metadata": {},
   "outputs": [],
   "source": [
    "ssi17_19.drop('Unnamed: 0',axis=1, inplace=True)\n",
    "def convert(x):\n",
    "    return x * 3.3 * 1000\n",
    "\n",
    "tmp = ssi17_19.iloc[:,2:].apply(convert)\n",
    "tmp = tmp.astype(int)\n",
    "ssi17_19.drop(ssi17_19.iloc[:,2:],axis=1,inplace=True)"
   ]
  },
  {
   "cell_type": "code",
   "execution_count": 122,
   "metadata": {},
   "outputs": [],
   "source": [
    "ssi17_19 = pd.merge(ssi17_19, tmp,\n",
    "       left_index=True, right_index=True,how='left')"
   ]
  },
  {
   "cell_type": "code",
   "execution_count": 124,
   "metadata": {},
   "outputs": [
    {
     "data": {
      "text/html": [
       "<div>\n",
       "<style scoped>\n",
       "    .dataframe tbody tr th:only-of-type {\n",
       "        vertical-align: middle;\n",
       "    }\n",
       "\n",
       "    .dataframe tbody tr th {\n",
       "        vertical-align: top;\n",
       "    }\n",
       "\n",
       "    .dataframe thead th {\n",
       "        text-align: right;\n",
       "    }\n",
       "</style>\n",
       "<table border=\"1\" class=\"dataframe\">\n",
       "  <thead>\n",
       "    <tr style=\"text-align: right;\">\n",
       "      <th></th>\n",
       "      <th>지역</th>\n",
       "      <th>도심</th>\n",
       "      <th>2017 1/4</th>\n",
       "      <th>2017 2/4</th>\n",
       "      <th>2017 3/4</th>\n",
       "      <th>2017 4/4</th>\n",
       "      <th>2018 1/4</th>\n",
       "      <th>2018 2/4</th>\n",
       "      <th>2018 3/4</th>\n",
       "      <th>2018 4/4</th>\n",
       "      <th>2019 1/4</th>\n",
       "      <th>2019 2/4</th>\n",
       "      <th>2019 3/4</th>\n",
       "      <th>2019 4/4</th>\n",
       "    </tr>\n",
       "  </thead>\n",
       "  <tbody>\n",
       "    <tr>\n",
       "      <th>0</th>\n",
       "      <td>서울</td>\n",
       "      <td>소계</td>\n",
       "      <td>172589</td>\n",
       "      <td>172920</td>\n",
       "      <td>172589</td>\n",
       "      <td>172920</td>\n",
       "      <td>173250</td>\n",
       "      <td>172589</td>\n",
       "      <td>173250</td>\n",
       "      <td>173250</td>\n",
       "      <td>180180</td>\n",
       "      <td>180510</td>\n",
       "      <td>180510</td>\n",
       "      <td>180510</td>\n",
       "    </tr>\n",
       "    <tr>\n",
       "      <th>1</th>\n",
       "      <td>서울</td>\n",
       "      <td>소계(도심지역)</td>\n",
       "      <td>228359</td>\n",
       "      <td>228689</td>\n",
       "      <td>228689</td>\n",
       "      <td>228689</td>\n",
       "      <td>226710</td>\n",
       "      <td>227040</td>\n",
       "      <td>227700</td>\n",
       "      <td>228029</td>\n",
       "      <td>252779</td>\n",
       "      <td>252450</td>\n",
       "      <td>253109</td>\n",
       "      <td>253109</td>\n",
       "    </tr>\n",
       "    <tr>\n",
       "      <th>2</th>\n",
       "      <td>서울</td>\n",
       "      <td>광화문</td>\n",
       "      <td>217470</td>\n",
       "      <td>217470</td>\n",
       "      <td>217140</td>\n",
       "      <td>217799</td>\n",
       "      <td>218129</td>\n",
       "      <td>220439</td>\n",
       "      <td>221100</td>\n",
       "      <td>223079</td>\n",
       "      <td>313500</td>\n",
       "      <td>313500</td>\n",
       "      <td>313500</td>\n",
       "      <td>313830</td>\n",
       "    </tr>\n",
       "    <tr>\n",
       "      <th>3</th>\n",
       "      <td>서울</td>\n",
       "      <td>남대문</td>\n",
       "      <td>142230</td>\n",
       "      <td>142230</td>\n",
       "      <td>142230</td>\n",
       "      <td>142230</td>\n",
       "      <td>141239</td>\n",
       "      <td>140910</td>\n",
       "      <td>140910</td>\n",
       "      <td>140910</td>\n",
       "      <td>249810</td>\n",
       "      <td>248820</td>\n",
       "      <td>248820</td>\n",
       "      <td>248820</td>\n",
       "    </tr>\n",
       "    <tr>\n",
       "      <th>4</th>\n",
       "      <td>서울</td>\n",
       "      <td>동대문</td>\n",
       "      <td>800579</td>\n",
       "      <td>797280</td>\n",
       "      <td>797280</td>\n",
       "      <td>794640</td>\n",
       "      <td>794640</td>\n",
       "      <td>794640</td>\n",
       "      <td>794640</td>\n",
       "      <td>793979</td>\n",
       "      <td>145860</td>\n",
       "      <td>145530</td>\n",
       "      <td>145530</td>\n",
       "      <td>145200</td>\n",
       "    </tr>\n",
       "  </tbody>\n",
       "</table>\n",
       "</div>"
      ],
      "text/plain": [
       "   지역        도심  2017 1/4  2017 2/4  2017 3/4  2017 4/4  2018 1/4  2018 2/4  \\\n",
       "0  서울        소계    172589    172920    172589    172920    173250    172589   \n",
       "1  서울  소계(도심지역)    228359    228689    228689    228689    226710    227040   \n",
       "2  서울       광화문    217470    217470    217140    217799    218129    220439   \n",
       "3  서울       남대문    142230    142230    142230    142230    141239    140910   \n",
       "4  서울       동대문    800579    797280    797280    794640    794640    794640   \n",
       "\n",
       "   2018 3/4  2018 4/4  2019 1/4  2019 2/4  2019 3/4  2019 4/4  \n",
       "0    173250    173250    180180    180510    180510    180510  \n",
       "1    227700    228029    252779    252450    253109    253109  \n",
       "2    221100    223079    313500    313500    313500    313830  \n",
       "3    140910    140910    249810    248820    248820    248820  \n",
       "4    794640    793979    145860    145530    145530    145200  "
      ]
     },
     "execution_count": 124,
     "metadata": {},
     "output_type": "execute_result"
    }
   ],
   "source": [
    "ssi17_19.head()"
   ]
  },
  {
   "cell_type": "code",
   "execution_count": 125,
   "metadata": {},
   "outputs": [],
   "source": [
    "ssi17_19.to_excel('상권별_소규모_상가_임대료_17~19(변환).xlsx')"
   ]
  },
  {
   "cell_type": "markdown",
   "metadata": {},
   "source": [
    "## 중대형 상가 임대료 변환 21~20(천원/1m^2 -> 원/3.3m^2)"
   ]
  },
  {
   "cell_type": "code",
   "execution_count": 137,
   "metadata": {},
   "outputs": [],
   "source": [
    "Ssi21_20 = pd.read_excel('상권별_중대형_상가_임대료_21~20.xlsx')#,index_col='Unnamed: 0')"
   ]
  },
  {
   "cell_type": "code",
   "execution_count": 138,
   "metadata": {},
   "outputs": [],
   "source": [
    "Ssi21_20.drop('Unnamed: 0',axis=1, inplace=True)\n",
    "def convert(x):\n",
    "    return x * 3.3 * 1000\n",
    "\n",
    "tmp = Ssi21_20.iloc[:,3:].apply(convert)\n",
    "tmp = tmp.astype(int)\n",
    "Ssi21_20.drop(Ssi21_20.iloc[:,3:],axis=1,inplace=True)"
   ]
  },
  {
   "cell_type": "code",
   "execution_count": 139,
   "metadata": {},
   "outputs": [],
   "source": [
    "Ssi21_20 = pd.merge(Ssi21_20, tmp,\n",
    "       left_index=True, right_index=True,how='left')"
   ]
  },
  {
   "cell_type": "code",
   "execution_count": 140,
   "metadata": {},
   "outputs": [
    {
     "data": {
      "text/html": [
       "<div>\n",
       "<style scoped>\n",
       "    .dataframe tbody tr th:only-of-type {\n",
       "        vertical-align: middle;\n",
       "    }\n",
       "\n",
       "    .dataframe tbody tr th {\n",
       "        vertical-align: top;\n",
       "    }\n",
       "\n",
       "    .dataframe thead th {\n",
       "        text-align: right;\n",
       "    }\n",
       "</style>\n",
       "<table border=\"1\" class=\"dataframe\">\n",
       "  <thead>\n",
       "    <tr style=\"text-align: right;\">\n",
       "      <th></th>\n",
       "      <th>지역</th>\n",
       "      <th>지역분류</th>\n",
       "      <th>도심</th>\n",
       "      <th>2020 1/4</th>\n",
       "      <th>2020 2/4</th>\n",
       "      <th>2020 3/4</th>\n",
       "      <th>2020 4/4</th>\n",
       "      <th>2021 1/4</th>\n",
       "    </tr>\n",
       "  </thead>\n",
       "  <tbody>\n",
       "    <tr>\n",
       "      <th>0</th>\n",
       "      <td>서울</td>\n",
       "      <td>소계</td>\n",
       "      <td>소계</td>\n",
       "      <td>182489</td>\n",
       "      <td>181829</td>\n",
       "      <td>180510</td>\n",
       "      <td>178860</td>\n",
       "      <td>172589</td>\n",
       "    </tr>\n",
       "    <tr>\n",
       "      <th>1</th>\n",
       "      <td>서울</td>\n",
       "      <td>소계(도심지역)</td>\n",
       "      <td>소계</td>\n",
       "      <td>321420</td>\n",
       "      <td>317789</td>\n",
       "      <td>314820</td>\n",
       "      <td>306239</td>\n",
       "      <td>291060</td>\n",
       "    </tr>\n",
       "    <tr>\n",
       "      <th>2</th>\n",
       "      <td>서울</td>\n",
       "      <td>소계(도심지역)</td>\n",
       "      <td>광화문</td>\n",
       "      <td>269610</td>\n",
       "      <td>269280</td>\n",
       "      <td>259380</td>\n",
       "      <td>257399</td>\n",
       "      <td>258720</td>\n",
       "    </tr>\n",
       "    <tr>\n",
       "      <th>3</th>\n",
       "      <td>서울</td>\n",
       "      <td>소계(도심지역)</td>\n",
       "      <td>남대문</td>\n",
       "      <td>271920</td>\n",
       "      <td>270599</td>\n",
       "      <td>268289</td>\n",
       "      <td>266310</td>\n",
       "      <td>255420</td>\n",
       "    </tr>\n",
       "    <tr>\n",
       "      <th>4</th>\n",
       "      <td>서울</td>\n",
       "      <td>소계(도심지역)</td>\n",
       "      <td>동대문</td>\n",
       "      <td>135960</td>\n",
       "      <td>135960</td>\n",
       "      <td>138600</td>\n",
       "      <td>138269</td>\n",
       "      <td>148829</td>\n",
       "    </tr>\n",
       "  </tbody>\n",
       "</table>\n",
       "</div>"
      ],
      "text/plain": [
       "   지역      지역분류   도심  2020 1/4  2020 2/4  2020 3/4  2020 4/4  2021 1/4\n",
       "0  서울        소계   소계    182489    181829    180510    178860    172589\n",
       "1  서울  소계(도심지역)   소계    321420    317789    314820    306239    291060\n",
       "2  서울  소계(도심지역)  광화문    269610    269280    259380    257399    258720\n",
       "3  서울  소계(도심지역)  남대문    271920    270599    268289    266310    255420\n",
       "4  서울  소계(도심지역)  동대문    135960    135960    138600    138269    148829"
      ]
     },
     "execution_count": 140,
     "metadata": {},
     "output_type": "execute_result"
    }
   ],
   "source": [
    "Ssi21_20.head()"
   ]
  },
  {
   "cell_type": "code",
   "execution_count": 141,
   "metadata": {},
   "outputs": [],
   "source": [
    "Ssi21_20.to_excel('상권별_중대형_상가_임대료_21~20(변환).xlsx')"
   ]
  },
  {
   "cell_type": "markdown",
   "metadata": {},
   "source": [
    "## 중대형 상가 임대료 변환 17~19(천원/1m^2 -> 원/3.3m^2)"
   ]
  },
  {
   "cell_type": "code",
   "execution_count": 142,
   "metadata": {},
   "outputs": [],
   "source": [
    "Ssi17_19 = pd.read_excel('상권별_중대형_상가_임대료_17~19.xlsx')#,index_col='Unnamed: 0')"
   ]
  },
  {
   "cell_type": "code",
   "execution_count": 143,
   "metadata": {},
   "outputs": [],
   "source": [
    "Ssi17_19.drop('Unnamed: 0',axis=1, inplace=True)\n",
    "def convert(x):\n",
    "    return x * 3.3 * 1000\n",
    "\n",
    "tmp = Ssi17_19.iloc[:,2:].apply(convert)\n",
    "tmp = tmp.astype(int)\n",
    "Ssi17_19.drop(Ssi17_19.iloc[:,2:],axis=1,inplace=True)"
   ]
  },
  {
   "cell_type": "code",
   "execution_count": 144,
   "metadata": {},
   "outputs": [],
   "source": [
    "Ssi17_19 = pd.merge(Ssi17_19, tmp,\n",
    "       left_index=True, right_index=True,how='left')"
   ]
  },
  {
   "cell_type": "code",
   "execution_count": 145,
   "metadata": {},
   "outputs": [
    {
     "data": {
      "text/html": [
       "<div>\n",
       "<style scoped>\n",
       "    .dataframe tbody tr th:only-of-type {\n",
       "        vertical-align: middle;\n",
       "    }\n",
       "\n",
       "    .dataframe tbody tr th {\n",
       "        vertical-align: top;\n",
       "    }\n",
       "\n",
       "    .dataframe thead th {\n",
       "        text-align: right;\n",
       "    }\n",
       "</style>\n",
       "<table border=\"1\" class=\"dataframe\">\n",
       "  <thead>\n",
       "    <tr style=\"text-align: right;\">\n",
       "      <th></th>\n",
       "      <th>지역</th>\n",
       "      <th>도심</th>\n",
       "      <th>2017 1/4</th>\n",
       "      <th>2017 2/4</th>\n",
       "      <th>2017 3/4</th>\n",
       "      <th>2017 4/4</th>\n",
       "      <th>2018 1/4</th>\n",
       "      <th>2018 2/4</th>\n",
       "      <th>2018 3/4</th>\n",
       "      <th>2018 4/4</th>\n",
       "      <th>2019 1/4</th>\n",
       "      <th>2019 2/4</th>\n",
       "      <th>2019 3/4</th>\n",
       "      <th>2019 4/4</th>\n",
       "    </tr>\n",
       "  </thead>\n",
       "  <tbody>\n",
       "    <tr>\n",
       "      <th>0</th>\n",
       "      <td>서울</td>\n",
       "      <td>소계</td>\n",
       "      <td>195359</td>\n",
       "      <td>195359</td>\n",
       "      <td>195359</td>\n",
       "      <td>195689</td>\n",
       "      <td>193380</td>\n",
       "      <td>193380</td>\n",
       "      <td>193049</td>\n",
       "      <td>192060</td>\n",
       "      <td>191070</td>\n",
       "      <td>191399</td>\n",
       "      <td>192060</td>\n",
       "      <td>192060</td>\n",
       "    </tr>\n",
       "    <tr>\n",
       "      <th>1</th>\n",
       "      <td>서울</td>\n",
       "      <td>소계(도심지역)</td>\n",
       "      <td>317460</td>\n",
       "      <td>316470</td>\n",
       "      <td>313170</td>\n",
       "      <td>313170</td>\n",
       "      <td>313500</td>\n",
       "      <td>314820</td>\n",
       "      <td>314820</td>\n",
       "      <td>309210</td>\n",
       "      <td>329670</td>\n",
       "      <td>331320</td>\n",
       "      <td>331979</td>\n",
       "      <td>331979</td>\n",
       "    </tr>\n",
       "    <tr>\n",
       "      <th>2</th>\n",
       "      <td>서울</td>\n",
       "      <td>광화문</td>\n",
       "      <td>230010</td>\n",
       "      <td>228689</td>\n",
       "      <td>228359</td>\n",
       "      <td>228359</td>\n",
       "      <td>228029</td>\n",
       "      <td>230010</td>\n",
       "      <td>231000</td>\n",
       "      <td>231329</td>\n",
       "      <td>287760</td>\n",
       "      <td>287760</td>\n",
       "      <td>287760</td>\n",
       "      <td>287760</td>\n",
       "    </tr>\n",
       "    <tr>\n",
       "      <th>3</th>\n",
       "      <td>서울</td>\n",
       "      <td>남대문</td>\n",
       "      <td>120449</td>\n",
       "      <td>120449</td>\n",
       "      <td>120449</td>\n",
       "      <td>120449</td>\n",
       "      <td>120449</td>\n",
       "      <td>120119</td>\n",
       "      <td>120119</td>\n",
       "      <td>120119</td>\n",
       "      <td>290400</td>\n",
       "      <td>291060</td>\n",
       "      <td>298320</td>\n",
       "      <td>298320</td>\n",
       "    </tr>\n",
       "    <tr>\n",
       "      <th>4</th>\n",
       "      <td>서울</td>\n",
       "      <td>동대문</td>\n",
       "      <td>914759</td>\n",
       "      <td>914759</td>\n",
       "      <td>892319</td>\n",
       "      <td>892319</td>\n",
       "      <td>892319</td>\n",
       "      <td>896609</td>\n",
       "      <td>890009</td>\n",
       "      <td>850080</td>\n",
       "      <td>120780</td>\n",
       "      <td>121110</td>\n",
       "      <td>121439</td>\n",
       "      <td>121110</td>\n",
       "    </tr>\n",
       "  </tbody>\n",
       "</table>\n",
       "</div>"
      ],
      "text/plain": [
       "   지역        도심  2017 1/4  2017 2/4  2017 3/4  2017 4/4  2018 1/4  2018 2/4  \\\n",
       "0  서울        소계    195359    195359    195359    195689    193380    193380   \n",
       "1  서울  소계(도심지역)    317460    316470    313170    313170    313500    314820   \n",
       "2  서울       광화문    230010    228689    228359    228359    228029    230010   \n",
       "3  서울       남대문    120449    120449    120449    120449    120449    120119   \n",
       "4  서울       동대문    914759    914759    892319    892319    892319    896609   \n",
       "\n",
       "   2018 3/4  2018 4/4  2019 1/4  2019 2/4  2019 3/4  2019 4/4  \n",
       "0    193049    192060    191070    191399    192060    192060  \n",
       "1    314820    309210    329670    331320    331979    331979  \n",
       "2    231000    231329    287760    287760    287760    287760  \n",
       "3    120119    120119    290400    291060    298320    298320  \n",
       "4    890009    850080    120780    121110    121439    121110  "
      ]
     },
     "execution_count": 145,
     "metadata": {},
     "output_type": "execute_result"
    }
   ],
   "source": [
    "Ssi17_19.head()"
   ]
  },
  {
   "cell_type": "code",
   "execution_count": 146,
   "metadata": {},
   "outputs": [],
   "source": [
    "Ssi17_19.to_excel('상권별_중대형_상가_임대료_17~19(변환).xlsx')"
   ]
  }
 ],
 "metadata": {
  "kernelspec": {
   "display_name": "Python Multi",
   "language": "python",
   "name": "multi"
  },
  "language_info": {
   "codemirror_mode": {
    "name": "ipython",
    "version": 3
   },
   "file_extension": ".py",
   "mimetype": "text/x-python",
   "name": "python",
   "nbconvert_exporter": "python",
   "pygments_lexer": "ipython3",
   "version": "3.7.6"
  }
 },
 "nbformat": 4,
 "nbformat_minor": 5
}
