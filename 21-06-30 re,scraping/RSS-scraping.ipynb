{
 "cells": [
  {
   "cell_type": "code",
   "execution_count": 2,
   "id": "45fa71a4-7d9d-48c9-abb7-5a2fa4c88f06",
   "metadata": {},
   "outputs": [
    {
     "name": "stdout",
     "output_type": "stream",
     "text": [
      "Collecting feedparser\n",
      "  Downloading feedparser-6.0.8-py3-none-any.whl (81 kB)\n",
      "Collecting sgmllib3k\n",
      "  Downloading sgmllib3k-1.0.0.tar.gz (5.8 kB)\n",
      "Building wheels for collected packages: sgmllib3k\n",
      "  Building wheel for sgmllib3k (setup.py): started\n",
      "  Building wheel for sgmllib3k (setup.py): finished with status 'done'\n",
      "  Created wheel for sgmllib3k: filename=sgmllib3k-1.0.0-py3-none-any.whl size=6065 sha256=3a4351d801bc84875a628cf997781456767c5a20eff61c570a0a178f9cdefed9\n",
      "  Stored in directory: c:\\users\\의원1\\appdata\\local\\pip\\cache\\wheels\\73\\ad\\a4\\0dff4a6ef231fc0dfa12ffbac2a36cebfdddfe059f50e019aa\n",
      "Successfully built sgmllib3k\n",
      "Installing collected packages: sgmllib3k, feedparser\n",
      "Successfully installed feedparser-6.0.8 sgmllib3k-1.0.0\n"
     ]
    }
   ],
   "source": [
    "!pip install feedparser"
   ]
  },
  {
   "cell_type": "code",
   "execution_count": 2,
   "id": "bd67c5b1-a64a-4f5a-bf14-ee41ff7d4d16",
   "metadata": {},
   "outputs": [],
   "source": [
    "import feedparser"
   ]
  },
  {
   "cell_type": "code",
   "execution_count": 3,
   "id": "8efb50b4-bccd-49cb-9554-c7a993c08c3a",
   "metadata": {},
   "outputs": [
    {
     "name": "stdout",
     "output_type": "stream",
     "text": [
      "rss20\n"
     ]
    }
   ],
   "source": [
    "# URL을 지정해서 FeedParserDict 객체를 생성합니다.\n",
    "rss = feedparser.parse(\"http://www.aladin.co.kr/rss/special_new/351\")\n",
    "\n",
    "# RSS의 버전을 출력합니다.\n",
    "print(rss.version)"
   ]
  },
  {
   "cell_type": "code",
   "execution_count": 4,
   "id": "c0c5577e-1a66-4c54-96df-129b09ccd213",
   "metadata": {},
   "outputs": [
    {
     "name": "stdout",
     "output_type": "stream",
     "text": [
      "분야별 신간 특선 - 컴퓨터/모바일\n"
     ]
    }
   ],
   "source": [
    "# 피드의 타이틀과 콘텐츠의 생성 날짜를 출력합니다.\n",
    "print(rss[\"feed\"][\"title\"])"
   ]
  },
  {
   "cell_type": "code",
   "execution_count": 5,
   "id": "f99b4bcf-2dcf-449c-ba0a-9d584a06ccf9",
   "metadata": {},
   "outputs": [
    {
     "name": "stdout",
     "output_type": "stream",
     "text": [
      "파이썬을 이용한 인터랙티브 대시보드 만들기/홍성준.홍성수 지음/부크크(bookk)\n",
      "http://www.aladin.co.kr/rsscenter/go.aspx?rssType=1&type=item&itemId=274260747\n",
      "유튜브 채널 운영을 위한 포토샵 디자인/우디(서영열) 지음/제이펍\n",
      "http://www.aladin.co.kr/rsscenter/go.aspx?rssType=1&type=item&itemId=270391919\n",
      "코딩마법서 파이썬 1 STONE VERSION/오일러 저자/오일러BOOKS\n",
      "http://www.aladin.co.kr/rsscenter/go.aspx?rssType=1&type=item&itemId=270274061\n",
      "알고리즘 윤리/마이클 키언스.아론 로스 지음, 이정표 옮김/에이콘출판\n",
      "http://www.aladin.co.kr/rsscenter/go.aspx?rssType=1&type=item&itemId=269963138\n",
      "파이썬 코딩 0교시/줄리 스웨이 지음, 임성국 옮김/프리렉\n",
      "http://www.aladin.co.kr/rsscenter/go.aspx?rssType=1&type=item&itemId=269955003\n",
      "데이터 과학을 위한 통계 : 데이터 분석에서 머신러닝까지 파이썬과 R로 살펴보는 50가지 핵심 개념/피터 브루스.앤드루 브루스.피터 게데크 지음, 이준용 옮김/한빛미디어\n",
      "http://www.aladin.co.kr/rsscenter/go.aspx?rssType=1&type=item&itemId=269943212\n",
      "한 권으로 끝내는 Node & Express : 모던 웹을 위한 서버 사이드 자바스크립트의 모든 것/이선 브라운 지음, 한선용 옮김/한빛미디어\n",
      "http://www.aladin.co.kr/rsscenter/go.aspx?rssType=1&type=item&itemId=269942241\n",
      "컬러 매니지먼트 강의/최창호 지음/미진사\n",
      "http://www.aladin.co.kr/rsscenter/go.aspx?rssType=1&type=item&itemId=269879234\n",
      "주머니 속의 머신러닝/매트 해리슨 지음, 박찬성 옮김/제이펍\n",
      "http://www.aladin.co.kr/rsscenter/go.aspx?rssType=1&type=item&itemId=269824050\n",
      "파이썬으로 배우는 머신러닝 입문/오제키 마사유키 지음, 김성훈 옮김/성안당\n",
      "http://www.aladin.co.kr/rsscenter/go.aspx?rssType=1&type=item&itemId=269811504\n",
      "자료구조와 알고리즘을 함께 Java!/손상우 지음/비제이퍼블릭\n",
      "http://www.aladin.co.kr/rsscenter/go.aspx?rssType=1&type=item&itemId=269588719\n",
      "블렌디드 수업 디자인/박영민 외 5명 지음/프리렉\n",
      "http://www.aladin.co.kr/rsscenter/go.aspx?rssType=1&type=item&itemId=269583891\n",
      "데이터 통신과 네트워크 프로그래밍/김유원 지음/부크크(bookk)\n",
      "http://www.aladin.co.kr/rsscenter/go.aspx?rssType=1&type=item&itemId=268649133\n",
      "포토샵 사진보정 실무테크닉/황윤도 지음/부크크(bookk)\n",
      "http://www.aladin.co.kr/rsscenter/go.aspx?rssType=1&type=item&itemId=266741254\n",
      "포토샵 합성 실무테크닉/황윤도 지음/부크크(bookk)\n",
      "http://www.aladin.co.kr/rsscenter/go.aspx?rssType=1&type=item&itemId=266741162\n",
      "클릭센스(QlikSense)로 빅데이터 시각화 끝내기 : 입문편/홍성수.홍성준 지음/부크크(bookk)\n",
      "http://www.aladin.co.kr/rsscenter/go.aspx?rssType=1&type=item&itemId=266740784\n",
      "당신도 본 적 있는 인공지능/서인석 지음/부크크(bookk)\n",
      "http://www.aladin.co.kr/rsscenter/go.aspx?rssType=1&type=item&itemId=266021206\n",
      "데이터 전처리와 통계 기초/배용섭.신익주 지음/부크크(bookk)\n",
      "http://www.aladin.co.kr/rsscenter/go.aspx?rssType=1&type=item&itemId=265638810\n",
      "파이썬 웹 프로그래밍 에센셜/김승구 지음/부크크(bookk)\n",
      "http://www.aladin.co.kr/rsscenter/go.aspx?rssType=1&type=item&itemId=265416699\n",
      "누구나 할 수 있는 나만의 가게 네이버 스마트스토어 시작하라/유성룡 지음/부크크(bookk)\n",
      "http://www.aladin.co.kr/rsscenter/go.aspx?rssType=1&type=item&itemId=263960197\n",
      "인벤터 50시간 완성 《조립·도면편》 ( NCS 3D형상모델링 검토, 2010~2019버전)/신동진 지음/부크크(bookk)\n",
      "http://www.aladin.co.kr/rsscenter/go.aspx?rssType=1&type=item&itemId=262036858\n",
      "스프링 MVC 하루만에 배우기/연서은 지음/부크크(bookk)\n",
      "http://www.aladin.co.kr/rsscenter/go.aspx?rssType=1&type=item&itemId=260641304\n",
      "php 3분 핵심 요약집/연서은 지음/부크크(bookk)\n",
      "http://www.aladin.co.kr/rsscenter/go.aspx?rssType=1&type=item&itemId=259449384\n",
      "시작해 C 언어 자료구조 (워크북)/박영진 지음/부크크(bookk)\n",
      "http://www.aladin.co.kr/rsscenter/go.aspx?rssType=1&type=item&itemId=258907002\n",
      "생계형 개발자, SI에서 살아남기/연서은 지음/부크크(bookk)\n",
      "http://www.aladin.co.kr/rsscenter/go.aspx?rssType=1&type=item&itemId=258691122\n"
     ]
    }
   ],
   "source": [
    "# 엔트리들의 제목과 링크를 출력합니다.\n",
    "for content in rss[\"entries\"]:\n",
    "    print(content[\"title\"])\n",
    "    print(content[\"link\"])"
   ]
  },
  {
   "cell_type": "code",
   "execution_count": null,
   "id": "2cd2393c-c704-4bac-9a36-cdd4cbace785",
   "metadata": {},
   "outputs": [],
   "source": []
  }
 ],
 "metadata": {
  "kernelspec": {
   "display_name": "Python Django",
   "language": "python",
   "name": "django"
  },
  "language_info": {
   "codemirror_mode": {
    "name": "ipython",
    "version": 3
   },
   "file_extension": ".py",
   "mimetype": "text/x-python",
   "name": "python",
   "nbconvert_exporter": "python",
   "pygments_lexer": "ipython3",
   "version": "3.8.3"
  }
 },
 "nbformat": 4,
 "nbformat_minor": 5
}
