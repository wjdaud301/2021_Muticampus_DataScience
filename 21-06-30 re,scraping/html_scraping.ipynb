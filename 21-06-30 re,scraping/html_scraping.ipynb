{
 "cells": [
  {
   "cell_type": "code",
   "execution_count": 33,
   "id": "6c4e9f00-8828-433a-aa74-cb8cd2283dc8",
   "metadata": {},
   "outputs": [],
   "source": [
    "import requests\n",
    "import cssselect\n",
    "import lxml.html"
   ]
  },
  {
   "cell_type": "code",
   "execution_count": 5,
   "id": "0196c63c-e4e0-4ddf-80d5-b2d54abef411",
   "metadata": {},
   "outputs": [],
   "source": [
    "# HTML 소스 코드를 읽어 들입니다.\n",
    "r = requests.get(\"http://wikibook.co.kr/python-for-web-scraping/\")\n",
    "html = r.text"
   ]
  },
  {
   "cell_type": "code",
   "execution_count": 29,
   "id": "bf497038-c469-42e2-b537-708bbccc2149",
   "metadata": {},
   "outputs": [],
   "source": [
    "# HTML을 HtmlElement 객체로 변환합니다.\n",
    "root = lxml.html.fromstring(html)"
   ]
  },
  {
   "cell_type": "code",
   "execution_count": 31,
   "id": "cd8b7d7c-0b49-4d4a-9a7b-4d0c5de4d9d9",
   "metadata": {},
   "outputs": [
    {
     "name": "stdout",
     "output_type": "stream",
     "text": [
      "파이썬을 이용한 웹 크롤링과 스크레이핑\n"
     ]
    }
   ],
   "source": [
    "# XPath를 사용해서 요소를 추출합니다.\n",
    "titleElement = root.xpath('//*[@id=\"content\"]/div[1]/div[2]/h1')\n",
    "\n",
    "# 리스트의 첫 번째 요소가 가진 텍스트를 출력합니다.\n",
    "print(titleElement[0].text)"
   ]
  },
  {
   "cell_type": "markdown",
   "id": "39f351b2-db94-4911-833c-c6b095025e9e",
   "metadata": {},
   "source": [
    "* 책에 관련한 도서상품목록"
   ]
  },
  {
   "cell_type": "code",
   "execution_count": 42,
   "id": "2293c993-c8ac-4daa-8d83-27aa04b2af03",
   "metadata": {},
   "outputs": [],
   "source": [
    "# CSS 선택자를 사용해서 요소를 추출합니다.\n",
    "linkAs = root.cssselect('#book-stores > li > a')"
   ]
  },
  {
   "cell_type": "code",
   "execution_count": 43,
   "id": "7e3806d1-b630-4029-9281-b75c1267ff94",
   "metadata": {},
   "outputs": [
    {
     "name": "stdout",
     "output_type": "stream",
     "text": [
      "http://www.yes24.com/24/goods/59307498\n",
      "http://www.kyobobook.co.kr/product/detailViewKor.laf?barcode=9791158390952\n",
      "http://book.interpark.com/product/BookDisplay.do?_method=detail&sc.prdNo=281415537\n",
      "http://www.aladin.co.kr/shop/wproduct.aspx?ItemId=137872443\n"
     ]
    }
   ],
   "source": [
    "## for 반복문으로 추출한 요소의 href 속성을 추출합니다.\n",
    "for linkA in linkAs:\n",
    "    print(linkA.attrib[\"href\"])"
   ]
  },
  {
   "cell_type": "code",
   "execution_count": null,
   "id": "7153f05d-5305-4d9b-95d1-21535e30594e",
   "metadata": {},
   "outputs": [],
   "source": []
  }
 ],
 "metadata": {
  "kernelspec": {
   "display_name": "Python Django",
   "language": "python",
   "name": "django"
  },
  "language_info": {
   "codemirror_mode": {
    "name": "ipython",
    "version": 3
   },
   "file_extension": ".py",
   "mimetype": "text/x-python",
   "name": "python",
   "nbconvert_exporter": "python",
   "pygments_lexer": "ipython3",
   "version": "3.8.3"
  }
 },
 "nbformat": 4,
 "nbformat_minor": 5
}
