{
 "cells": [
  {
   "cell_type": "code",
   "execution_count": 2,
   "id": "c3fbc519-2839-4e57-adcc-912f92aeb922",
   "metadata": {},
   "outputs": [],
   "source": [
    "# =============================================================================\n",
    "# =============================================================================\n",
    "# # 문제 09 유형(DataSet_09.csv 이용)\n",
    "#\n",
    "# 구분자 : comma(“,”), 2000 Rows, 16 Columns, UTF-8 인코딩\n",
    "#\n",
    "# 항공사에서 고객만족도 조사를 하고 서비스 개선에 활용하고자\n",
    "# 아래와 같은 데이터를 준비하였다.\n",
    "#\n",
    "# 컬 럼 / 정 의 / Type\n",
    "# satisfaction / 서비스 만족 여부 / String\n",
    "# Gender / 성별 / String\n",
    "# Age / 나이 / Double\n",
    "# Customer_Type / 고객 타입 / String\n",
    "# Class / 탑승 좌석 등급 / String\n",
    "# Flight_Distance / 비행 거리 / Double\n",
    "# Seat_comfort / 좌석 안락도 점수 / Double\n",
    "# Food_and_Drink / 식사와 음료 점수 / Double\n",
    "# Inflight_wifi_service / 기내 와이파이 서비스 점수 / Double\n",
    "# Inflight_entertainment / 기내 엔터테인먼트 서비스 점수 / Double\n",
    "# Onboard_service / 탑승 서비스 점수 / Double\n",
    "# Leg_room_service / 다리 공간 점수 / Double\n",
    "# Baggage_handling / 수하물 취급 점수 / Double\n",
    "# Cleanliness / 청결도 점수 / Double\n",
    "# Departure_Daly_in_Minutes / 출발 지연 (분) / Double\n",
    "# Arrival_Delay_in_Minutes / 도착 지연 (분) / Double\n",
    "# =============================================================================\n",
    "# =============================================================================\n",
    "\n",
    "# =============================================================================\n",
    "# (참고)\n",
    "# #1\n",
    "# import pandas as pd\n",
    "# import numpy as np\n",
    "# #2\n",
    "# import scipy.stats as stats\n",
    "# #3\n",
    "# from sklearn.linear_model import LogisticRegression\n",
    "# from sklearn.model_selection import train_test_split\n",
    "# from sklearn import metrics\n",
    "# \n",
    "# ============================================================================="
   ]
  },
  {
   "cell_type": "code",
   "execution_count": 1,
   "id": "5aba09f6-d046-4e41-a196-9266da500975",
   "metadata": {},
   "outputs": [],
   "source": [
    "import pandas as pd\n",
    "import numpy as np"
   ]
  },
  {
   "cell_type": "code",
   "execution_count": 4,
   "id": "2c2bed33-2d2a-4394-9f51-bdcc5979da25",
   "metadata": {},
   "outputs": [],
   "source": [
    "dataset = pd.read_csv('Dataset/Dataset_09.csv')"
   ]
  },
  {
   "cell_type": "code",
   "execution_count": 3,
   "id": "ae1310d7-b33f-4fd2-89ab-db1b9f7f4ea1",
   "metadata": {},
   "outputs": [],
   "source": [
    "# =============================================================================\n",
    "# 1.데이터 타입을 위 표에 정의된 타입으로 전처리를 한 후, 데이터 파일 내에 결측값은\n",
    "# 총 몇 개인가? (답안 예시) 1\n",
    "# ============================================================================="
   ]
  },
  {
   "cell_type": "code",
   "execution_count": 5,
   "id": "36be7192-ea17-4b13-9369-6ff4106122d7",
   "metadata": {},
   "outputs": [],
   "source": [
    "q1 =dataset.copy()"
   ]
  },
  {
   "cell_type": "code",
   "execution_count": 7,
   "id": "b2cb1751-3736-45b2-9dbd-6f4f500a3281",
   "metadata": {},
   "outputs": [
    {
     "data": {
      "text/plain": [
       "satisfaction                   object\n",
       "Gender                         object\n",
       "Age                           float64\n",
       "Customer_Type                  object\n",
       "Class                          object\n",
       "Flight_Distance               float64\n",
       "Seat_comfort                  float64\n",
       "Food_and_drink                float64\n",
       "Inflight_wifi_service         float64\n",
       "Inflight_entertainment        float64\n",
       "Onboard_service               float64\n",
       "Leg_room_service              float64\n",
       "Baggage_handling              float64\n",
       "Cleanliness                   float64\n",
       "Departure_Delay_in_Minutes    float64\n",
       "Arrival_Delay_in_Minutes      float64\n",
       "dtype: object"
      ]
     },
     "execution_count": 7,
     "metadata": {},
     "output_type": "execute_result"
    }
   ],
   "source": [
    "q1.dtypes"
   ]
  },
  {
   "cell_type": "code",
   "execution_count": 11,
   "id": "e1189266-e814-4ccb-981c-108ebf6a8a0d",
   "metadata": {},
   "outputs": [
    {
     "data": {
      "text/plain": [
       "5"
      ]
     },
     "execution_count": 11,
     "metadata": {},
     "output_type": "execute_result"
    }
   ],
   "source": [
    "q1.isnull().sum().sum()"
   ]
  },
  {
   "cell_type": "code",
   "execution_count": 25,
   "id": "0385f43f-16b7-42a8-a3d1-e989be4baaf7",
   "metadata": {},
   "outputs": [],
   "source": [
    "# 독립성 검정 카이스퀘어 검정 => crosstab 먼저 진행 -> crosstab을 chi인자로 넣는다\n",
    "# =============================================================================\n",
    "# 2.다음에 제시된 데이터 처리를 하고 카이제곱 독립성 검정을 수행하시오.\n",
    "# - 결측값이 있다면 해당 행을 제거하시오.\n",
    "# - 나이는 20 이하이면 10, 30 이하이면 20, 40 이하이면 30, 50 이하이면 40, 60 이하이면 50, \n",
    "# 60 초과는 60으로 변환하여 Age_gr으로 파생변수를 생성하시오.\n",
    "# - Age_gr, Gender, Customer_Type, Class 변수가 satisfaction에 영향이 있는지 카이제곱\n",
    "# 독립성 검정을 수행하시오. \n",
    "# - 연관성이 있는 것으로 파악된 변수의 검정통계량 추정치를 정수 부분만 기술하시오. \n",
    "# (답안 예시) 123\n",
    "# ============================================================================="
   ]
  },
  {
   "cell_type": "code",
   "execution_count": 17,
   "id": "cf112f0d-b77f-47fe-8b48-27b89386d3a2",
   "metadata": {},
   "outputs": [
    {
     "data": {
      "text/html": [
       "<div>\n",
       "<style scoped>\n",
       "    .dataframe tbody tr th:only-of-type {\n",
       "        vertical-align: middle;\n",
       "    }\n",
       "\n",
       "    .dataframe tbody tr th {\n",
       "        vertical-align: top;\n",
       "    }\n",
       "\n",
       "    .dataframe thead th {\n",
       "        text-align: right;\n",
       "    }\n",
       "</style>\n",
       "<table border=\"1\" class=\"dataframe\">\n",
       "  <thead>\n",
       "    <tr style=\"text-align: right;\">\n",
       "      <th></th>\n",
       "      <th>satisfaction</th>\n",
       "      <th>Gender</th>\n",
       "      <th>Age</th>\n",
       "      <th>Customer_Type</th>\n",
       "      <th>Class</th>\n",
       "      <th>Flight_Distance</th>\n",
       "      <th>Seat_comfort</th>\n",
       "      <th>Food_and_drink</th>\n",
       "      <th>Inflight_wifi_service</th>\n",
       "      <th>Inflight_entertainment</th>\n",
       "      <th>Onboard_service</th>\n",
       "      <th>Leg_room_service</th>\n",
       "      <th>Baggage_handling</th>\n",
       "      <th>Cleanliness</th>\n",
       "      <th>Departure_Delay_in_Minutes</th>\n",
       "      <th>Arrival_Delay_in_Minutes</th>\n",
       "    </tr>\n",
       "  </thead>\n",
       "  <tbody>\n",
       "    <tr>\n",
       "      <th>0</th>\n",
       "      <td>satisfied</td>\n",
       "      <td>Female</td>\n",
       "      <td>19.0</td>\n",
       "      <td>Loyal Customer</td>\n",
       "      <td>Eco</td>\n",
       "      <td>1981.0</td>\n",
       "      <td>4.0</td>\n",
       "      <td>4.0</td>\n",
       "      <td>1.0</td>\n",
       "      <td>4.0</td>\n",
       "      <td>4.0</td>\n",
       "      <td>4.0</td>\n",
       "      <td>4.0</td>\n",
       "      <td>4.0</td>\n",
       "      <td>3.0</td>\n",
       "      <td>28.0</td>\n",
       "    </tr>\n",
       "    <tr>\n",
       "      <th>1</th>\n",
       "      <td>dissatisfied</td>\n",
       "      <td>Female</td>\n",
       "      <td>64.0</td>\n",
       "      <td>Loyal Customer</td>\n",
       "      <td>Eco</td>\n",
       "      <td>2847.0</td>\n",
       "      <td>1.0</td>\n",
       "      <td>1.0</td>\n",
       "      <td>1.0</td>\n",
       "      <td>2.0</td>\n",
       "      <td>5.0</td>\n",
       "      <td>3.0</td>\n",
       "      <td>4.0</td>\n",
       "      <td>4.0</td>\n",
       "      <td>111.0</td>\n",
       "      <td>133.0</td>\n",
       "    </tr>\n",
       "    <tr>\n",
       "      <th>2</th>\n",
       "      <td>dissatisfied</td>\n",
       "      <td>Male</td>\n",
       "      <td>55.0</td>\n",
       "      <td>Loyal Customer</td>\n",
       "      <td>Eco</td>\n",
       "      <td>3790.0</td>\n",
       "      <td>1.0</td>\n",
       "      <td>1.0</td>\n",
       "      <td>2.0</td>\n",
       "      <td>1.0</td>\n",
       "      <td>4.0</td>\n",
       "      <td>4.0</td>\n",
       "      <td>4.0</td>\n",
       "      <td>4.0</td>\n",
       "      <td>2.0</td>\n",
       "      <td>15.0</td>\n",
       "    </tr>\n",
       "  </tbody>\n",
       "</table>\n",
       "</div>"
      ],
      "text/plain": [
       "   satisfaction  Gender   Age   Customer_Type Class  Flight_Distance  \\\n",
       "0     satisfied  Female  19.0  Loyal Customer   Eco           1981.0   \n",
       "1  dissatisfied  Female  64.0  Loyal Customer   Eco           2847.0   \n",
       "2  dissatisfied    Male  55.0  Loyal Customer   Eco           3790.0   \n",
       "\n",
       "   Seat_comfort  Food_and_drink  Inflight_wifi_service  \\\n",
       "0           4.0             4.0                    1.0   \n",
       "1           1.0             1.0                    1.0   \n",
       "2           1.0             1.0                    2.0   \n",
       "\n",
       "   Inflight_entertainment  Onboard_service  Leg_room_service  \\\n",
       "0                     4.0              4.0               4.0   \n",
       "1                     2.0              5.0               3.0   \n",
       "2                     1.0              4.0               4.0   \n",
       "\n",
       "   Baggage_handling  Cleanliness  Departure_Delay_in_Minutes  \\\n",
       "0               4.0          4.0                         3.0   \n",
       "1               4.0          4.0                       111.0   \n",
       "2               4.0          4.0                         2.0   \n",
       "\n",
       "   Arrival_Delay_in_Minutes  \n",
       "0                      28.0  \n",
       "1                     133.0  \n",
       "2                      15.0  "
      ]
     },
     "execution_count": 17,
     "metadata": {},
     "output_type": "execute_result"
    }
   ],
   "source": [
    "q2 = dataset.copy().dropna()\n",
    "q2.head(3)"
   ]
  },
  {
   "cell_type": "code",
   "execution_count": 18,
   "id": "6d6e1b7d-c50e-4385-8dfb-024eda7efabd",
   "metadata": {},
   "outputs": [],
   "source": [
    "q2['Age_gr'] = np.where(q2.Age <= 20,10,\n",
    "                       np.where(q2.Age <= 30,20,\n",
    "                           np.where(q2.Age <= 40,30,\n",
    "                                    np.where(q2.Age <= 50, 40,\n",
    "                                             np.where(q2.Age <= 60,50,60)\n",
    "                       ))))"
   ]
  },
  {
   "cell_type": "code",
   "execution_count": 20,
   "id": "f47bd85c-63b6-4aa0-a7b2-8829953d1962",
   "metadata": {},
   "outputs": [],
   "source": [
    "import scipy.stats as sc"
   ]
  },
  {
   "cell_type": "code",
   "execution_count": 37,
   "id": "dcb8ae07-4113-4465-917b-c1bad5f29d09",
   "metadata": {},
   "outputs": [],
   "source": [
    "x_var = ['Age_gr', 'Gender', 'Customer_Type', 'Class']\n",
    "tmp = []\n",
    "for i in x_var:\n",
    "    cross_tab = pd.crosstab(index=q2[i], columns=q2.satisfaction)\n",
    "    pvalue = sc.chi2_contingency(cross_tab)[1]\n",
    "    static = sc.chi2_contingency(cross_tab)[0]\n",
    "    tmp += [[i,pvalue,static]]\n",
    "    \n",
    "df = pd.DataFrame(tmp)\n",
    "df.columns = ['name','pvalue','static']\n"
   ]
  },
  {
   "cell_type": "code",
   "execution_count": 40,
   "id": "2e664336-3fb5-41e0-9acf-88e1012c9ea6",
   "metadata": {},
   "outputs": [
    {
     "data": {
      "text/plain": [
       "1066"
      ]
     },
     "execution_count": 40,
     "metadata": {},
     "output_type": "execute_result"
    }
   ],
   "source": [
    "int(df[df.pvalue < 0.05]['static'])"
   ]
  },
  {
   "cell_type": "code",
   "execution_count": 5,
   "id": "80334c5a-30ec-42d7-a957-cd7f88254bd1",
   "metadata": {},
   "outputs": [],
   "source": [
    "# logistic 회귀\n",
    "# =============================================================================\n",
    "# 3.고객 만족도를 라벨로 하여 다음과 같이 로지스틱 회귀분석을 수행하시오. \n",
    "\n",
    "# - 결측치가 포함된 행은 제거\n",
    "# - 데이터를 7대 3으로 분리 (Seed = 123)\n",
    "# - 아래의 11개 변수를 Feature로 사용\n",
    "# Flight_Distance, Seat_comfort, Food_and_drink, Inflight_wifi_service, \n",
    "# Inflight_entertainment,Onboard_service, Leg_room_service, Baggage_handling,\n",
    "# Cleanliness, Departure_Delay_in_Minutes, Arrival_Delay_in_Minutes\n",
    "# \n",
    "\n",
    "# - Seed = 123, 이외의 항목은 모두 Default 사용\n",
    "# - 예측 정확도를 측정하고 dissatisfied의 f1 score를 소수점 넷째 자리에서 반올림하여\n",
    "# 소수점 셋째 자리까지 기술하시오. (답안 예시) 0.123\n",
    "# ============================================================================="
   ]
  },
  {
   "cell_type": "code",
   "execution_count": 67,
   "id": "33fd5307-10c8-466d-9a56-107d034a6979",
   "metadata": {},
   "outputs": [],
   "source": [
    "from sklearn.linear_model import LogisticRegression\n",
    "from sklearn.model_selection import train_test_split\n",
    "from sklearn import metrics"
   ]
  },
  {
   "cell_type": "code",
   "execution_count": 68,
   "id": "e1b65d5d-3b9e-4a56-8740-c11450dbaa08",
   "metadata": {},
   "outputs": [],
   "source": [
    "q3 = dataset.copy()"
   ]
  },
  {
   "cell_type": "code",
   "execution_count": 69,
   "id": "33ab8a40-ba26-46eb-8e11-fc5602bcf14b",
   "metadata": {},
   "outputs": [],
   "source": [
    "q3 = q3.dropna()"
   ]
  },
  {
   "cell_type": "code",
   "execution_count": 70,
   "id": "452cf998-2c9f-4a7b-bc73-427a609af486",
   "metadata": {},
   "outputs": [],
   "source": [
    "train, test = train_test_split(q3, test_size=0.3, random_state=123)"
   ]
  },
  {
   "cell_type": "code",
   "execution_count": 71,
   "id": "aaaae44c-b167-4d3f-b105-a2d5ae5f007f",
   "metadata": {},
   "outputs": [],
   "source": [
    "x_value = ['Flight_Distance', 'Seat_comfort', 'Food_and_drink', 'Inflight_wifi_service', \\\n",
    "'Inflight_entertainment','Onboard_service', 'Leg_room_service', 'Baggage_handling',\\\n",
    "'Cleanliness', 'Departure_Delay_in_Minutes', 'Arrival_Delay_in_Minutes']"
   ]
  },
  {
   "cell_type": "code",
   "execution_count": 72,
   "id": "f855e127-7cfb-4718-87b0-d7df18a1570c",
   "metadata": {},
   "outputs": [
    {
     "name": "stderr",
     "output_type": "stream",
     "text": [
      "C:\\ananconda\\envs\\multi\\lib\\site-packages\\sklearn\\linear_model\\_logistic.py:765: ConvergenceWarning: lbfgs failed to converge (status=1):\n",
      "STOP: TOTAL NO. of ITERATIONS REACHED LIMIT.\n",
      "\n",
      "Increase the number of iterations (max_iter) or scale the data as shown in:\n",
      "    https://scikit-learn.org/stable/modules/preprocessing.html\n",
      "Please also refer to the documentation for alternative solver options:\n",
      "    https://scikit-learn.org/stable/modules/linear_model.html#logistic-regression\n",
      "  extra_warning_msg=_LOGISTIC_SOLVER_CONVERGENCE_MSG)\n"
     ]
    }
   ],
   "source": [
    "lr = LogisticRegression(random_state=123).fit(train[x_value], train.satisfaction)"
   ]
  },
  {
   "cell_type": "code",
   "execution_count": 73,
   "id": "174868f3-c388-446f-be0d-b363c27ac003",
   "metadata": {},
   "outputs": [],
   "source": [
    "pre = lr.predict(test[x_value])"
   ]
  },
  {
   "cell_type": "code",
   "execution_count": 83,
   "id": "0655c363-f192-4fac-bbfd-9b00bfec486c",
   "metadata": {},
   "outputs": [
    {
     "data": {
      "text/plain": [
       "0.721"
      ]
     },
     "execution_count": 83,
     "metadata": {},
     "output_type": "execute_result"
    }
   ],
   "source": [
    "metrics.accuracy_score(test.satisfaction, pre).round(3)"
   ]
  },
  {
   "cell_type": "code",
   "execution_count": 82,
   "id": "836107a6-e68c-4869-91f2-e6fd48b7dd69",
   "metadata": {},
   "outputs": [
    {
     "data": {
      "text/plain": [
       "0.749"
      ]
     },
     "execution_count": 82,
     "metadata": {},
     "output_type": "execute_result"
    }
   ],
   "source": [
    "# pos_label => dissatisfied에 대하여 f1 score를 적용\n",
    "metrics.f1_score(test.satisfaction, pre, pos_label='dissatisfied').round(3)"
   ]
  },
  {
   "cell_type": "code",
   "execution_count": null,
   "id": "7c361461-555d-471e-81fe-d3678f28f384",
   "metadata": {},
   "outputs": [],
   "source": []
  }
 ],
 "metadata": {
  "kernelspec": {
   "display_name": "Python Multi",
   "language": "python",
   "name": "multi"
  },
  "language_info": {
   "codemirror_mode": {
    "name": "ipython",
    "version": 3
   },
   "file_extension": ".py",
   "mimetype": "text/x-python",
   "name": "python",
   "nbconvert_exporter": "python",
   "pygments_lexer": "ipython3",
   "version": "3.7.6"
  }
 },
 "nbformat": 4,
 "nbformat_minor": 5
}
