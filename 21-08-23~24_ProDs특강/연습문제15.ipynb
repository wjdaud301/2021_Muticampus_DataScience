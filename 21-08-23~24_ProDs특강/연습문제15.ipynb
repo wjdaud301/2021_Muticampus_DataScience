{
 "cells": [
  {
   "cell_type": "code",
   "execution_count": 1,
   "id": "3460eb49-26a9-4456-8cdc-8300e2961630",
   "metadata": {},
   "outputs": [],
   "source": [
    "# =============================================================================\n",
    "# =============================================================================\n",
    "# # 문제 15 유형(Dataset_05_Mart_POS.csv /  이용)\n",
    "#\n",
    "# =============================================================================\n",
    "# Dataset_05_Mart_POS.csv \n",
    "# 구분자 : comma(“,”), 20488 Rows, 3 Columns, UTF-8 인코딩\n",
    "# =============================================================================\n",
    "#\n",
    "# 원룸촌에 위치한 A마트는 데이터 분석을 통해 보다 체계적인 재고관리와\n",
    "# 운영을 하고자 한다. 이를 위해 다음의 두 데이터 세트를 준비하였다.\n",
    "#\n",
    "# 컬 럼 / 정 의 / Type\n",
    "# Member_number / 고객 고유 번호 / Double\n",
    "# Date / 구매일 / String\n",
    "# itemDescription / 상품명 / String\n",
    "\n",
    "# =============================================================================\n",
    "# Dataset_05_item_list.csv \n",
    "# 구분자 : comma(“,”), 167 Rows, 4 Columns, UTF-8 인코\n",
    "# =============================================================================\n",
    "#\n",
    "# 컬 럼 / 정 의 / Type\n",
    "# prod_id / 상품 고유 번호 / Double\n",
    "# prod_nm / 상품명 / String\n",
    "# alcohol / 주류 상품 여부(1 : 주류) / Integer\n",
    "# frozen / 냉동 상품 여부(1 : 냉동) / Integer\n",
    "# =============================================================================\n",
    "# ============================================================================="
   ]
  },
  {
   "cell_type": "code",
   "execution_count": 2,
   "id": "2fc1d9d4-7417-49e1-ac66-35f84d6936bf",
   "metadata": {},
   "outputs": [],
   "source": [
    "import pandas as pd\n",
    "\n",
    "pos = pd.read_csv('Dataset/Dataset_05_Mart_POS.csv')\n",
    "li = pd.read_csv('Dataset/Dataset_05_item_list.csv')"
   ]
  },
  {
   "cell_type": "code",
   "execution_count": 5,
   "id": "281494b6-bc65-42c2-a999-3e54ad17af0b",
   "metadata": {},
   "outputs": [],
   "source": [
    "#%%\n",
    "\n",
    "# =============================================================================\n",
    "# 1.(Dataset_05_Mart_POS.csv를 활용하여) 가장 많은 제품이 팔린 날짜에 가장 많이 팔린\n",
    "# 제품의 판매 개수는? (답안 예시) 1\n",
    "# ============================================================================="
   ]
  },
  {
   "cell_type": "code",
   "execution_count": 6,
   "id": "a141ee6b-e77e-4628-a5c9-d39bc10679cd",
   "metadata": {},
   "outputs": [
    {
     "data": {
      "text/plain": [
       "2015-01-21    96\n",
       "Name: Date, dtype: int64"
      ]
     },
     "execution_count": 6,
     "metadata": {},
     "output_type": "execute_result"
    }
   ],
   "source": [
    "pos['Date'].value_counts().nlargest(1)\n",
    "\n",
    "# 정답 : 2015-01-21  96개"
   ]
  },
  {
   "cell_type": "code",
   "execution_count": 7,
   "id": "8eccaa8b-64f6-4275-be41-a90d5c5fd276",
   "metadata": {},
   "outputs": [],
   "source": [
    "#%%\n",
    "\n",
    "# =============================================================================\n",
    "# 2. (Dataset_05_Mart_POS.csv, Dataset_05_item_list.csv를 활용하여) 고객이 주류 제품을\n",
    "# 구매하는 요일이 다른 요일에 비해 금요일과 토요일이 많을 것이라는 가설을 세웠다. \n",
    "# 이를 확인하기 위해 금요일과 토요일의 일별 주류제품 구매 제품 수 평균과 다른\n",
    "# 요일의 일별 주류제품 구매 제품 수 평균이 서로 다른지 비교하기 위해 독립 2표본\n",
    "# t검정을 실시하시오. \n",
    "# 해당 검정의 p-value를 기술하시오.\n",
    "# - 1분기(1월 ~ 3월) 데이터만 사용하여 분석을 실시하시오.\n",
    "# - 등분산 가정을 만족하지 않는다는 조건 하에 분석을 실시하시오.\n",
    "# - p-value는 반올림하여 소수점 둘째 자리까지 기술하시오. (답안 예시) 0.12\n",
    "# ============================================================================="
   ]
  },
  {
   "cell_type": "code",
   "execution_count": 25,
   "id": "e00e361d-dbde-434b-b138-59f8ced41234",
   "metadata": {},
   "outputs": [],
   "source": [
    "# 1. 데이터셋 결합\n",
    "# 2. 요일\n",
    "# 3. 1분기 데이터 필터링(월 단위 추출)\n",
    "\n",
    "q2 = pos.copy()"
   ]
  },
  {
   "cell_type": "code",
   "execution_count": 26,
   "id": "7f96eb3a-cf46-42e5-9f7a-01e513dbfc81",
   "metadata": {},
   "outputs": [],
   "source": [
    "# pd.to_datetime(q2.Date).dt.year\n",
    "# pd.to_datetime(q2.Date).dt.month\n",
    "# pd.to_datetime(q2.Date).dt.day_name(locale='ko_kr')\n",
    "\n",
    "q2['month'] = pd.to_datetime(q2.Date).dt.month"
   ]
  },
  {
   "cell_type": "code",
   "execution_count": 27,
   "id": "8a1f7b07-4f71-4e6a-9951-3905284fde45",
   "metadata": {},
   "outputs": [],
   "source": [
    "q2['day'] = pd.to_datetime(q2.Date).dt.day_name()"
   ]
  },
  {
   "cell_type": "code",
   "execution_count": 28,
   "id": "78a55a47-4e05-40a1-a38b-91cd9be41f6e",
   "metadata": {},
   "outputs": [],
   "source": [
    "q2_merge = pd.merge(q2, li, \n",
    "                    left_on='itemDescription',\n",
    "                    right_on='prod_nm',\n",
    "                    how = 'left')"
   ]
  },
  {
   "cell_type": "code",
   "execution_count": 30,
   "id": "a54a209e-39ef-43a6-b450-b6b1f9aa683a",
   "metadata": {},
   "outputs": [],
   "source": [
    "q2_merge['week']=0\n",
    "q2_merge.loc[q2_merge.day.isin(['Friday','Saturday']),'week']=1"
   ]
  },
  {
   "cell_type": "code",
   "execution_count": 31,
   "id": "15acbe5d-4016-4d4e-aeea-9576812911b8",
   "metadata": {},
   "outputs": [],
   "source": [
    "q2_2 = q2_merge[q2_merge.month.isin([1,2,3])]"
   ]
  },
  {
   "cell_type": "code",
   "execution_count": 32,
   "id": "54ca9043-a63e-4132-aa21-3c3a55fe4ca6",
   "metadata": {},
   "outputs": [],
   "source": [
    "q2_tab = pd.pivot_table(q2_2, index='Date', columns='week',\n",
    "                       values='alcohol',\n",
    "                       aggfunc='sum')"
   ]
  },
  {
   "cell_type": "code",
   "execution_count": 34,
   "id": "c815de13-5138-43a4-b695-2f9d41631af8",
   "metadata": {},
   "outputs": [
    {
     "data": {
      "text/plain": [
       "Ttest_indResult(statistic=-2.335264239960428, pvalue=0.023062611047582393)"
      ]
     },
     "execution_count": 34,
     "metadata": {},
     "output_type": "execute_result"
    }
   ],
   "source": [
    "from scipy.stats import ttest_ind\n",
    "\n",
    "ttest_ind(q2_tab[1].dropna(), q2_tab[0].dropna(),equal_var=False)\n",
    "\n",
    "## statistic=-2.1325016442249423, pvalue=0.035750974474819806\n",
    "## 정답 : 0.04(등분산) 0.02(이분산)"
   ]
  },
  {
   "cell_type": "code",
   "execution_count": 8,
   "id": "2d9c43b7-22c5-49c4-bf7a-f9c018732918",
   "metadata": {},
   "outputs": [],
   "source": [
    "#%%\n",
    "\n",
    "# =============================================================================\n",
    "# 3.(Dataset_05_Mart_POS.csv를 활용하여) 1년 동안 가장 많이 판매된 10개 상품을 주력\n",
    "# 상품으로 설정하고 특정 요일에 프로모션을 진행할지 말지 결정하고자 한다. 먼저\n",
    "# 요일을 선정하기 전에 일원 분산 분석을 통하여 요일별 주력 상품의 판매 개수의\n",
    "# 평균이 유의미하게 차이가 나는지 알아보고자 한다. 이와 관련하여 일원 분산 분석을\n",
    "# 실시하고 p-value를 기술하시오.\n",
    "# - p-value는 반올림하여 소수점 둘째 자리까지 기술하시오. (답안 예시) 0.12\n",
    "# \n",
    "# (참고)\n",
    "# from statsmodels.formula.api import ols\n",
    "# from statsmodels.stats.anova import anova_lm\n",
    "# ============================================================================="
   ]
  },
  {
   "cell_type": "code",
   "execution_count": 35,
   "id": "b138ef1f-33e3-4a1c-a28a-e2eded758e0e",
   "metadata": {},
   "outputs": [],
   "source": [
    "top10 = pos['itemDescription'].value_counts().nlargest(10).index"
   ]
  },
  {
   "cell_type": "code",
   "execution_count": 37,
   "id": "806a30d5-47d4-4838-861e-f6c7a6c5ee97",
   "metadata": {},
   "outputs": [],
   "source": [
    "q3 = q2[q2['itemDescription'].isin(top10)]"
   ]
  },
  {
   "cell_type": "code",
   "execution_count": 38,
   "id": "863a3a4f-1533-4c90-bb0b-2d4876dc678d",
   "metadata": {},
   "outputs": [],
   "source": [
    "q3_tab = pd.pivot_table(data=q3,\n",
    "                        index=['Date','day'],\n",
    "                        values='itemDescription',\n",
    "                       aggfunc='count').reset_index()"
   ]
  },
  {
   "cell_type": "code",
   "execution_count": 40,
   "id": "51065a58-e322-42d9-8e6b-7f3b13a00914",
   "metadata": {},
   "outputs": [],
   "source": [
    "from statsmodels.formula.api import ols\n",
    "from statsmodels.stats.anova import anova_lm"
   ]
  },
  {
   "cell_type": "code",
   "execution_count": 44,
   "id": "0414cb7c-e855-46a4-9bc3-5c89492ad6c8",
   "metadata": {},
   "outputs": [
    {
     "data": {
      "text/plain": [
       "day         0.518128\n",
       "Residual         NaN\n",
       "Name: PR(>F), dtype: float64"
      ]
     },
     "execution_count": 44,
     "metadata": {},
     "output_type": "execute_result"
    }
   ],
   "source": [
    "ols1 = ols('itemDescription~day', q3_tab).fit()\n",
    "q3_out = anova_lm(ols1)\n",
    "q3_out['PR(>F)']\n",
    "\n",
    "# 정답 : 0.52"
   ]
  },
  {
   "cell_type": "code",
   "execution_count": null,
   "id": "6e2e79b5-d367-4560-b156-f7dcc32f9677",
   "metadata": {},
   "outputs": [],
   "source": []
  }
 ],
 "metadata": {
  "kernelspec": {
   "display_name": "Python Multi",
   "language": "python",
   "name": "multi"
  },
  "language_info": {
   "codemirror_mode": {
    "name": "ipython",
    "version": 3
   },
   "file_extension": ".py",
   "mimetype": "text/x-python",
   "name": "python",
   "nbconvert_exporter": "python",
   "pygments_lexer": "ipython3",
   "version": "3.7.6"
  }
 },
 "nbformat": 4,
 "nbformat_minor": 5
}
