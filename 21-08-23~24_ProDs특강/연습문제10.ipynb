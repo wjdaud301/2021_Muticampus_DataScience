{
 "cells": [
  {
   "cell_type": "code",
   "execution_count": null,
   "id": "cf8f3b81-0106-4a78-a252-0ce62b9373b9",
   "metadata": {},
   "outputs": [],
   "source": [
    "# =============================================================================\n",
    "# =============================================================================\n",
    "# # 문제 10 유형(DataSet_10.csv 이용)\n",
    "#\n",
    "# 구분자 : comma(“,”), 1538 Rows, 6 Columns, UTF-8 인코딩\n",
    "\n",
    "# 중고 자동차 가격에 대한 분석을 위하여 아래와 같은 데이터를\n",
    "# 확보하였다.\n",
    "\n",
    "# 컬 럼 / 정 의 / Type\n",
    "# model / 모델명 / String\n",
    "# engine_power / 엔진 파워 / Double\n",
    "# age_in_days / 운행 일수 / Double\n",
    "# km / 운행 거리 / Double\n",
    "# previous_owners / 이전 소유자 수 / Double\n",
    "# price / 중고차 가격 / Double\n",
    "# =============================================================================\n",
    "# =============================================================================\n",
    "\n",
    "# =============================================================================\n",
    "# (참고)\n",
    "# #1\n",
    "# import pandas as pd\n",
    "# import numpy as np\n",
    "# #2\n",
    "# import scipy.stats as ststs\n",
    "# #3\n",
    "# from sklearn.linear_model import LinearRegression\n",
    "# ============================================================================="
   ]
  },
  {
   "cell_type": "code",
   "execution_count": 5,
   "id": "bc6972f5-2e30-45b6-93b6-e0376b5367ea",
   "metadata": {},
   "outputs": [],
   "source": [
    "import pandas as pd\n",
    "\n",
    "dataset10 = pd.read_csv('Dataset/Dataset_10.csv')"
   ]
  },
  {
   "cell_type": "code",
   "execution_count": 6,
   "id": "152ffbbd-26a6-4bbe-a645-b8770d929836",
   "metadata": {},
   "outputs": [
    {
     "data": {
      "text/html": [
       "<div>\n",
       "<style scoped>\n",
       "    .dataframe tbody tr th:only-of-type {\n",
       "        vertical-align: middle;\n",
       "    }\n",
       "\n",
       "    .dataframe tbody tr th {\n",
       "        vertical-align: top;\n",
       "    }\n",
       "\n",
       "    .dataframe thead th {\n",
       "        text-align: right;\n",
       "    }\n",
       "</style>\n",
       "<table border=\"1\" class=\"dataframe\">\n",
       "  <thead>\n",
       "    <tr style=\"text-align: right;\">\n",
       "      <th></th>\n",
       "      <th>model</th>\n",
       "      <th>engine_power</th>\n",
       "      <th>age_in_days</th>\n",
       "      <th>km</th>\n",
       "      <th>previous_owners</th>\n",
       "      <th>price</th>\n",
       "      <th>Unnamed: 6</th>\n",
       "      <th>Unnamed: 7</th>\n",
       "      <th>Unnamed: 8</th>\n",
       "      <th>Unnamed: 9</th>\n",
       "      <th>Unnamed: 10</th>\n",
       "      <th>Unnamed: 11</th>\n",
       "      <th>Unnamed: 12</th>\n",
       "      <th>Unnamed: 13</th>\n",
       "      <th>Unnamed: 14</th>\n",
       "      <th>Unnamed: 15</th>\n",
       "      <th>Unnamed: 16</th>\n",
       "    </tr>\n",
       "  </thead>\n",
       "  <tbody>\n",
       "    <tr>\n",
       "      <th>0</th>\n",
       "      <td>lounge</td>\n",
       "      <td>51</td>\n",
       "      <td>882</td>\n",
       "      <td>25000</td>\n",
       "      <td>1</td>\n",
       "      <td>8900</td>\n",
       "      <td>NaN</td>\n",
       "      <td>NaN</td>\n",
       "      <td>NaN</td>\n",
       "      <td>NaN</td>\n",
       "      <td>NaN</td>\n",
       "      <td>NaN</td>\n",
       "      <td>NaN</td>\n",
       "      <td>NaN</td>\n",
       "      <td>NaN</td>\n",
       "      <td>NaN</td>\n",
       "      <td>NaN</td>\n",
       "    </tr>\n",
       "    <tr>\n",
       "      <th>1</th>\n",
       "      <td>pop</td>\n",
       "      <td>51</td>\n",
       "      <td>1186</td>\n",
       "      <td>32500</td>\n",
       "      <td>1</td>\n",
       "      <td>8800</td>\n",
       "      <td>NaN</td>\n",
       "      <td>NaN</td>\n",
       "      <td>NaN</td>\n",
       "      <td>NaN</td>\n",
       "      <td>NaN</td>\n",
       "      <td>NaN</td>\n",
       "      <td>NaN</td>\n",
       "      <td>NaN</td>\n",
       "      <td>NaN</td>\n",
       "      <td>NaN</td>\n",
       "      <td>NaN</td>\n",
       "    </tr>\n",
       "    <tr>\n",
       "      <th>2</th>\n",
       "      <td>sport</td>\n",
       "      <td>74</td>\n",
       "      <td>4658</td>\n",
       "      <td>142228</td>\n",
       "      <td>1</td>\n",
       "      <td>4200</td>\n",
       "      <td>NaN</td>\n",
       "      <td>NaN</td>\n",
       "      <td>NaN</td>\n",
       "      <td>NaN</td>\n",
       "      <td>NaN</td>\n",
       "      <td>NaN</td>\n",
       "      <td>NaN</td>\n",
       "      <td>NaN</td>\n",
       "      <td>NaN</td>\n",
       "      <td>NaN</td>\n",
       "      <td>NaN</td>\n",
       "    </tr>\n",
       "    <tr>\n",
       "      <th>3</th>\n",
       "      <td>lounge</td>\n",
       "      <td>51</td>\n",
       "      <td>2739</td>\n",
       "      <td>160000</td>\n",
       "      <td>1</td>\n",
       "      <td>6000</td>\n",
       "      <td>NaN</td>\n",
       "      <td>NaN</td>\n",
       "      <td>NaN</td>\n",
       "      <td>NaN</td>\n",
       "      <td>NaN</td>\n",
       "      <td>NaN</td>\n",
       "      <td>NaN</td>\n",
       "      <td>NaN</td>\n",
       "      <td>NaN</td>\n",
       "      <td>NaN</td>\n",
       "      <td>NaN</td>\n",
       "    </tr>\n",
       "    <tr>\n",
       "      <th>4</th>\n",
       "      <td>pop</td>\n",
       "      <td>73</td>\n",
       "      <td>3074</td>\n",
       "      <td>106880</td>\n",
       "      <td>1</td>\n",
       "      <td>5700</td>\n",
       "      <td>NaN</td>\n",
       "      <td>NaN</td>\n",
       "      <td>NaN</td>\n",
       "      <td>NaN</td>\n",
       "      <td>NaN</td>\n",
       "      <td>NaN</td>\n",
       "      <td>NaN</td>\n",
       "      <td>NaN</td>\n",
       "      <td>NaN</td>\n",
       "      <td>NaN</td>\n",
       "      <td>NaN</td>\n",
       "    </tr>\n",
       "  </tbody>\n",
       "</table>\n",
       "</div>"
      ],
      "text/plain": [
       "    model  engine_power  age_in_days      km  previous_owners  price  \\\n",
       "0  lounge            51          882   25000                1   8900   \n",
       "1     pop            51         1186   32500                1   8800   \n",
       "2   sport            74         4658  142228                1   4200   \n",
       "3  lounge            51         2739  160000                1   6000   \n",
       "4     pop            73         3074  106880                1   5700   \n",
       "\n",
       "   Unnamed: 6  Unnamed: 7  Unnamed: 8  Unnamed: 9  Unnamed: 10  Unnamed: 11  \\\n",
       "0         NaN         NaN         NaN         NaN          NaN          NaN   \n",
       "1         NaN         NaN         NaN         NaN          NaN          NaN   \n",
       "2         NaN         NaN         NaN         NaN          NaN          NaN   \n",
       "3         NaN         NaN         NaN         NaN          NaN          NaN   \n",
       "4         NaN         NaN         NaN         NaN          NaN          NaN   \n",
       "\n",
       "   Unnamed: 12  Unnamed: 13  Unnamed: 14  Unnamed: 15  Unnamed: 16  \n",
       "0          NaN          NaN          NaN          NaN          NaN  \n",
       "1          NaN          NaN          NaN          NaN          NaN  \n",
       "2          NaN          NaN          NaN          NaN          NaN  \n",
       "3          NaN          NaN          NaN          NaN          NaN  \n",
       "4          NaN          NaN          NaN          NaN          NaN  "
      ]
     },
     "execution_count": 6,
     "metadata": {},
     "output_type": "execute_result"
    }
   ],
   "source": [
    "dataset10.head()"
   ]
  },
  {
   "cell_type": "code",
   "execution_count": null,
   "id": "68acf810-8075-4fab-992a-3a35bb51612b",
   "metadata": {},
   "outputs": [],
   "source": [
    "#%%\n",
    "\n",
    "# =============================================================================\n",
    "# 1.이전 소유자 수가 한 명이고 엔진 파워가 51인 차에 대해 모델별 하루 평균 운행\n",
    "# 거리를 산출하였을 때 가장 낮은 값을 가진 모델이 가장 큰 값을 가진 모델에 대한\n",
    "# 비율은 얼마인가? 소수점 셋째 자리에서 반올림하여 소수점 둘째 자리까지\n",
    "# 기술하시오.\n",
    "# (모델별 평균 → 일평균 → 최대최소 비율 계산) (답안 예시) 0.12\n",
    "# ============================================================================="
   ]
  },
  {
   "cell_type": "code",
   "execution_count": 49,
   "id": "a21d58ca-3850-4eeb-a2ad-4b807c343b6b",
   "metadata": {},
   "outputs": [],
   "source": [
    "q1 = dataset10.copy()"
   ]
  },
  {
   "cell_type": "code",
   "execution_count": 50,
   "id": "be5f05e3-f3f9-41d8-8960-57127d7852fd",
   "metadata": {},
   "outputs": [],
   "source": [
    "q1 = q1.iloc[:,:5]"
   ]
  },
  {
   "cell_type": "code",
   "execution_count": 51,
   "id": "19bd8661-51ee-4db9-b0fc-12cb0e8967a9",
   "metadata": {},
   "outputs": [],
   "source": [
    "q1 = q1[(q1['previous_owners'] == 1) & (q1['engine_power'] == 51)]"
   ]
  },
  {
   "cell_type": "code",
   "execution_count": 52,
   "id": "5188defd-996c-4724-b102-9adf5445116b",
   "metadata": {},
   "outputs": [],
   "source": [
    "q1 = q1.pivot_table(index= 'model', values=[\"age_in_days\",\"km\"] )"
   ]
  },
  {
   "cell_type": "code",
   "execution_count": 53,
   "id": "0570ef79-cdbe-493f-89ce-70a9afad78eb",
   "metadata": {},
   "outputs": [],
   "source": [
    "q1['days'] = q1.km / q1.age_in_days"
   ]
  },
  {
   "cell_type": "code",
   "execution_count": 54,
   "id": "629d2c34-733a-486b-96cb-cda9586836c2",
   "metadata": {},
   "outputs": [
    {
     "data": {
      "text/plain": [
       "0.97"
      ]
     },
     "execution_count": 54,
     "metadata": {},
     "output_type": "execute_result"
    }
   ],
   "source": [
    "(q1.days.min() / q1.days.max()).round(2)\n",
    "# 정답 : 0.97"
   ]
  },
  {
   "cell_type": "code",
   "execution_count": 55,
   "id": "d584f0fa-b9af-460f-bbec-bbe1454a62f9",
   "metadata": {},
   "outputs": [
    {
     "data": {
      "text/html": [
       "<div>\n",
       "<style scoped>\n",
       "    .dataframe tbody tr th:only-of-type {\n",
       "        vertical-align: middle;\n",
       "    }\n",
       "\n",
       "    .dataframe tbody tr th {\n",
       "        vertical-align: top;\n",
       "    }\n",
       "\n",
       "    .dataframe thead th {\n",
       "        text-align: right;\n",
       "    }\n",
       "</style>\n",
       "<table border=\"1\" class=\"dataframe\">\n",
       "  <thead>\n",
       "    <tr style=\"text-align: right;\">\n",
       "      <th></th>\n",
       "      <th>age_in_days</th>\n",
       "      <th>km</th>\n",
       "      <th>days</th>\n",
       "    </tr>\n",
       "    <tr>\n",
       "      <th>model</th>\n",
       "      <th></th>\n",
       "      <th></th>\n",
       "      <th></th>\n",
       "    </tr>\n",
       "  </thead>\n",
       "  <tbody>\n",
       "    <tr>\n",
       "      <th>lounge</th>\n",
       "      <td>1343.450366</td>\n",
       "      <td>44123.670846</td>\n",
       "      <td>32.843544</td>\n",
       "    </tr>\n",
       "    <tr>\n",
       "      <th>pop</th>\n",
       "      <td>1800.509804</td>\n",
       "      <td>58097.532680</td>\n",
       "      <td>32.267268</td>\n",
       "    </tr>\n",
       "    <tr>\n",
       "      <th>sport</th>\n",
       "      <td>3031.387755</td>\n",
       "      <td>96460.979592</td>\n",
       "      <td>31.820733</td>\n",
       "    </tr>\n",
       "  </tbody>\n",
       "</table>\n",
       "</div>"
      ],
      "text/plain": [
       "        age_in_days            km       days\n",
       "model                                       \n",
       "lounge  1343.450366  44123.670846  32.843544\n",
       "pop     1800.509804  58097.532680  32.267268\n",
       "sport   3031.387755  96460.979592  31.820733"
      ]
     },
     "execution_count": 55,
     "metadata": {},
     "output_type": "execute_result"
    }
   ],
   "source": [
    "q1"
   ]
  },
  {
   "cell_type": "code",
   "execution_count": 31,
   "id": "c273c915-9d9f-428e-9dd3-395e94bdfdaf",
   "metadata": {},
   "outputs": [],
   "source": [
    "#%%\n",
    "\n",
    "# =============================================================================\n",
    "# 2.운행 일수에 대한 운행 거리를 산출하고, 위 1번 문제에서 가장 큰 값을 가지고 있던\n",
    "# 모델과 가장 낮은 값을 가지고 있던 모델 간의 운행 일수 대비 운행거리 평균이 다른지\n",
    "# 적절한 통계 검정을 수행하고 p-value를 소수점 세자리 이하는 버리고 소수점\n",
    "# 두자리까지 기술하고 기각 여부를 Y / N로 답하시오. (등분산을 가정하고 equal_var = \n",
    "# True / var.equal = T로 분석을 실행하시오.)\n",
    "# (답안 예시) 0.23, Y\n",
    "# ============================================================================="
   ]
  },
  {
   "cell_type": "code",
   "execution_count": 58,
   "id": "132c1258-7857-4f3a-bd3c-14efb2a41bc7",
   "metadata": {},
   "outputs": [],
   "source": [
    "q2 = dataset10.copy().iloc[:,:5]\n",
    "\n",
    "q2['km_per_day'] = q2['km'] / q2['age_in_days']\n",
    "\n",
    "big = q2[q2.model == 'lounge']['km_per_day']\n",
    "small = q2[q2.model == 'sport']['km_per_day']"
   ]
  },
  {
   "cell_type": "code",
   "execution_count": 60,
   "id": "9cdc3834-b598-43f9-9ffd-c23f935b74be",
   "metadata": {},
   "outputs": [
    {
     "data": {
      "text/plain": [
       "Ttest_indResult(statistic=1.5054268543179226, pvalue=0.13248244438755083)"
      ]
     },
     "execution_count": 60,
     "metadata": {},
     "output_type": "execute_result"
    }
   ],
   "source": [
    "from scipy.stats import ttest_ind\n",
    "\n",
    "ttest_ind(big, small, equal_var=True)\n"
   ]
  },
  {
   "cell_type": "code",
   "execution_count": null,
   "id": "824184c3-6af9-4a09-8e56-7a9120931928",
   "metadata": {},
   "outputs": [],
   "source": [
    "## 0.13, N"
   ]
  },
  {
   "cell_type": "code",
   "execution_count": 41,
   "id": "c0fe9fc8-4f20-43cf-afae-f675d79637ca",
   "metadata": {},
   "outputs": [],
   "source": [
    "#%%\n",
    "\n",
    "# =============================================================================\n",
    "# 3.독립변수로 engine_power, age_in_days, km를 사용하고 종속변수로 price를 사용하여\n",
    "# 모델별 선형회귀분석을 수행하고, 산출된 모형을 사용하여 다음과 같은 조건의\n",
    "# 중고차에 대한 가격을 예측하고 예측된 가격을 정수부만 기술하시오.\n",
    "# - model : pop / engine_power : 51 / age_in_days : 400 / km : 9500 / previous_owners : 2\n",
    "\n",
    "# (답안 예시) 12345\n",
    "# ============================================================================="
   ]
  },
  {
   "cell_type": "code",
   "execution_count": 68,
   "id": "623b3634-09ae-4ccc-9504-7a4f4b4d29e6",
   "metadata": {},
   "outputs": [
    {
     "name": "stdout",
     "output_type": "stream",
     "text": [
      "10469\n"
     ]
    }
   ],
   "source": [
    "q3 = dataset10.copy().iloc[:,:6]\n",
    "\n",
    "new_data = pd.DataFrame({\n",
    "    'model' : ['pop'],\n",
    "    'engine_power' : [51],\n",
    "    'age_in_days' : [400],\n",
    "    'km' : [9500],\n",
    "    'previous_owners' : [2]\n",
    "    })\n",
    "\n",
    "from sklearn.linear_model import LinearRegression\n",
    "import numpy as np\n",
    "\n",
    "x_var = ['engine_power', 'age_in_days', 'km']\n",
    "\n",
    "lm = LinearRegression().fit(q3[x_var], q3.price)\n",
    "\n",
    "new_data = pd.DataFrame({\n",
    "    'model' : ['pop'],\n",
    "    'engine_power' : [51],\n",
    "    'age_in_days' : [400],\n",
    "    'km' : [9500],\n",
    "    'previous_owners' : [2]\n",
    "    })\n",
    "\n",
    "new_data2 = np.array([[51,400,9500]])\n",
    "\n",
    "\n",
    "ans = lm.predict(new_data[x_var])\n",
    "print(int(ans))\n"
   ]
  },
  {
   "cell_type": "code",
   "execution_count": null,
   "id": "6d01c96c-d331-4ff1-94d8-0441f9f22209",
   "metadata": {},
   "outputs": [],
   "source": []
  }
 ],
 "metadata": {
  "kernelspec": {
   "display_name": "Python Multi",
   "language": "python",
   "name": "multi"
  },
  "language_info": {
   "codemirror_mode": {
    "name": "ipython",
    "version": 3
   },
   "file_extension": ".py",
   "mimetype": "text/x-python",
   "name": "python",
   "nbconvert_exporter": "python",
   "pygments_lexer": "ipython3",
   "version": "3.7.6"
  }
 },
 "nbformat": 4,
 "nbformat_minor": 5
}
