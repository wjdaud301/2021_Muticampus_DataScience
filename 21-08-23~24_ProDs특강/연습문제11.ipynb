{
 "cells": [
  {
   "cell_type": "code",
   "execution_count": null,
   "id": "d027b62a-3002-4a53-a477-e0b7a1e38dbd",
   "metadata": {},
   "outputs": [],
   "source": [
    "# =============================================================================\n",
    "# =============================================================================\n",
    "# # 문제 11 유형(DataSet_11.csv 이용)\n",
    "\n",
    "# 구분자 : comma(“,”), 470 Rows, 4 Columns, UTF-8 인코딩\n",
    "\n",
    "# 세계 각국의 행복지수를 비롯한 여러 정보를 조사한 DS리서치는\n",
    "# 취합된 자료의 현황 파악 및 간단한 통계분석을 실시하고자 한다.\n",
    "\n",
    "# 컬 럼 / 정 의 / Type\n",
    "# Country / 국가명 / String\n",
    "# Happiness_Rank / 당해 행복점수 순위 / Double\n",
    "# Happiness_Score / 행복점수 / Double\n",
    "# year / 년도 / Double\n",
    "# =============================================================================\n",
    "# =============================================================================\n",
    "# (참고)\n",
    "# from statsmodels.formula.api import ols\n",
    "# from statsmodels.stats.anova import anova_lm"
   ]
  },
  {
   "cell_type": "code",
   "execution_count": 1,
   "id": "610ddc70-6239-4567-bb9e-9ee9c0069b98",
   "metadata": {},
   "outputs": [],
   "source": [
    "import pandas as pd\n",
    "import numpy as np\n",
    "\n",
    "dataset11 = pd.read_csv('Dataset/Dataset_11.csv')"
   ]
  },
  {
   "cell_type": "code",
   "execution_count": 3,
   "id": "31a543dc-a02f-41e6-8106-738243e2abe3",
   "metadata": {},
   "outputs": [
    {
     "data": {
      "text/html": [
       "<div>\n",
       "<style scoped>\n",
       "    .dataframe tbody tr th:only-of-type {\n",
       "        vertical-align: middle;\n",
       "    }\n",
       "\n",
       "    .dataframe tbody tr th {\n",
       "        vertical-align: top;\n",
       "    }\n",
       "\n",
       "    .dataframe thead th {\n",
       "        text-align: right;\n",
       "    }\n",
       "</style>\n",
       "<table border=\"1\" class=\"dataframe\">\n",
       "  <thead>\n",
       "    <tr style=\"text-align: right;\">\n",
       "      <th></th>\n",
       "      <th>Country</th>\n",
       "      <th>Happiness_Rank</th>\n",
       "      <th>Happiness_Score</th>\n",
       "      <th>year</th>\n",
       "    </tr>\n",
       "  </thead>\n",
       "  <tbody>\n",
       "    <tr>\n",
       "      <th>0</th>\n",
       "      <td>Switzerland</td>\n",
       "      <td>1</td>\n",
       "      <td>7.587</td>\n",
       "      <td>2015</td>\n",
       "    </tr>\n",
       "    <tr>\n",
       "      <th>1</th>\n",
       "      <td>Iceland</td>\n",
       "      <td>2</td>\n",
       "      <td>7.561</td>\n",
       "      <td>2015</td>\n",
       "    </tr>\n",
       "    <tr>\n",
       "      <th>2</th>\n",
       "      <td>Denmark</td>\n",
       "      <td>3</td>\n",
       "      <td>7.527</td>\n",
       "      <td>2015</td>\n",
       "    </tr>\n",
       "    <tr>\n",
       "      <th>3</th>\n",
       "      <td>Norway</td>\n",
       "      <td>4</td>\n",
       "      <td>7.522</td>\n",
       "      <td>2015</td>\n",
       "    </tr>\n",
       "    <tr>\n",
       "      <th>4</th>\n",
       "      <td>Canada</td>\n",
       "      <td>5</td>\n",
       "      <td>7.427</td>\n",
       "      <td>2015</td>\n",
       "    </tr>\n",
       "  </tbody>\n",
       "</table>\n",
       "</div>"
      ],
      "text/plain": [
       "       Country  Happiness_Rank  Happiness_Score  year\n",
       "0  Switzerland               1            7.587  2015\n",
       "1      Iceland               2            7.561  2015\n",
       "2      Denmark               3            7.527  2015\n",
       "3       Norway               4            7.522  2015\n",
       "4       Canada               5            7.427  2015"
      ]
     },
     "execution_count": 3,
     "metadata": {},
     "output_type": "execute_result"
    }
   ],
   "source": [
    "dataset11.head()"
   ]
  },
  {
   "cell_type": "code",
   "execution_count": null,
   "id": "0a54bd0c-9a7e-49f2-a56c-8d3b89dd7d8c",
   "metadata": {},
   "outputs": [],
   "source": [
    "#%%\n",
    "\n",
    "# =============================================================================\n",
    "# 1.분석을 위해 3년 연속 행복지수가 기록된 국가의 데이터를 사용하고자 한다. \n",
    "# 3년 연속 데이터가 기록되지 않은 국가의 개수는?\n",
    "# - 국가명 표기가 한 글자라도 다른 경우 다른 국가로 처리하시오.\n",
    "# - 3년 연속 데이터가 기록되지 않은 국가 데이터는 제외하고 이를 향후 분석에서\n",
    "# 활용하시오.(답안 예시) 1\n",
    "# ============================================================================="
   ]
  },
  {
   "cell_type": "code",
   "execution_count": 57,
   "id": "df230647-ce45-452f-984f-8824dbb04ca5",
   "metadata": {},
   "outputs": [],
   "source": [
    "q1 = dataset11.copy()"
   ]
  },
  {
   "cell_type": "code",
   "execution_count": 58,
   "id": "5834f66b-2a86-42f0-bd8d-7693b6bba533",
   "metadata": {},
   "outputs": [
    {
     "data": {
      "text/plain": [
       "array([2015, 2016, 2017], dtype=int64)"
      ]
     },
     "execution_count": 58,
     "metadata": {},
     "output_type": "execute_result"
    }
   ],
   "source": [
    "q1.year.unique()"
   ]
  },
  {
   "cell_type": "code",
   "execution_count": 59,
   "id": "874ae0c2-1616-40b4-9aa0-99fdee674701",
   "metadata": {},
   "outputs": [],
   "source": [
    "q1_2 = q1.pivot_table(index='Country', columns='year', values = 'Happiness_Score')"
   ]
  },
  {
   "cell_type": "code",
   "execution_count": 56,
   "id": "6973fe58-3acf-4ea8-b22c-811b62727ce6",
   "metadata": {},
   "outputs": [],
   "source": [
    "q1_2['na_num'] = q1_2.isnull().sum(axis=1)"
   ]
  },
  {
   "cell_type": "code",
   "execution_count": 29,
   "id": "e414e561-defd-4f39-8692-8465e3143bfa",
   "metadata": {},
   "outputs": [
    {
     "data": {
      "text/plain": [
       "20"
      ]
     },
     "execution_count": 29,
     "metadata": {},
     "output_type": "execute_result"
    }
   ],
   "source": [
    "(q1_2['na_num']>0).sum()"
   ]
  },
  {
   "cell_type": "code",
   "execution_count": null,
   "id": "67fcc718-eb20-48e2-9dbc-4b422e47262b",
   "metadata": {},
   "outputs": [],
   "source": [
    "#%%\n",
    "\n",
    "# =============================================================================\n",
    "# 2.(1번 산출물을 활용하여) 2017년 행복지수와 2015년 행복지수를 활용하여 국가별\n",
    "# 행복지수 증감률을 산출하고 행복지수 증감률이 가장 높은 3개 국가를 행복지수가\n",
    "# 높은 순서대로 차례대로 기술하시오.\n",
    "# 증감률 = (2017년행복지수−2015년행복지수)/2\n",
    "# \n",
    "# - 연도는 년월(YEAR_MONTH) 변수로부터 추출하며, 연도별 매출금액합계는 1월부터\n",
    "# 12월까지의 매출 총액을 의미한다. (답안 예시) Korea, Japan, China\n",
    "# ============================================================================="
   ]
  },
  {
   "cell_type": "code",
   "execution_count": 31,
   "id": "e59083d4-3fbd-492f-afde-34866e15f1a5",
   "metadata": {},
   "outputs": [],
   "source": [
    "q2 = q1_3.drop(columns='na_num')"
   ]
  },
  {
   "cell_type": "code",
   "execution_count": 34,
   "id": "a71b9d4e-8654-4ac3-9f25-53ec5a28d1b6",
   "metadata": {},
   "outputs": [],
   "source": [
    "# 증감률\n",
    "q2['ratio'] = (q2[2017] - q2[2015]) /2"
   ]
  },
  {
   "cell_type": "code",
   "execution_count": 37,
   "id": "e9f637a5-bf83-475f-965b-f2c98534efb4",
   "metadata": {},
   "outputs": [
    {
     "data": {
      "text/plain": [
       "Index(['Latvia', 'Romania', 'Togo'], dtype='object', name='Country')"
      ]
     },
     "execution_count": 37,
     "metadata": {},
     "output_type": "execute_result"
    }
   ],
   "source": [
    "q2['ratio'].nlargest(3).index\n",
    "# 정답 : 'Latvia', 'Romania', 'Togo'"
   ]
  },
  {
   "cell_type": "code",
   "execution_count": 38,
   "id": "195b3644-0874-4700-9076-3ecb6ca87b7a",
   "metadata": {},
   "outputs": [],
   "source": [
    "#%%\n",
    "\n",
    "# =============================================================================\n",
    "# 3.(1번 산출물을 활용하여) 년도별 행복지수 평균이 유의미하게 차이가 나는지\n",
    "# 알아보고자 한다. \n",
    "# 이와 관련하여 적절한 검정을 사용하고 검정통계량을 기술하시오.\n",
    "# - 해당 검정의 검정통계량은 자유도가 2인 F 분포를 따른다.\n",
    "# - 검정통계량은 소수점 넷째 자리까지 기술한다. (답안 예시) 0.1234\n",
    "# =============================================================================\n"
   ]
  },
  {
   "cell_type": "code",
   "execution_count": 39,
   "id": "744c2b63-792a-4b6d-9b9d-1ab795fa16b0",
   "metadata": {},
   "outputs": [],
   "source": [
    "from statsmodels.formula.api import ols\n",
    "from statsmodels.stats.anova import anova_lm"
   ]
  },
  {
   "cell_type": "code",
   "execution_count": 44,
   "id": "24a5ea26-fe3d-455f-994d-9c20dd59f66a",
   "metadata": {},
   "outputs": [],
   "source": [
    "q3 = dataset11[dataset11['Country'].isin(q1_2.index.values)]"
   ]
  },
  {
   "cell_type": "code",
   "execution_count": 40,
   "id": "f7da4d28-5553-4330-87c6-149c296cc9b5",
   "metadata": {},
   "outputs": [],
   "source": [
    "# C(수치형변수) : 범주형으로 인식\n",
    "anova = ols('Happiness_Score~C(year)',q1).fit()\n",
    "# ols 사용 시 변수명에서 스페이스가 포함된 변수, -포함된 변수, .포함된 변수 사용"
   ]
  },
  {
   "cell_type": "code",
   "execution_count": 46,
   "id": "855b9ca9-8fe4-44a9-9be6-da55c3b9fb0f",
   "metadata": {},
   "outputs": [
    {
     "data": {
      "text/html": [
       "<div>\n",
       "<style scoped>\n",
       "    .dataframe tbody tr th:only-of-type {\n",
       "        vertical-align: middle;\n",
       "    }\n",
       "\n",
       "    .dataframe tbody tr th {\n",
       "        vertical-align: top;\n",
       "    }\n",
       "\n",
       "    .dataframe thead th {\n",
       "        text-align: right;\n",
       "    }\n",
       "</style>\n",
       "<table border=\"1\" class=\"dataframe\">\n",
       "  <thead>\n",
       "    <tr style=\"text-align: right;\">\n",
       "      <th></th>\n",
       "      <th>df</th>\n",
       "      <th>sum_sq</th>\n",
       "      <th>mean_sq</th>\n",
       "      <th>F</th>\n",
       "      <th>PR(&gt;F)</th>\n",
       "    </tr>\n",
       "  </thead>\n",
       "  <tbody>\n",
       "    <tr>\n",
       "      <th>C(year)</th>\n",
       "      <td>2.0</td>\n",
       "      <td>0.067840</td>\n",
       "      <td>0.033920</td>\n",
       "      <td>0.026129</td>\n",
       "      <td>0.974211</td>\n",
       "    </tr>\n",
       "    <tr>\n",
       "      <th>Residual</th>\n",
       "      <td>467.0</td>\n",
       "      <td>606.238796</td>\n",
       "      <td>1.298156</td>\n",
       "      <td>NaN</td>\n",
       "      <td>NaN</td>\n",
       "    </tr>\n",
       "  </tbody>\n",
       "</table>\n",
       "</div>"
      ],
      "text/plain": [
       "             df      sum_sq   mean_sq         F    PR(>F)\n",
       "C(year)     2.0    0.067840  0.033920  0.026129  0.974211\n",
       "Residual  467.0  606.238796  1.298156       NaN       NaN"
      ]
     },
     "execution_count": 46,
     "metadata": {},
     "output_type": "execute_result"
    }
   ],
   "source": [
    "anova_lm(anova)\n",
    "## C(year) 집단간\n",
    "## Residual 집단내\n",
    "# 적어도 한집단이 차이가 있다.\n",
    "\n",
    "# 정답 : 0.026129"
   ]
  },
  {
   "cell_type": "code",
   "execution_count": 50,
   "id": "ab324466-3728-4411-afc3-e70d19c93f75",
   "metadata": {},
   "outputs": [],
   "source": [
    "from statsmodels.stats.multicomp import pairwise_tukeyhsd\n",
    "\n",
    "q3_out = pairwise_tukeyhsd(q3['Happiness_Score'], q3['year'])"
   ]
  },
  {
   "cell_type": "code",
   "execution_count": 52,
   "id": "9ec7487f-c8aa-477b-ae6d-a78521ab8c0c",
   "metadata": {},
   "outputs": [
    {
     "name": "stdout",
     "output_type": "stream",
     "text": [
      "Multiple Comparison of Means - Tukey HSD, FWER=0.05\n",
      "==================================================\n",
      "group1 group2 meandiff p-adj  lower  upper  reject\n",
      "--------------------------------------------------\n",
      "  2015   2016   0.0065   0.9 -0.2954 0.3083  False\n",
      "  2015   2017  -0.0217   0.9 -0.3246 0.2811  False\n",
      "  2016   2017  -0.0282   0.9 -0.3315 0.2752  False\n",
      "--------------------------------------------------\n"
     ]
    }
   ],
   "source": [
    "# 집단간 차이 검정\n",
    "print(q3_out)"
   ]
  },
  {
   "cell_type": "code",
   "execution_count": 62,
   "id": "19cca90b-902d-43d3-97fc-8d79b2b14d3d",
   "metadata": {},
   "outputs": [
    {
     "data": {
      "text/plain": [
       "F_onewayResult(statistic=nan, pvalue=nan)"
      ]
     },
     "execution_count": 62,
     "metadata": {},
     "output_type": "execute_result"
    }
   ],
   "source": [
    "from scipy.stats import f_oneway\n",
    "\n",
    "f_oneway(q1_2[2015].values, q1_2[2016].values, q1_2[2017].values)"
   ]
  },
  {
   "cell_type": "code",
   "execution_count": null,
   "id": "3b9bfb52-680f-4271-ab10-bdff3abe2fe8",
   "metadata": {},
   "outputs": [],
   "source": []
  },
  {
   "cell_type": "code",
   "execution_count": null,
   "id": "f7cf8e90-6ec5-49cb-b32d-89e07ec389f0",
   "metadata": {},
   "outputs": [],
   "source": []
  }
 ],
 "metadata": {
  "kernelspec": {
   "display_name": "Python Multi",
   "language": "python",
   "name": "multi"
  },
  "language_info": {
   "codemirror_mode": {
    "name": "ipython",
    "version": 3
   },
   "file_extension": ".py",
   "mimetype": "text/x-python",
   "name": "python",
   "nbconvert_exporter": "python",
   "pygments_lexer": "ipython3",
   "version": "3.7.6"
  }
 },
 "nbformat": 4,
 "nbformat_minor": 5
}
