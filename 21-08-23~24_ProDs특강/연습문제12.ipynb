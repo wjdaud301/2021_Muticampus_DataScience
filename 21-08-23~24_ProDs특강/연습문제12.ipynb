{
 "cells": [
  {
   "cell_type": "code",
   "execution_count": null,
   "id": "7caac4bd-3854-45f6-b3dc-e445f240ed22",
   "metadata": {},
   "outputs": [],
   "source": [
    "#%%\n",
    "\n",
    "# =============================================================================\n",
    "# =============================================================================\n",
    "# # 문제 12 유형(DataSet_12.csv 이용)\n",
    "\n",
    "# 구분자 : comma(“,”), 5000 Rows, 7 Columns, UTF-8 인코딩\n",
    "\n",
    "# 직장인의 독서 실태를 분석하기 위해서 수도권 거주자 5000명을\n",
    "# 대상으로 간단한 인적 사항과 연간 독서량 정보를 취합하였다.\n",
    "\n",
    "# 컬 럼 / 정 의 / Type\n",
    "# Age / 나이 / String\n",
    "# Gender / 성별(M: 남성) / String\n",
    "# Dependent_Count / 부양가족 수 / Double\n",
    "# Education_Level / 교육 수준 / String\n",
    "# is_Married / 결혼 여부(1: 결혼) / Double\n",
    "# Read_Book_per_Year / 연간 독서량(권) / Double\n",
    "# Income_Range / 소득 수준에 따른 구간(A < B < C < D < E)이며 X는\n",
    "# 정보 누락 / String\n",
    "# =============================================================================\n",
    "# ============================================================================="
   ]
  },
  {
   "cell_type": "code",
   "execution_count": null,
   "id": "9eb14d21-d432-4935-ba3b-020ee550be13",
   "metadata": {},
   "outputs": [],
   "source": [
    "#%%\n",
    "\n",
    "# =============================================================================\n",
    "# 1.수치형 변수를 대상으로 피어슨 상관분석을 실시하고 연간 독서량과 가장\n",
    "# 상관관계가 강한 변수의 상관계수를 기술하시오\n",
    "# - 상관계수는 반올림하여 소수점 셋째 자리까지 기술하시오. (답안 예시) 0.123\n",
    "# ============================================================================="
   ]
  },
  {
   "cell_type": "code",
   "execution_count": null,
   "id": "ee84c632-5173-4cd9-a54b-c27f7ba8a401",
   "metadata": {},
   "outputs": [],
   "source": [
    "#%%\n",
    "\n",
    "# =============================================================================\n",
    "# 2.석사 이상(석사 및 박사) 여부에 따라서 연간 독서량 평균이 유의미하게 다른지 가설\n",
    "# 검정을 활용하여 알아보고자 한다. 독립 2표본 t검정을 실시했을 때 \n",
    "# 유의 확률(p\u0002value)의 값을 기술하시오.\n",
    "# - 등분산 가정 하에서 검정을 실시한다.\n",
    "# - 유의 확률은 반올림하여 소수점 셋째 자리까지 기술한다. (답안 예시) 0.123\n",
    "# ============================================================================="
   ]
  },
  {
   "cell_type": "code",
   "execution_count": 1,
   "id": "996c6eb2-503d-4b01-8c47-b3cd84453d82",
   "metadata": {},
   "outputs": [],
   "source": [
    "#%%\n",
    "\n",
    "# =============================================================================\n",
    "# 3.독서량과 다른 수치형 변수의 관계를 다중선형회귀분석을 활용하여 알아보고자 한다. \n",
    "# 연간 독서량을 종속변수, 나머지 수치형 자료를 독립변수로 한다. 이렇게 생성한\n",
    "# 선형회귀 모델을 기준으로 다른 독립변수가 고정이면서 나이만 다를 때, 40살은 30살\n",
    "# 보다 독서량이 얼마나 많은가?\n",
    "# - 학사 이상이면서 소득 구간 정보가 있는 데이터만 사용하여 분석을 실시하시오.\n",
    "# - 결과값은 반올림하여 정수로 표기하시오. (답안 예시) 1\n",
    "# =============================================================================\n",
    "\n",
    "# (참고)\n",
    "# from statsmodels.formula.api import ols"
   ]
  },
  {
   "cell_type": "code",
   "execution_count": 5,
   "id": "99943434-f18a-4e8f-8aec-67ee6518b96c",
   "metadata": {},
   "outputs": [],
   "source": [
    "from statsmodels.formula.api import ols\n",
    "import pandas as pd\n",
    "import numpy as np\n",
    "\n",
    "dataset12 = pd.read_csv('Dataset/Dataset_12.csv')\n",
    "q3 = dataset12.copy()"
   ]
  },
  {
   "cell_type": "code",
   "execution_count": 7,
   "id": "f41cdab2-e292-4a55-b575-7327640ea84b",
   "metadata": {},
   "outputs": [],
   "source": [
    "var_list = dataset12.columns[dataset12.dtypes !='object'].drop('Read_Book_per_Year')"
   ]
  },
  {
   "cell_type": "code",
   "execution_count": 8,
   "id": "053ca655-7373-4b65-9839-8effc9f13797",
   "metadata": {},
   "outputs": [
    {
     "data": {
      "text/html": [
       "<table class=\"simpletable\">\n",
       "<caption>OLS Regression Results</caption>\n",
       "<tr>\n",
       "  <th>Dep. Variable:</th>    <td>Read_Book_per_Year</td> <th>  R-squared:         </th> <td>   0.635</td> \n",
       "</tr>\n",
       "<tr>\n",
       "  <th>Model:</th>                    <td>OLS</td>        <th>  Adj. R-squared:    </th> <td>   0.635</td> \n",
       "</tr>\n",
       "<tr>\n",
       "  <th>Method:</th>              <td>Least Squares</td>   <th>  F-statistic:       </th> <td>   2901.</td> \n",
       "</tr>\n",
       "<tr>\n",
       "  <th>Date:</th>              <td>Tue, 24 Aug 2021</td>  <th>  Prob (F-statistic):</th>  <td>  0.00</td>  \n",
       "</tr>\n",
       "<tr>\n",
       "  <th>Time:</th>                  <td>15:59:13</td>      <th>  Log-Likelihood:    </th> <td> -15057.</td> \n",
       "</tr>\n",
       "<tr>\n",
       "  <th>No. Observations:</th>       <td>  5000</td>       <th>  AIC:               </th> <td>3.012e+04</td>\n",
       "</tr>\n",
       "<tr>\n",
       "  <th>Df Residuals:</th>           <td>  4996</td>       <th>  BIC:               </th> <td>3.015e+04</td>\n",
       "</tr>\n",
       "<tr>\n",
       "  <th>Df Model:</th>               <td>     3</td>       <th>                     </th>     <td> </td>    \n",
       "</tr>\n",
       "<tr>\n",
       "  <th>Covariance Type:</th>       <td>nonrobust</td>     <th>                     </th>     <td> </td>    \n",
       "</tr>\n",
       "</table>\n",
       "<table class=\"simpletable\">\n",
       "<tr>\n",
       "         <td></td>            <th>coef</th>     <th>std err</th>      <th>t</th>      <th>P>|t|</th>  <th>[0.025</th>    <th>0.975]</th>  \n",
       "</tr>\n",
       "<tr>\n",
       "  <th>Intercept</th>       <td>   -0.3231</td> <td>    0.445</td> <td>   -0.726</td> <td> 0.468</td> <td>   -1.195</td> <td>    0.549</td>\n",
       "</tr>\n",
       "<tr>\n",
       "  <th>Age</th>             <td>    0.7894</td> <td>    0.009</td> <td>   91.923</td> <td> 0.000</td> <td>    0.773</td> <td>    0.806</td>\n",
       "</tr>\n",
       "<tr>\n",
       "  <th>Dependent_Count</th> <td>   -0.1150</td> <td>    0.054</td> <td>   -2.116</td> <td> 0.034</td> <td>   -0.221</td> <td>   -0.008</td>\n",
       "</tr>\n",
       "<tr>\n",
       "  <th>is_Married</th>      <td>   -0.0719</td> <td>    0.140</td> <td>   -0.514</td> <td> 0.608</td> <td>   -0.346</td> <td>    0.203</td>\n",
       "</tr>\n",
       "</table>\n",
       "<table class=\"simpletable\">\n",
       "<tr>\n",
       "  <th>Omnibus:</th>       <td>72.985</td> <th>  Durbin-Watson:     </th> <td>   2.026</td>\n",
       "</tr>\n",
       "<tr>\n",
       "  <th>Prob(Omnibus):</th> <td> 0.000</td> <th>  Jarque-Bera (JB):  </th> <td>  76.307</td>\n",
       "</tr>\n",
       "<tr>\n",
       "  <th>Skew:</th>          <td>-0.288</td> <th>  Prob(JB):          </th> <td>2.69e-17</td>\n",
       "</tr>\n",
       "<tr>\n",
       "  <th>Kurtosis:</th>      <td> 3.183</td> <th>  Cond. No.          </th> <td>    303.</td>\n",
       "</tr>\n",
       "</table><br/><br/>Notes:<br/>[1] Standard Errors assume that the covariance matrix of the errors is correctly specified."
      ],
      "text/plain": [
       "<class 'statsmodels.iolib.summary.Summary'>\n",
       "\"\"\"\n",
       "                            OLS Regression Results                            \n",
       "==============================================================================\n",
       "Dep. Variable:     Read_Book_per_Year   R-squared:                       0.635\n",
       "Model:                            OLS   Adj. R-squared:                  0.635\n",
       "Method:                 Least Squares   F-statistic:                     2901.\n",
       "Date:                Tue, 24 Aug 2021   Prob (F-statistic):               0.00\n",
       "Time:                        15:59:13   Log-Likelihood:                -15057.\n",
       "No. Observations:                5000   AIC:                         3.012e+04\n",
       "Df Residuals:                    4996   BIC:                         3.015e+04\n",
       "Df Model:                           3                                         \n",
       "Covariance Type:            nonrobust                                         \n",
       "===================================================================================\n",
       "                      coef    std err          t      P>|t|      [0.025      0.975]\n",
       "-----------------------------------------------------------------------------------\n",
       "Intercept          -0.3231      0.445     -0.726      0.468      -1.195       0.549\n",
       "Age                 0.7894      0.009     91.923      0.000       0.773       0.806\n",
       "Dependent_Count    -0.1150      0.054     -2.116      0.034      -0.221      -0.008\n",
       "is_Married         -0.0719      0.140     -0.514      0.608      -0.346       0.203\n",
       "==============================================================================\n",
       "Omnibus:                       72.985   Durbin-Watson:                   2.026\n",
       "Prob(Omnibus):                  0.000   Jarque-Bera (JB):               76.307\n",
       "Skew:                          -0.288   Prob(JB):                     2.69e-17\n",
       "Kurtosis:                       3.183   Cond. No.                         303.\n",
       "==============================================================================\n",
       "\n",
       "Notes:\n",
       "[1] Standard Errors assume that the covariance matrix of the errors is correctly specified.\n",
       "\"\"\""
      ]
     },
     "execution_count": 8,
     "metadata": {},
     "output_type": "execute_result"
    }
   ],
   "source": [
    "form = 'Read_Book_per_Year~'+'+'.join(var_list)\n",
    "ols1 = ols(form, data=dataset12).fit()\n",
    "ols1.summary()"
   ]
  },
  {
   "cell_type": "code",
   "execution_count": 12,
   "id": "80e63519-d366-4b09-b912-77a9e8e40f42",
   "metadata": {},
   "outputs": [
    {
     "name": "stdout",
     "output_type": "stream",
     "text": [
      "정답 : 7.894\n"
     ]
    }
   ],
   "source": [
    "# 40살은 30살 보다 독서량이 얼마나 많은가?\n",
    "q3_ans = 0.7894 * 10\n",
    "print('정답 :',q3_ans)"
   ]
  }
 ],
 "metadata": {
  "kernelspec": {
   "display_name": "Python Multi",
   "language": "python",
   "name": "multi"
  },
  "language_info": {
   "codemirror_mode": {
    "name": "ipython",
    "version": 3
   },
   "file_extension": ".py",
   "mimetype": "text/x-python",
   "name": "python",
   "nbconvert_exporter": "python",
   "pygments_lexer": "ipython3",
   "version": "3.7.6"
  }
 },
 "nbformat": 4,
 "nbformat_minor": 5
}
