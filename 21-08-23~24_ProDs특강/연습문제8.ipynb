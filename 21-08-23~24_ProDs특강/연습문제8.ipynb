{
 "cells": [
  {
   "cell_type": "code",
   "execution_count": 1,
   "id": "f159b8ff-d1e3-4929-9b78-837c1dbec54c",
   "metadata": {},
   "outputs": [],
   "source": [
    "# =============================================================================\n",
    "# =============================================================================\n",
    "# # 문제 08 유형(DataSet_08.csv 이용)\n",
    "#\n",
    "# 구분자 : comma(“,”), 50 Rows, 5 Columns, UTF-8 인코딩\n",
    "#\n",
    "# 스타트업 기업들의 수익성에 대한 분석을 하기 위하여\n",
    "# 아래와 같은 데이터를 입수하였다\n",
    "#\n",
    "# \n",
    "# 컬 럼 / 정 의 / Type\n",
    "# RandD_Spend / 연구개발비 지출 / Double\n",
    "# Administration / 운영관리비 지출 / Double\n",
    "# Marketing_Spend / 마케팅비 지출 / Double\n",
    "# State / 본사 위치 / String\n",
    "# Profit / 이익 / Double\n",
    "# =============================================================================\n",
    "# =============================================================================\n",
    "\n",
    "# =============================================================================\n",
    "# (참고)\n",
    "# #1\n",
    "# import pandas as pd\n",
    "# import numpy as np\n",
    "# #3\n",
    "# from sklearn.linear_model import LinearRegression\n",
    "# ============================================================================="
   ]
  },
  {
   "cell_type": "code",
   "execution_count": 3,
   "id": "bc6844c6-9eb9-4421-a851-c33d8334dce9",
   "metadata": {},
   "outputs": [],
   "source": [
    "import pandas as pd\n",
    "\n",
    "dataset8 = pd.read_csv('Dataset/Dataset_08.csv')"
   ]
  },
  {
   "cell_type": "code",
   "execution_count": 14,
   "id": "c6349c6e-e4b5-4676-b8d8-9cb01575c8db",
   "metadata": {},
   "outputs": [
    {
     "data": {
      "text/html": [
       "<div>\n",
       "<style scoped>\n",
       "    .dataframe tbody tr th:only-of-type {\n",
       "        vertical-align: middle;\n",
       "    }\n",
       "\n",
       "    .dataframe tbody tr th {\n",
       "        vertical-align: top;\n",
       "    }\n",
       "\n",
       "    .dataframe thead th {\n",
       "        text-align: right;\n",
       "    }\n",
       "</style>\n",
       "<table border=\"1\" class=\"dataframe\">\n",
       "  <thead>\n",
       "    <tr style=\"text-align: right;\">\n",
       "      <th></th>\n",
       "      <th>RandD_Spend</th>\n",
       "      <th>Administration</th>\n",
       "      <th>Marketing_Spend</th>\n",
       "      <th>State</th>\n",
       "      <th>Profit</th>\n",
       "    </tr>\n",
       "  </thead>\n",
       "  <tbody>\n",
       "    <tr>\n",
       "      <th>0</th>\n",
       "      <td>165349.20</td>\n",
       "      <td>136897.80</td>\n",
       "      <td>471784.10</td>\n",
       "      <td>New York</td>\n",
       "      <td>192261.83</td>\n",
       "    </tr>\n",
       "    <tr>\n",
       "      <th>1</th>\n",
       "      <td>162597.70</td>\n",
       "      <td>151377.59</td>\n",
       "      <td>443898.53</td>\n",
       "      <td>California</td>\n",
       "      <td>191792.06</td>\n",
       "    </tr>\n",
       "    <tr>\n",
       "      <th>2</th>\n",
       "      <td>153441.51</td>\n",
       "      <td>101145.55</td>\n",
       "      <td>407934.54</td>\n",
       "      <td>Florida</td>\n",
       "      <td>191050.39</td>\n",
       "    </tr>\n",
       "  </tbody>\n",
       "</table>\n",
       "</div>"
      ],
      "text/plain": [
       "   RandD_Spend  Administration  Marketing_Spend       State     Profit\n",
       "0    165349.20       136897.80        471784.10    New York  192261.83\n",
       "1    162597.70       151377.59        443898.53  California  191792.06\n",
       "2    153441.51       101145.55        407934.54     Florida  191050.39"
      ]
     },
     "execution_count": 14,
     "metadata": {},
     "output_type": "execute_result"
    }
   ],
   "source": [
    "dataset8.head(3)"
   ]
  },
  {
   "cell_type": "code",
   "execution_count": 2,
   "id": "dbae546b-2c7a-4c74-8197-7813ae9102d1",
   "metadata": {},
   "outputs": [],
   "source": [
    "# =============================================================================\n",
    "# 1.각 주(State)별 데이터 구성비를 소수점 둘째 자리까지 구하고, 알파벳 순으로\n",
    "# 기술하시오(주 이름 기준).\n",
    "# (답안 예시) 0.12, 0.34, 0.54\n",
    "# ============================================================================="
   ]
  },
  {
   "cell_type": "code",
   "execution_count": 5,
   "id": "10c7e2ad-2d3a-4ffb-bf41-eb21d9233102",
   "metadata": {},
   "outputs": [],
   "source": [
    "q1 = dataset8.copy()"
   ]
  },
  {
   "cell_type": "code",
   "execution_count": 25,
   "id": "cd7d3285-c755-4c96-adcc-d4dfa275a6f7",
   "metadata": {},
   "outputs": [],
   "source": [
    "li = sorted(q1.State.unique())"
   ]
  },
  {
   "cell_type": "code",
   "execution_count": 34,
   "id": "b7663c9a-a59e-478b-86fd-e85e86535293",
   "metadata": {},
   "outputs": [
    {
     "name": "stdout",
     "output_type": "stream",
     "text": [
      "0.34\n",
      "0.32\n",
      "0.34\n"
     ]
    }
   ],
   "source": [
    "for i in li:\n",
    "    print((q1.State[q1.State == i].count() / len(q1.State)).round(3))\n",
    "    "
   ]
  },
  {
   "cell_type": "code",
   "execution_count": 3,
   "id": "b2c2d840-9bf0-4816-95bb-b8bcf1b13866",
   "metadata": {},
   "outputs": [],
   "source": [
    "# =============================================================================\n",
    "# 2.주별 이익의 평균을 구하고, 평균 이익이 가장 큰 주와 작은 주의 차이를 구하시오. \n",
    "# 차이값은 소수점 이하는 버리고 정수부분만 기술하시오. (답안 예시) 1234\n",
    "# ============================================================================="
   ]
  },
  {
   "cell_type": "code",
   "execution_count": 41,
   "id": "3d1d6411-ce2d-4d64-8edd-d451f169df75",
   "metadata": {},
   "outputs": [],
   "source": [
    "q2 = dataset8.copy()"
   ]
  },
  {
   "cell_type": "code",
   "execution_count": 44,
   "id": "8026457f-f5fd-4981-853e-0510952e183a",
   "metadata": {},
   "outputs": [],
   "source": [
    "q2_out = pd.pivot_table(data=q2, index='State', values='Profit', aggfunc='mean')"
   ]
  },
  {
   "cell_type": "code",
   "execution_count": 47,
   "id": "9e5c3a35-e346-428b-b76c-a238cc8b4a4b",
   "metadata": {},
   "outputs": [
    {
     "data": {
      "text/plain": [
       "14868"
      ]
     },
     "execution_count": 47,
     "metadata": {},
     "output_type": "execute_result"
    }
   ],
   "source": [
    "int(q2_out.Profit.max() - q2_out.Profit.min() )"
   ]
  },
  {
   "cell_type": "code",
   "execution_count": 4,
   "id": "448cc0c6-99de-4038-8f5a-7c3ae00a7bff",
   "metadata": {},
   "outputs": [],
   "source": [
    "# =============================================================================\n",
    "# 3.독립변수로 RandD_Spend, Administration, Marketing_Spend를 사용하여 Profit을 주별로\n",
    "# 예측하는 회귀 모형을 만들고, 이 회귀모형을 사용하여 학습오차를 산출하시오.\n",
    "# - 주별로 계산된 학습오차 중 MAPE 기준으로 가장 낮은 오차를 보이는 주는 어느\n",
    "# 주이고 그 값은 무엇인가? (반올림하여 소수점 둘째 자리까지 기술하시오)\n",
    "# - (MAPE = Σ ( | y - y ̂ | / y ) * 100/n )\n",
    "# (답안 예시) ABC, 1.56\n",
    "# ============================================================================="
   ]
  },
  {
   "cell_type": "code",
   "execution_count": 21,
   "id": "4fbd1f8f-5e3e-4290-b4f1-e3afaef77e33",
   "metadata": {},
   "outputs": [],
   "source": [
    "from sklearn.linear_model import LinearRegression\n",
    "\n",
    "x_var = ['RandD_Spend', 'Administration', 'Marketing_Spend']\n",
    "\n",
    "temp=dataset8[dataset8.State == 'Florida']\n",
    "lm_NY=LinearRegression().fit(temp[x_var], temp.Profit)\n",
    "pred_NY = lm_NY.predict(temp[x_var])\n",
    "\n",
    "mape_NY=(abs(temp.Profit - pred_NY)/ temp.Profit).sum() * 100 / len(temp)"
   ]
  },
  {
   "cell_type": "code",
   "execution_count": 18,
   "id": "a8071d12-6060-41a1-a744-802cbc5b5334",
   "metadata": {},
   "outputs": [
    {
     "data": {
      "text/plain": [
       "8.524247700724837"
      ]
     },
     "execution_count": 18,
     "metadata": {},
     "output_type": "execute_result"
    }
   ],
   "source": [
    "mape_NY"
   ]
  },
  {
   "cell_type": "code",
   "execution_count": 20,
   "id": "49a857e0-ac90-42ad-a80b-6ebf0a9a0f0f",
   "metadata": {},
   "outputs": [
    {
     "data": {
      "text/plain": [
       "15.227582003020185"
      ]
     },
     "execution_count": 20,
     "metadata": {},
     "output_type": "execute_result"
    }
   ],
   "source": [
    "mape_NY"
   ]
  },
  {
   "cell_type": "code",
   "execution_count": 22,
   "id": "ef8fd6c4-d60f-41d1-99b5-a20fc9a23cfb",
   "metadata": {},
   "outputs": [
    {
     "data": {
      "text/plain": [
       "5.706713100164494"
      ]
     },
     "execution_count": 22,
     "metadata": {},
     "output_type": "execute_result"
    }
   ],
   "source": [
    "mape_NY"
   ]
  },
  {
   "cell_type": "code",
   "execution_count": null,
   "id": "c4e4535a-15cd-4d17-a1d7-2e81ed0015fb",
   "metadata": {},
   "outputs": [],
   "source": [
    "# 정답 : Florida , 5.71"
   ]
  }
 ],
 "metadata": {
  "kernelspec": {
   "display_name": "Python Multi",
   "language": "python",
   "name": "multi"
  },
  "language_info": {
   "codemirror_mode": {
    "name": "ipython",
    "version": 3
   },
   "file_extension": ".py",
   "mimetype": "text/x-python",
   "name": "python",
   "nbconvert_exporter": "python",
   "pygments_lexer": "ipython3",
   "version": "3.7.6"
  }
 },
 "nbformat": 4,
 "nbformat_minor": 5
}
