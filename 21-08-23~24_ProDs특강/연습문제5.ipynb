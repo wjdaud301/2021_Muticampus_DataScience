{
 "cells": [
  {
   "cell_type": "code",
   "execution_count": 1,
   "id": "dc9d64b7-c0be-4431-a62b-7e3f98423ec2",
   "metadata": {},
   "outputs": [],
   "source": [
    "import pandas as pd\n",
    "import numpy as np\n",
    "dataset = pd.read_csv('Dataset/Dataset_05.csv')"
   ]
  },
  {
   "cell_type": "code",
   "execution_count": 6,
   "id": "f529e264-458d-476b-81be-0b119d414861",
   "metadata": {},
   "outputs": [
    {
     "name": "stdout",
     "output_type": "stream",
     "text": [
      "ID                   int64\n",
      "Age                  int64\n",
      "Age_gr               int64\n",
      "Gender               int64\n",
      "Work_Experience    float64\n",
      "Family_Size        float64\n",
      "Ever_Married         int64\n",
      "Graduated            int64\n",
      "Profession           int64\n",
      "Spending_Score       int64\n",
      "Var_1                int64\n",
      "Segmentation        object\n",
      "dtype: object\n",
      "(8068, 12)\n",
      "Index(['ID', 'Age', 'Age_gr', 'Gender', 'Work_Experience', 'Family_Size',\n",
      "       'Ever_Married', 'Graduated', 'Profession', 'Spending_Score', 'Var_1',\n",
      "       'Segmentation'],\n",
      "      dtype='object')\n"
     ]
    },
    {
     "data": {
      "text/html": [
       "<div>\n",
       "<style scoped>\n",
       "    .dataframe tbody tr th:only-of-type {\n",
       "        vertical-align: middle;\n",
       "    }\n",
       "\n",
       "    .dataframe tbody tr th {\n",
       "        vertical-align: top;\n",
       "    }\n",
       "\n",
       "    .dataframe thead th {\n",
       "        text-align: right;\n",
       "    }\n",
       "</style>\n",
       "<table border=\"1\" class=\"dataframe\">\n",
       "  <thead>\n",
       "    <tr style=\"text-align: right;\">\n",
       "      <th></th>\n",
       "      <th>ID</th>\n",
       "      <th>Age</th>\n",
       "      <th>Age_gr</th>\n",
       "      <th>Gender</th>\n",
       "      <th>Work_Experience</th>\n",
       "      <th>Family_Size</th>\n",
       "      <th>Ever_Married</th>\n",
       "      <th>Graduated</th>\n",
       "      <th>Profession</th>\n",
       "      <th>Spending_Score</th>\n",
       "      <th>Var_1</th>\n",
       "      <th>Segmentation</th>\n",
       "    </tr>\n",
       "  </thead>\n",
       "  <tbody>\n",
       "    <tr>\n",
       "      <th>0</th>\n",
       "      <td>462809</td>\n",
       "      <td>22</td>\n",
       "      <td>30</td>\n",
       "      <td>1</td>\n",
       "      <td>1.0</td>\n",
       "      <td>4.0</td>\n",
       "      <td>1</td>\n",
       "      <td>1</td>\n",
       "      <td>6</td>\n",
       "      <td>2</td>\n",
       "      <td>4</td>\n",
       "      <td>NaN</td>\n",
       "    </tr>\n",
       "    <tr>\n",
       "      <th>1</th>\n",
       "      <td>462643</td>\n",
       "      <td>38</td>\n",
       "      <td>40</td>\n",
       "      <td>0</td>\n",
       "      <td>NaN</td>\n",
       "      <td>3.0</td>\n",
       "      <td>2</td>\n",
       "      <td>2</td>\n",
       "      <td>3</td>\n",
       "      <td>0</td>\n",
       "      <td>4</td>\n",
       "      <td>A</td>\n",
       "    </tr>\n",
       "    <tr>\n",
       "      <th>2</th>\n",
       "      <td>466315</td>\n",
       "      <td>67</td>\n",
       "      <td>70</td>\n",
       "      <td>0</td>\n",
       "      <td>1.0</td>\n",
       "      <td>1.0</td>\n",
       "      <td>2</td>\n",
       "      <td>2</td>\n",
       "      <td>3</td>\n",
       "      <td>2</td>\n",
       "      <td>6</td>\n",
       "      <td>NaN</td>\n",
       "    </tr>\n",
       "    <tr>\n",
       "      <th>3</th>\n",
       "      <td>461735</td>\n",
       "      <td>67</td>\n",
       "      <td>70</td>\n",
       "      <td>1</td>\n",
       "      <td>0.0</td>\n",
       "      <td>2.0</td>\n",
       "      <td>2</td>\n",
       "      <td>2</td>\n",
       "      <td>8</td>\n",
       "      <td>1</td>\n",
       "      <td>6</td>\n",
       "      <td>B</td>\n",
       "    </tr>\n",
       "    <tr>\n",
       "      <th>4</th>\n",
       "      <td>462669</td>\n",
       "      <td>40</td>\n",
       "      <td>40</td>\n",
       "      <td>0</td>\n",
       "      <td>NaN</td>\n",
       "      <td>6.0</td>\n",
       "      <td>2</td>\n",
       "      <td>2</td>\n",
       "      <td>4</td>\n",
       "      <td>1</td>\n",
       "      <td>6</td>\n",
       "      <td>A</td>\n",
       "    </tr>\n",
       "    <tr>\n",
       "      <th>...</th>\n",
       "      <td>...</td>\n",
       "      <td>...</td>\n",
       "      <td>...</td>\n",
       "      <td>...</td>\n",
       "      <td>...</td>\n",
       "      <td>...</td>\n",
       "      <td>...</td>\n",
       "      <td>...</td>\n",
       "      <td>...</td>\n",
       "      <td>...</td>\n",
       "      <td>...</td>\n",
       "      <td>...</td>\n",
       "    </tr>\n",
       "    <tr>\n",
       "      <th>8063</th>\n",
       "      <td>464018</td>\n",
       "      <td>22</td>\n",
       "      <td>30</td>\n",
       "      <td>1</td>\n",
       "      <td>0.0</td>\n",
       "      <td>7.0</td>\n",
       "      <td>1</td>\n",
       "      <td>1</td>\n",
       "      <td>0</td>\n",
       "      <td>2</td>\n",
       "      <td>1</td>\n",
       "      <td>D</td>\n",
       "    </tr>\n",
       "    <tr>\n",
       "      <th>8064</th>\n",
       "      <td>464685</td>\n",
       "      <td>35</td>\n",
       "      <td>40</td>\n",
       "      <td>1</td>\n",
       "      <td>3.0</td>\n",
       "      <td>4.0</td>\n",
       "      <td>1</td>\n",
       "      <td>1</td>\n",
       "      <td>5</td>\n",
       "      <td>2</td>\n",
       "      <td>4</td>\n",
       "      <td>D</td>\n",
       "    </tr>\n",
       "    <tr>\n",
       "      <th>8065</th>\n",
       "      <td>465406</td>\n",
       "      <td>33</td>\n",
       "      <td>40</td>\n",
       "      <td>0</td>\n",
       "      <td>1.0</td>\n",
       "      <td>1.0</td>\n",
       "      <td>1</td>\n",
       "      <td>2</td>\n",
       "      <td>6</td>\n",
       "      <td>2</td>\n",
       "      <td>6</td>\n",
       "      <td>D</td>\n",
       "    </tr>\n",
       "    <tr>\n",
       "      <th>8066</th>\n",
       "      <td>467299</td>\n",
       "      <td>27</td>\n",
       "      <td>30</td>\n",
       "      <td>0</td>\n",
       "      <td>1.0</td>\n",
       "      <td>4.0</td>\n",
       "      <td>1</td>\n",
       "      <td>2</td>\n",
       "      <td>6</td>\n",
       "      <td>2</td>\n",
       "      <td>6</td>\n",
       "      <td>B</td>\n",
       "    </tr>\n",
       "    <tr>\n",
       "      <th>8067</th>\n",
       "      <td>461879</td>\n",
       "      <td>37</td>\n",
       "      <td>40</td>\n",
       "      <td>1</td>\n",
       "      <td>0.0</td>\n",
       "      <td>3.0</td>\n",
       "      <td>2</td>\n",
       "      <td>2</td>\n",
       "      <td>5</td>\n",
       "      <td>0</td>\n",
       "      <td>4</td>\n",
       "      <td>B</td>\n",
       "    </tr>\n",
       "  </tbody>\n",
       "</table>\n",
       "<p>8068 rows × 12 columns</p>\n",
       "</div>"
      ],
      "text/plain": [
       "          ID  Age  Age_gr  Gender  Work_Experience  Family_Size  Ever_Married  \\\n",
       "0     462809   22      30       1              1.0          4.0             1   \n",
       "1     462643   38      40       0              NaN          3.0             2   \n",
       "2     466315   67      70       0              1.0          1.0             2   \n",
       "3     461735   67      70       1              0.0          2.0             2   \n",
       "4     462669   40      40       0              NaN          6.0             2   \n",
       "...      ...  ...     ...     ...              ...          ...           ...   \n",
       "8063  464018   22      30       1              0.0          7.0             1   \n",
       "8064  464685   35      40       1              3.0          4.0             1   \n",
       "8065  465406   33      40       0              1.0          1.0             1   \n",
       "8066  467299   27      30       0              1.0          4.0             1   \n",
       "8067  461879   37      40       1              0.0          3.0             2   \n",
       "\n",
       "      Graduated  Profession  Spending_Score  Var_1 Segmentation  \n",
       "0             1           6               2      4          NaN  \n",
       "1             2           3               0      4            A  \n",
       "2             2           3               2      6          NaN  \n",
       "3             2           8               1      6            B  \n",
       "4             2           4               1      6            A  \n",
       "...         ...         ...             ...    ...          ...  \n",
       "8063          1           0               2      1            D  \n",
       "8064          1           5               2      4            D  \n",
       "8065          2           6               2      6            D  \n",
       "8066          2           6               2      6            B  \n",
       "8067          2           5               0      4            B  \n",
       "\n",
       "[8068 rows x 12 columns]"
      ]
     },
     "execution_count": 6,
     "metadata": {},
     "output_type": "execute_result"
    }
   ],
   "source": [
    "print(dataset.dtypes)\n",
    "print(dataset.shape)\n",
    "print(dataset.columns)\n",
    "dataset"
   ]
  },
  {
   "cell_type": "code",
   "execution_count": 3,
   "id": "1f6ba226-cb00-4563-98e6-68cfb85ac097",
   "metadata": {},
   "outputs": [],
   "source": [
    "# =============================================================================\n",
    "# 1.위의 표에 표시된 데이터 타입에 맞도록 전처리를 수행하였을 때, 데이터 파일 내에\n",
    "# 존재하는 결측값은 모두 몇 개인가? 숫자형 데이터와 문자열 데이터의 결측값을\n",
    "# 모두 더하여 답하시오.\n",
    "# (String 타입 변수의 경우 White Space(Blank)를 결측으로 처리한다) (답안 예시) 123\n",
    "# ============================================================================="
   ]
  },
  {
   "cell_type": "code",
   "execution_count": 7,
   "id": "2de28a6c-48d7-460a-9fe2-6f0361c15374",
   "metadata": {},
   "outputs": [],
   "source": [
    "q1 = dataset.copy()"
   ]
  },
  {
   "cell_type": "code",
   "execution_count": 13,
   "id": "3ff05eee-aa4c-442b-8c84-639e82f0899a",
   "metadata": {},
   "outputs": [
    {
     "data": {
      "text/plain": [
       "1166"
      ]
     },
     "execution_count": 13,
     "metadata": {},
     "output_type": "execute_result"
    }
   ],
   "source": [
    "q1.isnull().sum().sum()"
   ]
  },
  {
   "cell_type": "markdown",
   "id": "4984ac89-1c9b-48ba-8e13-a869ae63cd19",
   "metadata": {},
   "source": [
    "---"
   ]
  },
  {
   "cell_type": "code",
   "execution_count": null,
   "id": "2bf1aca6-d515-4703-8b52-a86aa7c7b782",
   "metadata": {},
   "outputs": [],
   "source": [
    "# =============================================================================\n",
    "# 2.이어지는 분석을 위해 결측값을 모두 삭제한다. 그리고, 성별이 세분화(Segmentation)에\n",
    "# 영향을 미치는지 독립성 검정을 수행한다. 수행 결과, p-value를 반올림하여 소수점\n",
    "# 넷째 자리까지 쓰고, 귀무가설을 기각하면 Y로, 기각할 수 없으면 N으로 기술하시오. \n",
    "# (답안 예시) 0.2345, N\n",
    "# ============================================================================="
   ]
  },
  {
   "cell_type": "code",
   "execution_count": 15,
   "id": "ba0e7f70-670a-4a88-8605-4138abebfee0",
   "metadata": {},
   "outputs": [],
   "source": [
    "q2 = dataset.copy().dropna()"
   ]
  },
  {
   "cell_type": "code",
   "execution_count": 22,
   "id": "9c29ef4f-169f-4e5b-ba73-fc4d0ab98fd5",
   "metadata": {},
   "outputs": [
    {
     "data": {
      "text/plain": [
       "0.0031"
      ]
     },
     "execution_count": 22,
     "metadata": {},
     "output_type": "execute_result"
    }
   ],
   "source": [
    "# 카이스퀘어 검점\n",
    "# 1. 빈도표 작성\n",
    "# 2. 카이스퀘어 검정\n",
    "\n",
    "# 1\n",
    "q2_tab = pd.crosstab(index=q2.Gender, columns=q2.Segmentation)\n",
    "\n",
    "# 2\n",
    "import scipy.stats as sc\n",
    "\n",
    "q2_out = sc.chi2_contingency(q2_tab)\n",
    "q2_out[1].round(4) # => pvalue\n",
    "\n",
    "# pvalue가 유의수준 0.05보다 작으므로 귀무가설을 기각함(Y)\n",
    "# 정답 : 0.0031 , Y"
   ]
  },
  {
   "cell_type": "markdown",
   "id": "9829fd71-0696-492a-afb2-f6f3060ae9ec",
   "metadata": {},
   "source": [
    "---"
   ]
  },
  {
   "cell_type": "code",
   "execution_count": 23,
   "id": "bcd7efcb-9cf1-4afe-97e6-6ddd924f37cb",
   "metadata": {},
   "outputs": [],
   "source": [
    "# =============================================================================\n",
    "# 3.Segmentation 값이 A 또는 D인 데이터만 사용하여 의사결정 나무 기법으로 분류\n",
    "# 정확도를\n",
    "# 측정해 본다. \n",
    "# - 결측치가 포함된 행은 제거한 후 진행하시오.\n",
    "# - Train대 Test 7대3으로 데이터를 분리한다. (Seed = 123)\n",
    "# - Train 데이터를 사용하여 의사결정나무 학습을 수행하고, Test 데이터로 평가를\n",
    "# 수행한다.\n",
    "# - 의사결정나무 학습 시, 다음과 같이 설정하시오:\n",
    "# • Feature: Age_gr, Gender, Work_Experience, Family_Size, \n",
    "#             Ever_Married, Graduated, Spending_Score\n",
    "# • Label : Segmentation\n",
    "# • Parameter : Gini / Max Depth = 7 / Seed = 123\n",
    "# 이 때 전체 정확도(Accuracy)를 소수점 셋째 자리 이하는 버리고 소수점 둘째자리까지\n",
    "# 기술하시오.\n",
    "# (답안 예시) 0.12\n",
    "# =============================================================================\n"
   ]
  },
  {
   "cell_type": "code",
   "execution_count": 24,
   "id": "56b4883a-6d68-4ba6-8812-cabc561790e3",
   "metadata": {},
   "outputs": [],
   "source": [
    "q3=q2[q2.Segmentation.isin(['A','D'])]"
   ]
  },
  {
   "cell_type": "code",
   "execution_count": 26,
   "id": "437d7bd0-7d4a-4022-937e-de25e3dbdc07",
   "metadata": {},
   "outputs": [],
   "source": [
    "from sklearn.model_selection import train_test_split\n",
    "from sklearn.tree import DecisionTreeClassifier"
   ]
  },
  {
   "cell_type": "code",
   "execution_count": 27,
   "id": "20867af3-c266-4458-9502-4b6dda44154a",
   "metadata": {},
   "outputs": [],
   "source": [
    "# 학습데이터 분리 7:3\n",
    "train, test = train_test_split(q3,\n",
    "                              test_size=0.3,\n",
    "                              random_state=123)"
   ]
  },
  {
   "cell_type": "code",
   "execution_count": 28,
   "id": "cb35cc94-189c-4637-a3fb-3621d9470aca",
   "metadata": {},
   "outputs": [
    {
     "data": {
      "text/plain": [
       "Index(['ID', 'Age', 'Age_gr', 'Gender', 'Work_Experience', 'Family_Size',\n",
       "       'Ever_Married', 'Graduated', 'Profession', 'Spending_Score', 'Var_1',\n",
       "       'Segmentation'],\n",
       "      dtype='object')"
      ]
     },
     "execution_count": 28,
     "metadata": {},
     "output_type": "execute_result"
    }
   ],
   "source": [
    "train.columns"
   ]
  },
  {
   "cell_type": "code",
   "execution_count": 29,
   "id": "3888ce74-5d14-4421-8200-1ab9cfd85217",
   "metadata": {},
   "outputs": [],
   "source": [
    "x_var=[ 'Age_gr', 'Gender', 'Work_Experience', 'Family_Size',\n",
    "       'Ever_Married', 'Graduated', 'Spending_Score']"
   ]
  },
  {
   "cell_type": "code",
   "execution_count": 31,
   "id": "fc7cff2d-1b8e-401e-8e62-dee572e83697",
   "metadata": {},
   "outputs": [],
   "source": [
    "dt = DecisionTreeClassifier(max_depth=7,random_state=123)"
   ]
  },
  {
   "cell_type": "code",
   "execution_count": 33,
   "id": "fcc18535-f66c-439d-a005-f73dade41c97",
   "metadata": {},
   "outputs": [
    {
     "data": {
      "text/plain": [
       "0.68"
      ]
     },
     "execution_count": 33,
     "metadata": {},
     "output_type": "execute_result"
    }
   ],
   "source": [
    "dt.fit(train[x_var], train.Segmentation)\n",
    "\n",
    "pred = dt.predict(test[x_var])\n",
    "\n",
    "# 정확도\n",
    "dt.score(test[x_var], test.Segmentation).round(2)\n",
    "\n",
    "# 정답 : 0.68"
   ]
  },
  {
   "cell_type": "code",
   "execution_count": null,
   "id": "25aa9cb5-84d5-4127-8a9a-ea8c3fab319f",
   "metadata": {},
   "outputs": [],
   "source": []
  }
 ],
 "metadata": {
  "kernelspec": {
   "display_name": "Python Multi",
   "language": "python",
   "name": "multi"
  },
  "language_info": {
   "codemirror_mode": {
    "name": "ipython",
    "version": 3
   },
   "file_extension": ".py",
   "mimetype": "text/x-python",
   "name": "python",
   "nbconvert_exporter": "python",
   "pygments_lexer": "ipython3",
   "version": "3.7.6"
  }
 },
 "nbformat": 4,
 "nbformat_minor": 5
}
