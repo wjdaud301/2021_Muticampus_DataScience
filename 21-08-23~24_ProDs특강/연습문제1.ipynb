{
 "cells": [
  {
   "cell_type": "code",
   "execution_count": 1,
   "id": "427e63d5-f44a-4af9-9003-28b6b0a029a3",
   "metadata": {},
   "outputs": [],
   "source": [
    "import pandas as pd\n",
    "# pandas, scipy, numpy, sklearn, statsmadels"
   ]
  },
  {
   "cell_type": "code",
   "execution_count": 3,
   "id": "465279fe-d196-4da1-a2ea-cfbb053f553c",
   "metadata": {},
   "outputs": [],
   "source": [
    "dat = pd.read_csv('Dataset/Dataset_01.csv')"
   ]
  },
  {
   "cell_type": "code",
   "execution_count": 40,
   "id": "5cf61cc0-f54e-4e1f-bf0e-4774aad9b213",
   "metadata": {},
   "outputs": [
    {
     "data": {
      "text/html": [
       "<div>\n",
       "<style scoped>\n",
       "    .dataframe tbody tr th:only-of-type {\n",
       "        vertical-align: middle;\n",
       "    }\n",
       "\n",
       "    .dataframe tbody tr th {\n",
       "        vertical-align: top;\n",
       "    }\n",
       "\n",
       "    .dataframe thead th {\n",
       "        text-align: right;\n",
       "    }\n",
       "</style>\n",
       "<table border=\"1\" class=\"dataframe\">\n",
       "  <thead>\n",
       "    <tr style=\"text-align: right;\">\n",
       "      <th></th>\n",
       "      <th>TV</th>\n",
       "      <th>Radio</th>\n",
       "      <th>Social_Media</th>\n",
       "      <th>Influencer</th>\n",
       "      <th>Sales</th>\n",
       "    </tr>\n",
       "  </thead>\n",
       "  <tbody>\n",
       "    <tr>\n",
       "      <th>0</th>\n",
       "      <td>16.0</td>\n",
       "      <td>6.566231</td>\n",
       "      <td>2.907983</td>\n",
       "      <td>Mega</td>\n",
       "      <td>54.732757</td>\n",
       "    </tr>\n",
       "    <tr>\n",
       "      <th>1</th>\n",
       "      <td>13.0</td>\n",
       "      <td>9.237765</td>\n",
       "      <td>2.409567</td>\n",
       "      <td>Mega</td>\n",
       "      <td>46.677897</td>\n",
       "    </tr>\n",
       "    <tr>\n",
       "      <th>2</th>\n",
       "      <td>41.0</td>\n",
       "      <td>15.886446</td>\n",
       "      <td>2.913410</td>\n",
       "      <td>Mega</td>\n",
       "      <td>150.177829</td>\n",
       "    </tr>\n",
       "    <tr>\n",
       "      <th>3</th>\n",
       "      <td>83.0</td>\n",
       "      <td>30.020028</td>\n",
       "      <td>6.922304</td>\n",
       "      <td>Mega</td>\n",
       "      <td>298.246340</td>\n",
       "    </tr>\n",
       "    <tr>\n",
       "      <th>4</th>\n",
       "      <td>15.0</td>\n",
       "      <td>8.437408</td>\n",
       "      <td>1.405998</td>\n",
       "      <td>Micro</td>\n",
       "      <td>56.594181</td>\n",
       "    </tr>\n",
       "    <tr>\n",
       "      <th>...</th>\n",
       "      <td>...</td>\n",
       "      <td>...</td>\n",
       "      <td>...</td>\n",
       "      <td>...</td>\n",
       "      <td>...</td>\n",
       "    </tr>\n",
       "    <tr>\n",
       "      <th>4567</th>\n",
       "      <td>26.0</td>\n",
       "      <td>4.472360</td>\n",
       "      <td>0.717090</td>\n",
       "      <td>Micro</td>\n",
       "      <td>94.685866</td>\n",
       "    </tr>\n",
       "    <tr>\n",
       "      <th>4568</th>\n",
       "      <td>71.0</td>\n",
       "      <td>20.610685</td>\n",
       "      <td>6.545573</td>\n",
       "      <td>Nano</td>\n",
       "      <td>249.101915</td>\n",
       "    </tr>\n",
       "    <tr>\n",
       "      <th>4569</th>\n",
       "      <td>44.0</td>\n",
       "      <td>19.800072</td>\n",
       "      <td>5.096192</td>\n",
       "      <td>Micro</td>\n",
       "      <td>163.631457</td>\n",
       "    </tr>\n",
       "    <tr>\n",
       "      <th>4570</th>\n",
       "      <td>71.0</td>\n",
       "      <td>17.534640</td>\n",
       "      <td>1.940873</td>\n",
       "      <td>Macro</td>\n",
       "      <td>253.610411</td>\n",
       "    </tr>\n",
       "    <tr>\n",
       "      <th>4571</th>\n",
       "      <td>42.0</td>\n",
       "      <td>15.966688</td>\n",
       "      <td>5.046548</td>\n",
       "      <td>Micro</td>\n",
       "      <td>148.202414</td>\n",
       "    </tr>\n",
       "  </tbody>\n",
       "</table>\n",
       "<p>4572 rows × 5 columns</p>\n",
       "</div>"
      ],
      "text/plain": [
       "        TV      Radio  Social_Media Influencer       Sales\n",
       "0     16.0   6.566231      2.907983       Mega   54.732757\n",
       "1     13.0   9.237765      2.409567       Mega   46.677897\n",
       "2     41.0  15.886446      2.913410       Mega  150.177829\n",
       "3     83.0  30.020028      6.922304       Mega  298.246340\n",
       "4     15.0   8.437408      1.405998      Micro   56.594181\n",
       "...    ...        ...           ...        ...         ...\n",
       "4567  26.0   4.472360      0.717090      Micro   94.685866\n",
       "4568  71.0  20.610685      6.545573       Nano  249.101915\n",
       "4569  44.0  19.800072      5.096192      Micro  163.631457\n",
       "4570  71.0  17.534640      1.940873      Macro  253.610411\n",
       "4571  42.0  15.966688      5.046548      Micro  148.202414\n",
       "\n",
       "[4572 rows x 5 columns]"
      ]
     },
     "execution_count": 40,
     "metadata": {},
     "output_type": "execute_result"
    }
   ],
   "source": [
    "dat"
   ]
  },
  {
   "cell_type": "markdown",
   "id": "106bd59b-3d86-4db2-8be1-6516a4c78145",
   "metadata": {},
   "source": [
    "1. 데이터 세트 내에 총 결측값의 개수는 몇 개인가?"
   ]
  },
  {
   "cell_type": "code",
   "execution_count": 13,
   "id": "75e162f7-c058-44e7-b06c-70aa4d8c71a8",
   "metadata": {},
   "outputs": [
    {
     "data": {
      "text/plain": [
       "TV              10\n",
       "Radio            4\n",
       "Social_Media     6\n",
       "Influencer       0\n",
       "Sales            6\n",
       "dtype: int64"
      ]
     },
     "execution_count": 13,
     "metadata": {},
     "output_type": "execute_result"
    }
   ],
   "source": [
    "dat.isnull().sum() # 열별 결측치 수 확인"
   ]
  },
  {
   "cell_type": "code",
   "execution_count": 19,
   "id": "8286b9e7-99b5-4cc3-96ca-726b77e27ff0",
   "metadata": {},
   "outputs": [
    {
     "data": {
      "text/plain": [
       "0       0\n",
       "1       0\n",
       "2       0\n",
       "3       0\n",
       "4       0\n",
       "       ..\n",
       "4567    0\n",
       "4568    0\n",
       "4569    0\n",
       "4570    0\n",
       "4571    0\n",
       "Length: 4572, dtype: int64"
      ]
     },
     "execution_count": 19,
     "metadata": {},
     "output_type": "execute_result"
    }
   ],
   "source": [
    "dat.isnull().sum(axis=1) #행별 결측치 수 확인"
   ]
  },
  {
   "cell_type": "code",
   "execution_count": 22,
   "id": "6cb985c3-6f3f-4d1e-b4b5-e15e8c2728a3",
   "metadata": {},
   "outputs": [
    {
     "data": {
      "text/plain": [
       "26"
      ]
     },
     "execution_count": 22,
     "metadata": {},
     "output_type": "execute_result"
    }
   ],
   "source": [
    "dat.isnull().any(axis=1).sum() # 행 중에 null값이 하나라도 들어간 경우 합"
   ]
  },
  {
   "cell_type": "code",
   "execution_count": 24,
   "id": "0096a181-e736-4744-aaad-b835cd7d5763",
   "metadata": {},
   "outputs": [
    {
     "name": "stdout",
     "output_type": "stream",
     "text": [
      "정답 : 26\n"
     ]
    }
   ],
   "source": [
    "print('정답 :',dat.isnull().sum().sum())"
   ]
  },
  {
   "cell_type": "markdown",
   "id": "63a0fe17-ac43-4e22-8111-d60663cffe3f",
   "metadata": {},
   "source": [
    "---"
   ]
  },
  {
   "cell_type": "markdown",
   "id": "effa7dfa-fd90-480b-9f9f-c8b1d7af64b0",
   "metadata": {},
   "source": [
    "2. 매출액과 가장 강한 상관관계를 가지고 있는 채널의 상관관계수를 자리에서 반올림하여 소수점 넷째 자리까지 기술하시오. (연관관계)"
   ]
  },
  {
   "cell_type": "code",
   "execution_count": 35,
   "id": "20eacbfa-749c-4f09-9c1d-8cf2d7027bb6",
   "metadata": {},
   "outputs": [
    {
     "name": "stdout",
     "output_type": "stream",
     "text": [
      "정답 :  0.9995\n"
     ]
    }
   ],
   "source": [
    "# 음수가 있는 경우 abs()\n",
    "Q2 = dat[['TV','Radio','Social_Media','Sales']].corr().abs()\n",
    "print('정답 : ',Q2['Sales'].sort_values(ascending=False)[1].round(5))"
   ]
  },
  {
   "cell_type": "code",
   "execution_count": 38,
   "id": "b22e242e-cf34-4a9b-8e73-2bb6fe7f4b94",
   "metadata": {},
   "outputs": [
    {
     "data": {
      "text/plain": [
       "0.9995"
      ]
     },
     "execution_count": 38,
     "metadata": {},
     "output_type": "execute_result"
    }
   ],
   "source": [
    "# 상위 높은 데이터를 가져오기 (nlargest)\n",
    "Q2['Sales'].nlargest(2)[1].round(5)"
   ]
  },
  {
   "cell_type": "markdown",
   "id": "f025abf4-92d1-4b51-a868-b0b35357ce0f",
   "metadata": {},
   "source": [
    "---"
   ]
  },
  {
   "cell_type": "markdown",
   "id": "84d9e850-3312-472c-8957-b39d3f671a4c",
   "metadata": {},
   "source": [
    "3. 매출액을 종속변수, TV, Radio, Social Media의 예산을 독립변수로 하여 회귀분석진행\n",
    "    세 개의 독립변수의 회귀계수를 큰 것에서부터 작은 것 순으로 기술\n",
    "    \n",
    "- 분석시 결측치가 포함된 행은 제거한 후 진행하며, 회귀계수는 소수점 넷째 자리이하는 버리고 소수점 셋째 자리까지 기술하시오"
   ]
  },
  {
   "cell_type": "code",
   "execution_count": 77,
   "id": "6d0c6500-ffbd-4d77-86ad-93fce2a1c974",
   "metadata": {},
   "outputs": [
    {
     "name": "stdout",
     "output_type": "stream",
     "text": [
      "정답 : [3.5626, 0.005, -0.004]\n"
     ]
    }
   ],
   "source": [
    "# fit_intercept => 절편\n",
    "\n",
    "from sklearn.linear_model import LinearRegression\n",
    "from statsmodels.api import OLS, add_constant\n",
    "from statsmodels.formula.api import ols\n",
    "\n",
    "# 결측치 제거\n",
    "dat1 = dat.dropna()\n",
    "\n",
    "lm = LinearRegression(fit_intercept=True)\n",
    "lm.fit(dat1.drop(columns=['Influencer','Sales']),dat1.Sales)\n",
    "\n",
    "# 회귀 계수\n",
    "dir(lm)\n",
    "lm.coef_\n",
    "# array([ 3.56256963, -0.00397039,  0.00496402])\n",
    "\n",
    "answer = sorted(lm.coef_, reverse=True)\n",
    "print('정답 :',list(map(lambda x : x.round(4), answer)))\n"
   ]
  },
  {
   "cell_type": "code",
   "execution_count": 59,
   "id": "c1ffa65b-c4c7-4f90-97fe-42aae5b07fd5",
   "metadata": {},
   "outputs": [
    {
     "data": {
      "text/html": [
       "<table class=\"simpletable\">\n",
       "<caption>OLS Regression Results</caption>\n",
       "<tr>\n",
       "  <th>Dep. Variable:</th>          <td>Sales</td>      <th>  R-squared (uncentered):</th>      <td>   1.000</td> \n",
       "</tr>\n",
       "<tr>\n",
       "  <th>Model:</th>                   <td>OLS</td>       <th>  Adj. R-squared (uncentered):</th> <td>   1.000</td> \n",
       "</tr>\n",
       "<tr>\n",
       "  <th>Method:</th>             <td>Least Squares</td>  <th>  F-statistic:       </th>          <td>7.951e+06</td>\n",
       "</tr>\n",
       "<tr>\n",
       "  <th>Date:</th>             <td>Mon, 23 Aug 2021</td> <th>  Prob (F-statistic):</th>           <td>  0.00</td>  \n",
       "</tr>\n",
       "<tr>\n",
       "  <th>Time:</th>                 <td>10:47:40</td>     <th>  Log-Likelihood:    </th>          <td> -11367.</td> \n",
       "</tr>\n",
       "<tr>\n",
       "  <th>No. Observations:</th>      <td>  4546</td>      <th>  AIC:               </th>          <td>2.274e+04</td>\n",
       "</tr>\n",
       "<tr>\n",
       "  <th>Df Residuals:</th>          <td>  4543</td>      <th>  BIC:               </th>          <td>2.276e+04</td>\n",
       "</tr>\n",
       "<tr>\n",
       "  <th>Df Model:</th>              <td>     3</td>      <th>                     </th>              <td> </td>    \n",
       "</tr>\n",
       "<tr>\n",
       "  <th>Covariance Type:</th>      <td>nonrobust</td>    <th>                     </th>              <td> </td>    \n",
       "</tr>\n",
       "</table>\n",
       "<table class=\"simpletable\">\n",
       "<tr>\n",
       "        <td></td>          <th>coef</th>     <th>std err</th>      <th>t</th>      <th>P>|t|</th>  <th>[0.025</th>    <th>0.975]</th>  \n",
       "</tr>\n",
       "<tr>\n",
       "  <th>TV</th>           <td>    3.5609</td> <td>    0.003</td> <td> 1133.941</td> <td> 0.000</td> <td>    3.555</td> <td>    3.567</td>\n",
       "</tr>\n",
       "<tr>\n",
       "  <th>Radio</th>        <td>   -0.0039</td> <td>    0.010</td> <td>   -0.400</td> <td> 0.689</td> <td>   -0.023</td> <td>    0.015</td>\n",
       "</tr>\n",
       "<tr>\n",
       "  <th>Social_Media</th> <td>   -0.0013</td> <td>    0.024</td> <td>   -0.054</td> <td> 0.957</td> <td>   -0.049</td> <td>    0.047</td>\n",
       "</tr>\n",
       "</table>\n",
       "<table class=\"simpletable\">\n",
       "<tr>\n",
       "  <th>Omnibus:</th>       <td> 0.061</td> <th>  Durbin-Watson:     </th> <td>   1.999</td>\n",
       "</tr>\n",
       "<tr>\n",
       "  <th>Prob(Omnibus):</th> <td> 0.970</td> <th>  Jarque-Bera (JB):  </th> <td>   0.038</td>\n",
       "</tr>\n",
       "<tr>\n",
       "  <th>Skew:</th>          <td>-0.001</td> <th>  Prob(JB):          </th> <td>   0.981</td>\n",
       "</tr>\n",
       "<tr>\n",
       "  <th>Kurtosis:</th>      <td> 3.014</td> <th>  Cond. No.          </th> <td>    35.8</td>\n",
       "</tr>\n",
       "</table><br/><br/>Notes:<br/>[1] R² is computed without centering (uncentered) since the model does not contain a constant.<br/>[2] Standard Errors assume that the covariance matrix of the errors is correctly specified."
      ],
      "text/plain": [
       "<class 'statsmodels.iolib.summary.Summary'>\n",
       "\"\"\"\n",
       "                                 OLS Regression Results                                \n",
       "=======================================================================================\n",
       "Dep. Variable:                  Sales   R-squared (uncentered):                   1.000\n",
       "Model:                            OLS   Adj. R-squared (uncentered):              1.000\n",
       "Method:                 Least Squares   F-statistic:                          7.951e+06\n",
       "Date:                Mon, 23 Aug 2021   Prob (F-statistic):                        0.00\n",
       "Time:                        10:47:40   Log-Likelihood:                         -11367.\n",
       "No. Observations:                4546   AIC:                                  2.274e+04\n",
       "Df Residuals:                    4543   BIC:                                  2.276e+04\n",
       "Df Model:                           3                                                  \n",
       "Covariance Type:            nonrobust                                                  \n",
       "================================================================================\n",
       "                   coef    std err          t      P>|t|      [0.025      0.975]\n",
       "--------------------------------------------------------------------------------\n",
       "TV               3.5609      0.003   1133.941      0.000       3.555       3.567\n",
       "Radio           -0.0039      0.010     -0.400      0.689      -0.023       0.015\n",
       "Social_Media    -0.0013      0.024     -0.054      0.957      -0.049       0.047\n",
       "==============================================================================\n",
       "Omnibus:                        0.061   Durbin-Watson:                   1.999\n",
       "Prob(Omnibus):                  0.970   Jarque-Bera (JB):                0.038\n",
       "Skew:                          -0.001   Prob(JB):                        0.981\n",
       "Kurtosis:                       3.014   Cond. No.                         35.8\n",
       "==============================================================================\n",
       "\n",
       "Notes:\n",
       "[1] R² is computed without centering (uncentered) since the model does not contain a constant.\n",
       "[2] Standard Errors assume that the covariance matrix of the errors is correctly specified.\n",
       "\"\"\""
      ]
     },
     "execution_count": 59,
     "metadata": {},
     "output_type": "execute_result"
    }
   ],
   "source": [
    "# const column 추가\n",
    "X = dat1.drop(columns=['Influencer','Sales'])\n",
    "XX = add_constant(X)\n",
    "y = dat1.Sales\n",
    "\n",
    "ols1 = OLS(y, X).fit() # 상수항 미포함\n",
    "ols1.summary()"
   ]
  },
  {
   "cell_type": "code",
   "execution_count": 71,
   "id": "0bfe0578-e57f-4cb4-a07a-796813bf58cf",
   "metadata": {},
   "outputs": [
    {
     "data": {
      "text/html": [
       "<table class=\"simpletable\">\n",
       "<caption>OLS Regression Results</caption>\n",
       "<tr>\n",
       "  <th>Dep. Variable:</th>          <td>Sales</td>      <th>  R-squared:         </th> <td>   0.999</td> \n",
       "</tr>\n",
       "<tr>\n",
       "  <th>Model:</th>                   <td>OLS</td>       <th>  Adj. R-squared:    </th> <td>   0.999</td> \n",
       "</tr>\n",
       "<tr>\n",
       "  <th>Method:</th>             <td>Least Squares</td>  <th>  F-statistic:       </th> <td>1.505e+06</td>\n",
       "</tr>\n",
       "<tr>\n",
       "  <th>Date:</th>             <td>Mon, 23 Aug 2021</td> <th>  Prob (F-statistic):</th>  <td>  0.00</td>  \n",
       "</tr>\n",
       "<tr>\n",
       "  <th>Time:</th>                 <td>11:17:26</td>     <th>  Log-Likelihood:    </th> <td> -11366.</td> \n",
       "</tr>\n",
       "<tr>\n",
       "  <th>No. Observations:</th>      <td>  4546</td>      <th>  AIC:               </th> <td>2.274e+04</td>\n",
       "</tr>\n",
       "<tr>\n",
       "  <th>Df Residuals:</th>          <td>  4542</td>      <th>  BIC:               </th> <td>2.277e+04</td>\n",
       "</tr>\n",
       "<tr>\n",
       "  <th>Df Model:</th>              <td>     3</td>      <th>                     </th>     <td> </td>    \n",
       "</tr>\n",
       "<tr>\n",
       "  <th>Covariance Type:</th>      <td>nonrobust</td>    <th>                     </th>     <td> </td>    \n",
       "</tr>\n",
       "</table>\n",
       "<table class=\"simpletable\">\n",
       "<tr>\n",
       "        <td></td>          <th>coef</th>     <th>std err</th>      <th>t</th>      <th>P>|t|</th>  <th>[0.025</th>    <th>0.975]</th>  \n",
       "</tr>\n",
       "<tr>\n",
       "  <th>const</th>        <td>   -0.1340</td> <td>    0.103</td> <td>   -1.303</td> <td> 0.193</td> <td>   -0.336</td> <td>    0.068</td>\n",
       "</tr>\n",
       "<tr>\n",
       "  <th>TV</th>           <td>    3.5626</td> <td>    0.003</td> <td> 1051.118</td> <td> 0.000</td> <td>    3.556</td> <td>    3.569</td>\n",
       "</tr>\n",
       "<tr>\n",
       "  <th>Radio</th>        <td>   -0.0040</td> <td>    0.010</td> <td>   -0.406</td> <td> 0.685</td> <td>   -0.023</td> <td>    0.015</td>\n",
       "</tr>\n",
       "<tr>\n",
       "  <th>Social_Media</th> <td>    0.0050</td> <td>    0.025</td> <td>    0.199</td> <td> 0.842</td> <td>   -0.044</td> <td>    0.054</td>\n",
       "</tr>\n",
       "</table>\n",
       "<table class=\"simpletable\">\n",
       "<tr>\n",
       "  <th>Omnibus:</th>       <td> 0.056</td> <th>  Durbin-Watson:     </th> <td>   1.998</td>\n",
       "</tr>\n",
       "<tr>\n",
       "  <th>Prob(Omnibus):</th> <td> 0.972</td> <th>  Jarque-Bera (JB):  </th> <td>   0.034</td>\n",
       "</tr>\n",
       "<tr>\n",
       "  <th>Skew:</th>          <td>-0.001</td> <th>  Prob(JB):          </th> <td>   0.983</td>\n",
       "</tr>\n",
       "<tr>\n",
       "  <th>Kurtosis:</th>      <td> 3.013</td> <th>  Cond. No.          </th> <td>    149.</td>\n",
       "</tr>\n",
       "</table><br/><br/>Notes:<br/>[1] Standard Errors assume that the covariance matrix of the errors is correctly specified."
      ],
      "text/plain": [
       "<class 'statsmodels.iolib.summary.Summary'>\n",
       "\"\"\"\n",
       "                            OLS Regression Results                            \n",
       "==============================================================================\n",
       "Dep. Variable:                  Sales   R-squared:                       0.999\n",
       "Model:                            OLS   Adj. R-squared:                  0.999\n",
       "Method:                 Least Squares   F-statistic:                 1.505e+06\n",
       "Date:                Mon, 23 Aug 2021   Prob (F-statistic):               0.00\n",
       "Time:                        11:17:26   Log-Likelihood:                -11366.\n",
       "No. Observations:                4546   AIC:                         2.274e+04\n",
       "Df Residuals:                    4542   BIC:                         2.277e+04\n",
       "Df Model:                           3                                         \n",
       "Covariance Type:            nonrobust                                         \n",
       "================================================================================\n",
       "                   coef    std err          t      P>|t|      [0.025      0.975]\n",
       "--------------------------------------------------------------------------------\n",
       "const           -0.1340      0.103     -1.303      0.193      -0.336       0.068\n",
       "TV               3.5626      0.003   1051.118      0.000       3.556       3.569\n",
       "Radio           -0.0040      0.010     -0.406      0.685      -0.023       0.015\n",
       "Social_Media     0.0050      0.025      0.199      0.842      -0.044       0.054\n",
       "==============================================================================\n",
       "Omnibus:                        0.056   Durbin-Watson:                   1.998\n",
       "Prob(Omnibus):                  0.972   Jarque-Bera (JB):                0.034\n",
       "Skew:                          -0.001   Prob(JB):                        0.983\n",
       "Kurtosis:                       3.013   Cond. No.                         149.\n",
       "==============================================================================\n",
       "\n",
       "Notes:\n",
       "[1] Standard Errors assume that the covariance matrix of the errors is correctly specified.\n",
       "\"\"\""
      ]
     },
     "execution_count": 71,
     "metadata": {},
     "output_type": "execute_result"
    }
   ],
   "source": [
    "# 절편이 들어간 상태여야 한다.\n",
    "\n",
    "ols2 = OLS(y, XX).fit() # 상수항 포함\n",
    "ols2.summary()"
   ]
  },
  {
   "cell_type": "code",
   "execution_count": 76,
   "id": "72f6446c-792c-4a0f-b6ab-9654569d2cc5",
   "metadata": {},
   "outputs": [
    {
     "data": {
      "text/html": [
       "<table class=\"simpletable\">\n",
       "<caption>OLS Regression Results</caption>\n",
       "<tr>\n",
       "  <th>Dep. Variable:</th>          <td>Sales</td>      <th>  R-squared:         </th> <td>   0.999</td> \n",
       "</tr>\n",
       "<tr>\n",
       "  <th>Model:</th>                   <td>OLS</td>       <th>  Adj. R-squared:    </th> <td>   0.999</td> \n",
       "</tr>\n",
       "<tr>\n",
       "  <th>Method:</th>             <td>Least Squares</td>  <th>  F-statistic:       </th> <td>1.505e+06</td>\n",
       "</tr>\n",
       "<tr>\n",
       "  <th>Date:</th>             <td>Mon, 23 Aug 2021</td> <th>  Prob (F-statistic):</th>  <td>  0.00</td>  \n",
       "</tr>\n",
       "<tr>\n",
       "  <th>Time:</th>                 <td>11:42:48</td>     <th>  Log-Likelihood:    </th> <td> -11366.</td> \n",
       "</tr>\n",
       "<tr>\n",
       "  <th>No. Observations:</th>      <td>  4546</td>      <th>  AIC:               </th> <td>2.274e+04</td>\n",
       "</tr>\n",
       "<tr>\n",
       "  <th>Df Residuals:</th>          <td>  4542</td>      <th>  BIC:               </th> <td>2.277e+04</td>\n",
       "</tr>\n",
       "<tr>\n",
       "  <th>Df Model:</th>              <td>     3</td>      <th>                     </th>     <td> </td>    \n",
       "</tr>\n",
       "<tr>\n",
       "  <th>Covariance Type:</th>      <td>nonrobust</td>    <th>                     </th>     <td> </td>    \n",
       "</tr>\n",
       "</table>\n",
       "<table class=\"simpletable\">\n",
       "<tr>\n",
       "        <td></td>          <th>coef</th>     <th>std err</th>      <th>t</th>      <th>P>|t|</th>  <th>[0.025</th>    <th>0.975]</th>  \n",
       "</tr>\n",
       "<tr>\n",
       "  <th>Intercept</th>    <td>   -0.1340</td> <td>    0.103</td> <td>   -1.303</td> <td> 0.193</td> <td>   -0.336</td> <td>    0.068</td>\n",
       "</tr>\n",
       "<tr>\n",
       "  <th>TV</th>           <td>    3.5626</td> <td>    0.003</td> <td> 1051.118</td> <td> 0.000</td> <td>    3.556</td> <td>    3.569</td>\n",
       "</tr>\n",
       "<tr>\n",
       "  <th>Radio</th>        <td>   -0.0040</td> <td>    0.010</td> <td>   -0.406</td> <td> 0.685</td> <td>   -0.023</td> <td>    0.015</td>\n",
       "</tr>\n",
       "<tr>\n",
       "  <th>Social_Media</th> <td>    0.0050</td> <td>    0.025</td> <td>    0.199</td> <td> 0.842</td> <td>   -0.044</td> <td>    0.054</td>\n",
       "</tr>\n",
       "</table>\n",
       "<table class=\"simpletable\">\n",
       "<tr>\n",
       "  <th>Omnibus:</th>       <td> 0.056</td> <th>  Durbin-Watson:     </th> <td>   1.998</td>\n",
       "</tr>\n",
       "<tr>\n",
       "  <th>Prob(Omnibus):</th> <td> 0.972</td> <th>  Jarque-Bera (JB):  </th> <td>   0.034</td>\n",
       "</tr>\n",
       "<tr>\n",
       "  <th>Skew:</th>          <td>-0.001</td> <th>  Prob(JB):          </th> <td>   0.983</td>\n",
       "</tr>\n",
       "<tr>\n",
       "  <th>Kurtosis:</th>      <td> 3.013</td> <th>  Cond. No.          </th> <td>    149.</td>\n",
       "</tr>\n",
       "</table><br/><br/>Notes:<br/>[1] Standard Errors assume that the covariance matrix of the errors is correctly specified."
      ],
      "text/plain": [
       "<class 'statsmodels.iolib.summary.Summary'>\n",
       "\"\"\"\n",
       "                            OLS Regression Results                            \n",
       "==============================================================================\n",
       "Dep. Variable:                  Sales   R-squared:                       0.999\n",
       "Model:                            OLS   Adj. R-squared:                  0.999\n",
       "Method:                 Least Squares   F-statistic:                 1.505e+06\n",
       "Date:                Mon, 23 Aug 2021   Prob (F-statistic):               0.00\n",
       "Time:                        11:42:48   Log-Likelihood:                -11366.\n",
       "No. Observations:                4546   AIC:                         2.274e+04\n",
       "Df Residuals:                    4542   BIC:                         2.277e+04\n",
       "Df Model:                           3                                         \n",
       "Covariance Type:            nonrobust                                         \n",
       "================================================================================\n",
       "                   coef    std err          t      P>|t|      [0.025      0.975]\n",
       "--------------------------------------------------------------------------------\n",
       "Intercept       -0.1340      0.103     -1.303      0.193      -0.336       0.068\n",
       "TV               3.5626      0.003   1051.118      0.000       3.556       3.569\n",
       "Radio           -0.0040      0.010     -0.406      0.685      -0.023       0.015\n",
       "Social_Media     0.0050      0.025      0.199      0.842      -0.044       0.054\n",
       "==============================================================================\n",
       "Omnibus:                        0.056   Durbin-Watson:                   1.998\n",
       "Prob(Omnibus):                  0.972   Jarque-Bera (JB):                0.034\n",
       "Skew:                          -0.001   Prob(JB):                        0.983\n",
       "Kurtosis:                       3.013   Cond. No.                         149.\n",
       "==============================================================================\n",
       "\n",
       "Notes:\n",
       "[1] Standard Errors assume that the covariance matrix of the errors is correctly specified.\n",
       "\"\"\""
      ]
     },
     "execution_count": 76,
     "metadata": {},
     "output_type": "execute_result"
    }
   ],
   "source": [
    "ols3 = ols('Sales~TV+Radio+Social_Media', data=dat1).fit()\n",
    "ols3.summary()"
   ]
  },
  {
   "cell_type": "code",
   "execution_count": 75,
   "id": "e056ba49-86b6-450b-af18-982a336045c7",
   "metadata": {},
   "outputs": [
    {
     "data": {
      "text/html": [
       "<table class=\"simpletable\">\n",
       "<caption>OLS Regression Results</caption>\n",
       "<tr>\n",
       "  <th>Dep. Variable:</th>          <td>Sales</td>      <th>  R-squared:         </th> <td>   0.999</td> \n",
       "</tr>\n",
       "<tr>\n",
       "  <th>Model:</th>                   <td>OLS</td>       <th>  Adj. R-squared:    </th> <td>   0.999</td> \n",
       "</tr>\n",
       "<tr>\n",
       "  <th>Method:</th>             <td>Least Squares</td>  <th>  F-statistic:       </th> <td>7.521e+05</td>\n",
       "</tr>\n",
       "<tr>\n",
       "  <th>Date:</th>             <td>Mon, 23 Aug 2021</td> <th>  Prob (F-statistic):</th>  <td>  0.00</td>  \n",
       "</tr>\n",
       "<tr>\n",
       "  <th>Time:</th>                 <td>11:42:45</td>     <th>  Log-Likelihood:    </th> <td> -11366.</td> \n",
       "</tr>\n",
       "<tr>\n",
       "  <th>No. Observations:</th>      <td>  4546</td>      <th>  AIC:               </th> <td>2.275e+04</td>\n",
       "</tr>\n",
       "<tr>\n",
       "  <th>Df Residuals:</th>          <td>  4539</td>      <th>  BIC:               </th> <td>2.279e+04</td>\n",
       "</tr>\n",
       "<tr>\n",
       "  <th>Df Model:</th>              <td>     6</td>      <th>                     </th>     <td> </td>    \n",
       "</tr>\n",
       "<tr>\n",
       "  <th>Covariance Type:</th>      <td>nonrobust</td>    <th>                     </th>     <td> </td>    \n",
       "</tr>\n",
       "</table>\n",
       "<table class=\"simpletable\">\n",
       "<tr>\n",
       "           <td></td>              <th>coef</th>     <th>std err</th>      <th>t</th>      <th>P>|t|</th>  <th>[0.025</th>    <th>0.975]</th>  \n",
       "</tr>\n",
       "<tr>\n",
       "  <th>Intercept</th>           <td>   -0.1033</td> <td>    0.130</td> <td>   -0.797</td> <td> 0.426</td> <td>   -0.358</td> <td>    0.151</td>\n",
       "</tr>\n",
       "<tr>\n",
       "  <th>Influencer[T.Mega]</th>  <td>    0.0116</td> <td>    0.124</td> <td>    0.094</td> <td> 0.926</td> <td>   -0.232</td> <td>    0.255</td>\n",
       "</tr>\n",
       "<tr>\n",
       "  <th>Influencer[T.Micro]</th> <td>   -0.0569</td> <td>    0.124</td> <td>   -0.458</td> <td> 0.647</td> <td>   -0.300</td> <td>    0.187</td>\n",
       "</tr>\n",
       "<tr>\n",
       "  <th>Influencer[T.Nano]</th>  <td>   -0.0739</td> <td>    0.125</td> <td>   -0.593</td> <td> 0.553</td> <td>   -0.318</td> <td>    0.170</td>\n",
       "</tr>\n",
       "<tr>\n",
       "  <th>TV</th>                  <td>    3.5626</td> <td>    0.003</td> <td> 1050.472</td> <td> 0.000</td> <td>    3.556</td> <td>    3.569</td>\n",
       "</tr>\n",
       "<tr>\n",
       "  <th>Radio</th>               <td>   -0.0039</td> <td>    0.010</td> <td>   -0.399</td> <td> 0.690</td> <td>   -0.023</td> <td>    0.015</td>\n",
       "</tr>\n",
       "<tr>\n",
       "  <th>Social_Media</th>        <td>    0.0045</td> <td>    0.025</td> <td>    0.179</td> <td> 0.858</td> <td>   -0.044</td> <td>    0.053</td>\n",
       "</tr>\n",
       "</table>\n",
       "<table class=\"simpletable\">\n",
       "<tr>\n",
       "  <th>Omnibus:</th>       <td> 0.067</td> <th>  Durbin-Watson:     </th> <td>   1.998</td>\n",
       "</tr>\n",
       "<tr>\n",
       "  <th>Prob(Omnibus):</th> <td> 0.967</td> <th>  Jarque-Bera (JB):  </th> <td>   0.043</td>\n",
       "</tr>\n",
       "<tr>\n",
       "  <th>Skew:</th>          <td>-0.001</td> <th>  Prob(JB):          </th> <td>   0.979</td>\n",
       "</tr>\n",
       "<tr>\n",
       "  <th>Kurtosis:</th>      <td> 3.015</td> <th>  Cond. No.          </th> <td>    288.</td>\n",
       "</tr>\n",
       "</table><br/><br/>Notes:<br/>[1] Standard Errors assume that the covariance matrix of the errors is correctly specified."
      ],
      "text/plain": [
       "<class 'statsmodels.iolib.summary.Summary'>\n",
       "\"\"\"\n",
       "                            OLS Regression Results                            \n",
       "==============================================================================\n",
       "Dep. Variable:                  Sales   R-squared:                       0.999\n",
       "Model:                            OLS   Adj. R-squared:                  0.999\n",
       "Method:                 Least Squares   F-statistic:                 7.521e+05\n",
       "Date:                Mon, 23 Aug 2021   Prob (F-statistic):               0.00\n",
       "Time:                        11:42:45   Log-Likelihood:                -11366.\n",
       "No. Observations:                4546   AIC:                         2.275e+04\n",
       "Df Residuals:                    4539   BIC:                         2.279e+04\n",
       "Df Model:                           6                                         \n",
       "Covariance Type:            nonrobust                                         \n",
       "=======================================================================================\n",
       "                          coef    std err          t      P>|t|      [0.025      0.975]\n",
       "---------------------------------------------------------------------------------------\n",
       "Intercept              -0.1033      0.130     -0.797      0.426      -0.358       0.151\n",
       "Influencer[T.Mega]      0.0116      0.124      0.094      0.926      -0.232       0.255\n",
       "Influencer[T.Micro]    -0.0569      0.124     -0.458      0.647      -0.300       0.187\n",
       "Influencer[T.Nano]     -0.0739      0.125     -0.593      0.553      -0.318       0.170\n",
       "TV                      3.5626      0.003   1050.472      0.000       3.556       3.569\n",
       "Radio                  -0.0039      0.010     -0.399      0.690      -0.023       0.015\n",
       "Social_Media            0.0045      0.025      0.179      0.858      -0.044       0.053\n",
       "==============================================================================\n",
       "Omnibus:                        0.067   Durbin-Watson:                   1.998\n",
       "Prob(Omnibus):                  0.967   Jarque-Bera (JB):                0.043\n",
       "Skew:                          -0.001   Prob(JB):                        0.979\n",
       "Kurtosis:                       3.015   Cond. No.                         288.\n",
       "==============================================================================\n",
       "\n",
       "Notes:\n",
       "[1] Standard Errors assume that the covariance matrix of the errors is correctly specified.\n",
       "\"\"\""
      ]
     },
     "execution_count": 75,
     "metadata": {},
     "output_type": "execute_result"
    }
   ],
   "source": [
    "var_list = dat1.columns[:-1]\n",
    "\n",
    "form = 'Sales~' + '+'.join(var_list)\n",
    "\n",
    "ols4 = ols(form, data=dat1).fit()\n",
    "ols4.summary()"
   ]
  },
  {
   "cell_type": "code",
   "execution_count": null,
   "id": "ccbb55cd-ae5f-47cf-85a1-ba630a2bae5a",
   "metadata": {},
   "outputs": [],
   "source": []
  }
 ],
 "metadata": {
  "kernelspec": {
   "display_name": "Python Multi",
   "language": "python",
   "name": "multi"
  },
  "language_info": {
   "codemirror_mode": {
    "name": "ipython",
    "version": 3
   },
   "file_extension": ".py",
   "mimetype": "text/x-python",
   "name": "python",
   "nbconvert_exporter": "python",
   "pygments_lexer": "ipython3",
   "version": "3.7.6"
  }
 },
 "nbformat": 4,
 "nbformat_minor": 5
}
