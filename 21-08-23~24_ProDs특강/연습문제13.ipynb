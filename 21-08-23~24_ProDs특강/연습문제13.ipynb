{
 "cells": [
  {
   "cell_type": "code",
   "execution_count": null,
   "id": "bf743ad0-e273-4030-a058-912a304b87a9",
   "metadata": {},
   "outputs": [],
   "source": [
    "# =============================================================================\n",
    "# =============================================================================\n",
    "# # 문제 13 유형(DataSet13_train.csv / DataSet13_test.csv  이용)\n",
    "\n",
    "# 구분자 : \n",
    "#     comma(“,”), 1500 Rows, 10 Columns, UTF-8 인코딩 / \n",
    "#     comma(“,”), 500 Rows, 10 Columns, UTF-8 인코딩\n",
    "\n",
    "# 전국의 데이터 분석가 2000명을 대상으로 이직 관련 설문조사를 실시하였다. \n",
    "# 설문 대상자의 특성 및 이직 의사와 관련 인자를 면밀히 살펴보기 위해 다양한\n",
    "# 분석을 실시하고자 한다.\n",
    "\n",
    "# 컬 럼 / 정 의 / Type\n",
    "# city_development_index / 거주 도시 개발 지수 / Double\n",
    "# gender / 성별 / String\n",
    "# relevent_experience / 관련 직무 경험 여부(1 : 유경험) / Integer\n",
    "# enrolled_university / 대학 등록 형태(1 : 풀타임/파트타임) / Integer\n",
    "# education_level / 교육 수준 / String\n",
    "# major_discipline / 전공 / String\n",
    "# experience / 경력 / Double\n",
    "# last_new_job / 현 직장 직전 직무 공백 기간 / Double\n",
    "# training_hours / 관련 직무 교육 이수 시간 / Double\n",
    "# target / 이직 의사 여부(1 : 의사 있음) / Integer\n",
    "# =============================================================================\n",
    "# ============================================================================="
   ]
  },
  {
   "cell_type": "code",
   "execution_count": 2,
   "id": "ae389f71-8dad-418f-9034-636dff69e09e",
   "metadata": {},
   "outputs": [],
   "source": [
    "import pandas as pd\n",
    "import numpy as np\n",
    "\n",
    "dataset13 = pd.read_csv('Dataset/Dataset_13_train.csv')"
   ]
  },
  {
   "cell_type": "code",
   "execution_count": 10,
   "id": "44bea98f-345d-466d-88e0-15bd9542f208",
   "metadata": {},
   "outputs": [
    {
     "data": {
      "text/html": [
       "<div>\n",
       "<style scoped>\n",
       "    .dataframe tbody tr th:only-of-type {\n",
       "        vertical-align: middle;\n",
       "    }\n",
       "\n",
       "    .dataframe tbody tr th {\n",
       "        vertical-align: top;\n",
       "    }\n",
       "\n",
       "    .dataframe thead th {\n",
       "        text-align: right;\n",
       "    }\n",
       "</style>\n",
       "<table border=\"1\" class=\"dataframe\">\n",
       "  <thead>\n",
       "    <tr style=\"text-align: right;\">\n",
       "      <th></th>\n",
       "      <th>city_development_index</th>\n",
       "      <th>gender</th>\n",
       "      <th>relevent_experience</th>\n",
       "      <th>enrolled_university</th>\n",
       "      <th>education_level</th>\n",
       "      <th>major_discipline</th>\n",
       "      <th>experience</th>\n",
       "      <th>last_new_job</th>\n",
       "      <th>training_hours</th>\n",
       "      <th>target</th>\n",
       "    </tr>\n",
       "  </thead>\n",
       "  <tbody>\n",
       "    <tr>\n",
       "      <th>0</th>\n",
       "      <td>0.516</td>\n",
       "      <td>Male</td>\n",
       "      <td>1</td>\n",
       "      <td>0</td>\n",
       "      <td>Graduate</td>\n",
       "      <td>STEM</td>\n",
       "      <td>13</td>\n",
       "      <td>5</td>\n",
       "      <td>36</td>\n",
       "      <td>1</td>\n",
       "    </tr>\n",
       "    <tr>\n",
       "      <th>1</th>\n",
       "      <td>0.766</td>\n",
       "      <td>Male</td>\n",
       "      <td>1</td>\n",
       "      <td>0</td>\n",
       "      <td>Graduate</td>\n",
       "      <td>STEM</td>\n",
       "      <td>12</td>\n",
       "      <td>5</td>\n",
       "      <td>264</td>\n",
       "      <td>0</td>\n",
       "    </tr>\n",
       "    <tr>\n",
       "      <th>2</th>\n",
       "      <td>0.920</td>\n",
       "      <td>Male</td>\n",
       "      <td>1</td>\n",
       "      <td>0</td>\n",
       "      <td>Masters</td>\n",
       "      <td>STEM</td>\n",
       "      <td>10</td>\n",
       "      <td>2</td>\n",
       "      <td>99</td>\n",
       "      <td>0</td>\n",
       "    </tr>\n",
       "    <tr>\n",
       "      <th>3</th>\n",
       "      <td>0.899</td>\n",
       "      <td>Male</td>\n",
       "      <td>1</td>\n",
       "      <td>0</td>\n",
       "      <td>Graduate</td>\n",
       "      <td>Business Degree</td>\n",
       "      <td>16</td>\n",
       "      <td>1</td>\n",
       "      <td>20</td>\n",
       "      <td>0</td>\n",
       "    </tr>\n",
       "    <tr>\n",
       "      <th>4</th>\n",
       "      <td>0.884</td>\n",
       "      <td>Male</td>\n",
       "      <td>1</td>\n",
       "      <td>0</td>\n",
       "      <td>Masters</td>\n",
       "      <td>STEM</td>\n",
       "      <td>20</td>\n",
       "      <td>5</td>\n",
       "      <td>39</td>\n",
       "      <td>0</td>\n",
       "    </tr>\n",
       "  </tbody>\n",
       "</table>\n",
       "</div>"
      ],
      "text/plain": [
       "   city_development_index gender  relevent_experience  enrolled_university  \\\n",
       "0                   0.516   Male                    1                    0   \n",
       "1                   0.766   Male                    1                    0   \n",
       "2                   0.920   Male                    1                    0   \n",
       "3                   0.899   Male                    1                    0   \n",
       "4                   0.884   Male                    1                    0   \n",
       "\n",
       "  education_level major_discipline  experience  last_new_job  training_hours  \\\n",
       "0        Graduate             STEM          13             5              36   \n",
       "1        Graduate             STEM          12             5             264   \n",
       "2         Masters             STEM          10             2              99   \n",
       "3        Graduate  Business Degree          16             1              20   \n",
       "4         Masters             STEM          20             5              39   \n",
       "\n",
       "   target  \n",
       "0       1  \n",
       "1       0  \n",
       "2       0  \n",
       "3       0  \n",
       "4       0  "
      ]
     },
     "execution_count": 10,
     "metadata": {},
     "output_type": "execute_result"
    }
   ],
   "source": [
    "dataset13.head()"
   ]
  },
  {
   "cell_type": "code",
   "execution_count": 3,
   "id": "1f7da020-8674-496a-8818-8490c65cd5d1",
   "metadata": {},
   "outputs": [],
   "source": [
    "#%%\n",
    "\n",
    "# =============================================================================\n",
    "# 1.(Dataset_13_train.csv를 활용하여) 경력과 최근 이직시 공백기간의 상관관계를 보고자\n",
    "# 한다. 남여별 피어슨 상관계수를 각각 산출하고 더 높은 상관계수를 기술하시오.\n",
    "# - 상관계수는 반올림하여 소수점 둘째 자리까지 기술하시오. (답안 예시) 0.12\n",
    "# ============================================================================="
   ]
  },
  {
   "cell_type": "code",
   "execution_count": 4,
   "id": "f8e74277-c46b-4e2c-bd3d-d68757df2199",
   "metadata": {},
   "outputs": [],
   "source": [
    "q1 = dataset13.copy()"
   ]
  },
  {
   "cell_type": "code",
   "execution_count": 11,
   "id": "a0063e4d-f964-4718-932b-821dd8e5d2e2",
   "metadata": {},
   "outputs": [],
   "source": [
    "q1_m = q1[q1['gender']== 'Male']\n",
    "q1_f = q1[q1['gender']== 'Female']"
   ]
  },
  {
   "cell_type": "code",
   "execution_count": 12,
   "id": "15e82141-ead3-4ea3-be78-d40983f731b0",
   "metadata": {},
   "outputs": [
    {
     "data": {
      "text/html": [
       "<div>\n",
       "<style scoped>\n",
       "    .dataframe tbody tr th:only-of-type {\n",
       "        vertical-align: middle;\n",
       "    }\n",
       "\n",
       "    .dataframe tbody tr th {\n",
       "        vertical-align: top;\n",
       "    }\n",
       "\n",
       "    .dataframe thead th {\n",
       "        text-align: right;\n",
       "    }\n",
       "</style>\n",
       "<table border=\"1\" class=\"dataframe\">\n",
       "  <thead>\n",
       "    <tr style=\"text-align: right;\">\n",
       "      <th></th>\n",
       "      <th>experience</th>\n",
       "      <th>last_new_job</th>\n",
       "    </tr>\n",
       "  </thead>\n",
       "  <tbody>\n",
       "    <tr>\n",
       "      <th>experience</th>\n",
       "      <td>1.000000</td>\n",
       "      <td>0.411155</td>\n",
       "    </tr>\n",
       "    <tr>\n",
       "      <th>last_new_job</th>\n",
       "      <td>0.411155</td>\n",
       "      <td>1.000000</td>\n",
       "    </tr>\n",
       "  </tbody>\n",
       "</table>\n",
       "</div>"
      ],
      "text/plain": [
       "              experience  last_new_job\n",
       "experience      1.000000      0.411155\n",
       "last_new_job    0.411155      1.000000"
      ]
     },
     "execution_count": 12,
     "metadata": {},
     "output_type": "execute_result"
    }
   ],
   "source": [
    "q1_m[['experience','last_new_job']].corr()"
   ]
  },
  {
   "cell_type": "code",
   "execution_count": 13,
   "id": "40c2da96-dce6-4913-9138-6c80c7ed97f1",
   "metadata": {},
   "outputs": [
    {
     "data": {
      "text/html": [
       "<div>\n",
       "<style scoped>\n",
       "    .dataframe tbody tr th:only-of-type {\n",
       "        vertical-align: middle;\n",
       "    }\n",
       "\n",
       "    .dataframe tbody tr th {\n",
       "        vertical-align: top;\n",
       "    }\n",
       "\n",
       "    .dataframe thead th {\n",
       "        text-align: right;\n",
       "    }\n",
       "</style>\n",
       "<table border=\"1\" class=\"dataframe\">\n",
       "  <thead>\n",
       "    <tr style=\"text-align: right;\">\n",
       "      <th></th>\n",
       "      <th>experience</th>\n",
       "      <th>last_new_job</th>\n",
       "    </tr>\n",
       "  </thead>\n",
       "  <tbody>\n",
       "    <tr>\n",
       "      <th>experience</th>\n",
       "      <td>1.000000</td>\n",
       "      <td>0.451898</td>\n",
       "    </tr>\n",
       "    <tr>\n",
       "      <th>last_new_job</th>\n",
       "      <td>0.451898</td>\n",
       "      <td>1.000000</td>\n",
       "    </tr>\n",
       "  </tbody>\n",
       "</table>\n",
       "</div>"
      ],
      "text/plain": [
       "              experience  last_new_job\n",
       "experience      1.000000      0.451898\n",
       "last_new_job    0.451898      1.000000"
      ]
     },
     "execution_count": 13,
     "metadata": {},
     "output_type": "execute_result"
    }
   ],
   "source": [
    "q1_f[['experience','last_new_job']].corr()"
   ]
  },
  {
   "cell_type": "code",
   "execution_count": 51,
   "id": "2eb07740-4e3e-4ed2-aa96-7d89552c5e8c",
   "metadata": {},
   "outputs": [],
   "source": [
    "# 방법 2\n",
    "# df.groupby([\"gender\"])[[\"experience\",\"last_new_job\"]].corr()"
   ]
  },
  {
   "cell_type": "code",
   "execution_count": null,
   "id": "f6aee99f-3c11-44d2-94c8-428ade55cddf",
   "metadata": {},
   "outputs": [],
   "source": [
    "# 정답 : 0.45"
   ]
  },
  {
   "cell_type": "code",
   "execution_count": 14,
   "id": "217e6dbf-01a2-41e0-b56b-2e9b0552640d",
   "metadata": {},
   "outputs": [],
   "source": [
    "#%%\n",
    "\n",
    "# =============================================================================\n",
    "# 2.(Dataset_13_train.csv를 활용하여) 기존 데이터 분석 관련 직무 경험과 이직 의사가 서로\n",
    "# 관련이 있는지 알아보고자 한다. 이를 위해 독립성 검정을 실시하고 해당 검정의 p-value를 기술하시오.\n",
    "# - 검정은 STEM 전공자를 대상으로 한다.\n",
    "# - 검정은 충분히 발달된 도시(도시 개발 지수가 제 85 백분위수 초과)에 거주하는 사람을\n",
    "# 대상으로 한다.\n",
    "# - 이직 의사 여부(target)은 문자열로 변경 후 사용한다.\n",
    "# - p-value는 반올림하여 소수점 둘째 자리까지 기술하시오. (답안 예시) 0.12\n",
    "# ============================================================================="
   ]
  },
  {
   "cell_type": "code",
   "execution_count": 16,
   "id": "1602197d-331a-45a4-99b1-cd8619c95ab2",
   "metadata": {},
   "outputs": [],
   "source": [
    "# 컬 럼 / 정 의 / Type\n",
    "# city_development_index / 거주 도시 개발 지수 / Double\n",
    "# gender / 성별 / String\n",
    "# relevent_experience / 관련 직무 경험 여부(1 : 유경험) / Integer\n",
    "# enrolled_university / 대학 등록 형태(1 : 풀타임/파트타임) / Integer\n",
    "# education_level / 교육 수준 / String\n",
    "# major_discipline / 전공 / String\n",
    "# experience / 경력 / Double\n",
    "# last_new_job / 현 직장 직전 직무 공백 기간 / Double\n",
    "# training_hours / 관련 직무 교육 이수 시간 / Double\n",
    "# target / 이직 의사 여부(1 : 의사 있음) / Integer"
   ]
  },
  {
   "cell_type": "code",
   "execution_count": 15,
   "id": "586e287c-00cf-41b7-b40f-54dc57888073",
   "metadata": {},
   "outputs": [],
   "source": [
    "q2 = dataset13.copy()"
   ]
  },
  {
   "cell_type": "code",
   "execution_count": 37,
   "id": "08f4c979-50e0-4be3-9ba4-48ed66b280d0",
   "metadata": {},
   "outputs": [],
   "source": [
    "q2_1 = q2[(q2['major_discipline']=='STEM') & (q2.city_development_index > q2.city_development_index.quantile(0.85))]"
   ]
  },
  {
   "cell_type": "code",
   "execution_count": 42,
   "id": "46816152-d475-41eb-9922-2ea824238dd2",
   "metadata": {},
   "outputs": [
    {
     "name": "stderr",
     "output_type": "stream",
     "text": [
      "C:\\ananconda\\envs\\multi\\lib\\site-packages\\ipykernel_launcher.py:1: SettingWithCopyWarning: \n",
      "A value is trying to be set on a copy of a slice from a DataFrame.\n",
      "Try using .loc[row_indexer,col_indexer] = value instead\n",
      "\n",
      "See the caveats in the documentation: https://pandas.pydata.org/pandas-docs/stable/user_guide/indexing.html#returning-a-view-versus-a-copy\n",
      "  \"\"\"Entry point for launching an IPython kernel.\n"
     ]
    }
   ],
   "source": [
    "q2_1['target'] = q2_1['target'].astype('str')"
   ]
  },
  {
   "cell_type": "code",
   "execution_count": 49,
   "id": "5c8fc777-a329-430a-8b8c-35564d9cd1e9",
   "metadata": {},
   "outputs": [
    {
     "data": {
      "text/plain": [
       "0.64"
      ]
     },
     "execution_count": 49,
     "metadata": {},
     "output_type": "execute_result"
    }
   ],
   "source": [
    "q2_tab = pd.crosstab(index=q2_1.relevent_experience, columns=q2_1.target)\n",
    "\n",
    "import scipy.stats as sc\n",
    "\n",
    "q2_out = sc.chi2_contingency(q2_tab)\n",
    "q2_out[1].round(2) # => pvalue"
   ]
  },
  {
   "cell_type": "code",
   "execution_count": 52,
   "id": "74e6a9f2-0677-4805-9e10-a4c9bb439a15",
   "metadata": {},
   "outputs": [],
   "source": [
    "#%%\n",
    "\n",
    "\n",
    "# =============================================================================\n",
    "# 3.(Dataset_13_train.csv를 활용하여) 인사팀에서는 어떤 직원이 이직 의사를 가지고 있을지\n",
    "# 사전에 파악하고 1:1 면담 등 집중 케어를 하고자 한다. 이를 위해 의사결정 나무를\n",
    "# 활용하여 모델을 생성하고 그 정확도를 확인하시오.\n",
    "# - target을 종속변수로 하고 나머지 변수 중 String이 아닌 변수를 독립변수로 한다.\n",
    "# - 학습은 전부 기본값으로 실시한다.\n",
    "# - 평가는 \"Dataset_13_test.csv\" 데이터로 실시한다.\n",
    "# - 정확도는 반올림하여 소수점 둘째 자리까지 기술하시오. (답안 예시) 0.12\n",
    "# \n",
    "# =============================================================================\n",
    "\n",
    "# (참고)\n",
    "# from sklearn.tree import DecisionTreeClassifier\n",
    "# random_state = 123"
   ]
  },
  {
   "cell_type": "code",
   "execution_count": 53,
   "id": "18732f7c-f4c8-4dee-b31f-317cd0aae862",
   "metadata": {},
   "outputs": [],
   "source": [
    "df = dataset13.copy()"
   ]
  },
  {
   "cell_type": "code",
   "execution_count": 54,
   "id": "45740e10-60e8-4042-9a76-8f83751ce7e4",
   "metadata": {},
   "outputs": [],
   "source": [
    "from sklearn.tree import DecisionTreeClassifier"
   ]
  },
  {
   "cell_type": "code",
   "execution_count": 56,
   "id": "bb33ae32-76a4-4f6f-ad87-d1504b29a69d",
   "metadata": {},
   "outputs": [],
   "source": [
    "x_var = df.columns[df.dtypes != 'object'].drop('target')"
   ]
  },
  {
   "cell_type": "code",
   "execution_count": 57,
   "id": "66e7e56f-00a5-45e7-9e26-35db0a4264b8",
   "metadata": {},
   "outputs": [],
   "source": [
    "dt = DecisionTreeClassifier(random_state=123).fit(df[x_var], df['target'])"
   ]
  },
  {
   "cell_type": "code",
   "execution_count": 58,
   "id": "68988e7e-350d-42de-b4e3-f92e0f049eac",
   "metadata": {},
   "outputs": [],
   "source": [
    "test = pd.read_csv('Dataset/Dataset_13_test.csv')"
   ]
  },
  {
   "cell_type": "code",
   "execution_count": 60,
   "id": "d0bc8647-93dd-46f3-a3ec-422cb3b003e0",
   "metadata": {},
   "outputs": [
    {
     "data": {
      "text/plain": [
       "0.67"
      ]
     },
     "execution_count": 60,
     "metadata": {},
     "output_type": "execute_result"
    }
   ],
   "source": [
    "dt.score(test[x_var], test['target']).round(2)"
   ]
  },
  {
   "cell_type": "code",
   "execution_count": null,
   "id": "4126e3e3-8244-4928-b8ca-947e448a6c97",
   "metadata": {},
   "outputs": [],
   "source": []
  }
 ],
 "metadata": {
  "kernelspec": {
   "display_name": "Python Multi",
   "language": "python",
   "name": "multi"
  },
  "language_info": {
   "codemirror_mode": {
    "name": "ipython",
    "version": 3
   },
   "file_extension": ".py",
   "mimetype": "text/x-python",
   "name": "python",
   "nbconvert_exporter": "python",
   "pygments_lexer": "ipython3",
   "version": "3.7.6"
  }
 },
 "nbformat": 4,
 "nbformat_minor": 5
}
