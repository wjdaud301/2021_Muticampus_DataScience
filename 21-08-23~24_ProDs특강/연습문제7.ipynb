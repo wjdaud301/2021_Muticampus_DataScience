{
 "cells": [
  {
   "cell_type": "code",
   "execution_count": 1,
   "id": "2e825f13-90c4-409e-9ad3-9f8f9ac9f33d",
   "metadata": {},
   "outputs": [],
   "source": [
    "# =============================================================================\n",
    "# =============================================================================\n",
    "# # 문제 07 유형(DataSet_07.csv 이용)\n",
    "#\n",
    "# 구분자 : comma(“,”), 400 Rows, 9 Columns, UTF-8 인코딩\n",
    "#\n",
    "# 대학원 진학을 위하여 어떤 항목이 중요하게 영향을 미치는지\n",
    "# 아래 데이터로 분석하고자 한다.\n",
    "\n",
    "# 컬 럼 / 정 의 / Type\n",
    "# Serial_No / 구분자 번호 / Double\n",
    "# GRE / GRE 시험 성적 / Double\n",
    "# TOEFL / TOEFL 시험 성적 / Double\n",
    "# University_Rating / 대학 평가 그룹 (1 ~ 5) / Double\n",
    "# SOP / 자기 소개서 점수 (1 ~ 5) / Double\n",
    "# LOR / 추천서 점수 (1 ~ 5) / Double\n",
    "# CGPA / 학부 평량 평점 (10점 만점 환산 점수) / Double\n",
    "# Research / 연구 참여 경험 여부 (0 / 1) / Double\n",
    "# Chance_of_Admit / 합격 가능성 / Double\n",
    "# =============================================================================\n",
    "# =============================================================================\n",
    "\n",
    "# =============================================================================\n",
    "# (참고)\n",
    "# #1\n",
    "# import pandas as pd\n",
    "# #2\n",
    "# import scipy.stats as stats\n",
    "# #3\n",
    "# from sklearn.linear_model import LogisticRegression\n",
    "# Solver = ‘liblinear’, random_state = 12\n",
    "# ============================================================================="
   ]
  },
  {
   "cell_type": "code",
   "execution_count": 3,
   "id": "a98285b9-4de0-4a53-b686-06db70793ebe",
   "metadata": {},
   "outputs": [],
   "source": [
    "import pandas as pd\n",
    "\n",
    "dataset7 = pd.read_csv('Dataset/Dataset_07.csv')"
   ]
  },
  {
   "cell_type": "code",
   "execution_count": 2,
   "id": "d0e483c1-f5c4-4ad3-ba9f-9c0ae598c354",
   "metadata": {},
   "outputs": [],
   "source": [
    "# =============================================================================\n",
    "# 1. 합격 가능성에 GRE, TOEFL, CGPA 점수 가운데 가장 영향이 큰 것이 어떤 점수인지\n",
    "# 알아 보기 위해서 상관 분석을 수행한다.\n",
    "# - 피어슨(Pearson) 상관계수 값을 구한다.\n",
    "# - Chance_of_Admit와의 가장 큰 상관계수 값을 가지는 항목의 상관계수를 소수점 넷째\n",
    "# 자리에서 반올림하여 셋째 자리까지 기술하시오. (답안 예시) 0.123\n",
    "# ============================================================================="
   ]
  },
  {
   "cell_type": "code",
   "execution_count": 5,
   "id": "30ffd8ac-e5b8-4690-bb3a-c86f646c0e37",
   "metadata": {},
   "outputs": [],
   "source": [
    "q1 = dataset7.copy()"
   ]
  },
  {
   "cell_type": "code",
   "execution_count": 10,
   "id": "1b27f8bd-d33d-4cbb-9f08-e5ea8f69ecb6",
   "metadata": {},
   "outputs": [],
   "source": [
    "q1 = q1[['GRE', 'TOEFL', 'CGPA', 'Chance_of_Admit']].corr().Chance_of_Admit.iloc[:-1]"
   ]
  },
  {
   "cell_type": "code",
   "execution_count": 22,
   "id": "9a8416af-2024-4a0f-b6de-70ec77432362",
   "metadata": {},
   "outputs": [
    {
     "name": "stdout",
     "output_type": "stream",
     "text": [
      "정답 :  0.873\n"
     ]
    }
   ],
   "source": [
    "print('정답 : ',q1.sort_values(ascending=False)[0].round(3))\n"
   ]
  },
  {
   "cell_type": "code",
   "execution_count": 23,
   "id": "5211178d-5adb-4cd6-ad74-6d4c2405fd84",
   "metadata": {},
   "outputs": [],
   "source": [
    "# =============================================================================\n",
    "# 2.GRE 점수의 평균 이상을 받은 그룹과 평균 미만을 받은 그룹의 CGPA 평균은 차이가\n",
    "# 있는지\n",
    "# 검정을 하고자 한다.\n",
    "# - 적절한 검정 방법을 선택하고 양측 검정을 수행하시오 (등분산으로 가정)\n",
    "# - 검정 결과, 검정통계량의 추정치를 소수점 셋째 자리에서 반올림하여 소수점 두 자리까지\n",
    "# 기술하시오.\n",
    "# (답안 예시) 1.23\n",
    "# ============================================================================="
   ]
  },
  {
   "cell_type": "code",
   "execution_count": 24,
   "id": "64d7d2c4-f95e-404c-911c-58d36623fa22",
   "metadata": {},
   "outputs": [],
   "source": [
    "q2 = dataset7.copy()"
   ]
  },
  {
   "cell_type": "code",
   "execution_count": 63,
   "id": "117dbf96-5743-4ffe-8332-190913f65072",
   "metadata": {},
   "outputs": [
    {
     "data": {
      "text/plain": [
       "Ttest_indResult(statistic=19.443291692470982, pvalue=1.1127037052806161e-59)"
      ]
     },
     "execution_count": 63,
     "metadata": {},
     "output_type": "execute_result"
    }
   ],
   "source": [
    "# GRE 평균\n",
    "GRE_avg = q2.GRE.mean()\n",
    "\n",
    "# 조건식\n",
    "q2['GRE_gr'] = 'under'\n",
    "q2.loc[ q2['GRE'] > GRE_avg , 'GRE_gr'] = 'over'\n",
    "\n",
    "from scipy.stats import ttest_ind\n",
    "\n",
    "a=q2[q2['GRE_gr'] == 'over']['CGPA']\n",
    "b=q2[q2['GRE_gr'] == 'under']['CGPA']\n",
    "\n",
    "ttest_ind(a,b, equal_var=True) # 등분산으로 가정(default = True)\n",
    "\n",
    "## statistic이 검정 통계량\n",
    "# 정답 : 19.44"
   ]
  },
  {
   "cell_type": "code",
   "execution_count": 26,
   "id": "a2a374dd-e412-4da5-9022-ed91d692f0c1",
   "metadata": {},
   "outputs": [],
   "source": [
    "# =============================================================================\n",
    "# 3.Chance_of_Admit 확률이 0.5를 초과하면 합격으로, 이하이면 불합격으로 구분하고\n",
    "# 로지스틱 회귀분석을 수행하시오.\n",
    "# - 원데이터만 사용하고, 원데이터 가운데 Serial_No와 Label은 모형에서 제외\n",
    "# - 각 설정값은 다음과 같이 지정하고, 언급되지 않은 사항은 기본 설정값을 사용하시오\n",
    "# Seed : 123\n",
    "# - 로지스틱 회귀분석 수행 결과에서 로지스틱 회귀계수의 절대값이 가장 큰 변수와 그 값을\n",
    "# 기술하시오. \n",
    "# (로지스틱 회귀계수는 반올림하여 소수점 둘째 자리까지 / Intercept는 제외) # 결과값에서 intercept를 제거\n",
    "# (답안 예시) abc, 0.12\n",
    "# ============================================================================="
   ]
  },
  {
   "cell_type": "code",
   "execution_count": 31,
   "id": "cc01bffc-dd1d-4d2c-bd31-918cbb700f45",
   "metadata": {},
   "outputs": [],
   "source": [
    "q3 = dataset7.copy().drop(['Serial_No'], axis=1)"
   ]
  },
  {
   "cell_type": "code",
   "execution_count": 39,
   "id": "f4eeeee1-dee1-41c9-b41c-48fda4e97dc1",
   "metadata": {},
   "outputs": [],
   "source": [
    "import numpy as np"
   ]
  },
  {
   "cell_type": "code",
   "execution_count": 41,
   "id": "e4bb38d7-a5f3-48e4-844b-2c33014234c1",
   "metadata": {},
   "outputs": [],
   "source": [
    "q3.Chance_of_Admit = np.where(q3.Chance_of_Admit > 0.5, 1, 0)"
   ]
  },
  {
   "cell_type": "code",
   "execution_count": 83,
   "id": "c24df3e8-8b99-455c-8bff-2eb74ae21469",
   "metadata": {},
   "outputs": [],
   "source": [
    "from sklearn.linear_model import LogisticRegression\n",
    "\n",
    "# 로지스틱 회귀를 쓸 때 범주형 변수가 있는지 확인!\n",
    "# Solver = ‘liblinear’, random_state = 12\n",
    "model1 = LogisticRegression(random_state=12, solver='liblinear', C=100000).fit(\n",
    "                                q3.drop(columns='Chance_of_Admit'),\n",
    "                                q3.Chance_of_Admit)"
   ]
  },
  {
   "cell_type": "code",
   "execution_count": 84,
   "id": "1c71bcac-8d4f-4e69-83af-2611d025b2d6",
   "metadata": {},
   "outputs": [],
   "source": [
    "sor = list(zip(q3.drop(columns='Chance_of_Admit').columns, model1.coef_[0]))"
   ]
  },
  {
   "cell_type": "code",
   "execution_count": 85,
   "id": "fa1060f7-819d-4658-a334-0cbdaadea8a6",
   "metadata": {},
   "outputs": [],
   "source": [
    "ans = sorted(sor, key=lambda x : x[1], reverse=True)[0]"
   ]
  },
  {
   "cell_type": "code",
   "execution_count": 86,
   "id": "f26c165b-a59e-4fbf-9918-1462dae7e4a0",
   "metadata": {},
   "outputs": [
    {
     "name": "stdout",
     "output_type": "stream",
     "text": [
      "정답 :  CGPA 3.34\n"
     ]
    }
   ],
   "source": [
    "print('정답 : ',ans[0],  ans[1].round(2))"
   ]
  },
  {
   "cell_type": "code",
   "execution_count": 91,
   "id": "d7400782-5197-45b0-9721-e892346d4dc7",
   "metadata": {},
   "outputs": [],
   "source": [
    "## 다른 방법\n",
    "p3 = pd.DataFrame({'var' : q3.drop(columns='Chance_of_Admit').columns.values,\n",
    "                  'coef' : model1.coef_.reshape(-1)})"
   ]
  },
  {
   "cell_type": "code",
   "execution_count": 93,
   "id": "9f4e2488-ee76-45af-83fd-ad2e4fa545da",
   "metadata": {},
   "outputs": [
    {
     "data": {
      "text/html": [
       "<div>\n",
       "<style scoped>\n",
       "    .dataframe tbody tr th:only-of-type {\n",
       "        vertical-align: middle;\n",
       "    }\n",
       "\n",
       "    .dataframe tbody tr th {\n",
       "        vertical-align: top;\n",
       "    }\n",
       "\n",
       "    .dataframe thead th {\n",
       "        text-align: right;\n",
       "    }\n",
       "</style>\n",
       "<table border=\"1\" class=\"dataframe\">\n",
       "  <thead>\n",
       "    <tr style=\"text-align: right;\">\n",
       "      <th></th>\n",
       "      <th>var</th>\n",
       "      <th>coef</th>\n",
       "    </tr>\n",
       "  </thead>\n",
       "  <tbody>\n",
       "    <tr>\n",
       "      <th>0</th>\n",
       "      <td>GRE</td>\n",
       "      <td>-0.007352</td>\n",
       "    </tr>\n",
       "    <tr>\n",
       "      <th>1</th>\n",
       "      <td>TOEFL</td>\n",
       "      <td>0.114938</td>\n",
       "    </tr>\n",
       "    <tr>\n",
       "      <th>2</th>\n",
       "      <td>University_Rating</td>\n",
       "      <td>-0.439986</td>\n",
       "    </tr>\n",
       "    <tr>\n",
       "      <th>3</th>\n",
       "      <td>SOP</td>\n",
       "      <td>-0.518198</td>\n",
       "    </tr>\n",
       "    <tr>\n",
       "      <th>4</th>\n",
       "      <td>LOR</td>\n",
       "      <td>1.058020</td>\n",
       "    </tr>\n",
       "    <tr>\n",
       "      <th>5</th>\n",
       "      <td>CGPA</td>\n",
       "      <td>3.339499</td>\n",
       "    </tr>\n",
       "    <tr>\n",
       "      <th>6</th>\n",
       "      <td>Research</td>\n",
       "      <td>0.115009</td>\n",
       "    </tr>\n",
       "  </tbody>\n",
       "</table>\n",
       "</div>"
      ],
      "text/plain": [
       "                 var      coef\n",
       "0                GRE -0.007352\n",
       "1              TOEFL  0.114938\n",
       "2  University_Rating -0.439986\n",
       "3                SOP -0.518198\n",
       "4                LOR  1.058020\n",
       "5               CGPA  3.339499\n",
       "6           Research  0.115009"
      ]
     },
     "execution_count": 93,
     "metadata": {},
     "output_type": "execute_result"
    }
   ],
   "source": [
    "p3\n",
    "# 정답 : CGPA, 3.339499"
   ]
  },
  {
   "cell_type": "code",
   "execution_count": null,
   "id": "a0cc5449-64ba-4a01-9b1c-72ddc595d2b6",
   "metadata": {},
   "outputs": [],
   "source": []
  }
 ],
 "metadata": {
  "kernelspec": {
   "display_name": "Python Multi",
   "language": "python",
   "name": "multi"
  },
  "language_info": {
   "codemirror_mode": {
    "name": "ipython",
    "version": 3
   },
   "file_extension": ".py",
   "mimetype": "text/x-python",
   "name": "python",
   "nbconvert_exporter": "python",
   "pygments_lexer": "ipython3",
   "version": "3.7.6"
  }
 },
 "nbformat": 4,
 "nbformat_minor": 5
}
