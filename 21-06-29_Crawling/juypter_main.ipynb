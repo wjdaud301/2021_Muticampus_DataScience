{
 "cells": [
  {
   "cell_type": "markdown",
   "metadata": {},
   "source": [
    "<h3>Google Image Scrapper for Juypter Notebook</h3>"
   ]
  },
  {
   "cell_type": "code",
   "execution_count": null,
   "metadata": {},
   "outputs": [],
   "source": [
    "#!pip install selenium==4.0.0a6"
   ]
  },
  {
   "cell_type": "code",
   "execution_count": 6,
   "metadata": {},
   "outputs": [],
   "source": [
    "from GoogleImageScrapper import GoogleImageScraper\n",
    "import os\n",
    "import time\n",
    "\n",
    "sleep_between_interactions = 1\n",
    "webdriver_path = os.getcwd()+\".\\\\webdriver\\\\chromedriver.exe\"\n",
    "image_path = os.getcwd()+\".\\\\images\""
   ]
  },
  {
   "cell_type": "code",
   "execution_count": 7,
   "metadata": {},
   "outputs": [
    {
     "name": "stdout",
     "output_type": "stream",
     "text": [
      "[INFO] Scraping for image link... Please wait.\n",
      "[INFO] 0. https://www.thesprucepets.com/thmb/_yrib2KGkS4VJSgCQEl59KPUPOU=/1885x1414/smart/filters:no_upscale()/GettyImages-135630198-5ba7d225c9e77c0050cff91b.jpg\n",
      "[INFO] 1. https://www.nrcm.org/wp-content/uploads/2018/03/raccoon-in-winter-2-South-China-Jayne-Winters.jpg\n",
      "[INFO] 2. https://static.scientificamerican.com/sciam/cache/file/0B4ED7B8-6C6A-4031-BEE1253D115FD0CC_source.jpg\n",
      "[INFO] 3. https://i.natgeofe.com/n/8271db90-5c35-46bc-9429-588a9529e44a/raccoon_thumb.JPG\n",
      "[INFO] 4. https://static.dw.com/image/662480_303.jpg\n",
      "[INFO] 5. https://i.natgeofe.com/k/6289c775-a06c-426a-badb-8d181a55237b/raccoon-grass_16x9.jpg?w=1200\n",
      "[INFO] 6. https://curiodyssey.org/wp-content/uploads/bb-plugin/cache/Mammals-Raccoon-square.jpg\n",
      "[INFO] 7. https://scx2.b-cdn.net/gfx/news/2019/ayoungraccoo.jpg\n",
      "[INFO] 8. https://doorcountypulse.com/wp-content/uploads/2018/03/1-PP-3-9-18-Raccoon-at-cracked-corn.jpg\n",
      "[INFO] Google search ended\n",
      "[INFO] Saving Image... Please wait...\n",
      "[INFO] 0 .Image saved at: C:\\Users\\의원1\\git\\2021-K-Digital-Training\\Web_Crawling.\\images\\raccoon0.jpg\n",
      "[INFO] 1 .Image saved at: C:\\Users\\의원1\\git\\2021-K-Digital-Training\\Web_Crawling.\\images\\raccoon1.jpg\n",
      "[INFO] 2 .Image saved at: C:\\Users\\의원1\\git\\2021-K-Digital-Training\\Web_Crawling.\\images\\raccoon2.jpg\n",
      "[INFO] 3 .Image saved at: C:\\Users\\의원1\\git\\2021-K-Digital-Training\\Web_Crawling.\\images\\raccoon3.jpg\n",
      "[INFO] 4 .Image saved at: C:\\Users\\의원1\\git\\2021-K-Digital-Training\\Web_Crawling.\\images\\raccoon4.jpg\n",
      "[INFO] 5 .Image saved at: C:\\Users\\의원1\\git\\2021-K-Digital-Training\\Web_Crawling.\\images\\raccoon5.jpg\n",
      "[INFO] 6 .Image saved at: C:\\Users\\의원1\\git\\2021-K-Digital-Training\\Web_Crawling.\\images\\raccoon6.jpg\n",
      "[INFO] 7 .Image saved at: C:\\Users\\의원1\\git\\2021-K-Digital-Training\\Web_Crawling.\\images\\raccoon7.jpg\n",
      "[INFO] 8 .Image saved at: C:\\Users\\의원1\\git\\2021-K-Digital-Training\\Web_Crawling.\\images\\raccoon8.jpg\n",
      "[INFO] Download Completed. Please note that some photos are not downloaded as it is not in the right format (e.g. jpg, jpeg, png)\n"
     ]
    }
   ],
   "source": [
    "#image_path = os.getcwd()+\"\\\\photos\"\n",
    "#add new search key into array [\"cat\",\"t-shirt\",\"apple\",\"orange\",\"pear\",\"fish\"]\n",
    "#search_keys= [\"woodpecker\",\"owl\"]\n",
    "search_keys= [\"raccoon\"]\n",
    "number_of_images = 10\n",
    "headless = False\n",
    "#min_resolution = (width,height)\n",
    "min_resolution=(0,0)\n",
    "#max_resolution = (width,height)\n",
    "max_resolution=(2000,2000)\n",
    "for search_key in search_keys:\n",
    "    image_scrapper = GoogleImageScraper(webdriver_path,image_path,search_key,number_of_images,headless,min_resolution,max_resolution)\n",
    "    image_urls = image_scrapper.find_image_urls()\n",
    "    image_scrapper.save_images(image_urls)\n",
    "    time.sleep(sleep_between_interactions)"
   ]
  },
  {
   "cell_type": "code",
   "execution_count": null,
   "metadata": {},
   "outputs": [],
   "source": []
  }
 ],
 "metadata": {
  "kernelspec": {
   "display_name": "Python Multi",
   "language": "python",
   "name": "multi"
  },
  "language_info": {
   "codemirror_mode": {
    "name": "ipython",
    "version": 3
   },
   "file_extension": ".py",
   "mimetype": "text/x-python",
   "name": "python",
   "nbconvert_exporter": "python",
   "pygments_lexer": "ipython3",
   "version": "3.7.6"
  }
 },
 "nbformat": 4,
 "nbformat_minor": 4
}
