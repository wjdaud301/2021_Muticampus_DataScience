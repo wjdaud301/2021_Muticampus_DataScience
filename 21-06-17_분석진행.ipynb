{
 "cells": [
  {
   "cell_type": "markdown",
   "id": "e3eafaec-4fb1-4cfd-8852-d532c7a2a184",
   "metadata": {},
   "source": [
    "## 1. Connect to the database"
   ]
  },
  {
   "cell_type": "code",
   "execution_count": 71,
   "id": "ac177566-e867-4174-abf2-237b199d6da3",
   "metadata": {},
   "outputs": [],
   "source": [
    "from numpy import isnan\n",
    "from sklearn.impute import SimpleImputer\n",
    "import pymysql.cursors\n",
    "import pandas as pd\n",
    "import numpy as np\n",
    "\n",
    "connection = pymysql.connect(host='localhost',\n",
    "        user='root',\n",
    "        password='1234',\n",
    "        db='tip',\n",
    "        charset='utf8',\n",
    "        cursorclass=pymysql.cursors.DictCursor)\n",
    "\n",
    "try:\n",
    "    with connection.cursor() as cursor:\n",
    "        # Read a single record (sql)\n",
    "        sql = \"SELECT * FROM tips;\"\n",
    "        cursor.execute(sql) # cursor 실행\n",
    "        result = cursor.fetchall()\n",
    "        df = pd.DataFrame(result) # dateframe에 result 저장\n",
    "finally:\n",
    "    connection.close()"
   ]
  },
  {
   "cell_type": "markdown",
   "id": "85d5849b-439c-4d33-9fca-eb629379bd8d",
   "metadata": {},
   "source": [
    "---  \n",
    "## 2. 결측치 확인  "
   ]
  },
  {
   "cell_type": "code",
   "execution_count": 72,
   "id": "25baac09-1843-4772-9da1-221a79864207",
   "metadata": {},
   "outputs": [
    {
     "name": "stdout",
     "output_type": "stream",
     "text": [
      "<class 'pandas.core.frame.DataFrame'>\n",
      "RangeIndex: 250 entries, 0 to 249\n",
      "Data columns (total 7 columns):\n",
      " #   Column      Non-Null Count  Dtype  \n",
      "---  ------      --------------  -----  \n",
      " 0   total_bill  250 non-null    float64\n",
      " 1   tip         248 non-null    float64\n",
      " 2   sex         250 non-null    object \n",
      " 3   smoker      250 non-null    object \n",
      " 4   day         250 non-null    object \n",
      " 5   time        249 non-null    object \n",
      " 6   size        248 non-null    float64\n",
      "dtypes: float64(3), object(4)\n",
      "memory usage: 13.8+ KB\n"
     ]
    }
   ],
   "source": [
    "df.info()"
   ]
  },
  {
   "cell_type": "code",
   "execution_count": 73,
   "id": "faeabc3f-3d06-4e76-9a17-3d0d253b3a3e",
   "metadata": {},
   "outputs": [
    {
     "data": {
      "text/plain": [
       "total_bill    0\n",
       "tip           2\n",
       "sex           0\n",
       "smoker        0\n",
       "day           0\n",
       "time          1\n",
       "size          2\n",
       "dtype: int64"
      ]
     },
     "execution_count": 73,
     "metadata": {},
     "output_type": "execute_result"
    }
   ],
   "source": [
    "df.isnull().sum()"
   ]
  },
  {
   "cell_type": "markdown",
   "id": "1a29a755-2522-477e-80f0-3e6896bb2503",
   "metadata": {},
   "source": [
    "## 3. Encoding (범주형Data -> 연속형Data)"
   ]
  },
  {
   "cell_type": "code",
   "execution_count": 74,
   "id": "b5138cb7-36e1-4c63-b919-a844165dd453",
   "metadata": {},
   "outputs": [],
   "source": [
    "df['sex'].replace({'Female':0,'Male':1}, inplace=True)\n",
    "df['smoker'].replace({'No':0,'Yes':1},inplace=True)\n",
    "df['day'].replace({'Thur':0,'Fri':1,'Sat':2,'Sun':3},inplace=True)\n",
    "df['time'].replace({'Lunch':0, 'Dinner':1},inplace=True)"
   ]
  },
  {
   "cell_type": "code",
   "execution_count": 75,
   "id": "8b2fe59e-b35b-42b5-9a5e-c32406071ec8",
   "metadata": {},
   "outputs": [
    {
     "name": "stdout",
     "output_type": "stream",
     "text": [
      "<class 'pandas.core.frame.DataFrame'>\n",
      "RangeIndex: 250 entries, 0 to 249\n",
      "Data columns (total 7 columns):\n",
      " #   Column      Non-Null Count  Dtype  \n",
      "---  ------      --------------  -----  \n",
      " 0   total_bill  250 non-null    float64\n",
      " 1   tip         248 non-null    float64\n",
      " 2   sex         250 non-null    int64  \n",
      " 3   smoker      250 non-null    int64  \n",
      " 4   day         250 non-null    object \n",
      " 5   time        249 non-null    float64\n",
      " 6   size        248 non-null    float64\n",
      "dtypes: float64(4), int64(2), object(1)\n",
      "memory usage: 13.8+ KB\n"
     ]
    }
   ],
   "source": [
    "df.info()"
   ]
  },
  {
   "cell_type": "markdown",
   "id": "630db4c5-2534-4c94-a3b9-874d620a31fe",
   "metadata": {},
   "source": [
    "---  \n",
    "## 4. 결측치 처리(median)  "
   ]
  },
  {
   "cell_type": "code",
   "execution_count": 77,
   "id": "72e479bf-7c1c-4b5e-98e4-97d90527a040",
   "metadata": {},
   "outputs": [],
   "source": [
    "# '' => np.nan으로 변경\n",
    "df.replace('',np.nan,inplace=True)"
   ]
  },
  {
   "cell_type": "code",
   "execution_count": 80,
   "id": "d5969e89-a506-4cbe-8868-8bc540975a8b",
   "metadata": {},
   "outputs": [],
   "source": [
    "# SimpleImputer클래스로 median값으로 변경\n",
    "imputer = SimpleImputer(strategy='median')\n",
    "\n",
    "imputer.fit(df)\n",
    "\n",
    "data_trans = imputer.transform(df)\n",
    "\n",
    "data_trans = pd.DataFrame(data_xtrans,columns=df.columns)"
   ]
  },
  {
   "cell_type": "code",
   "execution_count": 81,
   "id": "bbce9be3-2139-410e-9e3f-02ccede52b77",
   "metadata": {},
   "outputs": [
    {
     "data": {
      "text/plain": [
       "total_bill    0\n",
       "tip           0\n",
       "sex           0\n",
       "smoker        0\n",
       "day           0\n",
       "time          0\n",
       "size          0\n",
       "dtype: int64"
      ]
     },
     "execution_count": 81,
     "metadata": {},
     "output_type": "execute_result"
    }
   ],
   "source": [
    "data_trans.isnull().sum()"
   ]
  },
  {
   "cell_type": "code",
   "execution_count": 87,
   "id": "4792aae1-3657-4c28-8df9-0888c7171c89",
   "metadata": {},
   "outputs": [
    {
     "data": {
      "text/plain": [
       "(250, 7)"
      ]
     },
     "execution_count": 87,
     "metadata": {},
     "output_type": "execute_result"
    }
   ],
   "source": [
    "data_trans.shape"
   ]
  },
  {
   "cell_type": "markdown",
   "id": "e2acb803-cf45-4630-b86d-7a01640515cc",
   "metadata": {},
   "source": [
    "## 5.독립변수와 목표변수 설정"
   ]
  },
  {
   "cell_type": "code",
   "execution_count": 14,
   "id": "87d771b4-ca80-4d89-9c92-27857ef8a09a",
   "metadata": {},
   "outputs": [
    {
     "data": {
      "text/plain": [
       "Index(['total_bill', 'tip', 'sex', 'smoker', 'day', 'time', 'size'], dtype='object')"
      ]
     },
     "execution_count": 14,
     "metadata": {},
     "output_type": "execute_result"
    }
   ],
   "source": [
    "df.columns"
   ]
  },
  {
   "cell_type": "code",
   "execution_count": 82,
   "id": "6b9b265b-a5df-42c1-b0ed-e7b125122c06",
   "metadata": {},
   "outputs": [],
   "source": [
    "x = data_trans.drop('total_bill',axis=1) # 독립변수 \n",
    "y = data_trans['total_bill'] # 목표변수 => 'total_bill'"
   ]
  },
  {
   "cell_type": "code",
   "execution_count": 83,
   "id": "c90574a8-9b0d-45c7-9756-6afc5f6f3d4c",
   "metadata": {},
   "outputs": [],
   "source": [
    "data= x.values  "
   ]
  },
  {
   "cell_type": "code",
   "execution_count": 90,
   "id": "7dceb20f-25e7-4f98-a70f-99c68d1c51c9",
   "metadata": {},
   "outputs": [
    {
     "data": {
      "text/plain": [
       "0      16.99\n",
       "1      10.34\n",
       "2      21.01\n",
       "3      23.68\n",
       "4      24.59\n",
       "       ...  \n",
       "245    20.65\n",
       "246    16.99\n",
       "247    16.99\n",
       "248    16.99\n",
       "249    16.99\n",
       "Name: total_bill, Length: 250, dtype: float64"
      ]
     },
     "execution_count": 90,
     "metadata": {},
     "output_type": "execute_result"
    }
   ],
   "source": [
    "y"
   ]
  },
  {
   "cell_type": "code",
   "execution_count": 91,
   "id": "be6524cd-25f1-4dde-b1c5-8480f07ea519",
   "metadata": {},
   "outputs": [
    {
     "data": {
      "text/plain": [
       "array([[1.01, 0.  , 0.  , 3.  , 1.  , 2.  ],\n",
       "       [1.66, 1.  , 0.  , 3.  , 1.  , 3.  ],\n",
       "       [3.5 , 1.  , 0.  , 3.  , 1.  , 3.  ],\n",
       "       ...,\n",
       "       [1.01, 0.  , 0.  , 3.  , 1.  , 2.  ],\n",
       "       [2.9 , 0.  , 0.  , 2.  , 1.  , 2.  ],\n",
       "       [2.9 , 0.  , 0.  , 2.  , 1.  , 2.  ]])"
      ]
     },
     "execution_count": 91,
     "metadata": {},
     "output_type": "execute_result"
    }
   ],
   "source": [
    "data"
   ]
  },
  {
   "cell_type": "markdown",
   "id": "88ec6969-a479-464f-b3f5-a02d0edd1a18",
   "metadata": {
    "tags": []
   },
   "source": [
    "--- \n",
    "## 6. 표준화  \n",
    "\n",
    "   * ### 표준화 과정\n",
    "        -  데이터를 입력으로 하여 fit 메서드를 실행하면 분포 모수를 객체 내에 저장하고 데이터\n",
    "            를 입력으로 하여 transform 메서드를 실행하면 데이터를 변환  \n",
    "            \n",
    "        - 2개 과정을 합쳐서 fit_transform 메서드를 사용할 수 있음\n",
    "   * ### 주의점\n",
    "        - 훈련 세트와 테스트 세트로 데이터가 나누어져 있는 경우 표준화는 동일한 데이터를 가\n",
    "            지고 수행해야 함  \n",
    "\n",
    "****\n",
    "\n",
    "* ### MinMaxScaler \n",
    "    - MinMaxScaler는 특정값에 집중되어 있는 데이터가 그렇지 않은 데이터 분포보다 표준\n",
    "        편차에 의한 스케일 변화값이 커지게 되며 한쪽으로 쏠림 현상이 있는 데이터 분포는\n",
    "        형태가 거의 유지된 채 범위값이 조절\n",
    "    - 최대값이 각각 1, 최소값이 0이 되도록 변환\n",
    "    - <u>**신경망**</u>에서 많이 이용"
   ]
  },
  {
   "cell_type": "code",
   "execution_count": 146,
   "id": "472f925d-fd49-4fc5-acab-0fe97dd262a3",
   "metadata": {},
   "outputs": [
    {
     "data": {
      "text/html": [
       "<div>\n",
       "<style scoped>\n",
       "    .dataframe tbody tr th:only-of-type {\n",
       "        vertical-align: middle;\n",
       "    }\n",
       "\n",
       "    .dataframe tbody tr th {\n",
       "        vertical-align: top;\n",
       "    }\n",
       "\n",
       "    .dataframe thead th {\n",
       "        text-align: right;\n",
       "    }\n",
       "</style>\n",
       "<table border=\"1\" class=\"dataframe\">\n",
       "  <thead>\n",
       "    <tr style=\"text-align: right;\">\n",
       "      <th></th>\n",
       "      <th>tip</th>\n",
       "      <th>sex</th>\n",
       "      <th>smoker</th>\n",
       "      <th>day</th>\n",
       "      <th>time</th>\n",
       "      <th>size</th>\n",
       "    </tr>\n",
       "  </thead>\n",
       "  <tbody>\n",
       "    <tr>\n",
       "      <th>0</th>\n",
       "      <td>0.001111</td>\n",
       "      <td>0.0</td>\n",
       "      <td>0.0</td>\n",
       "      <td>1.0</td>\n",
       "      <td>1.0</td>\n",
       "      <td>0.2</td>\n",
       "    </tr>\n",
       "    <tr>\n",
       "      <th>1</th>\n",
       "      <td>0.073333</td>\n",
       "      <td>1.0</td>\n",
       "      <td>0.0</td>\n",
       "      <td>1.0</td>\n",
       "      <td>1.0</td>\n",
       "      <td>0.4</td>\n",
       "    </tr>\n",
       "    <tr>\n",
       "      <th>2</th>\n",
       "      <td>0.277778</td>\n",
       "      <td>1.0</td>\n",
       "      <td>0.0</td>\n",
       "      <td>1.0</td>\n",
       "      <td>1.0</td>\n",
       "      <td>0.4</td>\n",
       "    </tr>\n",
       "    <tr>\n",
       "      <th>3</th>\n",
       "      <td>0.256667</td>\n",
       "      <td>1.0</td>\n",
       "      <td>0.0</td>\n",
       "      <td>1.0</td>\n",
       "      <td>1.0</td>\n",
       "      <td>0.2</td>\n",
       "    </tr>\n",
       "    <tr>\n",
       "      <th>4</th>\n",
       "      <td>0.290000</td>\n",
       "      <td>0.0</td>\n",
       "      <td>0.0</td>\n",
       "      <td>1.0</td>\n",
       "      <td>1.0</td>\n",
       "      <td>0.6</td>\n",
       "    </tr>\n",
       "  </tbody>\n",
       "</table>\n",
       "</div>"
      ],
      "text/plain": [
       "        tip  sex  smoker  day  time  size\n",
       "0  0.001111  0.0     0.0  1.0   1.0   0.2\n",
       "1  0.073333  1.0     0.0  1.0   1.0   0.4\n",
       "2  0.277778  1.0     0.0  1.0   1.0   0.4\n",
       "3  0.256667  1.0     0.0  1.0   1.0   0.2\n",
       "4  0.290000  0.0     0.0  1.0   1.0   0.6"
      ]
     },
     "execution_count": 146,
     "metadata": {},
     "output_type": "execute_result"
    }
   ],
   "source": [
    "from sklearn.preprocessing import MinMaxScaler\n",
    "\n",
    "trans = MinMaxScaler()\n",
    "\n",
    "df_norm = pd.DataFrame(trans.fit_transform(data),columns=x.columns,index = x.index)\n",
    "\n",
    "df_norm.head()"
   ]
  },
  {
   "cell_type": "code",
   "execution_count": 147,
   "id": "3ff0a83e-3184-450d-9de3-37c30f5d5118",
   "metadata": {},
   "outputs": [
    {
     "data": {
      "text/html": [
       "<div>\n",
       "<style scoped>\n",
       "    .dataframe tbody tr th:only-of-type {\n",
       "        vertical-align: middle;\n",
       "    }\n",
       "\n",
       "    .dataframe tbody tr th {\n",
       "        vertical-align: top;\n",
       "    }\n",
       "\n",
       "    .dataframe thead th {\n",
       "        text-align: right;\n",
       "    }\n",
       "</style>\n",
       "<table border=\"1\" class=\"dataframe\">\n",
       "  <thead>\n",
       "    <tr style=\"text-align: right;\">\n",
       "      <th></th>\n",
       "      <th>tip</th>\n",
       "      <th>sex</th>\n",
       "      <th>smoker</th>\n",
       "      <th>day</th>\n",
       "      <th>time</th>\n",
       "      <th>size</th>\n",
       "    </tr>\n",
       "  </thead>\n",
       "  <tbody>\n",
       "    <tr>\n",
       "      <th>count</th>\n",
       "      <td>250.000000</td>\n",
       "      <td>250.000000</td>\n",
       "      <td>250.000000</td>\n",
       "      <td>250.000000</td>\n",
       "      <td>250.000000</td>\n",
       "      <td>250.000000</td>\n",
       "    </tr>\n",
       "    <tr>\n",
       "      <th>mean</th>\n",
       "      <td>0.220489</td>\n",
       "      <td>0.636000</td>\n",
       "      <td>0.372000</td>\n",
       "      <td>0.580000</td>\n",
       "      <td>0.728000</td>\n",
       "      <td>0.316000</td>\n",
       "    </tr>\n",
       "    <tr>\n",
       "      <th>std</th>\n",
       "      <td>0.153195</td>\n",
       "      <td>0.482114</td>\n",
       "      <td>0.484308</td>\n",
       "      <td>0.382633</td>\n",
       "      <td>0.445883</td>\n",
       "      <td>0.191758</td>\n",
       "    </tr>\n",
       "    <tr>\n",
       "      <th>min</th>\n",
       "      <td>0.000000</td>\n",
       "      <td>0.000000</td>\n",
       "      <td>0.000000</td>\n",
       "      <td>0.000000</td>\n",
       "      <td>0.000000</td>\n",
       "      <td>0.000000</td>\n",
       "    </tr>\n",
       "    <tr>\n",
       "      <th>25%</th>\n",
       "      <td>0.111111</td>\n",
       "      <td>0.000000</td>\n",
       "      <td>0.000000</td>\n",
       "      <td>0.333333</td>\n",
       "      <td>0.000000</td>\n",
       "      <td>0.200000</td>\n",
       "    </tr>\n",
       "    <tr>\n",
       "      <th>50%</th>\n",
       "      <td>0.211111</td>\n",
       "      <td>1.000000</td>\n",
       "      <td>0.000000</td>\n",
       "      <td>0.666667</td>\n",
       "      <td>1.000000</td>\n",
       "      <td>0.200000</td>\n",
       "    </tr>\n",
       "    <tr>\n",
       "      <th>75%</th>\n",
       "      <td>0.278611</td>\n",
       "      <td>1.000000</td>\n",
       "      <td>1.000000</td>\n",
       "      <td>1.000000</td>\n",
       "      <td>1.000000</td>\n",
       "      <td>0.400000</td>\n",
       "    </tr>\n",
       "    <tr>\n",
       "      <th>max</th>\n",
       "      <td>1.000000</td>\n",
       "      <td>1.000000</td>\n",
       "      <td>1.000000</td>\n",
       "      <td>1.000000</td>\n",
       "      <td>1.000000</td>\n",
       "      <td>1.000000</td>\n",
       "    </tr>\n",
       "  </tbody>\n",
       "</table>\n",
       "</div>"
      ],
      "text/plain": [
       "              tip         sex      smoker         day        time        size\n",
       "count  250.000000  250.000000  250.000000  250.000000  250.000000  250.000000\n",
       "mean     0.220489    0.636000    0.372000    0.580000    0.728000    0.316000\n",
       "std      0.153195    0.482114    0.484308    0.382633    0.445883    0.191758\n",
       "min      0.000000    0.000000    0.000000    0.000000    0.000000    0.000000\n",
       "25%      0.111111    0.000000    0.000000    0.333333    0.000000    0.200000\n",
       "50%      0.211111    1.000000    0.000000    0.666667    1.000000    0.200000\n",
       "75%      0.278611    1.000000    1.000000    1.000000    1.000000    0.400000\n",
       "max      1.000000    1.000000    1.000000    1.000000    1.000000    1.000000"
      ]
     },
     "execution_count": 147,
     "metadata": {},
     "output_type": "execute_result"
    }
   ],
   "source": [
    "df_norm.describe()"
   ]
  },
  {
   "cell_type": "markdown",
   "id": "4de58b2f-c2d0-49f4-be3f-eb295737a467",
   "metadata": {},
   "source": [
    "* ### StandardScaler \n",
    "    - StandardScaler와 RobustScaler의 변환된 결과가 대부분 표준화된 유사 형태의 데이터\n",
    "        분포로 반환 \n",
    "    - 평균이 0과 표준편차가 1이 되도록 변환\n",
    "    - <u>**주성분 분석**</u>에서 많이 이용"
   ]
  },
  {
   "cell_type": "code",
   "execution_count": 110,
   "id": "572ec58c-804a-4fda-82a2-9a5bf5e23daf",
   "metadata": {},
   "outputs": [],
   "source": [
    "from sklearn.preprocessing import StandardScaler"
   ]
  },
  {
   "cell_type": "code",
   "execution_count": 111,
   "id": "8d2c327b-73aa-4cba-84b5-c2a7f991ef5d",
   "metadata": {},
   "outputs": [
    {
     "data": {
      "text/html": [
       "<div>\n",
       "<style scoped>\n",
       "    .dataframe tbody tr th:only-of-type {\n",
       "        vertical-align: middle;\n",
       "    }\n",
       "\n",
       "    .dataframe tbody tr th {\n",
       "        vertical-align: top;\n",
       "    }\n",
       "\n",
       "    .dataframe thead th {\n",
       "        text-align: right;\n",
       "    }\n",
       "</style>\n",
       "<table border=\"1\" class=\"dataframe\">\n",
       "  <thead>\n",
       "    <tr style=\"text-align: right;\">\n",
       "      <th></th>\n",
       "      <th>tip</th>\n",
       "      <th>sex</th>\n",
       "      <th>smoker</th>\n",
       "      <th>day</th>\n",
       "      <th>time</th>\n",
       "      <th>size</th>\n",
       "    </tr>\n",
       "  </thead>\n",
       "  <tbody>\n",
       "    <tr>\n",
       "      <th>0</th>\n",
       "      <td>-1.0</td>\n",
       "      <td>-1.0</td>\n",
       "      <td>-1.0</td>\n",
       "      <td>1.0</td>\n",
       "      <td>1.0</td>\n",
       "      <td>-1.0</td>\n",
       "    </tr>\n",
       "    <tr>\n",
       "      <th>1</th>\n",
       "      <td>-1.0</td>\n",
       "      <td>1.0</td>\n",
       "      <td>-1.0</td>\n",
       "      <td>1.0</td>\n",
       "      <td>1.0</td>\n",
       "      <td>0.0</td>\n",
       "    </tr>\n",
       "    <tr>\n",
       "      <th>2</th>\n",
       "      <td>0.0</td>\n",
       "      <td>1.0</td>\n",
       "      <td>-1.0</td>\n",
       "      <td>1.0</td>\n",
       "      <td>1.0</td>\n",
       "      <td>0.0</td>\n",
       "    </tr>\n",
       "    <tr>\n",
       "      <th>3</th>\n",
       "      <td>0.0</td>\n",
       "      <td>1.0</td>\n",
       "      <td>-1.0</td>\n",
       "      <td>1.0</td>\n",
       "      <td>1.0</td>\n",
       "      <td>-1.0</td>\n",
       "    </tr>\n",
       "    <tr>\n",
       "      <th>4</th>\n",
       "      <td>0.0</td>\n",
       "      <td>-1.0</td>\n",
       "      <td>-1.0</td>\n",
       "      <td>1.0</td>\n",
       "      <td>1.0</td>\n",
       "      <td>1.0</td>\n",
       "    </tr>\n",
       "  </tbody>\n",
       "</table>\n",
       "</div>"
      ],
      "text/plain": [
       "   tip  sex  smoker  day  time  size\n",
       "0 -1.0 -1.0    -1.0  1.0   1.0  -1.0\n",
       "1 -1.0  1.0    -1.0  1.0   1.0   0.0\n",
       "2  0.0  1.0    -1.0  1.0   1.0   0.0\n",
       "3  0.0  1.0    -1.0  1.0   1.0  -1.0\n",
       "4  0.0 -1.0    -1.0  1.0   1.0   1.0"
      ]
     },
     "execution_count": 111,
     "metadata": {},
     "output_type": "execute_result"
    }
   ],
   "source": [
    "sc = StandardScaler()\n",
    "df_sc = sc.fit_transform(data)\n",
    "df_transform_sc = pd.DataFrame(df_sc, columns=x.columns)\n",
    "df_transform_sc.head().round()"
   ]
  },
  {
   "cell_type": "code",
   "execution_count": 112,
   "id": "af5a3a5e-39e9-4672-ad6b-cecd4b1ce667",
   "metadata": {},
   "outputs": [
    {
     "data": {
      "text/html": [
       "<div>\n",
       "<style scoped>\n",
       "    .dataframe tbody tr th:only-of-type {\n",
       "        vertical-align: middle;\n",
       "    }\n",
       "\n",
       "    .dataframe tbody tr th {\n",
       "        vertical-align: top;\n",
       "    }\n",
       "\n",
       "    .dataframe thead th {\n",
       "        text-align: right;\n",
       "    }\n",
       "</style>\n",
       "<table border=\"1\" class=\"dataframe\">\n",
       "  <thead>\n",
       "    <tr style=\"text-align: right;\">\n",
       "      <th></th>\n",
       "      <th>tip</th>\n",
       "      <th>sex</th>\n",
       "      <th>smoker</th>\n",
       "      <th>day</th>\n",
       "      <th>time</th>\n",
       "      <th>size</th>\n",
       "    </tr>\n",
       "  </thead>\n",
       "  <tbody>\n",
       "    <tr>\n",
       "      <th>count</th>\n",
       "      <td>250.0</td>\n",
       "      <td>250.0</td>\n",
       "      <td>250.0</td>\n",
       "      <td>250.0</td>\n",
       "      <td>250.0</td>\n",
       "      <td>250.0</td>\n",
       "    </tr>\n",
       "    <tr>\n",
       "      <th>mean</th>\n",
       "      <td>0.0</td>\n",
       "      <td>-0.0</td>\n",
       "      <td>-0.0</td>\n",
       "      <td>0.0</td>\n",
       "      <td>0.0</td>\n",
       "      <td>-0.0</td>\n",
       "    </tr>\n",
       "    <tr>\n",
       "      <th>std</th>\n",
       "      <td>1.0</td>\n",
       "      <td>1.0</td>\n",
       "      <td>1.0</td>\n",
       "      <td>1.0</td>\n",
       "      <td>1.0</td>\n",
       "      <td>1.0</td>\n",
       "    </tr>\n",
       "    <tr>\n",
       "      <th>min</th>\n",
       "      <td>-1.0</td>\n",
       "      <td>-1.0</td>\n",
       "      <td>-1.0</td>\n",
       "      <td>-2.0</td>\n",
       "      <td>-2.0</td>\n",
       "      <td>-2.0</td>\n",
       "    </tr>\n",
       "    <tr>\n",
       "      <th>25%</th>\n",
       "      <td>-1.0</td>\n",
       "      <td>-1.0</td>\n",
       "      <td>-1.0</td>\n",
       "      <td>-1.0</td>\n",
       "      <td>-2.0</td>\n",
       "      <td>-1.0</td>\n",
       "    </tr>\n",
       "    <tr>\n",
       "      <th>50%</th>\n",
       "      <td>-0.0</td>\n",
       "      <td>1.0</td>\n",
       "      <td>-1.0</td>\n",
       "      <td>0.0</td>\n",
       "      <td>1.0</td>\n",
       "      <td>-1.0</td>\n",
       "    </tr>\n",
       "    <tr>\n",
       "      <th>75%</th>\n",
       "      <td>0.0</td>\n",
       "      <td>1.0</td>\n",
       "      <td>1.0</td>\n",
       "      <td>1.0</td>\n",
       "      <td>1.0</td>\n",
       "      <td>0.0</td>\n",
       "    </tr>\n",
       "    <tr>\n",
       "      <th>max</th>\n",
       "      <td>5.0</td>\n",
       "      <td>1.0</td>\n",
       "      <td>1.0</td>\n",
       "      <td>1.0</td>\n",
       "      <td>1.0</td>\n",
       "      <td>4.0</td>\n",
       "    </tr>\n",
       "  </tbody>\n",
       "</table>\n",
       "</div>"
      ],
      "text/plain": [
       "         tip    sex  smoker    day   time   size\n",
       "count  250.0  250.0   250.0  250.0  250.0  250.0\n",
       "mean     0.0   -0.0    -0.0    0.0    0.0   -0.0\n",
       "std      1.0    1.0     1.0    1.0    1.0    1.0\n",
       "min     -1.0   -1.0    -1.0   -2.0   -2.0   -2.0\n",
       "25%     -1.0   -1.0    -1.0   -1.0   -2.0   -1.0\n",
       "50%     -0.0    1.0    -1.0    0.0    1.0   -1.0\n",
       "75%      0.0    1.0     1.0    1.0    1.0    0.0\n",
       "max      5.0    1.0     1.0    1.0    1.0    4.0"
      ]
     },
     "execution_count": 112,
     "metadata": {},
     "output_type": "execute_result"
    }
   ],
   "source": [
    "df_transform_sc.describe().round()"
   ]
  },
  {
   "cell_type": "markdown",
   "id": "998bc64f-0ec6-44ee-a2a1-ad55f666a150",
   "metadata": {
    "tags": []
   },
   "source": [
    "---  \n",
    "## 7. Feature Selection"
   ]
  },
  {
   "cell_type": "markdown",
   "id": "2b14fa71-04a1-4e6e-9672-80f3f2f20c81",
   "metadata": {},
   "source": [
    "   ### - 독립변수들간의 상관관계로 주성분 추출\n",
    "\n",
    "\n",
    "* ### PCA\n",
    "     공분산값을 구해서 아이겐벨류값을 얻어서 그걸 비교해서 위에서 부터 큰값을 리턴한다"
   ]
  },
  {
   "cell_type": "code",
   "execution_count": 143,
   "id": "ff617cdf-2bdc-4fbd-824c-f1f16642fdef",
   "metadata": {
    "tags": []
   },
   "outputs": [
    {
     "name": "stdout",
     "output_type": "stream",
     "text": [
      "[[-1.54950666 -1.83178143  0.2595805  -0.64413868]\n",
      " [-0.5124604  -1.64280136  0.87497557 -0.06399968]\n",
      " [ 1.04143102 -1.04643997  0.10007426 -0.1831451 ]]\n"
     ]
    }
   ],
   "source": [
    "from sklearn.decomposition import PCA\n",
    "\n",
    "# define the transform\n",
    "trans = PCA(n_components=4)\n",
    "\n",
    "# transform the data\n",
    "x_dim = trans.fit_transform(data)\n",
    "\n",
    "# summarize data after the transform\n",
    "print(x_dim[:3,:])"
   ]
  },
  {
   "cell_type": "markdown",
   "id": "12f075eb-2457-422e-932a-074026173388",
   "metadata": {},
   "source": [
    "  \n",
    "### - 독립변수와 목표변수의 상관관계로 주성분 추출\n",
    "* ### RFE (anova)"
   ]
  },
  {
   "cell_type": "code",
   "execution_count": 148,
   "id": "ca963c5e-ec28-4400-8d54-1d4abb444f4e",
   "metadata": {},
   "outputs": [
    {
     "data": {
      "text/plain": [
       "array([ True, False,  True, False,  True,  True])"
      ]
     },
     "execution_count": 148,
     "metadata": {},
     "output_type": "execute_result"
    }
   ],
   "source": [
    "from sklearn.feature_selection import RFE\n",
    "from sklearn.svm import SVR\n",
    "\n",
    "estimator = SVR(kernel=\"linear\")\n",
    "\n",
    "# define RFE\n",
    "rfe = RFE(estimator, n_features_to_select=4)\n",
    "\n",
    "selector = rfe.fit(data,y)\n",
    "\n",
    "selector.support_"
   ]
  },
  {
   "cell_type": "code",
   "execution_count": 117,
   "id": "18d141a9-1ef8-4694-a7e4-af270fd3e75c",
   "metadata": {},
   "outputs": [
    {
     "data": {
      "text/plain": [
       "['tip', 'smoker', 'time', 'size']"
      ]
     },
     "execution_count": 117,
     "metadata": {},
     "output_type": "execute_result"
    }
   ],
   "source": [
    "RFE_featurn_4 = [i[1] for i in list(zip(selector.support_,x.columns)) if i[0] ]\n",
    "RFE_featurn_4"
   ]
  },
  {
   "cell_type": "markdown",
   "id": "1c1c1605-8f0d-4d63-9ba7-51c08d564510",
   "metadata": {},
   "source": [
    "* ### Regression Feature Selection (Pearson's)"
   ]
  },
  {
   "cell_type": "code",
   "execution_count": 149,
   "id": "90d3ab59-6c5b-4639-b0a9-17cb80f34cd9",
   "metadata": {},
   "outputs": [
    {
     "data": {
      "text/plain": [
       "(250, 6)"
      ]
     },
     "execution_count": 149,
     "metadata": {},
     "output_type": "execute_result"
    }
   ],
   "source": [
    "from sklearn.feature_selection import SelectKBest\n",
    "from sklearn.feature_selection import f_regression\n",
    "\n",
    "fs = SelectKBest(score_func=f_regression, k=4)\n",
    "data.shape # column 6개"
   ]
  },
  {
   "cell_type": "code",
   "execution_count": 118,
   "id": "0d25de16-2967-4060-9b64-41c0afe6681f",
   "metadata": {},
   "outputs": [
    {
     "data": {
      "text/plain": [
       "array([ True, False, False,  True,  True,  True])"
      ]
     },
     "execution_count": 118,
     "metadata": {},
     "output_type": "execute_result"
    }
   ],
   "source": [
    "X_selected = fs.fit_transform(data, y)\n",
    "fs.get_support()"
   ]
  },
  {
   "cell_type": "code",
   "execution_count": 119,
   "id": "40273e16-2d5e-46b2-9d5c-6d219e857d97",
   "metadata": {},
   "outputs": [
    {
     "data": {
      "text/plain": [
       "['tip', 'day', 'time', 'size']"
      ]
     },
     "execution_count": 119,
     "metadata": {},
     "output_type": "execute_result"
    }
   ],
   "source": [
    "RFS_featurn_4 = [i[1] for i in list(zip(fs.get_support(),x.columns)) if i[0] ]\n",
    "RFS_featurn_4"
   ]
  },
  {
   "cell_type": "markdown",
   "id": "31423cfc-0dca-4f13-a5d1-c680621390dc",
   "metadata": {},
   "source": [
    "---\n"
   ]
  }
 ],
 "metadata": {
  "kernelspec": {
   "display_name": "Python Multi",
   "language": "python",
   "name": "multi"
  },
  "language_info": {
   "codemirror_mode": {
    "name": "ipython",
    "version": 3
   },
   "file_extension": ".py",
   "mimetype": "text/x-python",
   "name": "python",
   "nbconvert_exporter": "python",
   "pygments_lexer": "ipython3",
   "version": "3.7.6"
  }
 },
 "nbformat": 4,
 "nbformat_minor": 5
}
